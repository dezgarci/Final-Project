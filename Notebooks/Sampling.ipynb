{
 "cells": [
  {
   "cell_type": "markdown",
   "id": "f99d2dd4-c57d-42d2-bae6-8dc45f63f77e",
   "metadata": {},
   "source": [
    "# Sampling"
   ]
  },
  {
   "cell_type": "code",
   "execution_count": 38,
   "id": "f4fd1534-acaa-4f3e-b437-8db4ff5e1e8c",
   "metadata": {},
   "outputs": [],
   "source": [
    "import pandas as pd\n",
    "from sklearn.model_selection import train_test_split\n",
    "from collections import Counter\n",
    "from matplotlib import pyplot as plt\n",
    "import seaborn as sns\n",
    "from sklearn.manifold import TSNE\n",
    "import warnings\n",
    "warnings.filterwarnings('ignore')"
   ]
  },
  {
   "cell_type": "code",
   "execution_count": 39,
   "id": "6f60b294-f23a-4b82-bd7c-2ef0a6789434",
   "metadata": {},
   "outputs": [],
   "source": [
    "from imblearn.under_sampling import RandomUnderSampler"
   ]
  },
  {
   "cell_type": "code",
   "execution_count": 40,
   "id": "f238d37d-2fec-4014-a321-6ed0de31e3f2",
   "metadata": {},
   "outputs": [],
   "source": [
    "from sklearn.datasets import make_classification"
   ]
  },
  {
   "cell_type": "code",
   "execution_count": 41,
   "id": "0f5803ca-2c1f-4d6b-bdb1-8603efcbb4a6",
   "metadata": {},
   "outputs": [],
   "source": [
    "cleanDummy = pd.read_csv('../Data/cleanDummy.csv')"
   ]
  },
  {
   "cell_type": "code",
   "execution_count": 5,
   "id": "48cb4dba-b399-4b6b-afc2-27447c52e589",
   "metadata": {},
   "outputs": [
    {
     "data": {
      "text/html": [
       "<div>\n",
       "<style scoped>\n",
       "    .dataframe tbody tr th:only-of-type {\n",
       "        vertical-align: middle;\n",
       "    }\n",
       "\n",
       "    .dataframe tbody tr th {\n",
       "        vertical-align: top;\n",
       "    }\n",
       "\n",
       "    .dataframe thead th {\n",
       "        text-align: right;\n",
       "    }\n",
       "</style>\n",
       "<table border=\"1\" class=\"dataframe\">\n",
       "  <thead>\n",
       "    <tr style=\"text-align: right;\">\n",
       "      <th></th>\n",
       "      <th>Unnamed: 0</th>\n",
       "      <th>totalIncome</th>\n",
       "      <th>famSize</th>\n",
       "      <th>ageYrs</th>\n",
       "      <th>yrsEmpl</th>\n",
       "      <th>UNEMPLOYED</th>\n",
       "      <th>ApprStatus</th>\n",
       "      <th>genderR</th>\n",
       "      <th>ownsCarR</th>\n",
       "      <th>ownsRealtyR</th>\n",
       "      <th>eduLvlR</th>\n",
       "      <th>incomeTypeR</th>\n",
       "      <th>housingTypeR</th>\n",
       "      <th>famStatusR</th>\n",
       "    </tr>\n",
       "  </thead>\n",
       "  <tbody>\n",
       "    <tr>\n",
       "      <th>0</th>\n",
       "      <td>0</td>\n",
       "      <td>427500.0</td>\n",
       "      <td>2.0</td>\n",
       "      <td>33.0</td>\n",
       "      <td>12.435574</td>\n",
       "      <td>1</td>\n",
       "      <td>1</td>\n",
       "      <td>1</td>\n",
       "      <td>1</td>\n",
       "      <td>1</td>\n",
       "      <td>0</td>\n",
       "      <td>0</td>\n",
       "      <td>0</td>\n",
       "      <td>0</td>\n",
       "    </tr>\n",
       "    <tr>\n",
       "      <th>1</th>\n",
       "      <td>31</td>\n",
       "      <td>112500.0</td>\n",
       "      <td>2.0</td>\n",
       "      <td>59.0</td>\n",
       "      <td>3.104787</td>\n",
       "      <td>1</td>\n",
       "      <td>1</td>\n",
       "      <td>1</td>\n",
       "      <td>1</td>\n",
       "      <td>1</td>\n",
       "      <td>1</td>\n",
       "      <td>0</td>\n",
       "      <td>1</td>\n",
       "      <td>1</td>\n",
       "    </tr>\n",
       "    <tr>\n",
       "      <th>2</th>\n",
       "      <td>61</td>\n",
       "      <td>270000.0</td>\n",
       "      <td>1.0</td>\n",
       "      <td>53.0</td>\n",
       "      <td>8.353354</td>\n",
       "      <td>1</td>\n",
       "      <td>1</td>\n",
       "      <td>0</td>\n",
       "      <td>0</td>\n",
       "      <td>1</td>\n",
       "      <td>1</td>\n",
       "      <td>1</td>\n",
       "      <td>1</td>\n",
       "      <td>2</td>\n",
       "    </tr>\n",
       "    <tr>\n",
       "      <th>3</th>\n",
       "      <td>137</td>\n",
       "      <td>283500.0</td>\n",
       "      <td>1.0</td>\n",
       "      <td>62.0</td>\n",
       "      <td>0.000000</td>\n",
       "      <td>0</td>\n",
       "      <td>0</td>\n",
       "      <td>0</td>\n",
       "      <td>0</td>\n",
       "      <td>1</td>\n",
       "      <td>0</td>\n",
       "      <td>2</td>\n",
       "      <td>1</td>\n",
       "      <td>3</td>\n",
       "    </tr>\n",
       "    <tr>\n",
       "      <th>4</th>\n",
       "      <td>188</td>\n",
       "      <td>270000.0</td>\n",
       "      <td>2.0</td>\n",
       "      <td>47.0</td>\n",
       "      <td>2.105450</td>\n",
       "      <td>1</td>\n",
       "      <td>0</td>\n",
       "      <td>1</td>\n",
       "      <td>1</td>\n",
       "      <td>1</td>\n",
       "      <td>0</td>\n",
       "      <td>0</td>\n",
       "      <td>1</td>\n",
       "      <td>1</td>\n",
       "    </tr>\n",
       "  </tbody>\n",
       "</table>\n",
       "</div>"
      ],
      "text/plain": [
       "   Unnamed: 0  totalIncome  famSize  ageYrs    yrsEmpl  UNEMPLOYED  \\\n",
       "0           0     427500.0      2.0    33.0  12.435574           1   \n",
       "1          31     112500.0      2.0    59.0   3.104787           1   \n",
       "2          61     270000.0      1.0    53.0   8.353354           1   \n",
       "3         137     283500.0      1.0    62.0   0.000000           0   \n",
       "4         188     270000.0      2.0    47.0   2.105450           1   \n",
       "\n",
       "   ApprStatus  genderR  ownsCarR  ownsRealtyR  eduLvlR  incomeTypeR  \\\n",
       "0           1        1         1            1        0            0   \n",
       "1           1        1         1            1        1            0   \n",
       "2           1        0         0            1        1            1   \n",
       "3           0        0         0            1        0            2   \n",
       "4           0        1         1            1        0            0   \n",
       "\n",
       "   housingTypeR  famStatusR  \n",
       "0             0           0  \n",
       "1             1           1  \n",
       "2             1           2  \n",
       "3             1           3  \n",
       "4             1           1  "
      ]
     },
     "execution_count": 5,
     "metadata": {},
     "output_type": "execute_result"
    }
   ],
   "source": [
    "cleanDummy.head()"
   ]
  },
  {
   "cell_type": "code",
   "execution_count": 6,
   "id": "bb7003c8-1410-4ac4-a4b0-f130669c6eac",
   "metadata": {},
   "outputs": [],
   "source": [
    "# Drop Unnamed:0 col\n",
    "cleanDummy.drop('Unnamed: 0', axis=1, inplace=True) "
   ]
  },
  {
   "cell_type": "code",
   "execution_count": 44,
   "id": "5bc1059f-95b9-48a0-8f44-801ddf7b758a",
   "metadata": {},
   "outputs": [
    {
     "data": {
      "text/html": [
       "<div>\n",
       "<style scoped>\n",
       "    .dataframe tbody tr th:only-of-type {\n",
       "        vertical-align: middle;\n",
       "    }\n",
       "\n",
       "    .dataframe tbody tr th {\n",
       "        vertical-align: top;\n",
       "    }\n",
       "\n",
       "    .dataframe thead th {\n",
       "        text-align: right;\n",
       "    }\n",
       "</style>\n",
       "<table border=\"1\" class=\"dataframe\">\n",
       "  <thead>\n",
       "    <tr style=\"text-align: right;\">\n",
       "      <th></th>\n",
       "      <th>Unnamed: 0</th>\n",
       "      <th>totalIncome</th>\n",
       "      <th>famSize</th>\n",
       "      <th>ageYrs</th>\n",
       "      <th>yrsEmpl</th>\n",
       "      <th>UNEMPLOYED</th>\n",
       "      <th>ApprStatus</th>\n",
       "      <th>genderR</th>\n",
       "      <th>ownsCarR</th>\n",
       "      <th>ownsRealtyR</th>\n",
       "      <th>eduLvlR</th>\n",
       "      <th>incomeTypeR</th>\n",
       "      <th>housingTypeR</th>\n",
       "      <th>famStatusR</th>\n",
       "    </tr>\n",
       "  </thead>\n",
       "  <tbody>\n",
       "    <tr>\n",
       "      <th>0</th>\n",
       "      <td>0</td>\n",
       "      <td>427500.0</td>\n",
       "      <td>2.0</td>\n",
       "      <td>33.0</td>\n",
       "      <td>12.435574</td>\n",
       "      <td>1</td>\n",
       "      <td>1</td>\n",
       "      <td>1</td>\n",
       "      <td>1</td>\n",
       "      <td>1</td>\n",
       "      <td>0</td>\n",
       "      <td>0</td>\n",
       "      <td>0</td>\n",
       "      <td>0</td>\n",
       "    </tr>\n",
       "    <tr>\n",
       "      <th>1</th>\n",
       "      <td>31</td>\n",
       "      <td>112500.0</td>\n",
       "      <td>2.0</td>\n",
       "      <td>59.0</td>\n",
       "      <td>3.104787</td>\n",
       "      <td>1</td>\n",
       "      <td>1</td>\n",
       "      <td>1</td>\n",
       "      <td>1</td>\n",
       "      <td>1</td>\n",
       "      <td>1</td>\n",
       "      <td>0</td>\n",
       "      <td>1</td>\n",
       "      <td>1</td>\n",
       "    </tr>\n",
       "    <tr>\n",
       "      <th>2</th>\n",
       "      <td>61</td>\n",
       "      <td>270000.0</td>\n",
       "      <td>1.0</td>\n",
       "      <td>53.0</td>\n",
       "      <td>8.353354</td>\n",
       "      <td>1</td>\n",
       "      <td>1</td>\n",
       "      <td>0</td>\n",
       "      <td>0</td>\n",
       "      <td>1</td>\n",
       "      <td>1</td>\n",
       "      <td>1</td>\n",
       "      <td>1</td>\n",
       "      <td>2</td>\n",
       "    </tr>\n",
       "    <tr>\n",
       "      <th>3</th>\n",
       "      <td>137</td>\n",
       "      <td>283500.0</td>\n",
       "      <td>1.0</td>\n",
       "      <td>62.0</td>\n",
       "      <td>0.000000</td>\n",
       "      <td>0</td>\n",
       "      <td>0</td>\n",
       "      <td>0</td>\n",
       "      <td>0</td>\n",
       "      <td>1</td>\n",
       "      <td>0</td>\n",
       "      <td>2</td>\n",
       "      <td>1</td>\n",
       "      <td>3</td>\n",
       "    </tr>\n",
       "    <tr>\n",
       "      <th>4</th>\n",
       "      <td>188</td>\n",
       "      <td>270000.0</td>\n",
       "      <td>2.0</td>\n",
       "      <td>47.0</td>\n",
       "      <td>2.105450</td>\n",
       "      <td>1</td>\n",
       "      <td>0</td>\n",
       "      <td>1</td>\n",
       "      <td>1</td>\n",
       "      <td>1</td>\n",
       "      <td>0</td>\n",
       "      <td>0</td>\n",
       "      <td>1</td>\n",
       "      <td>1</td>\n",
       "    </tr>\n",
       "  </tbody>\n",
       "</table>\n",
       "</div>"
      ],
      "text/plain": [
       "   Unnamed: 0  totalIncome  famSize  ageYrs    yrsEmpl  UNEMPLOYED  \\\n",
       "0           0     427500.0      2.0    33.0  12.435574           1   \n",
       "1          31     112500.0      2.0    59.0   3.104787           1   \n",
       "2          61     270000.0      1.0    53.0   8.353354           1   \n",
       "3         137     283500.0      1.0    62.0   0.000000           0   \n",
       "4         188     270000.0      2.0    47.0   2.105450           1   \n",
       "\n",
       "   ApprStatus  genderR  ownsCarR  ownsRealtyR  eduLvlR  incomeTypeR  \\\n",
       "0           1        1         1            1        0            0   \n",
       "1           1        1         1            1        1            0   \n",
       "2           1        0         0            1        1            1   \n",
       "3           0        0         0            1        0            2   \n",
       "4           0        1         1            1        0            0   \n",
       "\n",
       "   housingTypeR  famStatusR  \n",
       "0             0           0  \n",
       "1             1           1  \n",
       "2             1           2  \n",
       "3             1           3  \n",
       "4             1           1  "
      ]
     },
     "execution_count": 44,
     "metadata": {},
     "output_type": "execute_result"
    }
   ],
   "source": [
    "cleanDummy.head()"
   ]
  },
  {
   "cell_type": "code",
   "execution_count": 8,
   "id": "97194a77-5c5b-4ecb-a157-54d314f8179b",
   "metadata": {},
   "outputs": [
    {
     "data": {
      "text/plain": [
       "0    8561\n",
       "1    4750\n",
       "Name: genderR, dtype: int64"
      ]
     },
     "execution_count": 8,
     "metadata": {},
     "output_type": "execute_result"
    }
   ],
   "source": [
    "cleanDummy['genderR'].value_counts()  # 0=F, 1=M"
   ]
  },
  {
   "cell_type": "code",
   "execution_count": 25,
   "id": "1c891722-754f-4747-a7f6-b3652d7e5177",
   "metadata": {},
   "outputs": [],
   "source": [
    "# Undersample female\n",
    "\n",
    "X = cleanDummy.drop('genderR', axis=1)\n",
    "y = cleanDummy['genderR']\n"
   ]
  },
  {
   "cell_type": "code",
   "execution_count": 26,
   "id": "c8f18668-bd1b-479f-a777-33e44fa7fd14",
   "metadata": {},
   "outputs": [],
   "source": [
    "sampler = RandomUnderSampler(sampling_strategy='auto')\n"
   ]
  },
  {
   "cell_type": "code",
   "execution_count": 27,
   "id": "3fb6623d-3822-4573-ba1c-f072e6cf4ea0",
   "metadata": {},
   "outputs": [],
   "source": [
    "X_res, y_res = sampler.fit_resample(X, y)\n"
   ]
  },
  {
   "cell_type": "code",
   "execution_count": 28,
   "id": "a693251b-875d-4505-8497-b1e8ddfc37c8",
   "metadata": {},
   "outputs": [
    {
     "name": "stdout",
     "output_type": "stream",
     "text": [
      "Resampled dataset shape Counter({0: 4750, 1: 4750})\n"
     ]
    }
   ],
   "source": [
    "print('Resampled dataset shape %s' % Counter(y_res))"
   ]
  },
  {
   "cell_type": "code",
   "execution_count": 29,
   "id": "ce5bfac6-e316-4eab-b864-5b571b87213f",
   "metadata": {},
   "outputs": [
    {
     "name": "stdout",
     "output_type": "stream",
     "text": [
      "Counter({0: 4750, 1: 4750})\n"
     ]
    }
   ],
   "source": [
    "counter = Counter(y_res)\n",
    "print(counter)"
   ]
  },
  {
   "cell_type": "code",
   "execution_count": 50,
   "id": "f86b1ce7-ed66-4124-834c-a6d99e11031e",
   "metadata": {},
   "outputs": [
    {
     "data": {
      "text/plain": [
       "(      totalIncome  famSize  ageYrs    yrsEmpl  UNEMPLOYED  ApprStatus  \\\n",
       " 0        238500.0      2.0    47.0  13.599184           1           1   \n",
       " 1        135000.0      3.0    41.0   4.799551           1           0   \n",
       " 2        157500.0      2.0    40.0  12.506759           1           0   \n",
       " 3        225000.0      2.0    24.0   0.257363           1           1   \n",
       " 4         67500.0      2.0    37.0   3.263585           1           1   \n",
       " ...           ...      ...     ...        ...         ...         ...   \n",
       " 9495     112500.0      1.0    26.0   3.266323           1           0   \n",
       " 9496     157500.0      4.0    40.0  12.265823           1           1   \n",
       " 9497     112500.0      1.0    28.0   4.517547           1           0   \n",
       " 9498     202500.0      2.0    30.0   3.600348           1           0   \n",
       " 9499     202500.0      2.0    54.0   5.930307           1           1   \n",
       " \n",
       "       ownsCarR  ownsRealtyR  eduLvlR  incomeTypeR  housingTypeR  famStatusR  \n",
       " 0            0            1        0            0             1           1  \n",
       " 1            1            1        1            0             1           1  \n",
       " 2            0            1        1            0             1           1  \n",
       " 3            0            1        2            1             1           0  \n",
       " 4            0            1        1            0             1           2  \n",
       " ...        ...          ...      ...          ...           ...         ...  \n",
       " 9495         0            1        1            0             0           2  \n",
       " 9496         1            1        1            0             1           1  \n",
       " 9497         1            1        1            0             1           2  \n",
       " 9498         1            1        1            0             1           0  \n",
       " 9499         1            0        1            0             1           1  \n",
       " \n",
       " [9500 rows x 12 columns],\n",
       " 0       0\n",
       " 1       0\n",
       " 2       0\n",
       " 3       0\n",
       " 4       0\n",
       "        ..\n",
       " 9495    1\n",
       " 9496    1\n",
       " 9497    1\n",
       " 9498    1\n",
       " 9499    1\n",
       " Name: genderR, Length: 9500, dtype: int64)"
      ]
     },
     "execution_count": 50,
     "metadata": {},
     "output_type": "execute_result"
    }
   ],
   "source": [
    "X_res, y_res"
   ]
  },
  {
   "cell_type": "code",
   "execution_count": 51,
   "id": "3d806022-3c2f-4845-93d6-c467fbaf01f9",
   "metadata": {},
   "outputs": [],
   "source": [
    "balancedMF = X_res, y_res"
   ]
  },
  {
   "cell_type": "code",
   "execution_count": null,
   "id": "dba4800d-64ba-4f8c-8bd0-02c1054192f1",
   "metadata": {},
   "outputs": [],
   "source": [
    "#convert tuple to dF\n"
   ]
  },
  {
   "cell_type": "code",
   "execution_count": 52,
   "id": "83bc759b-0d60-4125-9b1b-a64fc25a88ec",
   "metadata": {},
   "outputs": [
    {
     "ename": "AttributeError",
     "evalue": "'tuple' object has no attribute 'to_csv'",
     "output_type": "error",
     "traceback": [
      "\u001b[1;31m---------------------------------------------------------------------------\u001b[0m",
      "\u001b[1;31mAttributeError\u001b[0m                            Traceback (most recent call last)",
      "Input \u001b[1;32mIn [52]\u001b[0m, in \u001b[0;36m<module>\u001b[1;34m\u001b[0m\n\u001b[1;32m----> 1\u001b[0m \u001b[43mbalancedMF\u001b[49m\u001b[38;5;241;43m.\u001b[39;49m\u001b[43mto_csv\u001b[49m(\u001b[38;5;124m\"\u001b[39m\u001b[38;5;124m../Data/balancedMF.csv\u001b[39m\u001b[38;5;124m\"\u001b[39m)\n",
      "\u001b[1;31mAttributeError\u001b[0m: 'tuple' object has no attribute 'to_csv'"
     ]
    }
   ],
   "source": [
    "balancedMF.to_csv(\"../Data/balancedMF.csv\")"
   ]
  },
  {
   "cell_type": "markdown",
   "id": "6c7791c6-df01-48df-a34a-4f1d41167e61",
   "metadata": {},
   "source": [
    "## train-test-split"
   ]
  }
 ],
 "metadata": {
  "kernelspec": {
   "display_name": "Python 3 (ipykernel)",
   "language": "python",
   "name": "python3"
  },
  "language_info": {
   "codemirror_mode": {
    "name": "ipython",
    "version": 3
   },
   "file_extension": ".py",
   "mimetype": "text/x-python",
   "name": "python",
   "nbconvert_exporter": "python",
   "pygments_lexer": "ipython3",
   "version": "3.10.4"
  }
 },
 "nbformat": 4,
 "nbformat_minor": 5
}
