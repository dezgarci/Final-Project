{
 "cells": [
  {
   "cell_type": "markdown",
   "id": "f99d2dd4-c57d-42d2-bae6-8dc45f63f77e",
   "metadata": {},
   "source": [
    "# Sampling"
   ]
  },
  {
   "cell_type": "code",
   "execution_count": 38,
   "id": "f4fd1534-acaa-4f3e-b437-8db4ff5e1e8c",
   "metadata": {},
   "outputs": [],
   "source": [
    "import pandas as pd\n",
    "from sklearn.model_selection import train_test_split\n",
    "from collections import Counter\n",
    "from matplotlib import pyplot as plt\n",
    "import seaborn as sns\n",
    "from sklearn.manifold import TSNE\n",
    "import warnings\n",
    "warnings.filterwarnings('ignore')"
   ]
  },
  {
   "cell_type": "code",
   "execution_count": 39,
   "id": "6f60b294-f23a-4b82-bd7c-2ef0a6789434",
   "metadata": {},
   "outputs": [],
   "source": [
    "from imblearn.under_sampling import RandomUnderSampler"
   ]
  },
  {
   "cell_type": "code",
   "execution_count": 40,
   "id": "f238d37d-2fec-4014-a321-6ed0de31e3f2",
   "metadata": {},
   "outputs": [],
   "source": [
    "from sklearn.datasets import make_classification"
   ]
  },
  {
   "cell_type": "code",
   "execution_count": 41,
   "id": "0f5803ca-2c1f-4d6b-bdb1-8603efcbb4a6",
   "metadata": {},
   "outputs": [],
   "source": [
    "cleanDummy = pd.read_csv('../Data/cleanDummy.csv')"
   ]
  },
  {
   "cell_type": "code",
   "execution_count": 5,
   "id": "48cb4dba-b399-4b6b-afc2-27447c52e589",
   "metadata": {},
   "outputs": [
    {
     "data": {
      "text/html": [
       "<div>\n",
       "<style scoped>\n",
       "    .dataframe tbody tr th:only-of-type {\n",
       "        vertical-align: middle;\n",
       "    }\n",
       "\n",
       "    .dataframe tbody tr th {\n",
       "        vertical-align: top;\n",
       "    }\n",
       "\n",
       "    .dataframe thead th {\n",
       "        text-align: right;\n",
       "    }\n",
       "</style>\n",
       "<table border=\"1\" class=\"dataframe\">\n",
       "  <thead>\n",
       "    <tr style=\"text-align: right;\">\n",
       "      <th></th>\n",
       "      <th>Unnamed: 0</th>\n",
       "      <th>totalIncome</th>\n",
       "      <th>famSize</th>\n",
       "      <th>ageYrs</th>\n",
       "      <th>yrsEmpl</th>\n",
       "      <th>UNEMPLOYED</th>\n",
       "      <th>ApprStatus</th>\n",
       "      <th>genderR</th>\n",
       "      <th>ownsCarR</th>\n",
       "      <th>ownsRealtyR</th>\n",
       "      <th>eduLvlR</th>\n",
       "      <th>incomeTypeR</th>\n",
       "      <th>housingTypeR</th>\n",
       "      <th>famStatusR</th>\n",
       "    </tr>\n",
       "  </thead>\n",
       "  <tbody>\n",
       "    <tr>\n",
       "      <th>0</th>\n",
       "      <td>0</td>\n",
       "      <td>427500.0</td>\n",
       "      <td>2.0</td>\n",
       "      <td>33.0</td>\n",
       "      <td>12.435574</td>\n",
       "      <td>1</td>\n",
       "      <td>1</td>\n",
       "      <td>1</td>\n",
       "      <td>1</td>\n",
       "      <td>1</td>\n",
       "      <td>0</td>\n",
       "      <td>0</td>\n",
       "      <td>0</td>\n",
       "      <td>0</td>\n",
       "    </tr>\n",
       "    <tr>\n",
       "      <th>1</th>\n",
       "      <td>31</td>\n",
       "      <td>112500.0</td>\n",
       "      <td>2.0</td>\n",
       "      <td>59.0</td>\n",
       "      <td>3.104787</td>\n",
       "      <td>1</td>\n",
       "      <td>1</td>\n",
       "      <td>1</td>\n",
       "      <td>1</td>\n",
       "      <td>1</td>\n",
       "      <td>1</td>\n",
       "      <td>0</td>\n",
       "      <td>1</td>\n",
       "      <td>1</td>\n",
       "    </tr>\n",
       "    <tr>\n",
       "      <th>2</th>\n",
       "      <td>61</td>\n",
       "      <td>270000.0</td>\n",
       "      <td>1.0</td>\n",
       "      <td>53.0</td>\n",
       "      <td>8.353354</td>\n",
       "      <td>1</td>\n",
       "      <td>1</td>\n",
       "      <td>0</td>\n",
       "      <td>0</td>\n",
       "      <td>1</td>\n",
       "      <td>1</td>\n",
       "      <td>1</td>\n",
       "      <td>1</td>\n",
       "      <td>2</td>\n",
       "    </tr>\n",
       "    <tr>\n",
       "      <th>3</th>\n",
       "      <td>137</td>\n",
       "      <td>283500.0</td>\n",
       "      <td>1.0</td>\n",
       "      <td>62.0</td>\n",
       "      <td>0.000000</td>\n",
       "      <td>0</td>\n",
       "      <td>0</td>\n",
       "      <td>0</td>\n",
       "      <td>0</td>\n",
       "      <td>1</td>\n",
       "      <td>0</td>\n",
       "      <td>2</td>\n",
       "      <td>1</td>\n",
       "      <td>3</td>\n",
       "    </tr>\n",
       "    <tr>\n",
       "      <th>4</th>\n",
       "      <td>188</td>\n",
       "      <td>270000.0</td>\n",
       "      <td>2.0</td>\n",
       "      <td>47.0</td>\n",
       "      <td>2.105450</td>\n",
       "      <td>1</td>\n",
       "      <td>0</td>\n",
       "      <td>1</td>\n",
       "      <td>1</td>\n",
       "      <td>1</td>\n",
       "      <td>0</td>\n",
       "      <td>0</td>\n",
       "      <td>1</td>\n",
       "      <td>1</td>\n",
       "    </tr>\n",
       "  </tbody>\n",
       "</table>\n",
       "</div>"
      ],
      "text/plain": [
       "   Unnamed: 0  totalIncome  famSize  ageYrs    yrsEmpl  UNEMPLOYED  \\\n",
       "0           0     427500.0      2.0    33.0  12.435574           1   \n",
       "1          31     112500.0      2.0    59.0   3.104787           1   \n",
       "2          61     270000.0      1.0    53.0   8.353354           1   \n",
       "3         137     283500.0      1.0    62.0   0.000000           0   \n",
       "4         188     270000.0      2.0    47.0   2.105450           1   \n",
       "\n",
       "   ApprStatus  genderR  ownsCarR  ownsRealtyR  eduLvlR  incomeTypeR  \\\n",
       "0           1        1         1            1        0            0   \n",
       "1           1        1         1            1        1            0   \n",
       "2           1        0         0            1        1            1   \n",
       "3           0        0         0            1        0            2   \n",
       "4           0        1         1            1        0            0   \n",
       "\n",
       "   housingTypeR  famStatusR  \n",
       "0             0           0  \n",
       "1             1           1  \n",
       "2             1           2  \n",
       "3             1           3  \n",
       "4             1           1  "
      ]
     },
     "execution_count": 5,
     "metadata": {},
     "output_type": "execute_result"
    }
   ],
   "source": [
    "cleanDummy.head()"
   ]
  },
  {
   "cell_type": "code",
   "execution_count": 6,
   "id": "bb7003c8-1410-4ac4-a4b0-f130669c6eac",
   "metadata": {},
   "outputs": [],
   "source": [
    "# Drop Unnamed:0 col\n",
    "cleanDummy.drop('Unnamed: 0', axis=1, inplace=True) "
   ]
  },
  {
   "cell_type": "code",
   "execution_count": 44,
   "id": "5bc1059f-95b9-48a0-8f44-801ddf7b758a",
   "metadata": {},
   "outputs": [
    {
     "data": {
      "text/html": [
       "<div>\n",
       "<style scoped>\n",
       "    .dataframe tbody tr th:only-of-type {\n",
       "        vertical-align: middle;\n",
       "    }\n",
       "\n",
       "    .dataframe tbody tr th {\n",
       "        vertical-align: top;\n",
       "    }\n",
       "\n",
       "    .dataframe thead th {\n",
       "        text-align: right;\n",
       "    }\n",
       "</style>\n",
       "<table border=\"1\" class=\"dataframe\">\n",
       "  <thead>\n",
       "    <tr style=\"text-align: right;\">\n",
       "      <th></th>\n",
       "      <th>Unnamed: 0</th>\n",
       "      <th>totalIncome</th>\n",
       "      <th>famSize</th>\n",
       "      <th>ageYrs</th>\n",
       "      <th>yrsEmpl</th>\n",
       "      <th>UNEMPLOYED</th>\n",
       "      <th>ApprStatus</th>\n",
       "      <th>genderR</th>\n",
       "      <th>ownsCarR</th>\n",
       "      <th>ownsRealtyR</th>\n",
       "      <th>eduLvlR</th>\n",
       "      <th>incomeTypeR</th>\n",
       "      <th>housingTypeR</th>\n",
       "      <th>famStatusR</th>\n",
       "    </tr>\n",
       "  </thead>\n",
       "  <tbody>\n",
       "    <tr>\n",
       "      <th>0</th>\n",
       "      <td>0</td>\n",
       "      <td>427500.0</td>\n",
       "      <td>2.0</td>\n",
       "      <td>33.0</td>\n",
       "      <td>12.435574</td>\n",
       "      <td>1</td>\n",
       "      <td>1</td>\n",
       "      <td>1</td>\n",
       "      <td>1</td>\n",
       "      <td>1</td>\n",
       "      <td>0</td>\n",
       "      <td>0</td>\n",
       "      <td>0</td>\n",
       "      <td>0</td>\n",
       "    </tr>\n",
       "    <tr>\n",
       "      <th>1</th>\n",
       "      <td>31</td>\n",
       "      <td>112500.0</td>\n",
       "      <td>2.0</td>\n",
       "      <td>59.0</td>\n",
       "      <td>3.104787</td>\n",
       "      <td>1</td>\n",
       "      <td>1</td>\n",
       "      <td>1</td>\n",
       "      <td>1</td>\n",
       "      <td>1</td>\n",
       "      <td>1</td>\n",
       "      <td>0</td>\n",
       "      <td>1</td>\n",
       "      <td>1</td>\n",
       "    </tr>\n",
       "    <tr>\n",
       "      <th>2</th>\n",
       "      <td>61</td>\n",
       "      <td>270000.0</td>\n",
       "      <td>1.0</td>\n",
       "      <td>53.0</td>\n",
       "      <td>8.353354</td>\n",
       "      <td>1</td>\n",
       "      <td>1</td>\n",
       "      <td>0</td>\n",
       "      <td>0</td>\n",
       "      <td>1</td>\n",
       "      <td>1</td>\n",
       "      <td>1</td>\n",
       "      <td>1</td>\n",
       "      <td>2</td>\n",
       "    </tr>\n",
       "    <tr>\n",
       "      <th>3</th>\n",
       "      <td>137</td>\n",
       "      <td>283500.0</td>\n",
       "      <td>1.0</td>\n",
       "      <td>62.0</td>\n",
       "      <td>0.000000</td>\n",
       "      <td>0</td>\n",
       "      <td>0</td>\n",
       "      <td>0</td>\n",
       "      <td>0</td>\n",
       "      <td>1</td>\n",
       "      <td>0</td>\n",
       "      <td>2</td>\n",
       "      <td>1</td>\n",
       "      <td>3</td>\n",
       "    </tr>\n",
       "    <tr>\n",
       "      <th>4</th>\n",
       "      <td>188</td>\n",
       "      <td>270000.0</td>\n",
       "      <td>2.0</td>\n",
       "      <td>47.0</td>\n",
       "      <td>2.105450</td>\n",
       "      <td>1</td>\n",
       "      <td>0</td>\n",
       "      <td>1</td>\n",
       "      <td>1</td>\n",
       "      <td>1</td>\n",
       "      <td>0</td>\n",
       "      <td>0</td>\n",
       "      <td>1</td>\n",
       "      <td>1</td>\n",
       "    </tr>\n",
       "  </tbody>\n",
       "</table>\n",
       "</div>"
      ],
      "text/plain": [
       "   Unnamed: 0  totalIncome  famSize  ageYrs    yrsEmpl  UNEMPLOYED  \\\n",
       "0           0     427500.0      2.0    33.0  12.435574           1   \n",
       "1          31     112500.0      2.0    59.0   3.104787           1   \n",
       "2          61     270000.0      1.0    53.0   8.353354           1   \n",
       "3         137     283500.0      1.0    62.0   0.000000           0   \n",
       "4         188     270000.0      2.0    47.0   2.105450           1   \n",
       "\n",
       "   ApprStatus  genderR  ownsCarR  ownsRealtyR  eduLvlR  incomeTypeR  \\\n",
       "0           1        1         1            1        0            0   \n",
       "1           1        1         1            1        1            0   \n",
       "2           1        0         0            1        1            1   \n",
       "3           0        0         0            1        0            2   \n",
       "4           0        1         1            1        0            0   \n",
       "\n",
       "   housingTypeR  famStatusR  \n",
       "0             0           0  \n",
       "1             1           1  \n",
       "2             1           2  \n",
       "3             1           3  \n",
       "4             1           1  "
      ]
     },
     "execution_count": 44,
     "metadata": {},
     "output_type": "execute_result"
    }
   ],
   "source": [
    "cleanDummy.head()"
   ]
  },
  {
   "cell_type": "code",
   "execution_count": 8,
   "id": "97194a77-5c5b-4ecb-a157-54d314f8179b",
   "metadata": {},
   "outputs": [
    {
     "data": {
      "text/plain": [
       "0    8561\n",
       "1    4750\n",
       "Name: genderR, dtype: int64"
      ]
     },
     "execution_count": 8,
     "metadata": {},
     "output_type": "execute_result"
    }
   ],
   "source": [
    "cleanDummy['genderR'].value_counts()  # 0=F, 1=M"
   ]
  },
  {
   "cell_type": "code",
   "execution_count": 25,
   "id": "1c891722-754f-4747-a7f6-b3652d7e5177",
   "metadata": {},
   "outputs": [],
   "source": [
    "# Undersample female\n",
    "# X is dropped genderR col, y is only genderR\n",
    "\n",
    "X = cleanDummy.drop('genderR', axis=1)  \n",
    "y = cleanDummy['genderR']\n"
   ]
  },
  {
   "cell_type": "code",
   "execution_count": 54,
   "id": "36068964-7f07-498f-8f0e-5925ec45a046",
   "metadata": {},
   "outputs": [
    {
     "data": {
      "text/plain": [
       "0        1\n",
       "1        1\n",
       "2        0\n",
       "3        0\n",
       "4        1\n",
       "        ..\n",
       "13306    0\n",
       "13307    1\n",
       "13308    0\n",
       "13309    0\n",
       "13310    1\n",
       "Name: genderR, Length: 13311, dtype: int64"
      ]
     },
     "execution_count": 54,
     "metadata": {},
     "output_type": "execute_result"
    }
   ],
   "source": [
    "y"
   ]
  },
  {
   "cell_type": "code",
   "execution_count": 26,
   "id": "c8f18668-bd1b-479f-a777-33e44fa7fd14",
   "metadata": {},
   "outputs": [],
   "source": [
    "# taking number minor class and scaling down major class to match minor class \n",
    "sampler = RandomUnderSampler(sampling_strategy='auto')\n"
   ]
  },
  {
   "cell_type": "code",
   "execution_count": 27,
   "id": "3fb6623d-3822-4573-ba1c-f072e6cf4ea0",
   "metadata": {},
   "outputs": [],
   "source": [
    "X_res, y_res = sampler.fit_resample(X, y)\n"
   ]
  },
  {
   "cell_type": "code",
   "execution_count": 55,
   "id": "61eb7bb3-1ea0-46b5-ab7e-396b668733bb",
   "metadata": {},
   "outputs": [
    {
     "data": {
      "text/plain": [
       "\u001b[1;31mSignature:\u001b[0m \u001b[0msampler\u001b[0m\u001b[1;33m.\u001b[0m\u001b[0mfit_resample\u001b[0m\u001b[1;33m(\u001b[0m\u001b[0mX\u001b[0m\u001b[1;33m,\u001b[0m \u001b[0my\u001b[0m\u001b[1;33m)\u001b[0m\u001b[1;33m\u001b[0m\u001b[1;33m\u001b[0m\u001b[0m\n",
       "\u001b[1;31mDocstring:\u001b[0m\n",
       "Resample the dataset.\n",
       "\n",
       "Parameters\n",
       "----------\n",
       "X : {array-like, dataframe, sparse matrix} of shape                 (n_samples, n_features)\n",
       "    Matrix containing the data which have to be sampled.\n",
       "\n",
       "y : array-like of shape (n_samples,)\n",
       "    Corresponding label for each sample in X.\n",
       "\n",
       "Returns\n",
       "-------\n",
       "X_resampled : {array-like, dataframe, sparse matrix} of shape                 (n_samples_new, n_features)\n",
       "    The array containing the resampled data.\n",
       "\n",
       "y_resampled : array-like of shape (n_samples_new,)\n",
       "    The corresponding label of `X_resampled`.\n",
       "\u001b[1;31mFile:\u001b[0m      c:\\python3\\lib\\site-packages\\imblearn\\base.py\n",
       "\u001b[1;31mType:\u001b[0m      method\n"
      ]
     },
     "metadata": {},
     "output_type": "display_data"
    }
   ],
   "source": [
    "sampler.fit_resample?"
   ]
  },
  {
   "cell_type": "code",
   "execution_count": 28,
   "id": "a693251b-875d-4505-8497-b1e8ddfc37c8",
   "metadata": {},
   "outputs": [
    {
     "name": "stdout",
     "output_type": "stream",
     "text": [
      "Resampled dataset shape Counter({0: 4750, 1: 4750})\n"
     ]
    }
   ],
   "source": [
    "print('Resampled dataset shape %s' % Counter(y_res))"
   ]
  },
  {
   "cell_type": "code",
   "execution_count": 29,
   "id": "ce5bfac6-e316-4eab-b864-5b571b87213f",
   "metadata": {},
   "outputs": [
    {
     "name": "stdout",
     "output_type": "stream",
     "text": [
      "Counter({0: 4750, 1: 4750})\n"
     ]
    }
   ],
   "source": [
    "counter = Counter(y_res)\n",
    "print(counter)"
   ]
  },
  {
   "cell_type": "code",
   "execution_count": 50,
   "id": "f86b1ce7-ed66-4124-834c-a6d99e11031e",
   "metadata": {},
   "outputs": [
    {
     "data": {
      "text/plain": [
       "(      totalIncome  famSize  ageYrs    yrsEmpl  UNEMPLOYED  ApprStatus  \\\n",
       " 0        238500.0      2.0    47.0  13.599184           1           1   \n",
       " 1        135000.0      3.0    41.0   4.799551           1           0   \n",
       " 2        157500.0      2.0    40.0  12.506759           1           0   \n",
       " 3        225000.0      2.0    24.0   0.257363           1           1   \n",
       " 4         67500.0      2.0    37.0   3.263585           1           1   \n",
       " ...           ...      ...     ...        ...         ...         ...   \n",
       " 9495     112500.0      1.0    26.0   3.266323           1           0   \n",
       " 9496     157500.0      4.0    40.0  12.265823           1           1   \n",
       " 9497     112500.0      1.0    28.0   4.517547           1           0   \n",
       " 9498     202500.0      2.0    30.0   3.600348           1           0   \n",
       " 9499     202500.0      2.0    54.0   5.930307           1           1   \n",
       " \n",
       "       ownsCarR  ownsRealtyR  eduLvlR  incomeTypeR  housingTypeR  famStatusR  \n",
       " 0            0            1        0            0             1           1  \n",
       " 1            1            1        1            0             1           1  \n",
       " 2            0            1        1            0             1           1  \n",
       " 3            0            1        2            1             1           0  \n",
       " 4            0            1        1            0             1           2  \n",
       " ...        ...          ...      ...          ...           ...         ...  \n",
       " 9495         0            1        1            0             0           2  \n",
       " 9496         1            1        1            0             1           1  \n",
       " 9497         1            1        1            0             1           2  \n",
       " 9498         1            1        1            0             1           0  \n",
       " 9499         1            0        1            0             1           1  \n",
       " \n",
       " [9500 rows x 12 columns],\n",
       " 0       0\n",
       " 1       0\n",
       " 2       0\n",
       " 3       0\n",
       " 4       0\n",
       "        ..\n",
       " 9495    1\n",
       " 9496    1\n",
       " 9497    1\n",
       " 9498    1\n",
       " 9499    1\n",
       " Name: genderR, Length: 9500, dtype: int64)"
      ]
     },
     "execution_count": 50,
     "metadata": {},
     "output_type": "execute_result"
    }
   ],
   "source": [
    "X_res, y_res"
   ]
  },
  {
   "cell_type": "code",
   "execution_count": 51,
   "id": "3d806022-3c2f-4845-93d6-c467fbaf01f9",
   "metadata": {},
   "outputs": [],
   "source": [
    "balancedMF = X_res, y_res"
   ]
  },
  {
   "cell_type": "code",
   "execution_count": 61,
   "id": "9d802db5-a013-4b25-8e11-3643d84a1209",
   "metadata": {},
   "outputs": [
    {
     "data": {
      "text/plain": [
       "pandas.core.frame.DataFrame"
      ]
     },
     "execution_count": 61,
     "metadata": {},
     "output_type": "execute_result"
    }
   ],
   "source": [
    "type(X_res)\n"
   ]
  },
  {
   "cell_type": "code",
   "execution_count": 63,
   "id": "487ac2f3-f1f6-490b-a65e-56915354677f",
   "metadata": {},
   "outputs": [],
   "source": [
    "genderRcol= pd.Series.to_frame(y_res)"
   ]
  },
  {
   "cell_type": "code",
   "execution_count": 64,
   "id": "746eb4e9-998a-4492-9bd3-8f6ac9d7c36a",
   "metadata": {},
   "outputs": [
    {
     "data": {
      "text/plain": [
       "pandas.core.frame.DataFrame"
      ]
     },
     "execution_count": 64,
     "metadata": {},
     "output_type": "execute_result"
    }
   ],
   "source": [
    "type(genderRcol)"
   ]
  },
  {
   "cell_type": "code",
   "execution_count": 67,
   "id": "1c24bb60-2bbb-4e29-bf2a-9a09604f2134",
   "metadata": {},
   "outputs": [],
   "source": [
    "combinedResample = pd.concat( [X_res, genderRcol], axis = 1)"
   ]
  },
  {
   "cell_type": "code",
   "execution_count": 68,
   "id": "d1750eef-e9bc-431a-9604-1185a0641e72",
   "metadata": {},
   "outputs": [
    {
     "data": {
      "text/html": [
       "<div>\n",
       "<style scoped>\n",
       "    .dataframe tbody tr th:only-of-type {\n",
       "        vertical-align: middle;\n",
       "    }\n",
       "\n",
       "    .dataframe tbody tr th {\n",
       "        vertical-align: top;\n",
       "    }\n",
       "\n",
       "    .dataframe thead th {\n",
       "        text-align: right;\n",
       "    }\n",
       "</style>\n",
       "<table border=\"1\" class=\"dataframe\">\n",
       "  <thead>\n",
       "    <tr style=\"text-align: right;\">\n",
       "      <th></th>\n",
       "      <th>totalIncome</th>\n",
       "      <th>famSize</th>\n",
       "      <th>ageYrs</th>\n",
       "      <th>yrsEmpl</th>\n",
       "      <th>UNEMPLOYED</th>\n",
       "      <th>ApprStatus</th>\n",
       "      <th>ownsCarR</th>\n",
       "      <th>ownsRealtyR</th>\n",
       "      <th>eduLvlR</th>\n",
       "      <th>incomeTypeR</th>\n",
       "      <th>housingTypeR</th>\n",
       "      <th>famStatusR</th>\n",
       "      <th>genderR</th>\n",
       "    </tr>\n",
       "  </thead>\n",
       "  <tbody>\n",
       "    <tr>\n",
       "      <th>0</th>\n",
       "      <td>238500.0</td>\n",
       "      <td>2.0</td>\n",
       "      <td>47.0</td>\n",
       "      <td>13.599184</td>\n",
       "      <td>1</td>\n",
       "      <td>1</td>\n",
       "      <td>0</td>\n",
       "      <td>1</td>\n",
       "      <td>0</td>\n",
       "      <td>0</td>\n",
       "      <td>1</td>\n",
       "      <td>1</td>\n",
       "      <td>0</td>\n",
       "    </tr>\n",
       "    <tr>\n",
       "      <th>1</th>\n",
       "      <td>135000.0</td>\n",
       "      <td>3.0</td>\n",
       "      <td>41.0</td>\n",
       "      <td>4.799551</td>\n",
       "      <td>1</td>\n",
       "      <td>0</td>\n",
       "      <td>1</td>\n",
       "      <td>1</td>\n",
       "      <td>1</td>\n",
       "      <td>0</td>\n",
       "      <td>1</td>\n",
       "      <td>1</td>\n",
       "      <td>0</td>\n",
       "    </tr>\n",
       "    <tr>\n",
       "      <th>2</th>\n",
       "      <td>157500.0</td>\n",
       "      <td>2.0</td>\n",
       "      <td>40.0</td>\n",
       "      <td>12.506759</td>\n",
       "      <td>1</td>\n",
       "      <td>0</td>\n",
       "      <td>0</td>\n",
       "      <td>1</td>\n",
       "      <td>1</td>\n",
       "      <td>0</td>\n",
       "      <td>1</td>\n",
       "      <td>1</td>\n",
       "      <td>0</td>\n",
       "    </tr>\n",
       "    <tr>\n",
       "      <th>3</th>\n",
       "      <td>225000.0</td>\n",
       "      <td>2.0</td>\n",
       "      <td>24.0</td>\n",
       "      <td>0.257363</td>\n",
       "      <td>1</td>\n",
       "      <td>1</td>\n",
       "      <td>0</td>\n",
       "      <td>1</td>\n",
       "      <td>2</td>\n",
       "      <td>1</td>\n",
       "      <td>1</td>\n",
       "      <td>0</td>\n",
       "      <td>0</td>\n",
       "    </tr>\n",
       "    <tr>\n",
       "      <th>4</th>\n",
       "      <td>67500.0</td>\n",
       "      <td>2.0</td>\n",
       "      <td>37.0</td>\n",
       "      <td>3.263585</td>\n",
       "      <td>1</td>\n",
       "      <td>1</td>\n",
       "      <td>0</td>\n",
       "      <td>1</td>\n",
       "      <td>1</td>\n",
       "      <td>0</td>\n",
       "      <td>1</td>\n",
       "      <td>2</td>\n",
       "      <td>0</td>\n",
       "    </tr>\n",
       "    <tr>\n",
       "      <th>...</th>\n",
       "      <td>...</td>\n",
       "      <td>...</td>\n",
       "      <td>...</td>\n",
       "      <td>...</td>\n",
       "      <td>...</td>\n",
       "      <td>...</td>\n",
       "      <td>...</td>\n",
       "      <td>...</td>\n",
       "      <td>...</td>\n",
       "      <td>...</td>\n",
       "      <td>...</td>\n",
       "      <td>...</td>\n",
       "      <td>...</td>\n",
       "    </tr>\n",
       "    <tr>\n",
       "      <th>9495</th>\n",
       "      <td>112500.0</td>\n",
       "      <td>1.0</td>\n",
       "      <td>26.0</td>\n",
       "      <td>3.266323</td>\n",
       "      <td>1</td>\n",
       "      <td>0</td>\n",
       "      <td>0</td>\n",
       "      <td>1</td>\n",
       "      <td>1</td>\n",
       "      <td>0</td>\n",
       "      <td>0</td>\n",
       "      <td>2</td>\n",
       "      <td>1</td>\n",
       "    </tr>\n",
       "    <tr>\n",
       "      <th>9496</th>\n",
       "      <td>157500.0</td>\n",
       "      <td>4.0</td>\n",
       "      <td>40.0</td>\n",
       "      <td>12.265823</td>\n",
       "      <td>1</td>\n",
       "      <td>1</td>\n",
       "      <td>1</td>\n",
       "      <td>1</td>\n",
       "      <td>1</td>\n",
       "      <td>0</td>\n",
       "      <td>1</td>\n",
       "      <td>1</td>\n",
       "      <td>1</td>\n",
       "    </tr>\n",
       "    <tr>\n",
       "      <th>9497</th>\n",
       "      <td>112500.0</td>\n",
       "      <td>1.0</td>\n",
       "      <td>28.0</td>\n",
       "      <td>4.517547</td>\n",
       "      <td>1</td>\n",
       "      <td>0</td>\n",
       "      <td>1</td>\n",
       "      <td>1</td>\n",
       "      <td>1</td>\n",
       "      <td>0</td>\n",
       "      <td>1</td>\n",
       "      <td>2</td>\n",
       "      <td>1</td>\n",
       "    </tr>\n",
       "    <tr>\n",
       "      <th>9498</th>\n",
       "      <td>202500.0</td>\n",
       "      <td>2.0</td>\n",
       "      <td>30.0</td>\n",
       "      <td>3.600348</td>\n",
       "      <td>1</td>\n",
       "      <td>0</td>\n",
       "      <td>1</td>\n",
       "      <td>1</td>\n",
       "      <td>1</td>\n",
       "      <td>0</td>\n",
       "      <td>1</td>\n",
       "      <td>0</td>\n",
       "      <td>1</td>\n",
       "    </tr>\n",
       "    <tr>\n",
       "      <th>9499</th>\n",
       "      <td>202500.0</td>\n",
       "      <td>2.0</td>\n",
       "      <td>54.0</td>\n",
       "      <td>5.930307</td>\n",
       "      <td>1</td>\n",
       "      <td>1</td>\n",
       "      <td>1</td>\n",
       "      <td>0</td>\n",
       "      <td>1</td>\n",
       "      <td>0</td>\n",
       "      <td>1</td>\n",
       "      <td>1</td>\n",
       "      <td>1</td>\n",
       "    </tr>\n",
       "  </tbody>\n",
       "</table>\n",
       "<p>9500 rows × 13 columns</p>\n",
       "</div>"
      ],
      "text/plain": [
       "      totalIncome  famSize  ageYrs    yrsEmpl  UNEMPLOYED  ApprStatus  \\\n",
       "0        238500.0      2.0    47.0  13.599184           1           1   \n",
       "1        135000.0      3.0    41.0   4.799551           1           0   \n",
       "2        157500.0      2.0    40.0  12.506759           1           0   \n",
       "3        225000.0      2.0    24.0   0.257363           1           1   \n",
       "4         67500.0      2.0    37.0   3.263585           1           1   \n",
       "...           ...      ...     ...        ...         ...         ...   \n",
       "9495     112500.0      1.0    26.0   3.266323           1           0   \n",
       "9496     157500.0      4.0    40.0  12.265823           1           1   \n",
       "9497     112500.0      1.0    28.0   4.517547           1           0   \n",
       "9498     202500.0      2.0    30.0   3.600348           1           0   \n",
       "9499     202500.0      2.0    54.0   5.930307           1           1   \n",
       "\n",
       "      ownsCarR  ownsRealtyR  eduLvlR  incomeTypeR  housingTypeR  famStatusR  \\\n",
       "0            0            1        0            0             1           1   \n",
       "1            1            1        1            0             1           1   \n",
       "2            0            1        1            0             1           1   \n",
       "3            0            1        2            1             1           0   \n",
       "4            0            1        1            0             1           2   \n",
       "...        ...          ...      ...          ...           ...         ...   \n",
       "9495         0            1        1            0             0           2   \n",
       "9496         1            1        1            0             1           1   \n",
       "9497         1            1        1            0             1           2   \n",
       "9498         1            1        1            0             1           0   \n",
       "9499         1            0        1            0             1           1   \n",
       "\n",
       "      genderR  \n",
       "0           0  \n",
       "1           0  \n",
       "2           0  \n",
       "3           0  \n",
       "4           0  \n",
       "...       ...  \n",
       "9495        1  \n",
       "9496        1  \n",
       "9497        1  \n",
       "9498        1  \n",
       "9499        1  \n",
       "\n",
       "[9500 rows x 13 columns]"
      ]
     },
     "execution_count": 68,
     "metadata": {},
     "output_type": "execute_result"
    }
   ],
   "source": [
    "combinedResample"
   ]
  },
  {
   "cell_type": "code",
   "execution_count": 57,
   "id": "1e353bbd-9a45-4116-bcbd-b63de65890fc",
   "metadata": {},
   "outputs": [
    {
     "data": {
      "text/plain": [
       "tuple"
      ]
     },
     "execution_count": 57,
     "metadata": {},
     "output_type": "execute_result"
    }
   ],
   "source": [
    "type(balancedMF)"
   ]
  },
  {
   "cell_type": "code",
   "execution_count": null,
   "id": "dba4800d-64ba-4f8c-8bd0-02c1054192f1",
   "metadata": {},
   "outputs": [],
   "source": [
    "#convert tuple to dF\n"
   ]
  },
  {
   "cell_type": "code",
   "execution_count": 69,
   "id": "83bc759b-0d60-4125-9b1b-a64fc25a88ec",
   "metadata": {},
   "outputs": [],
   "source": [
    "combinedResample.to_csv(\"../Data/balancedMF.csv\")"
   ]
  },
  {
   "cell_type": "code",
   "execution_count": null,
   "id": "41140277-0c73-4be3-9db7-9c149d98d388",
   "metadata": {},
   "outputs": [],
   "source": []
  }
 ],
 "metadata": {
  "kernelspec": {
   "display_name": "Python 3 (ipykernel)",
   "language": "python",
   "name": "python3"
  },
  "language_info": {
   "codemirror_mode": {
    "name": "ipython",
    "version": 3
   },
   "file_extension": ".py",
   "mimetype": "text/x-python",
   "name": "python",
   "nbconvert_exporter": "python",
   "pygments_lexer": "ipython3",
   "version": "3.10.4"
  }
 },
 "nbformat": 4,
 "nbformat_minor": 5
}
