{
 "cells": [
  {
   "cell_type": "markdown",
   "id": "f99d2dd4-c57d-42d2-bae6-8dc45f63f77e",
   "metadata": {},
   "source": [
    "# Sampling"
   ]
  },
  {
   "cell_type": "code",
   "execution_count": 1,
   "id": "f4fd1534-acaa-4f3e-b437-8db4ff5e1e8c",
   "metadata": {},
   "outputs": [],
   "source": [
    "import pandas as pd\n",
    "from sklearn.model_selection import train_test_split\n",
    "from collections import Counter\n",
    "from matplotlib import pyplot as plt\n",
    "import seaborn as sns\n",
    "from sklearn.manifold import TSNE\n",
    "import warnings\n",
    "warnings.filterwarnings('ignore')"
   ]
  },
  {
   "cell_type": "code",
   "execution_count": 2,
   "id": "6f60b294-f23a-4b82-bd7c-2ef0a6789434",
   "metadata": {},
   "outputs": [],
   "source": [
    "from imblearn.under_sampling import RandomUnderSampler"
   ]
  },
  {
   "cell_type": "code",
   "execution_count": 3,
   "id": "f238d37d-2fec-4014-a321-6ed0de31e3f2",
   "metadata": {},
   "outputs": [],
   "source": [
    "from sklearn.datasets import make_classification"
   ]
  },
  {
   "cell_type": "code",
   "execution_count": 4,
   "id": "0f5803ca-2c1f-4d6b-bdb1-8603efcbb4a6",
   "metadata": {},
   "outputs": [],
   "source": [
    "cleanDummy = pd.read_csv('../Data/cleanDummy.csv')"
   ]
  },
  {
   "cell_type": "code",
   "execution_count": 5,
   "id": "48cb4dba-b399-4b6b-afc2-27447c52e589",
   "metadata": {},
   "outputs": [
    {
     "data": {
      "text/html": [
       "<div>\n",
       "<style scoped>\n",
       "    .dataframe tbody tr th:only-of-type {\n",
       "        vertical-align: middle;\n",
       "    }\n",
       "\n",
       "    .dataframe tbody tr th {\n",
       "        vertical-align: top;\n",
       "    }\n",
       "\n",
       "    .dataframe thead th {\n",
       "        text-align: right;\n",
       "    }\n",
       "</style>\n",
       "<table border=\"1\" class=\"dataframe\">\n",
       "  <thead>\n",
       "    <tr style=\"text-align: right;\">\n",
       "      <th></th>\n",
       "      <th>Unnamed: 0</th>\n",
       "      <th>totalIncome</th>\n",
       "      <th>famSize</th>\n",
       "      <th>ageYrs</th>\n",
       "      <th>yrsEmpl</th>\n",
       "      <th>UNEMPLOYED</th>\n",
       "      <th>ApprStatus</th>\n",
       "      <th>genderR</th>\n",
       "      <th>ownsCarR</th>\n",
       "      <th>ownsRealtyR</th>\n",
       "      <th>eduLvlR</th>\n",
       "      <th>incomeTypeR</th>\n",
       "      <th>housingTypeR</th>\n",
       "      <th>famStatusR</th>\n",
       "    </tr>\n",
       "  </thead>\n",
       "  <tbody>\n",
       "    <tr>\n",
       "      <th>0</th>\n",
       "      <td>0</td>\n",
       "      <td>427500</td>\n",
       "      <td>2</td>\n",
       "      <td>33</td>\n",
       "      <td>12</td>\n",
       "      <td>1</td>\n",
       "      <td>1</td>\n",
       "      <td>1</td>\n",
       "      <td>1</td>\n",
       "      <td>1</td>\n",
       "      <td>0</td>\n",
       "      <td>0</td>\n",
       "      <td>0</td>\n",
       "      <td>0</td>\n",
       "    </tr>\n",
       "    <tr>\n",
       "      <th>1</th>\n",
       "      <td>31</td>\n",
       "      <td>112500</td>\n",
       "      <td>2</td>\n",
       "      <td>59</td>\n",
       "      <td>3</td>\n",
       "      <td>1</td>\n",
       "      <td>1</td>\n",
       "      <td>1</td>\n",
       "      <td>1</td>\n",
       "      <td>1</td>\n",
       "      <td>1</td>\n",
       "      <td>0</td>\n",
       "      <td>1</td>\n",
       "      <td>1</td>\n",
       "    </tr>\n",
       "    <tr>\n",
       "      <th>2</th>\n",
       "      <td>61</td>\n",
       "      <td>270000</td>\n",
       "      <td>1</td>\n",
       "      <td>53</td>\n",
       "      <td>8</td>\n",
       "      <td>1</td>\n",
       "      <td>1</td>\n",
       "      <td>0</td>\n",
       "      <td>0</td>\n",
       "      <td>1</td>\n",
       "      <td>1</td>\n",
       "      <td>1</td>\n",
       "      <td>1</td>\n",
       "      <td>2</td>\n",
       "    </tr>\n",
       "    <tr>\n",
       "      <th>3</th>\n",
       "      <td>137</td>\n",
       "      <td>283500</td>\n",
       "      <td>1</td>\n",
       "      <td>62</td>\n",
       "      <td>0</td>\n",
       "      <td>0</td>\n",
       "      <td>0</td>\n",
       "      <td>0</td>\n",
       "      <td>0</td>\n",
       "      <td>1</td>\n",
       "      <td>0</td>\n",
       "      <td>2</td>\n",
       "      <td>1</td>\n",
       "      <td>3</td>\n",
       "    </tr>\n",
       "    <tr>\n",
       "      <th>4</th>\n",
       "      <td>188</td>\n",
       "      <td>270000</td>\n",
       "      <td>2</td>\n",
       "      <td>47</td>\n",
       "      <td>2</td>\n",
       "      <td>1</td>\n",
       "      <td>0</td>\n",
       "      <td>1</td>\n",
       "      <td>1</td>\n",
       "      <td>1</td>\n",
       "      <td>0</td>\n",
       "      <td>0</td>\n",
       "      <td>1</td>\n",
       "      <td>1</td>\n",
       "    </tr>\n",
       "  </tbody>\n",
       "</table>\n",
       "</div>"
      ],
      "text/plain": [
       "   Unnamed: 0  totalIncome  famSize  ageYrs  yrsEmpl  UNEMPLOYED  ApprStatus  \\\n",
       "0           0       427500        2      33       12           1           1   \n",
       "1          31       112500        2      59        3           1           1   \n",
       "2          61       270000        1      53        8           1           1   \n",
       "3         137       283500        1      62        0           0           0   \n",
       "4         188       270000        2      47        2           1           0   \n",
       "\n",
       "   genderR  ownsCarR  ownsRealtyR  eduLvlR  incomeTypeR  housingTypeR  \\\n",
       "0        1         1            1        0            0             0   \n",
       "1        1         1            1        1            0             1   \n",
       "2        0         0            1        1            1             1   \n",
       "3        0         0            1        0            2             1   \n",
       "4        1         1            1        0            0             1   \n",
       "\n",
       "   famStatusR  \n",
       "0           0  \n",
       "1           1  \n",
       "2           2  \n",
       "3           3  \n",
       "4           1  "
      ]
     },
     "execution_count": 5,
     "metadata": {},
     "output_type": "execute_result"
    }
   ],
   "source": [
    "cleanDummy.head()"
   ]
  },
  {
   "cell_type": "code",
   "execution_count": 6,
   "id": "bb7003c8-1410-4ac4-a4b0-f130669c6eac",
   "metadata": {},
   "outputs": [],
   "source": [
    "# Drop Unnamed:0 col\n",
    "cleanDummy.drop('Unnamed: 0', axis=1, inplace=True) "
   ]
  },
  {
   "cell_type": "code",
   "execution_count": 7,
   "id": "5bc1059f-95b9-48a0-8f44-801ddf7b758a",
   "metadata": {},
   "outputs": [
    {
     "data": {
      "text/html": [
       "<div>\n",
       "<style scoped>\n",
       "    .dataframe tbody tr th:only-of-type {\n",
       "        vertical-align: middle;\n",
       "    }\n",
       "\n",
       "    .dataframe tbody tr th {\n",
       "        vertical-align: top;\n",
       "    }\n",
       "\n",
       "    .dataframe thead th {\n",
       "        text-align: right;\n",
       "    }\n",
       "</style>\n",
       "<table border=\"1\" class=\"dataframe\">\n",
       "  <thead>\n",
       "    <tr style=\"text-align: right;\">\n",
       "      <th></th>\n",
       "      <th>totalIncome</th>\n",
       "      <th>famSize</th>\n",
       "      <th>ageYrs</th>\n",
       "      <th>yrsEmpl</th>\n",
       "      <th>UNEMPLOYED</th>\n",
       "      <th>ApprStatus</th>\n",
       "      <th>genderR</th>\n",
       "      <th>ownsCarR</th>\n",
       "      <th>ownsRealtyR</th>\n",
       "      <th>eduLvlR</th>\n",
       "      <th>incomeTypeR</th>\n",
       "      <th>housingTypeR</th>\n",
       "      <th>famStatusR</th>\n",
       "    </tr>\n",
       "  </thead>\n",
       "  <tbody>\n",
       "    <tr>\n",
       "      <th>0</th>\n",
       "      <td>427500</td>\n",
       "      <td>2</td>\n",
       "      <td>33</td>\n",
       "      <td>12</td>\n",
       "      <td>1</td>\n",
       "      <td>1</td>\n",
       "      <td>1</td>\n",
       "      <td>1</td>\n",
       "      <td>1</td>\n",
       "      <td>0</td>\n",
       "      <td>0</td>\n",
       "      <td>0</td>\n",
       "      <td>0</td>\n",
       "    </tr>\n",
       "    <tr>\n",
       "      <th>1</th>\n",
       "      <td>112500</td>\n",
       "      <td>2</td>\n",
       "      <td>59</td>\n",
       "      <td>3</td>\n",
       "      <td>1</td>\n",
       "      <td>1</td>\n",
       "      <td>1</td>\n",
       "      <td>1</td>\n",
       "      <td>1</td>\n",
       "      <td>1</td>\n",
       "      <td>0</td>\n",
       "      <td>1</td>\n",
       "      <td>1</td>\n",
       "    </tr>\n",
       "    <tr>\n",
       "      <th>2</th>\n",
       "      <td>270000</td>\n",
       "      <td>1</td>\n",
       "      <td>53</td>\n",
       "      <td>8</td>\n",
       "      <td>1</td>\n",
       "      <td>1</td>\n",
       "      <td>0</td>\n",
       "      <td>0</td>\n",
       "      <td>1</td>\n",
       "      <td>1</td>\n",
       "      <td>1</td>\n",
       "      <td>1</td>\n",
       "      <td>2</td>\n",
       "    </tr>\n",
       "    <tr>\n",
       "      <th>3</th>\n",
       "      <td>283500</td>\n",
       "      <td>1</td>\n",
       "      <td>62</td>\n",
       "      <td>0</td>\n",
       "      <td>0</td>\n",
       "      <td>0</td>\n",
       "      <td>0</td>\n",
       "      <td>0</td>\n",
       "      <td>1</td>\n",
       "      <td>0</td>\n",
       "      <td>2</td>\n",
       "      <td>1</td>\n",
       "      <td>3</td>\n",
       "    </tr>\n",
       "    <tr>\n",
       "      <th>4</th>\n",
       "      <td>270000</td>\n",
       "      <td>2</td>\n",
       "      <td>47</td>\n",
       "      <td>2</td>\n",
       "      <td>1</td>\n",
       "      <td>0</td>\n",
       "      <td>1</td>\n",
       "      <td>1</td>\n",
       "      <td>1</td>\n",
       "      <td>0</td>\n",
       "      <td>0</td>\n",
       "      <td>1</td>\n",
       "      <td>1</td>\n",
       "    </tr>\n",
       "  </tbody>\n",
       "</table>\n",
       "</div>"
      ],
      "text/plain": [
       "   totalIncome  famSize  ageYrs  yrsEmpl  UNEMPLOYED  ApprStatus  genderR  \\\n",
       "0       427500        2      33       12           1           1        1   \n",
       "1       112500        2      59        3           1           1        1   \n",
       "2       270000        1      53        8           1           1        0   \n",
       "3       283500        1      62        0           0           0        0   \n",
       "4       270000        2      47        2           1           0        1   \n",
       "\n",
       "   ownsCarR  ownsRealtyR  eduLvlR  incomeTypeR  housingTypeR  famStatusR  \n",
       "0         1            1        0            0             0           0  \n",
       "1         1            1        1            0             1           1  \n",
       "2         0            1        1            1             1           2  \n",
       "3         0            1        0            2             1           3  \n",
       "4         1            1        0            0             1           1  "
      ]
     },
     "execution_count": 7,
     "metadata": {},
     "output_type": "execute_result"
    }
   ],
   "source": [
    "cleanDummy.head()"
   ]
  },
  {
   "cell_type": "code",
   "execution_count": 8,
   "id": "97194a77-5c5b-4ecb-a157-54d314f8179b",
   "metadata": {},
   "outputs": [
    {
     "data": {
      "text/plain": [
       "0    8556\n",
       "1    4750\n",
       "Name: genderR, dtype: int64"
      ]
     },
     "execution_count": 8,
     "metadata": {},
     "output_type": "execute_result"
    }
   ],
   "source": [
    "cleanDummy['genderR'].value_counts()  # 0=F, 1=M"
   ]
  },
  {
   "cell_type": "code",
   "execution_count": 9,
   "id": "1c891722-754f-4747-a7f6-b3652d7e5177",
   "metadata": {},
   "outputs": [],
   "source": [
    "# Undersample female\n",
    "# X is dropped genderR col, y is only genderR\n",
    "\n",
    "X = cleanDummy.drop('genderR', axis=1)  \n",
    "y = cleanDummy['genderR']\n"
   ]
  },
  {
   "cell_type": "code",
   "execution_count": 10,
   "id": "36068964-7f07-498f-8f0e-5925ec45a046",
   "metadata": {},
   "outputs": [
    {
     "data": {
      "text/plain": [
       "0        1\n",
       "1        1\n",
       "2        0\n",
       "3        0\n",
       "4        1\n",
       "        ..\n",
       "13301    0\n",
       "13302    1\n",
       "13303    0\n",
       "13304    0\n",
       "13305    1\n",
       "Name: genderR, Length: 13306, dtype: int64"
      ]
     },
     "execution_count": 10,
     "metadata": {},
     "output_type": "execute_result"
    }
   ],
   "source": [
    "y"
   ]
  },
  {
   "cell_type": "code",
   "execution_count": 11,
   "id": "c8f18668-bd1b-479f-a777-33e44fa7fd14",
   "metadata": {},
   "outputs": [],
   "source": [
    "# taking number minor class and scaling down major class to match minor class \n",
    "sampler = RandomUnderSampler(sampling_strategy='auto')\n"
   ]
  },
  {
   "cell_type": "code",
   "execution_count": 12,
   "id": "3fb6623d-3822-4573-ba1c-f072e6cf4ea0",
   "metadata": {},
   "outputs": [],
   "source": [
    "X_res, y_res = sampler.fit_resample(X, y)\n"
   ]
  },
  {
   "cell_type": "code",
   "execution_count": 13,
   "id": "61eb7bb3-1ea0-46b5-ab7e-396b668733bb",
   "metadata": {},
   "outputs": [
    {
     "data": {
      "text/plain": [
       "\u001b[1;31mSignature:\u001b[0m \u001b[0msampler\u001b[0m\u001b[1;33m.\u001b[0m\u001b[0mfit_resample\u001b[0m\u001b[1;33m(\u001b[0m\u001b[0mX\u001b[0m\u001b[1;33m,\u001b[0m \u001b[0my\u001b[0m\u001b[1;33m)\u001b[0m\u001b[1;33m\u001b[0m\u001b[1;33m\u001b[0m\u001b[0m\n",
       "\u001b[1;31mDocstring:\u001b[0m\n",
       "Resample the dataset.\n",
       "\n",
       "Parameters\n",
       "----------\n",
       "X : {array-like, dataframe, sparse matrix} of shape                 (n_samples, n_features)\n",
       "    Matrix containing the data which have to be sampled.\n",
       "\n",
       "y : array-like of shape (n_samples,)\n",
       "    Corresponding label for each sample in X.\n",
       "\n",
       "Returns\n",
       "-------\n",
       "X_resampled : {array-like, dataframe, sparse matrix} of shape                 (n_samples_new, n_features)\n",
       "    The array containing the resampled data.\n",
       "\n",
       "y_resampled : array-like of shape (n_samples_new,)\n",
       "    The corresponding label of `X_resampled`.\n",
       "\u001b[1;31mFile:\u001b[0m      c:\\python3\\lib\\site-packages\\imblearn\\base.py\n",
       "\u001b[1;31mType:\u001b[0m      method\n"
      ]
     },
     "metadata": {},
     "output_type": "display_data"
    }
   ],
   "source": [
    "sampler.fit_resample?"
   ]
  },
  {
   "cell_type": "code",
   "execution_count": 14,
   "id": "a693251b-875d-4505-8497-b1e8ddfc37c8",
   "metadata": {},
   "outputs": [
    {
     "name": "stdout",
     "output_type": "stream",
     "text": [
      "Resampled dataset shape Counter({0: 4750, 1: 4750})\n"
     ]
    }
   ],
   "source": [
    "print('Resampled dataset shape %s' % Counter(y_res))"
   ]
  },
  {
   "cell_type": "code",
   "execution_count": 15,
   "id": "ce5bfac6-e316-4eab-b864-5b571b87213f",
   "metadata": {},
   "outputs": [
    {
     "name": "stdout",
     "output_type": "stream",
     "text": [
      "Counter({0: 4750, 1: 4750})\n"
     ]
    }
   ],
   "source": [
    "counter = Counter(y_res)\n",
    "print(counter)"
   ]
  },
  {
   "cell_type": "code",
   "execution_count": 16,
   "id": "f86b1ce7-ed66-4124-834c-a6d99e11031e",
   "metadata": {},
   "outputs": [
    {
     "data": {
      "text/plain": [
       "(      totalIncome  famSize  ageYrs  yrsEmpl  UNEMPLOYED  ApprStatus  ownsCarR  \\\n",
       " 0          225000        2      40        7           1           1         1   \n",
       " 1          270000        2      41        1           1           1         1   \n",
       " 2          360000        2      36        6           1           1         1   \n",
       " 3          225000        3      37       10           1           1         0   \n",
       " 4          135000        2      32        2           1           1         1   \n",
       " ...           ...      ...     ...      ...         ...         ...       ...   \n",
       " 9495       112500        1      26        3           1           0         0   \n",
       " 9496       157500        4      40       12           1           1         1   \n",
       " 9497       112500        1      28        4           1           0         1   \n",
       " 9498       202500        2      30        3           1           0         1   \n",
       " 9499       202500        2      54        5           1           1         1   \n",
       " \n",
       "       ownsRealtyR  eduLvlR  incomeTypeR  housingTypeR  famStatusR  \n",
       " 0               1        1            1             1           1  \n",
       " 1               0        1            1             1           1  \n",
       " 2               0        0            0             1           1  \n",
       " 3               1        1            0             1           1  \n",
       " 4               0        0            1             1           1  \n",
       " ...           ...      ...          ...           ...         ...  \n",
       " 9495            1        1            0             0           2  \n",
       " 9496            1        1            0             1           1  \n",
       " 9497            1        1            0             1           2  \n",
       " 9498            1        1            0             1           0  \n",
       " 9499            0        1            0             1           1  \n",
       " \n",
       " [9500 rows x 12 columns],\n",
       " 0       0\n",
       " 1       0\n",
       " 2       0\n",
       " 3       0\n",
       " 4       0\n",
       "        ..\n",
       " 9495    1\n",
       " 9496    1\n",
       " 9497    1\n",
       " 9498    1\n",
       " 9499    1\n",
       " Name: genderR, Length: 9500, dtype: int64)"
      ]
     },
     "execution_count": 16,
     "metadata": {},
     "output_type": "execute_result"
    }
   ],
   "source": [
    "X_res, y_res"
   ]
  },
  {
   "cell_type": "code",
   "execution_count": 17,
   "id": "3d806022-3c2f-4845-93d6-c467fbaf01f9",
   "metadata": {},
   "outputs": [],
   "source": [
    "balancedMF = X_res, y_res"
   ]
  },
  {
   "cell_type": "code",
   "execution_count": 18,
   "id": "9d802db5-a013-4b25-8e11-3643d84a1209",
   "metadata": {},
   "outputs": [
    {
     "data": {
      "text/plain": [
       "pandas.core.frame.DataFrame"
      ]
     },
     "execution_count": 18,
     "metadata": {},
     "output_type": "execute_result"
    }
   ],
   "source": [
    "type(X_res)\n"
   ]
  },
  {
   "cell_type": "code",
   "execution_count": 19,
   "id": "487ac2f3-f1f6-490b-a65e-56915354677f",
   "metadata": {},
   "outputs": [],
   "source": [
    "genderRcol= pd.Series.to_frame(y_res)"
   ]
  },
  {
   "cell_type": "code",
   "execution_count": 20,
   "id": "746eb4e9-998a-4492-9bd3-8f6ac9d7c36a",
   "metadata": {},
   "outputs": [
    {
     "data": {
      "text/plain": [
       "pandas.core.frame.DataFrame"
      ]
     },
     "execution_count": 20,
     "metadata": {},
     "output_type": "execute_result"
    }
   ],
   "source": [
    "type(genderRcol)"
   ]
  },
  {
   "cell_type": "code",
   "execution_count": 21,
   "id": "1c24bb60-2bbb-4e29-bf2a-9a09604f2134",
   "metadata": {},
   "outputs": [],
   "source": [
    "combinedResample = pd.concat( [X_res, genderRcol], axis = 1)"
   ]
  },
  {
   "cell_type": "code",
   "execution_count": 22,
   "id": "d1750eef-e9bc-431a-9604-1185a0641e72",
   "metadata": {},
   "outputs": [
    {
     "data": {
      "text/html": [
       "<div>\n",
       "<style scoped>\n",
       "    .dataframe tbody tr th:only-of-type {\n",
       "        vertical-align: middle;\n",
       "    }\n",
       "\n",
       "    .dataframe tbody tr th {\n",
       "        vertical-align: top;\n",
       "    }\n",
       "\n",
       "    .dataframe thead th {\n",
       "        text-align: right;\n",
       "    }\n",
       "</style>\n",
       "<table border=\"1\" class=\"dataframe\">\n",
       "  <thead>\n",
       "    <tr style=\"text-align: right;\">\n",
       "      <th></th>\n",
       "      <th>totalIncome</th>\n",
       "      <th>famSize</th>\n",
       "      <th>ageYrs</th>\n",
       "      <th>yrsEmpl</th>\n",
       "      <th>UNEMPLOYED</th>\n",
       "      <th>ApprStatus</th>\n",
       "      <th>ownsCarR</th>\n",
       "      <th>ownsRealtyR</th>\n",
       "      <th>eduLvlR</th>\n",
       "      <th>incomeTypeR</th>\n",
       "      <th>housingTypeR</th>\n",
       "      <th>famStatusR</th>\n",
       "      <th>genderR</th>\n",
       "    </tr>\n",
       "  </thead>\n",
       "  <tbody>\n",
       "    <tr>\n",
       "      <th>0</th>\n",
       "      <td>225000</td>\n",
       "      <td>2</td>\n",
       "      <td>40</td>\n",
       "      <td>7</td>\n",
       "      <td>1</td>\n",
       "      <td>1</td>\n",
       "      <td>1</td>\n",
       "      <td>1</td>\n",
       "      <td>1</td>\n",
       "      <td>1</td>\n",
       "      <td>1</td>\n",
       "      <td>1</td>\n",
       "      <td>0</td>\n",
       "    </tr>\n",
       "    <tr>\n",
       "      <th>1</th>\n",
       "      <td>270000</td>\n",
       "      <td>2</td>\n",
       "      <td>41</td>\n",
       "      <td>1</td>\n",
       "      <td>1</td>\n",
       "      <td>1</td>\n",
       "      <td>1</td>\n",
       "      <td>0</td>\n",
       "      <td>1</td>\n",
       "      <td>1</td>\n",
       "      <td>1</td>\n",
       "      <td>1</td>\n",
       "      <td>0</td>\n",
       "    </tr>\n",
       "    <tr>\n",
       "      <th>2</th>\n",
       "      <td>360000</td>\n",
       "      <td>2</td>\n",
       "      <td>36</td>\n",
       "      <td>6</td>\n",
       "      <td>1</td>\n",
       "      <td>1</td>\n",
       "      <td>1</td>\n",
       "      <td>0</td>\n",
       "      <td>0</td>\n",
       "      <td>0</td>\n",
       "      <td>1</td>\n",
       "      <td>1</td>\n",
       "      <td>0</td>\n",
       "    </tr>\n",
       "    <tr>\n",
       "      <th>3</th>\n",
       "      <td>225000</td>\n",
       "      <td>3</td>\n",
       "      <td>37</td>\n",
       "      <td>10</td>\n",
       "      <td>1</td>\n",
       "      <td>1</td>\n",
       "      <td>0</td>\n",
       "      <td>1</td>\n",
       "      <td>1</td>\n",
       "      <td>0</td>\n",
       "      <td>1</td>\n",
       "      <td>1</td>\n",
       "      <td>0</td>\n",
       "    </tr>\n",
       "    <tr>\n",
       "      <th>4</th>\n",
       "      <td>135000</td>\n",
       "      <td>2</td>\n",
       "      <td>32</td>\n",
       "      <td>2</td>\n",
       "      <td>1</td>\n",
       "      <td>1</td>\n",
       "      <td>1</td>\n",
       "      <td>0</td>\n",
       "      <td>0</td>\n",
       "      <td>1</td>\n",
       "      <td>1</td>\n",
       "      <td>1</td>\n",
       "      <td>0</td>\n",
       "    </tr>\n",
       "    <tr>\n",
       "      <th>...</th>\n",
       "      <td>...</td>\n",
       "      <td>...</td>\n",
       "      <td>...</td>\n",
       "      <td>...</td>\n",
       "      <td>...</td>\n",
       "      <td>...</td>\n",
       "      <td>...</td>\n",
       "      <td>...</td>\n",
       "      <td>...</td>\n",
       "      <td>...</td>\n",
       "      <td>...</td>\n",
       "      <td>...</td>\n",
       "      <td>...</td>\n",
       "    </tr>\n",
       "    <tr>\n",
       "      <th>9495</th>\n",
       "      <td>112500</td>\n",
       "      <td>1</td>\n",
       "      <td>26</td>\n",
       "      <td>3</td>\n",
       "      <td>1</td>\n",
       "      <td>0</td>\n",
       "      <td>0</td>\n",
       "      <td>1</td>\n",
       "      <td>1</td>\n",
       "      <td>0</td>\n",
       "      <td>0</td>\n",
       "      <td>2</td>\n",
       "      <td>1</td>\n",
       "    </tr>\n",
       "    <tr>\n",
       "      <th>9496</th>\n",
       "      <td>157500</td>\n",
       "      <td>4</td>\n",
       "      <td>40</td>\n",
       "      <td>12</td>\n",
       "      <td>1</td>\n",
       "      <td>1</td>\n",
       "      <td>1</td>\n",
       "      <td>1</td>\n",
       "      <td>1</td>\n",
       "      <td>0</td>\n",
       "      <td>1</td>\n",
       "      <td>1</td>\n",
       "      <td>1</td>\n",
       "    </tr>\n",
       "    <tr>\n",
       "      <th>9497</th>\n",
       "      <td>112500</td>\n",
       "      <td>1</td>\n",
       "      <td>28</td>\n",
       "      <td>4</td>\n",
       "      <td>1</td>\n",
       "      <td>0</td>\n",
       "      <td>1</td>\n",
       "      <td>1</td>\n",
       "      <td>1</td>\n",
       "      <td>0</td>\n",
       "      <td>1</td>\n",
       "      <td>2</td>\n",
       "      <td>1</td>\n",
       "    </tr>\n",
       "    <tr>\n",
       "      <th>9498</th>\n",
       "      <td>202500</td>\n",
       "      <td>2</td>\n",
       "      <td>30</td>\n",
       "      <td>3</td>\n",
       "      <td>1</td>\n",
       "      <td>0</td>\n",
       "      <td>1</td>\n",
       "      <td>1</td>\n",
       "      <td>1</td>\n",
       "      <td>0</td>\n",
       "      <td>1</td>\n",
       "      <td>0</td>\n",
       "      <td>1</td>\n",
       "    </tr>\n",
       "    <tr>\n",
       "      <th>9499</th>\n",
       "      <td>202500</td>\n",
       "      <td>2</td>\n",
       "      <td>54</td>\n",
       "      <td>5</td>\n",
       "      <td>1</td>\n",
       "      <td>1</td>\n",
       "      <td>1</td>\n",
       "      <td>0</td>\n",
       "      <td>1</td>\n",
       "      <td>0</td>\n",
       "      <td>1</td>\n",
       "      <td>1</td>\n",
       "      <td>1</td>\n",
       "    </tr>\n",
       "  </tbody>\n",
       "</table>\n",
       "<p>9500 rows × 13 columns</p>\n",
       "</div>"
      ],
      "text/plain": [
       "      totalIncome  famSize  ageYrs  yrsEmpl  UNEMPLOYED  ApprStatus  ownsCarR  \\\n",
       "0          225000        2      40        7           1           1         1   \n",
       "1          270000        2      41        1           1           1         1   \n",
       "2          360000        2      36        6           1           1         1   \n",
       "3          225000        3      37       10           1           1         0   \n",
       "4          135000        2      32        2           1           1         1   \n",
       "...           ...      ...     ...      ...         ...         ...       ...   \n",
       "9495       112500        1      26        3           1           0         0   \n",
       "9496       157500        4      40       12           1           1         1   \n",
       "9497       112500        1      28        4           1           0         1   \n",
       "9498       202500        2      30        3           1           0         1   \n",
       "9499       202500        2      54        5           1           1         1   \n",
       "\n",
       "      ownsRealtyR  eduLvlR  incomeTypeR  housingTypeR  famStatusR  genderR  \n",
       "0               1        1            1             1           1        0  \n",
       "1               0        1            1             1           1        0  \n",
       "2               0        0            0             1           1        0  \n",
       "3               1        1            0             1           1        0  \n",
       "4               0        0            1             1           1        0  \n",
       "...           ...      ...          ...           ...         ...      ...  \n",
       "9495            1        1            0             0           2        1  \n",
       "9496            1        1            0             1           1        1  \n",
       "9497            1        1            0             1           2        1  \n",
       "9498            1        1            0             1           0        1  \n",
       "9499            0        1            0             1           1        1  \n",
       "\n",
       "[9500 rows x 13 columns]"
      ]
     },
     "execution_count": 22,
     "metadata": {},
     "output_type": "execute_result"
    }
   ],
   "source": [
    "combinedResample"
   ]
  },
  {
   "cell_type": "code",
   "execution_count": 23,
   "id": "1e353bbd-9a45-4116-bcbd-b63de65890fc",
   "metadata": {},
   "outputs": [
    {
     "data": {
      "text/plain": [
       "tuple"
      ]
     },
     "execution_count": 23,
     "metadata": {},
     "output_type": "execute_result"
    }
   ],
   "source": [
    "type(balancedMF)"
   ]
  },
  {
   "cell_type": "code",
   "execution_count": 25,
   "id": "83bc759b-0d60-4125-9b1b-a64fc25a88ec",
   "metadata": {},
   "outputs": [],
   "source": [
    "combinedResample.to_csv(\"../Data/balancedMF.csv\")"
   ]
  },
  {
   "cell_type": "code",
   "execution_count": 26,
   "id": "41140277-0c73-4be3-9db7-9c149d98d388",
   "metadata": {},
   "outputs": [],
   "source": [
    "# balance dataset that has occupation type for comparison analysis in Tableau\n",
    "mergedCat = pd.read_csv('../Data/mergedOneRecord.csv')"
   ]
  },
  {
   "cell_type": "code",
   "execution_count": 27,
   "id": "d7a871c2-cf30-43b9-afc1-290de8e858c1",
   "metadata": {},
   "outputs": [
    {
     "data": {
      "text/html": [
       "<div>\n",
       "<style scoped>\n",
       "    .dataframe tbody tr th:only-of-type {\n",
       "        vertical-align: middle;\n",
       "    }\n",
       "\n",
       "    .dataframe tbody tr th {\n",
       "        vertical-align: top;\n",
       "    }\n",
       "\n",
       "    .dataframe thead th {\n",
       "        text-align: right;\n",
       "    }\n",
       "</style>\n",
       "<table border=\"1\" class=\"dataframe\">\n",
       "  <thead>\n",
       "    <tr style=\"text-align: right;\">\n",
       "      <th></th>\n",
       "      <th>Unnamed: 0</th>\n",
       "      <th>gender</th>\n",
       "      <th>ownsCar</th>\n",
       "      <th>ownsRealty</th>\n",
       "      <th>numChildren</th>\n",
       "      <th>totalIncome</th>\n",
       "      <th>incomeType</th>\n",
       "      <th>eduLvl</th>\n",
       "      <th>famStatus</th>\n",
       "      <th>housingType</th>\n",
       "      <th>occupation</th>\n",
       "      <th>famSize</th>\n",
       "      <th>ageYrs</th>\n",
       "      <th>yrsEmpl</th>\n",
       "      <th>UNEMPLOYED</th>\n",
       "      <th>ApprStatus</th>\n",
       "    </tr>\n",
       "  </thead>\n",
       "  <tbody>\n",
       "    <tr>\n",
       "      <th>0</th>\n",
       "      <td>0</td>\n",
       "      <td>M</td>\n",
       "      <td>Y</td>\n",
       "      <td>Y</td>\n",
       "      <td>0</td>\n",
       "      <td>427500</td>\n",
       "      <td>Working</td>\n",
       "      <td>Higher education</td>\n",
       "      <td>Civil marriage</td>\n",
       "      <td>Rented apartment</td>\n",
       "      <td>Not identified</td>\n",
       "      <td>2</td>\n",
       "      <td>33</td>\n",
       "      <td>12</td>\n",
       "      <td>1</td>\n",
       "      <td>1</td>\n",
       "    </tr>\n",
       "    <tr>\n",
       "      <th>1</th>\n",
       "      <td>31</td>\n",
       "      <td>M</td>\n",
       "      <td>Y</td>\n",
       "      <td>Y</td>\n",
       "      <td>0</td>\n",
       "      <td>112500</td>\n",
       "      <td>Working</td>\n",
       "      <td>Secondary / secondary special</td>\n",
       "      <td>Married</td>\n",
       "      <td>House / apartment</td>\n",
       "      <td>Security staff</td>\n",
       "      <td>2</td>\n",
       "      <td>59</td>\n",
       "      <td>3</td>\n",
       "      <td>1</td>\n",
       "      <td>1</td>\n",
       "    </tr>\n",
       "    <tr>\n",
       "      <th>2</th>\n",
       "      <td>61</td>\n",
       "      <td>F</td>\n",
       "      <td>N</td>\n",
       "      <td>Y</td>\n",
       "      <td>0</td>\n",
       "      <td>270000</td>\n",
       "      <td>Commercial associate</td>\n",
       "      <td>Secondary / secondary special</td>\n",
       "      <td>Single / not married</td>\n",
       "      <td>House / apartment</td>\n",
       "      <td>Sales staff</td>\n",
       "      <td>1</td>\n",
       "      <td>53</td>\n",
       "      <td>8</td>\n",
       "      <td>1</td>\n",
       "      <td>1</td>\n",
       "    </tr>\n",
       "    <tr>\n",
       "      <th>3</th>\n",
       "      <td>137</td>\n",
       "      <td>F</td>\n",
       "      <td>N</td>\n",
       "      <td>Y</td>\n",
       "      <td>0</td>\n",
       "      <td>283500</td>\n",
       "      <td>Pensioner</td>\n",
       "      <td>Higher education</td>\n",
       "      <td>Separated</td>\n",
       "      <td>House / apartment</td>\n",
       "      <td>Not identified</td>\n",
       "      <td>1</td>\n",
       "      <td>62</td>\n",
       "      <td>0</td>\n",
       "      <td>0</td>\n",
       "      <td>0</td>\n",
       "    </tr>\n",
       "    <tr>\n",
       "      <th>4</th>\n",
       "      <td>188</td>\n",
       "      <td>M</td>\n",
       "      <td>Y</td>\n",
       "      <td>Y</td>\n",
       "      <td>0</td>\n",
       "      <td>270000</td>\n",
       "      <td>Working</td>\n",
       "      <td>Higher education</td>\n",
       "      <td>Married</td>\n",
       "      <td>House / apartment</td>\n",
       "      <td>Accountants</td>\n",
       "      <td>2</td>\n",
       "      <td>47</td>\n",
       "      <td>2</td>\n",
       "      <td>1</td>\n",
       "      <td>0</td>\n",
       "    </tr>\n",
       "  </tbody>\n",
       "</table>\n",
       "</div>"
      ],
      "text/plain": [
       "   Unnamed: 0 gender ownsCar ownsRealty  numChildren  totalIncome  \\\n",
       "0           0      M       Y          Y            0       427500   \n",
       "1          31      M       Y          Y            0       112500   \n",
       "2          61      F       N          Y            0       270000   \n",
       "3         137      F       N          Y            0       283500   \n",
       "4         188      M       Y          Y            0       270000   \n",
       "\n",
       "             incomeType                         eduLvl             famStatus  \\\n",
       "0               Working               Higher education        Civil marriage   \n",
       "1               Working  Secondary / secondary special               Married   \n",
       "2  Commercial associate  Secondary / secondary special  Single / not married   \n",
       "3             Pensioner               Higher education             Separated   \n",
       "4               Working               Higher education               Married   \n",
       "\n",
       "         housingType      occupation  famSize  ageYrs  yrsEmpl  UNEMPLOYED  \\\n",
       "0   Rented apartment  Not identified        2      33       12           1   \n",
       "1  House / apartment  Security staff        2      59        3           1   \n",
       "2  House / apartment     Sales staff        1      53        8           1   \n",
       "3  House / apartment  Not identified        1      62        0           0   \n",
       "4  House / apartment     Accountants        2      47        2           1   \n",
       "\n",
       "   ApprStatus  \n",
       "0           1  \n",
       "1           1  \n",
       "2           1  \n",
       "3           0  \n",
       "4           0  "
      ]
     },
     "execution_count": 27,
     "metadata": {},
     "output_type": "execute_result"
    }
   ],
   "source": [
    "mergedCat.head()"
   ]
  },
  {
   "cell_type": "code",
   "execution_count": 28,
   "id": "d4884326-19c0-4add-a05f-4dfb4db4a9e5",
   "metadata": {},
   "outputs": [],
   "source": [
    "# Drop Unnamed:0 col\n",
    "mergedCat.drop('Unnamed: 0', axis=1, inplace=True) "
   ]
  },
  {
   "cell_type": "code",
   "execution_count": 29,
   "id": "7c5c43bb-fa7a-4115-b71d-b5ea8ad622e0",
   "metadata": {},
   "outputs": [],
   "source": [
    "# Undersample female\n",
    "# X is dropped genderR col, y is only genderR\n",
    "\n",
    "X = mergedCat.drop('gender', axis=1)  \n",
    "y = mergedCat['gender']"
   ]
  },
  {
   "cell_type": "code",
   "execution_count": 30,
   "id": "96d34d24-6a9c-40c0-9a3e-0852028deb92",
   "metadata": {},
   "outputs": [],
   "source": [
    "# taking number minor class and scaling down major class to match minor class \n",
    "sampler = RandomUnderSampler(sampling_strategy='auto')"
   ]
  },
  {
   "cell_type": "code",
   "execution_count": 31,
   "id": "56177ced-daa3-498b-8a29-19ec1d5acdde",
   "metadata": {},
   "outputs": [],
   "source": [
    "X_res, y_res = sampler.fit_resample(X, y)\n"
   ]
  },
  {
   "cell_type": "code",
   "execution_count": 32,
   "id": "07e57b40-08b5-438f-9e57-34d5ee9e15f0",
   "metadata": {},
   "outputs": [
    {
     "name": "stdout",
     "output_type": "stream",
     "text": [
      "Counter({'F': 4750, 'M': 4750})\n"
     ]
    }
   ],
   "source": [
    "counter = Counter(y_res)\n",
    "print(counter)"
   ]
  },
  {
   "cell_type": "code",
   "execution_count": 33,
   "id": "1aabe7b3-4062-4c7c-9d07-8c077573b47d",
   "metadata": {},
   "outputs": [],
   "source": [
    "genderCol= pd.Series.to_frame(y_res)"
   ]
  },
  {
   "cell_type": "code",
   "execution_count": 34,
   "id": "3e31c485-4838-4379-9bbc-6a0edc31eefd",
   "metadata": {},
   "outputs": [
    {
     "data": {
      "text/plain": [
       "pandas.core.frame.DataFrame"
      ]
     },
     "execution_count": 34,
     "metadata": {},
     "output_type": "execute_result"
    }
   ],
   "source": [
    "type(genderCol)"
   ]
  },
  {
   "cell_type": "code",
   "execution_count": 35,
   "id": "6a501fe7-ec23-4d68-b3d2-8737ab49fff6",
   "metadata": {},
   "outputs": [],
   "source": [
    "ResampleCategorical = pd.concat( [X_res, genderCol], axis = 1)"
   ]
  },
  {
   "cell_type": "code",
   "execution_count": 36,
   "id": "80e790c7-af6e-4cd0-82fe-30e5362f61b4",
   "metadata": {},
   "outputs": [
    {
     "data": {
      "text/html": [
       "<div>\n",
       "<style scoped>\n",
       "    .dataframe tbody tr th:only-of-type {\n",
       "        vertical-align: middle;\n",
       "    }\n",
       "\n",
       "    .dataframe tbody tr th {\n",
       "        vertical-align: top;\n",
       "    }\n",
       "\n",
       "    .dataframe thead th {\n",
       "        text-align: right;\n",
       "    }\n",
       "</style>\n",
       "<table border=\"1\" class=\"dataframe\">\n",
       "  <thead>\n",
       "    <tr style=\"text-align: right;\">\n",
       "      <th></th>\n",
       "      <th>ownsCar</th>\n",
       "      <th>ownsRealty</th>\n",
       "      <th>numChildren</th>\n",
       "      <th>totalIncome</th>\n",
       "      <th>incomeType</th>\n",
       "      <th>eduLvl</th>\n",
       "      <th>famStatus</th>\n",
       "      <th>housingType</th>\n",
       "      <th>occupation</th>\n",
       "      <th>famSize</th>\n",
       "      <th>ageYrs</th>\n",
       "      <th>yrsEmpl</th>\n",
       "      <th>UNEMPLOYED</th>\n",
       "      <th>ApprStatus</th>\n",
       "      <th>gender</th>\n",
       "    </tr>\n",
       "  </thead>\n",
       "  <tbody>\n",
       "    <tr>\n",
       "      <th>0</th>\n",
       "      <td>Y</td>\n",
       "      <td>Y</td>\n",
       "      <td>0</td>\n",
       "      <td>211500</td>\n",
       "      <td>Working</td>\n",
       "      <td>Secondary / secondary special</td>\n",
       "      <td>Married</td>\n",
       "      <td>House / apartment</td>\n",
       "      <td>High skill tech staff</td>\n",
       "      <td>2</td>\n",
       "      <td>43</td>\n",
       "      <td>14</td>\n",
       "      <td>1</td>\n",
       "      <td>0</td>\n",
       "      <td>F</td>\n",
       "    </tr>\n",
       "    <tr>\n",
       "      <th>1</th>\n",
       "      <td>N</td>\n",
       "      <td>Y</td>\n",
       "      <td>0</td>\n",
       "      <td>94500</td>\n",
       "      <td>Pensioner</td>\n",
       "      <td>Secondary / secondary special</td>\n",
       "      <td>Separated</td>\n",
       "      <td>House / apartment</td>\n",
       "      <td>Not identified</td>\n",
       "      <td>1</td>\n",
       "      <td>58</td>\n",
       "      <td>0</td>\n",
       "      <td>0</td>\n",
       "      <td>0</td>\n",
       "      <td>F</td>\n",
       "    </tr>\n",
       "    <tr>\n",
       "      <th>2</th>\n",
       "      <td>N</td>\n",
       "      <td>Y</td>\n",
       "      <td>0</td>\n",
       "      <td>225000</td>\n",
       "      <td>Working</td>\n",
       "      <td>Secondary / secondary special</td>\n",
       "      <td>Single / not married</td>\n",
       "      <td>House / apartment</td>\n",
       "      <td>Not identified</td>\n",
       "      <td>1</td>\n",
       "      <td>58</td>\n",
       "      <td>13</td>\n",
       "      <td>1</td>\n",
       "      <td>1</td>\n",
       "      <td>F</td>\n",
       "    </tr>\n",
       "    <tr>\n",
       "      <th>3</th>\n",
       "      <td>Y</td>\n",
       "      <td>Y</td>\n",
       "      <td>0</td>\n",
       "      <td>315000</td>\n",
       "      <td>Commercial associate</td>\n",
       "      <td>Incomplete higher</td>\n",
       "      <td>Single / not married</td>\n",
       "      <td>House / apartment</td>\n",
       "      <td>Core staff</td>\n",
       "      <td>1</td>\n",
       "      <td>25</td>\n",
       "      <td>3</td>\n",
       "      <td>1</td>\n",
       "      <td>0</td>\n",
       "      <td>F</td>\n",
       "    </tr>\n",
       "    <tr>\n",
       "      <th>4</th>\n",
       "      <td>N</td>\n",
       "      <td>N</td>\n",
       "      <td>0</td>\n",
       "      <td>90000</td>\n",
       "      <td>Pensioner</td>\n",
       "      <td>Secondary / secondary special</td>\n",
       "      <td>Widow</td>\n",
       "      <td>House / apartment</td>\n",
       "      <td>Not identified</td>\n",
       "      <td>1</td>\n",
       "      <td>60</td>\n",
       "      <td>0</td>\n",
       "      <td>0</td>\n",
       "      <td>1</td>\n",
       "      <td>F</td>\n",
       "    </tr>\n",
       "  </tbody>\n",
       "</table>\n",
       "</div>"
      ],
      "text/plain": [
       "  ownsCar ownsRealty  numChildren  totalIncome            incomeType  \\\n",
       "0       Y          Y            0       211500               Working   \n",
       "1       N          Y            0        94500             Pensioner   \n",
       "2       N          Y            0       225000               Working   \n",
       "3       Y          Y            0       315000  Commercial associate   \n",
       "4       N          N            0        90000             Pensioner   \n",
       "\n",
       "                          eduLvl             famStatus        housingType  \\\n",
       "0  Secondary / secondary special               Married  House / apartment   \n",
       "1  Secondary / secondary special             Separated  House / apartment   \n",
       "2  Secondary / secondary special  Single / not married  House / apartment   \n",
       "3              Incomplete higher  Single / not married  House / apartment   \n",
       "4  Secondary / secondary special                 Widow  House / apartment   \n",
       "\n",
       "              occupation  famSize  ageYrs  yrsEmpl  UNEMPLOYED  ApprStatus  \\\n",
       "0  High skill tech staff        2      43       14           1           0   \n",
       "1         Not identified        1      58        0           0           0   \n",
       "2         Not identified        1      58       13           1           1   \n",
       "3             Core staff        1      25        3           1           0   \n",
       "4         Not identified        1      60        0           0           1   \n",
       "\n",
       "  gender  \n",
       "0      F  \n",
       "1      F  \n",
       "2      F  \n",
       "3      F  \n",
       "4      F  "
      ]
     },
     "execution_count": 36,
     "metadata": {},
     "output_type": "execute_result"
    }
   ],
   "source": [
    "ResampleCategorical.head()"
   ]
  },
  {
   "cell_type": "code",
   "execution_count": 39,
   "id": "20cdf90c-1682-42dc-b102-6282449d6c0f",
   "metadata": {},
   "outputs": [
    {
     "data": {
      "text/plain": [
       "array(['High skill tech staff', 'Not identified', 'Core staff',\n",
       "       'Sales staff', 'Laborers', 'Cooking staff', 'Accountants',\n",
       "       'Managers', 'Secretaries', 'Drivers', 'Private service staff',\n",
       "       'Cleaning staff', 'Medicine staff', 'Realty agents', 'HR staff',\n",
       "       'Security staff', 'Low-skill Laborers', 'Waiters/barmen staff',\n",
       "       'IT staff'], dtype=object)"
      ]
     },
     "execution_count": 39,
     "metadata": {},
     "output_type": "execute_result"
    }
   ],
   "source": [
    "ResampleCategorical['occupation'].unique()"
   ]
  },
  {
   "cell_type": "code",
   "execution_count": 37,
   "id": "6777203d-f1a0-44a1-a240-c0d35c06e47b",
   "metadata": {},
   "outputs": [],
   "source": [
    "ResampleCategorical.to_csv(\"../Data/ResampledCategorical.csv\")"
   ]
  },
  {
   "cell_type": "code",
   "execution_count": null,
   "id": "495eaece-c015-4497-8490-cefdda520709",
   "metadata": {},
   "outputs": [],
   "source": []
  }
 ],
 "metadata": {
  "kernelspec": {
   "display_name": "Python 3 (ipykernel)",
   "language": "python",
   "name": "python3"
  },
  "language_info": {
   "codemirror_mode": {
    "name": "ipython",
    "version": 3
   },
   "file_extension": ".py",
   "mimetype": "text/x-python",
   "name": "python",
   "nbconvert_exporter": "python",
   "pygments_lexer": "ipython3",
   "version": "3.10.4"
  }
 },
 "nbformat": 4,
 "nbformat_minor": 5
}
