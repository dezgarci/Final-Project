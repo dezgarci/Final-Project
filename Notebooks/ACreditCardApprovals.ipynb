{
 "cells": [
  {
   "cell_type": "markdown",
   "id": "3b9fb82d-c01b-4b04-8685-4816f0d819c1",
   "metadata": {},
   "source": [
    "# Credit Card Approvals"
   ]
  },
  {
   "cell_type": "markdown",
   "id": "6e6efd6c-601e-42f9-87e7-7422e3c3391a",
   "metadata": {},
   "source": [
    "#### Import Packages"
   ]
  },
  {
   "cell_type": "code",
   "execution_count": 1,
   "id": "ec3af3cf-b3a3-43d2-8e41-bcbbc5d3bc07",
   "metadata": {},
   "outputs": [],
   "source": [
    "#Basics\n",
    "import numpy as np\n",
    "import pandas as pd\n",
    "import matplotlib.pyplot as plt\n",
    "%matplotlib inline\n",
    "import seaborn as sns\n",
    "import plotly as py\n",
    "import datetime as dt\n",
    "import scipy as scp\n",
    "\n",
    "#linear regression\n",
    "from pylab import *\n",
    "import statsmodels.api as sm\n",
    "import statsmodels.stats.api as sms\n",
    "\n",
    "\n",
    "#Machine Learning\n",
    "from sklearn.ensemble import RandomForestClassifier\n",
    "from sklearn.linear_model import LinearRegression\n",
    "from sklearn.cluster import KMeans\n",
    "from sklearn.preprocessing import StandardScaler\n",
    "from sklearn.neighbors import KNeighborsClassifier\n",
    "from sklearn.model_selection import train_test_split\n",
    "from sklearn.metrics import accuracy_score, classification_report, confusion_matrix, recall_score, precision_score, f1_score, roc_auc_score\n",
    "from sklearn.linear_model import LogisticRegression\n",
    "from sklearn.tree import DecisionTreeClassifier\n",
    "\n",
    "\n",
    "###scikit Learn Modules needed for Logistic Regression\n",
    "from sklearn.linear_model import LogisticRegression\n",
    "from sklearn.model_selection import train_test_split,GridSearchCV\n",
    "from sklearn.preprocessing import LabelEncoder,MinMaxScaler,OneHotEncoder,StandardScaler\n",
    "from sklearn.preprocessing import LabelEncoder,MinMaxScaler,OneHotEncoder,StandardScaler \n",
    "from sklearn.metrics import confusion_matrix\n",
    "from sklearn.impute import SimpleImputer\n",
    "from sklearn.pipeline import Pipeline\n",
    "from sklearn.compose import ColumnTransformer\n",
    "\n",
    "#for plotting\n",
    "import matplotlib.pyplot as plt\n",
    "import seaborn as sns\n",
    "%matplotlib inline\n",
    "sns.set(color_codes=True)\n",
    "\n",
    "import warnings\n",
    "warnings.filterwarnings('ignore')"
   ]
  },
  {
   "cell_type": "markdown",
   "id": "e6383744-e56c-417f-afc5-e835a8a94aba",
   "metadata": {},
   "source": [
    "#### Create dFs"
   ]
  },
  {
   "cell_type": "code",
   "execution_count": 2,
   "id": "6996cb28-689b-40b7-bfeb-ace702617f58",
   "metadata": {},
   "outputs": [],
   "source": [
    "applications = pd.read_csv('../Data/application_record.csv')\n",
    "records = pd.read_csv('../Data/credit_record.csv')"
   ]
  },
  {
   "cell_type": "markdown",
   "id": "170388f3-753f-4c20-85a4-2a57b5171b9a",
   "metadata": {},
   "source": [
    "## Data Exploration and Wrangling"
   ]
  },
  {
   "cell_type": "code",
   "execution_count": 3,
   "id": "9a58757d-c8e2-4699-aa6f-0aead4407e11",
   "metadata": {},
   "outputs": [
    {
     "data": {
      "text/html": [
       "<div>\n",
       "<style scoped>\n",
       "    .dataframe tbody tr th:only-of-type {\n",
       "        vertical-align: middle;\n",
       "    }\n",
       "\n",
       "    .dataframe tbody tr th {\n",
       "        vertical-align: top;\n",
       "    }\n",
       "\n",
       "    .dataframe thead th {\n",
       "        text-align: right;\n",
       "    }\n",
       "</style>\n",
       "<table border=\"1\" class=\"dataframe\">\n",
       "  <thead>\n",
       "    <tr style=\"text-align: right;\">\n",
       "      <th></th>\n",
       "      <th>ID</th>\n",
       "      <th>CODE_GENDER</th>\n",
       "      <th>FLAG_OWN_CAR</th>\n",
       "      <th>FLAG_OWN_REALTY</th>\n",
       "      <th>CNT_CHILDREN</th>\n",
       "      <th>AMT_INCOME_TOTAL</th>\n",
       "      <th>NAME_INCOME_TYPE</th>\n",
       "      <th>NAME_EDUCATION_TYPE</th>\n",
       "      <th>NAME_FAMILY_STATUS</th>\n",
       "      <th>NAME_HOUSING_TYPE</th>\n",
       "      <th>DAYS_BIRTH</th>\n",
       "      <th>DAYS_EMPLOYED</th>\n",
       "      <th>FLAG_MOBIL</th>\n",
       "      <th>FLAG_WORK_PHONE</th>\n",
       "      <th>FLAG_PHONE</th>\n",
       "      <th>FLAG_EMAIL</th>\n",
       "      <th>OCCUPATION_TYPE</th>\n",
       "      <th>CNT_FAM_MEMBERS</th>\n",
       "    </tr>\n",
       "  </thead>\n",
       "  <tbody>\n",
       "    <tr>\n",
       "      <th>0</th>\n",
       "      <td>5008804</td>\n",
       "      <td>M</td>\n",
       "      <td>Y</td>\n",
       "      <td>Y</td>\n",
       "      <td>0</td>\n",
       "      <td>427500.0</td>\n",
       "      <td>Working</td>\n",
       "      <td>Higher education</td>\n",
       "      <td>Civil marriage</td>\n",
       "      <td>Rented apartment</td>\n",
       "      <td>-12005</td>\n",
       "      <td>-4542</td>\n",
       "      <td>1</td>\n",
       "      <td>1</td>\n",
       "      <td>0</td>\n",
       "      <td>0</td>\n",
       "      <td>NaN</td>\n",
       "      <td>2.0</td>\n",
       "    </tr>\n",
       "    <tr>\n",
       "      <th>1</th>\n",
       "      <td>5008805</td>\n",
       "      <td>M</td>\n",
       "      <td>Y</td>\n",
       "      <td>Y</td>\n",
       "      <td>0</td>\n",
       "      <td>427500.0</td>\n",
       "      <td>Working</td>\n",
       "      <td>Higher education</td>\n",
       "      <td>Civil marriage</td>\n",
       "      <td>Rented apartment</td>\n",
       "      <td>-12005</td>\n",
       "      <td>-4542</td>\n",
       "      <td>1</td>\n",
       "      <td>1</td>\n",
       "      <td>0</td>\n",
       "      <td>0</td>\n",
       "      <td>NaN</td>\n",
       "      <td>2.0</td>\n",
       "    </tr>\n",
       "    <tr>\n",
       "      <th>2</th>\n",
       "      <td>5008806</td>\n",
       "      <td>M</td>\n",
       "      <td>Y</td>\n",
       "      <td>Y</td>\n",
       "      <td>0</td>\n",
       "      <td>112500.0</td>\n",
       "      <td>Working</td>\n",
       "      <td>Secondary / secondary special</td>\n",
       "      <td>Married</td>\n",
       "      <td>House / apartment</td>\n",
       "      <td>-21474</td>\n",
       "      <td>-1134</td>\n",
       "      <td>1</td>\n",
       "      <td>0</td>\n",
       "      <td>0</td>\n",
       "      <td>0</td>\n",
       "      <td>Security staff</td>\n",
       "      <td>2.0</td>\n",
       "    </tr>\n",
       "    <tr>\n",
       "      <th>3</th>\n",
       "      <td>5008808</td>\n",
       "      <td>F</td>\n",
       "      <td>N</td>\n",
       "      <td>Y</td>\n",
       "      <td>0</td>\n",
       "      <td>270000.0</td>\n",
       "      <td>Commercial associate</td>\n",
       "      <td>Secondary / secondary special</td>\n",
       "      <td>Single / not married</td>\n",
       "      <td>House / apartment</td>\n",
       "      <td>-19110</td>\n",
       "      <td>-3051</td>\n",
       "      <td>1</td>\n",
       "      <td>0</td>\n",
       "      <td>1</td>\n",
       "      <td>1</td>\n",
       "      <td>Sales staff</td>\n",
       "      <td>1.0</td>\n",
       "    </tr>\n",
       "    <tr>\n",
       "      <th>4</th>\n",
       "      <td>5008809</td>\n",
       "      <td>F</td>\n",
       "      <td>N</td>\n",
       "      <td>Y</td>\n",
       "      <td>0</td>\n",
       "      <td>270000.0</td>\n",
       "      <td>Commercial associate</td>\n",
       "      <td>Secondary / secondary special</td>\n",
       "      <td>Single / not married</td>\n",
       "      <td>House / apartment</td>\n",
       "      <td>-19110</td>\n",
       "      <td>-3051</td>\n",
       "      <td>1</td>\n",
       "      <td>0</td>\n",
       "      <td>1</td>\n",
       "      <td>1</td>\n",
       "      <td>Sales staff</td>\n",
       "      <td>1.0</td>\n",
       "    </tr>\n",
       "  </tbody>\n",
       "</table>\n",
       "</div>"
      ],
      "text/plain": [
       "        ID CODE_GENDER FLAG_OWN_CAR FLAG_OWN_REALTY  CNT_CHILDREN  \\\n",
       "0  5008804           M            Y               Y             0   \n",
       "1  5008805           M            Y               Y             0   \n",
       "2  5008806           M            Y               Y             0   \n",
       "3  5008808           F            N               Y             0   \n",
       "4  5008809           F            N               Y             0   \n",
       "\n",
       "   AMT_INCOME_TOTAL      NAME_INCOME_TYPE            NAME_EDUCATION_TYPE  \\\n",
       "0          427500.0               Working               Higher education   \n",
       "1          427500.0               Working               Higher education   \n",
       "2          112500.0               Working  Secondary / secondary special   \n",
       "3          270000.0  Commercial associate  Secondary / secondary special   \n",
       "4          270000.0  Commercial associate  Secondary / secondary special   \n",
       "\n",
       "     NAME_FAMILY_STATUS  NAME_HOUSING_TYPE  DAYS_BIRTH  DAYS_EMPLOYED  \\\n",
       "0        Civil marriage   Rented apartment      -12005          -4542   \n",
       "1        Civil marriage   Rented apartment      -12005          -4542   \n",
       "2               Married  House / apartment      -21474          -1134   \n",
       "3  Single / not married  House / apartment      -19110          -3051   \n",
       "4  Single / not married  House / apartment      -19110          -3051   \n",
       "\n",
       "   FLAG_MOBIL  FLAG_WORK_PHONE  FLAG_PHONE  FLAG_EMAIL OCCUPATION_TYPE  \\\n",
       "0           1                1           0           0             NaN   \n",
       "1           1                1           0           0             NaN   \n",
       "2           1                0           0           0  Security staff   \n",
       "3           1                0           1           1     Sales staff   \n",
       "4           1                0           1           1     Sales staff   \n",
       "\n",
       "   CNT_FAM_MEMBERS  \n",
       "0              2.0  \n",
       "1              2.0  \n",
       "2              2.0  \n",
       "3              1.0  \n",
       "4              1.0  "
      ]
     },
     "execution_count": 3,
     "metadata": {},
     "output_type": "execute_result"
    }
   ],
   "source": [
    "applications.head()"
   ]
  },
  {
   "cell_type": "code",
   "execution_count": 4,
   "id": "ff36a0ae-b9e3-4c15-8072-515495014f38",
   "metadata": {},
   "outputs": [
    {
     "data": {
      "text/html": [
       "<div>\n",
       "<style scoped>\n",
       "    .dataframe tbody tr th:only-of-type {\n",
       "        vertical-align: middle;\n",
       "    }\n",
       "\n",
       "    .dataframe tbody tr th {\n",
       "        vertical-align: top;\n",
       "    }\n",
       "\n",
       "    .dataframe thead th {\n",
       "        text-align: right;\n",
       "    }\n",
       "</style>\n",
       "<table border=\"1\" class=\"dataframe\">\n",
       "  <thead>\n",
       "    <tr style=\"text-align: right;\">\n",
       "      <th></th>\n",
       "      <th>ID</th>\n",
       "      <th>MONTHS_BALANCE</th>\n",
       "      <th>STATUS</th>\n",
       "    </tr>\n",
       "  </thead>\n",
       "  <tbody>\n",
       "    <tr>\n",
       "      <th>0</th>\n",
       "      <td>5001711</td>\n",
       "      <td>0</td>\n",
       "      <td>X</td>\n",
       "    </tr>\n",
       "    <tr>\n",
       "      <th>1</th>\n",
       "      <td>5001711</td>\n",
       "      <td>-1</td>\n",
       "      <td>0</td>\n",
       "    </tr>\n",
       "    <tr>\n",
       "      <th>2</th>\n",
       "      <td>5001711</td>\n",
       "      <td>-2</td>\n",
       "      <td>0</td>\n",
       "    </tr>\n",
       "    <tr>\n",
       "      <th>3</th>\n",
       "      <td>5001711</td>\n",
       "      <td>-3</td>\n",
       "      <td>0</td>\n",
       "    </tr>\n",
       "    <tr>\n",
       "      <th>4</th>\n",
       "      <td>5001712</td>\n",
       "      <td>0</td>\n",
       "      <td>C</td>\n",
       "    </tr>\n",
       "  </tbody>\n",
       "</table>\n",
       "</div>"
      ],
      "text/plain": [
       "        ID  MONTHS_BALANCE STATUS\n",
       "0  5001711               0      X\n",
       "1  5001711              -1      0\n",
       "2  5001711              -2      0\n",
       "3  5001711              -3      0\n",
       "4  5001712               0      C"
      ]
     },
     "execution_count": 4,
     "metadata": {},
     "output_type": "execute_result"
    }
   ],
   "source": [
    "records.head()"
   ]
  },
  {
   "cell_type": "code",
   "execution_count": 5,
   "id": "d04fcab0-6c0a-49bb-bffb-4df118b7891c",
   "metadata": {},
   "outputs": [
    {
     "name": "stdout",
     "output_type": "stream",
     "text": [
      "<class 'pandas.core.frame.DataFrame'>\n",
      "RangeIndex: 438557 entries, 0 to 438556\n",
      "Data columns (total 18 columns):\n",
      " #   Column               Non-Null Count   Dtype  \n",
      "---  ------               --------------   -----  \n",
      " 0   ID                   438557 non-null  int64  \n",
      " 1   CODE_GENDER          438557 non-null  object \n",
      " 2   FLAG_OWN_CAR         438557 non-null  object \n",
      " 3   FLAG_OWN_REALTY      438557 non-null  object \n",
      " 4   CNT_CHILDREN         438557 non-null  int64  \n",
      " 5   AMT_INCOME_TOTAL     438557 non-null  float64\n",
      " 6   NAME_INCOME_TYPE     438557 non-null  object \n",
      " 7   NAME_EDUCATION_TYPE  438557 non-null  object \n",
      " 8   NAME_FAMILY_STATUS   438557 non-null  object \n",
      " 9   NAME_HOUSING_TYPE    438557 non-null  object \n",
      " 10  DAYS_BIRTH           438557 non-null  int64  \n",
      " 11  DAYS_EMPLOYED        438557 non-null  int64  \n",
      " 12  FLAG_MOBIL           438557 non-null  int64  \n",
      " 13  FLAG_WORK_PHONE      438557 non-null  int64  \n",
      " 14  FLAG_PHONE           438557 non-null  int64  \n",
      " 15  FLAG_EMAIL           438557 non-null  int64  \n",
      " 16  OCCUPATION_TYPE      304354 non-null  object \n",
      " 17  CNT_FAM_MEMBERS      438557 non-null  float64\n",
      "dtypes: float64(2), int64(8), object(8)\n",
      "memory usage: 60.2+ MB\n"
     ]
    }
   ],
   "source": [
    "applications.info()"
   ]
  },
  {
   "cell_type": "code",
   "execution_count": 6,
   "id": "c3564aaa-ea77-4535-81b9-e8b7513d7857",
   "metadata": {},
   "outputs": [
    {
     "data": {
      "text/plain": [
       "ID                          0\n",
       "CODE_GENDER                 0\n",
       "FLAG_OWN_CAR                0\n",
       "FLAG_OWN_REALTY             0\n",
       "CNT_CHILDREN                0\n",
       "AMT_INCOME_TOTAL            0\n",
       "NAME_INCOME_TYPE            0\n",
       "NAME_EDUCATION_TYPE         0\n",
       "NAME_FAMILY_STATUS          0\n",
       "NAME_HOUSING_TYPE           0\n",
       "DAYS_BIRTH                  0\n",
       "DAYS_EMPLOYED               0\n",
       "FLAG_MOBIL                  0\n",
       "FLAG_WORK_PHONE             0\n",
       "FLAG_PHONE                  0\n",
       "FLAG_EMAIL                  0\n",
       "OCCUPATION_TYPE        134203\n",
       "CNT_FAM_MEMBERS             0\n",
       "dtype: int64"
      ]
     },
     "execution_count": 6,
     "metadata": {},
     "output_type": "execute_result"
    }
   ],
   "source": [
    "applications.isna().sum()"
   ]
  },
  {
   "cell_type": "code",
   "execution_count": 7,
   "id": "81c8320f-9dab-4bd0-8fcd-063edb93c54f",
   "metadata": {},
   "outputs": [
    {
     "name": "stdout",
     "output_type": "stream",
     "text": [
      "<class 'pandas.core.frame.DataFrame'>\n",
      "RangeIndex: 1048575 entries, 0 to 1048574\n",
      "Data columns (total 3 columns):\n",
      " #   Column          Non-Null Count    Dtype \n",
      "---  ------          --------------    ----- \n",
      " 0   ID              1048575 non-null  int64 \n",
      " 1   MONTHS_BALANCE  1048575 non-null  int64 \n",
      " 2   STATUS          1048575 non-null  object\n",
      "dtypes: int64(2), object(1)\n",
      "memory usage: 24.0+ MB\n"
     ]
    }
   ],
   "source": [
    "records.info()"
   ]
  },
  {
   "cell_type": "code",
   "execution_count": 11,
   "id": "58db1fc8-108a-4f40-a4a6-266cd4a72dcc",
   "metadata": {},
   "outputs": [],
   "source": [
    "# merge the ORIGINAL datasets\n",
    "merged = pd.merge(applications, records, on=\"ID\")"
   ]
  },
  {
   "cell_type": "code",
   "execution_count": 12,
   "id": "f0c719c1-9eb2-4b55-974d-776f3c621492",
   "metadata": {},
   "outputs": [
    {
     "data": {
      "text/html": [
       "<div>\n",
       "<style scoped>\n",
       "    .dataframe tbody tr th:only-of-type {\n",
       "        vertical-align: middle;\n",
       "    }\n",
       "\n",
       "    .dataframe tbody tr th {\n",
       "        vertical-align: top;\n",
       "    }\n",
       "\n",
       "    .dataframe thead th {\n",
       "        text-align: right;\n",
       "    }\n",
       "</style>\n",
       "<table border=\"1\" class=\"dataframe\">\n",
       "  <thead>\n",
       "    <tr style=\"text-align: right;\">\n",
       "      <th></th>\n",
       "      <th>ID</th>\n",
       "      <th>CODE_GENDER</th>\n",
       "      <th>FLAG_OWN_CAR</th>\n",
       "      <th>FLAG_OWN_REALTY</th>\n",
       "      <th>CNT_CHILDREN</th>\n",
       "      <th>AMT_INCOME_TOTAL</th>\n",
       "      <th>NAME_INCOME_TYPE</th>\n",
       "      <th>NAME_EDUCATION_TYPE</th>\n",
       "      <th>NAME_FAMILY_STATUS</th>\n",
       "      <th>NAME_HOUSING_TYPE</th>\n",
       "      <th>DAYS_BIRTH</th>\n",
       "      <th>DAYS_EMPLOYED</th>\n",
       "      <th>FLAG_MOBIL</th>\n",
       "      <th>FLAG_WORK_PHONE</th>\n",
       "      <th>FLAG_PHONE</th>\n",
       "      <th>FLAG_EMAIL</th>\n",
       "      <th>OCCUPATION_TYPE</th>\n",
       "      <th>CNT_FAM_MEMBERS</th>\n",
       "      <th>MONTHS_BALANCE</th>\n",
       "      <th>STATUS</th>\n",
       "    </tr>\n",
       "  </thead>\n",
       "  <tbody>\n",
       "    <tr>\n",
       "      <th>0</th>\n",
       "      <td>5008804</td>\n",
       "      <td>M</td>\n",
       "      <td>Y</td>\n",
       "      <td>Y</td>\n",
       "      <td>0</td>\n",
       "      <td>427500.0</td>\n",
       "      <td>Working</td>\n",
       "      <td>Higher education</td>\n",
       "      <td>Civil marriage</td>\n",
       "      <td>Rented apartment</td>\n",
       "      <td>-12005</td>\n",
       "      <td>-4542</td>\n",
       "      <td>1</td>\n",
       "      <td>1</td>\n",
       "      <td>0</td>\n",
       "      <td>0</td>\n",
       "      <td>NaN</td>\n",
       "      <td>2.0</td>\n",
       "      <td>0</td>\n",
       "      <td>C</td>\n",
       "    </tr>\n",
       "    <tr>\n",
       "      <th>1</th>\n",
       "      <td>5008804</td>\n",
       "      <td>M</td>\n",
       "      <td>Y</td>\n",
       "      <td>Y</td>\n",
       "      <td>0</td>\n",
       "      <td>427500.0</td>\n",
       "      <td>Working</td>\n",
       "      <td>Higher education</td>\n",
       "      <td>Civil marriage</td>\n",
       "      <td>Rented apartment</td>\n",
       "      <td>-12005</td>\n",
       "      <td>-4542</td>\n",
       "      <td>1</td>\n",
       "      <td>1</td>\n",
       "      <td>0</td>\n",
       "      <td>0</td>\n",
       "      <td>NaN</td>\n",
       "      <td>2.0</td>\n",
       "      <td>-1</td>\n",
       "      <td>C</td>\n",
       "    </tr>\n",
       "    <tr>\n",
       "      <th>2</th>\n",
       "      <td>5008804</td>\n",
       "      <td>M</td>\n",
       "      <td>Y</td>\n",
       "      <td>Y</td>\n",
       "      <td>0</td>\n",
       "      <td>427500.0</td>\n",
       "      <td>Working</td>\n",
       "      <td>Higher education</td>\n",
       "      <td>Civil marriage</td>\n",
       "      <td>Rented apartment</td>\n",
       "      <td>-12005</td>\n",
       "      <td>-4542</td>\n",
       "      <td>1</td>\n",
       "      <td>1</td>\n",
       "      <td>0</td>\n",
       "      <td>0</td>\n",
       "      <td>NaN</td>\n",
       "      <td>2.0</td>\n",
       "      <td>-2</td>\n",
       "      <td>C</td>\n",
       "    </tr>\n",
       "    <tr>\n",
       "      <th>3</th>\n",
       "      <td>5008804</td>\n",
       "      <td>M</td>\n",
       "      <td>Y</td>\n",
       "      <td>Y</td>\n",
       "      <td>0</td>\n",
       "      <td>427500.0</td>\n",
       "      <td>Working</td>\n",
       "      <td>Higher education</td>\n",
       "      <td>Civil marriage</td>\n",
       "      <td>Rented apartment</td>\n",
       "      <td>-12005</td>\n",
       "      <td>-4542</td>\n",
       "      <td>1</td>\n",
       "      <td>1</td>\n",
       "      <td>0</td>\n",
       "      <td>0</td>\n",
       "      <td>NaN</td>\n",
       "      <td>2.0</td>\n",
       "      <td>-3</td>\n",
       "      <td>C</td>\n",
       "    </tr>\n",
       "    <tr>\n",
       "      <th>4</th>\n",
       "      <td>5008804</td>\n",
       "      <td>M</td>\n",
       "      <td>Y</td>\n",
       "      <td>Y</td>\n",
       "      <td>0</td>\n",
       "      <td>427500.0</td>\n",
       "      <td>Working</td>\n",
       "      <td>Higher education</td>\n",
       "      <td>Civil marriage</td>\n",
       "      <td>Rented apartment</td>\n",
       "      <td>-12005</td>\n",
       "      <td>-4542</td>\n",
       "      <td>1</td>\n",
       "      <td>1</td>\n",
       "      <td>0</td>\n",
       "      <td>0</td>\n",
       "      <td>NaN</td>\n",
       "      <td>2.0</td>\n",
       "      <td>-4</td>\n",
       "      <td>C</td>\n",
       "    </tr>\n",
       "  </tbody>\n",
       "</table>\n",
       "</div>"
      ],
      "text/plain": [
       "        ID CODE_GENDER FLAG_OWN_CAR FLAG_OWN_REALTY  CNT_CHILDREN  \\\n",
       "0  5008804           M            Y               Y             0   \n",
       "1  5008804           M            Y               Y             0   \n",
       "2  5008804           M            Y               Y             0   \n",
       "3  5008804           M            Y               Y             0   \n",
       "4  5008804           M            Y               Y             0   \n",
       "\n",
       "   AMT_INCOME_TOTAL NAME_INCOME_TYPE NAME_EDUCATION_TYPE NAME_FAMILY_STATUS  \\\n",
       "0          427500.0          Working    Higher education     Civil marriage   \n",
       "1          427500.0          Working    Higher education     Civil marriage   \n",
       "2          427500.0          Working    Higher education     Civil marriage   \n",
       "3          427500.0          Working    Higher education     Civil marriage   \n",
       "4          427500.0          Working    Higher education     Civil marriage   \n",
       "\n",
       "  NAME_HOUSING_TYPE  DAYS_BIRTH  DAYS_EMPLOYED  FLAG_MOBIL  FLAG_WORK_PHONE  \\\n",
       "0  Rented apartment      -12005          -4542           1                1   \n",
       "1  Rented apartment      -12005          -4542           1                1   \n",
       "2  Rented apartment      -12005          -4542           1                1   \n",
       "3  Rented apartment      -12005          -4542           1                1   \n",
       "4  Rented apartment      -12005          -4542           1                1   \n",
       "\n",
       "   FLAG_PHONE  FLAG_EMAIL OCCUPATION_TYPE  CNT_FAM_MEMBERS  MONTHS_BALANCE  \\\n",
       "0           0           0             NaN              2.0               0   \n",
       "1           0           0             NaN              2.0              -1   \n",
       "2           0           0             NaN              2.0              -2   \n",
       "3           0           0             NaN              2.0              -3   \n",
       "4           0           0             NaN              2.0              -4   \n",
       "\n",
       "  STATUS  \n",
       "0      C  \n",
       "1      C  \n",
       "2      C  \n",
       "3      C  \n",
       "4      C  "
      ]
     },
     "execution_count": 12,
     "metadata": {},
     "output_type": "execute_result"
    }
   ],
   "source": [
    "merged.head()"
   ]
  },
  {
   "cell_type": "code",
   "execution_count": 13,
   "id": "8224e5e5-6362-42d6-90db-c8e127eb98fb",
   "metadata": {},
   "outputs": [
    {
     "name": "stdout",
     "output_type": "stream",
     "text": [
      "<class 'pandas.core.frame.DataFrame'>\n",
      "Int64Index: 777715 entries, 0 to 777714\n",
      "Data columns (total 20 columns):\n",
      " #   Column               Non-Null Count   Dtype  \n",
      "---  ------               --------------   -----  \n",
      " 0   ID                   777715 non-null  int64  \n",
      " 1   CODE_GENDER          777715 non-null  object \n",
      " 2   FLAG_OWN_CAR         777715 non-null  object \n",
      " 3   FLAG_OWN_REALTY      777715 non-null  object \n",
      " 4   CNT_CHILDREN         777715 non-null  int64  \n",
      " 5   AMT_INCOME_TOTAL     777715 non-null  float64\n",
      " 6   NAME_INCOME_TYPE     777715 non-null  object \n",
      " 7   NAME_EDUCATION_TYPE  777715 non-null  object \n",
      " 8   NAME_FAMILY_STATUS   777715 non-null  object \n",
      " 9   NAME_HOUSING_TYPE    777715 non-null  object \n",
      " 10  DAYS_BIRTH           777715 non-null  int64  \n",
      " 11  DAYS_EMPLOYED        777715 non-null  int64  \n",
      " 12  FLAG_MOBIL           777715 non-null  int64  \n",
      " 13  FLAG_WORK_PHONE      777715 non-null  int64  \n",
      " 14  FLAG_PHONE           777715 non-null  int64  \n",
      " 15  FLAG_EMAIL           777715 non-null  int64  \n",
      " 16  OCCUPATION_TYPE      537667 non-null  object \n",
      " 17  CNT_FAM_MEMBERS      777715 non-null  float64\n",
      " 18  MONTHS_BALANCE       777715 non-null  int64  \n",
      " 19  STATUS               777715 non-null  object \n",
      "dtypes: float64(2), int64(9), object(9)\n",
      "memory usage: 124.6+ MB\n"
     ]
    }
   ],
   "source": [
    "merged.info()"
   ]
  },
  {
   "cell_type": "code",
   "execution_count": 9,
   "id": "7a7d5916-7754-4cdf-ba31-fea3bb2a77f3",
   "metadata": {},
   "outputs": [],
   "source": [
    "# drop duplicates (records)\n",
    "records2=records.drop_duplicates(subset=records.columns[1:], keep='first')"
   ]
  },
  {
   "cell_type": "code",
   "execution_count": 10,
   "id": "f86841b8-44a8-4d03-8e93-7e52a0e9be8e",
   "metadata": {},
   "outputs": [
    {
     "name": "stdout",
     "output_type": "stream",
     "text": [
      "<class 'pandas.core.frame.DataFrame'>\n",
      "Int64Index: 463 entries, 0 to 947126\n",
      "Data columns (total 3 columns):\n",
      " #   Column          Non-Null Count  Dtype \n",
      "---  ------          --------------  ----- \n",
      " 0   ID              463 non-null    int64 \n",
      " 1   MONTHS_BALANCE  463 non-null    int64 \n",
      " 2   STATUS          463 non-null    object\n",
      "dtypes: int64(2), object(1)\n",
      "memory usage: 14.5+ KB\n"
     ]
    }
   ],
   "source": [
    "records2.info()"
   ]
  },
  {
   "cell_type": "code",
   "execution_count": 8,
   "id": "2f089398-d1f7-424b-b4f1-e1de55eaaaf2",
   "metadata": {},
   "outputs": [],
   "source": [
    "# subset data - drop variables that most likely won't affect the DV.\n",
    "applications2 = applications.drop(['FLAG_MOBIL', 'FLAG_WORK_PHONE', 'FLAG_PHONE', 'FLAG_EMAIL'], axis=1)"
   ]
  },
  {
   "cell_type": "code",
   "execution_count": 9,
   "id": "f715f06b-42c3-4b19-9034-09222b8dc2c3",
   "metadata": {},
   "outputs": [],
   "source": [
    "# Rename columns\n",
    "applications2.rename(columns={'CODE_GENDER': 'gender', 'FLAG_OWN_CAR' : 'ownsCar', 'FLAG_OWN_REALTY' : 'ownsRealty', 'CNT_CHILDREN' : 'numChildren', 'AMT_INCOME_TOTAL' : 'totalIncome', 'NAME_INCOME_TYPE' : 'incomeType', 'NAME_EDUCATION_TYPE' : 'EduLvl', 'NAME_FAMILY_STATUS': 'famStatus', 'NAME_HOUSING_TYPE' : 'housingType', 'DAYS_BIRTH' : 'daysBirth', 'DAYS_EMPLOYED' : 'daysEmpl', 'OCCUPATION_TYPE' : 'occupation', 'CNT_FAM_MEMBERS' : 'famSize'}, inplace = True)"
   ]
  },
  {
   "cell_type": "code",
   "execution_count": 10,
   "id": "1ac59736-d8a8-445f-969d-39146bdae613",
   "metadata": {},
   "outputs": [],
   "source": [
    "# replace missing values for occupation type with \"Not identified\"\n",
    "applications2['occupation'].fillna(value='Not identified', inplace=True)"
   ]
  },
  {
   "cell_type": "code",
   "execution_count": 11,
   "id": "d9ca579c-9a03-4599-9b8b-8bceccf20a47",
   "metadata": {},
   "outputs": [
    {
     "data": {
      "text/html": [
       "<div>\n",
       "<style scoped>\n",
       "    .dataframe tbody tr th:only-of-type {\n",
       "        vertical-align: middle;\n",
       "    }\n",
       "\n",
       "    .dataframe tbody tr th {\n",
       "        vertical-align: top;\n",
       "    }\n",
       "\n",
       "    .dataframe thead th {\n",
       "        text-align: right;\n",
       "    }\n",
       "</style>\n",
       "<table border=\"1\" class=\"dataframe\">\n",
       "  <thead>\n",
       "    <tr style=\"text-align: right;\">\n",
       "      <th></th>\n",
       "      <th>ID</th>\n",
       "      <th>gender</th>\n",
       "      <th>ownsCar</th>\n",
       "      <th>ownsRealty</th>\n",
       "      <th>numChildren</th>\n",
       "      <th>totalIncome</th>\n",
       "      <th>incomeType</th>\n",
       "      <th>EduLvl</th>\n",
       "      <th>famStatus</th>\n",
       "      <th>housingType</th>\n",
       "      <th>daysBirth</th>\n",
       "      <th>daysEmpl</th>\n",
       "      <th>occupation</th>\n",
       "      <th>famSize</th>\n",
       "    </tr>\n",
       "  </thead>\n",
       "  <tbody>\n",
       "    <tr>\n",
       "      <th>0</th>\n",
       "      <td>5008804</td>\n",
       "      <td>M</td>\n",
       "      <td>Y</td>\n",
       "      <td>Y</td>\n",
       "      <td>0</td>\n",
       "      <td>427500.0</td>\n",
       "      <td>Working</td>\n",
       "      <td>Higher education</td>\n",
       "      <td>Civil marriage</td>\n",
       "      <td>Rented apartment</td>\n",
       "      <td>-12005</td>\n",
       "      <td>-4542</td>\n",
       "      <td>Not identified</td>\n",
       "      <td>2.0</td>\n",
       "    </tr>\n",
       "    <tr>\n",
       "      <th>1</th>\n",
       "      <td>5008805</td>\n",
       "      <td>M</td>\n",
       "      <td>Y</td>\n",
       "      <td>Y</td>\n",
       "      <td>0</td>\n",
       "      <td>427500.0</td>\n",
       "      <td>Working</td>\n",
       "      <td>Higher education</td>\n",
       "      <td>Civil marriage</td>\n",
       "      <td>Rented apartment</td>\n",
       "      <td>-12005</td>\n",
       "      <td>-4542</td>\n",
       "      <td>Not identified</td>\n",
       "      <td>2.0</td>\n",
       "    </tr>\n",
       "    <tr>\n",
       "      <th>2</th>\n",
       "      <td>5008806</td>\n",
       "      <td>M</td>\n",
       "      <td>Y</td>\n",
       "      <td>Y</td>\n",
       "      <td>0</td>\n",
       "      <td>112500.0</td>\n",
       "      <td>Working</td>\n",
       "      <td>Secondary / secondary special</td>\n",
       "      <td>Married</td>\n",
       "      <td>House / apartment</td>\n",
       "      <td>-21474</td>\n",
       "      <td>-1134</td>\n",
       "      <td>Security staff</td>\n",
       "      <td>2.0</td>\n",
       "    </tr>\n",
       "    <tr>\n",
       "      <th>3</th>\n",
       "      <td>5008808</td>\n",
       "      <td>F</td>\n",
       "      <td>N</td>\n",
       "      <td>Y</td>\n",
       "      <td>0</td>\n",
       "      <td>270000.0</td>\n",
       "      <td>Commercial associate</td>\n",
       "      <td>Secondary / secondary special</td>\n",
       "      <td>Single / not married</td>\n",
       "      <td>House / apartment</td>\n",
       "      <td>-19110</td>\n",
       "      <td>-3051</td>\n",
       "      <td>Sales staff</td>\n",
       "      <td>1.0</td>\n",
       "    </tr>\n",
       "    <tr>\n",
       "      <th>4</th>\n",
       "      <td>5008809</td>\n",
       "      <td>F</td>\n",
       "      <td>N</td>\n",
       "      <td>Y</td>\n",
       "      <td>0</td>\n",
       "      <td>270000.0</td>\n",
       "      <td>Commercial associate</td>\n",
       "      <td>Secondary / secondary special</td>\n",
       "      <td>Single / not married</td>\n",
       "      <td>House / apartment</td>\n",
       "      <td>-19110</td>\n",
       "      <td>-3051</td>\n",
       "      <td>Sales staff</td>\n",
       "      <td>1.0</td>\n",
       "    </tr>\n",
       "  </tbody>\n",
       "</table>\n",
       "</div>"
      ],
      "text/plain": [
       "        ID gender ownsCar ownsRealty  numChildren  totalIncome  \\\n",
       "0  5008804      M       Y          Y            0     427500.0   \n",
       "1  5008805      M       Y          Y            0     427500.0   \n",
       "2  5008806      M       Y          Y            0     112500.0   \n",
       "3  5008808      F       N          Y            0     270000.0   \n",
       "4  5008809      F       N          Y            0     270000.0   \n",
       "\n",
       "             incomeType                         EduLvl             famStatus  \\\n",
       "0               Working               Higher education        Civil marriage   \n",
       "1               Working               Higher education        Civil marriage   \n",
       "2               Working  Secondary / secondary special               Married   \n",
       "3  Commercial associate  Secondary / secondary special  Single / not married   \n",
       "4  Commercial associate  Secondary / secondary special  Single / not married   \n",
       "\n",
       "         housingType  daysBirth  daysEmpl      occupation  famSize  \n",
       "0   Rented apartment     -12005     -4542  Not identified      2.0  \n",
       "1   Rented apartment     -12005     -4542  Not identified      2.0  \n",
       "2  House / apartment     -21474     -1134  Security staff      2.0  \n",
       "3  House / apartment     -19110     -3051     Sales staff      1.0  \n",
       "4  House / apartment     -19110     -3051     Sales staff      1.0  "
      ]
     },
     "execution_count": 11,
     "metadata": {},
     "output_type": "execute_result"
    }
   ],
   "source": [
    "applications2.head()"
   ]
  },
  {
   "cell_type": "code",
   "execution_count": 12,
   "id": "b3424b1e-f4f5-4c99-a7c5-cc3bfd7afd8a",
   "metadata": {},
   "outputs": [],
   "source": [
    "# convert daysBirth to Age in years\n",
    "applications2['age'] = np.ceil(pd.to_timedelta(applications2['daysBirth'], unit='D').dt.days / -365.25)\n",
    "applications2.drop('daysBirth', axis = 1, inplace = True)"
   ]
  },
  {
   "cell_type": "code",
   "execution_count": 13,
   "id": "2b4e236d-fc47-4b55-9b07-42d8b0910398",
   "metadata": {},
   "outputs": [],
   "source": [
    "# convert daysEmpl to yrsEmpl\n",
    "applications2['yrsEmpl']=-applications2['daysEmpl']/365.2425\n",
    "applications2.loc[applications2['yrsEmpl']<0,'yrsEmpl']=0\n",
    "applications2.drop('daysEmpl', axis=1, inplace=True)"
   ]
  },
  {
   "cell_type": "code",
   "execution_count": 14,
   "id": "0ab0ad9e-28d3-4a5c-a1c2-45b68c1aa541",
   "metadata": {},
   "outputs": [
    {
     "name": "stdout",
     "output_type": "stream",
     "text": [
      "<class 'pandas.core.frame.DataFrame'>\n",
      "RangeIndex: 438557 entries, 0 to 438556\n",
      "Data columns (total 14 columns):\n",
      " #   Column       Non-Null Count   Dtype  \n",
      "---  ------       --------------   -----  \n",
      " 0   ID           438557 non-null  int64  \n",
      " 1   gender       438557 non-null  object \n",
      " 2   ownsCar      438557 non-null  object \n",
      " 3   ownsRealty   438557 non-null  object \n",
      " 4   numChildren  438557 non-null  int64  \n",
      " 5   totalIncome  438557 non-null  float64\n",
      " 6   incomeType   438557 non-null  object \n",
      " 7   EduLvl       438557 non-null  object \n",
      " 8   famStatus    438557 non-null  object \n",
      " 9   housingType  438557 non-null  object \n",
      " 10  occupation   438557 non-null  object \n",
      " 11  famSize      438557 non-null  float64\n",
      " 12  age          438557 non-null  float64\n",
      " 13  yrsEmpl      438557 non-null  float64\n",
      "dtypes: float64(4), int64(2), object(8)\n",
      "memory usage: 46.8+ MB\n"
     ]
    }
   ],
   "source": [
    "applications2.info()"
   ]
  },
  {
   "cell_type": "code",
   "execution_count": 15,
   "id": "d752b183-cfe1-42ea-9b40-701e5daa3ea8",
   "metadata": {},
   "outputs": [
    {
     "data": {
      "text/html": [
       "<div>\n",
       "<style scoped>\n",
       "    .dataframe tbody tr th:only-of-type {\n",
       "        vertical-align: middle;\n",
       "    }\n",
       "\n",
       "    .dataframe tbody tr th {\n",
       "        vertical-align: top;\n",
       "    }\n",
       "\n",
       "    .dataframe thead th {\n",
       "        text-align: right;\n",
       "    }\n",
       "</style>\n",
       "<table border=\"1\" class=\"dataframe\">\n",
       "  <thead>\n",
       "    <tr style=\"text-align: right;\">\n",
       "      <th></th>\n",
       "      <th>ID</th>\n",
       "      <th>gender</th>\n",
       "      <th>ownsCar</th>\n",
       "      <th>ownsRealty</th>\n",
       "      <th>numChildren</th>\n",
       "      <th>totalIncome</th>\n",
       "      <th>incomeType</th>\n",
       "      <th>EduLvl</th>\n",
       "      <th>famStatus</th>\n",
       "      <th>housingType</th>\n",
       "      <th>occupation</th>\n",
       "      <th>famSize</th>\n",
       "      <th>age</th>\n",
       "      <th>yrsEmpl</th>\n",
       "    </tr>\n",
       "  </thead>\n",
       "  <tbody>\n",
       "    <tr>\n",
       "      <th>0</th>\n",
       "      <td>5008804</td>\n",
       "      <td>M</td>\n",
       "      <td>Y</td>\n",
       "      <td>Y</td>\n",
       "      <td>0</td>\n",
       "      <td>427500.0</td>\n",
       "      <td>Working</td>\n",
       "      <td>Higher education</td>\n",
       "      <td>Civil marriage</td>\n",
       "      <td>Rented apartment</td>\n",
       "      <td>Not identified</td>\n",
       "      <td>2.0</td>\n",
       "      <td>33.0</td>\n",
       "      <td>12.435574</td>\n",
       "    </tr>\n",
       "    <tr>\n",
       "      <th>1</th>\n",
       "      <td>5008805</td>\n",
       "      <td>M</td>\n",
       "      <td>Y</td>\n",
       "      <td>Y</td>\n",
       "      <td>0</td>\n",
       "      <td>427500.0</td>\n",
       "      <td>Working</td>\n",
       "      <td>Higher education</td>\n",
       "      <td>Civil marriage</td>\n",
       "      <td>Rented apartment</td>\n",
       "      <td>Not identified</td>\n",
       "      <td>2.0</td>\n",
       "      <td>33.0</td>\n",
       "      <td>12.435574</td>\n",
       "    </tr>\n",
       "    <tr>\n",
       "      <th>2</th>\n",
       "      <td>5008806</td>\n",
       "      <td>M</td>\n",
       "      <td>Y</td>\n",
       "      <td>Y</td>\n",
       "      <td>0</td>\n",
       "      <td>112500.0</td>\n",
       "      <td>Working</td>\n",
       "      <td>Secondary / secondary special</td>\n",
       "      <td>Married</td>\n",
       "      <td>House / apartment</td>\n",
       "      <td>Security staff</td>\n",
       "      <td>2.0</td>\n",
       "      <td>59.0</td>\n",
       "      <td>3.104787</td>\n",
       "    </tr>\n",
       "    <tr>\n",
       "      <th>3</th>\n",
       "      <td>5008808</td>\n",
       "      <td>F</td>\n",
       "      <td>N</td>\n",
       "      <td>Y</td>\n",
       "      <td>0</td>\n",
       "      <td>270000.0</td>\n",
       "      <td>Commercial associate</td>\n",
       "      <td>Secondary / secondary special</td>\n",
       "      <td>Single / not married</td>\n",
       "      <td>House / apartment</td>\n",
       "      <td>Sales staff</td>\n",
       "      <td>1.0</td>\n",
       "      <td>53.0</td>\n",
       "      <td>8.353354</td>\n",
       "    </tr>\n",
       "    <tr>\n",
       "      <th>4</th>\n",
       "      <td>5008809</td>\n",
       "      <td>F</td>\n",
       "      <td>N</td>\n",
       "      <td>Y</td>\n",
       "      <td>0</td>\n",
       "      <td>270000.0</td>\n",
       "      <td>Commercial associate</td>\n",
       "      <td>Secondary / secondary special</td>\n",
       "      <td>Single / not married</td>\n",
       "      <td>House / apartment</td>\n",
       "      <td>Sales staff</td>\n",
       "      <td>1.0</td>\n",
       "      <td>53.0</td>\n",
       "      <td>8.353354</td>\n",
       "    </tr>\n",
       "  </tbody>\n",
       "</table>\n",
       "</div>"
      ],
      "text/plain": [
       "        ID gender ownsCar ownsRealty  numChildren  totalIncome  \\\n",
       "0  5008804      M       Y          Y            0     427500.0   \n",
       "1  5008805      M       Y          Y            0     427500.0   \n",
       "2  5008806      M       Y          Y            0     112500.0   \n",
       "3  5008808      F       N          Y            0     270000.0   \n",
       "4  5008809      F       N          Y            0     270000.0   \n",
       "\n",
       "             incomeType                         EduLvl             famStatus  \\\n",
       "0               Working               Higher education        Civil marriage   \n",
       "1               Working               Higher education        Civil marriage   \n",
       "2               Working  Secondary / secondary special               Married   \n",
       "3  Commercial associate  Secondary / secondary special  Single / not married   \n",
       "4  Commercial associate  Secondary / secondary special  Single / not married   \n",
       "\n",
       "         housingType      occupation  famSize   age    yrsEmpl  \n",
       "0   Rented apartment  Not identified      2.0  33.0  12.435574  \n",
       "1   Rented apartment  Not identified      2.0  33.0  12.435574  \n",
       "2  House / apartment  Security staff      2.0  59.0   3.104787  \n",
       "3  House / apartment     Sales staff      1.0  53.0   8.353354  \n",
       "4  House / apartment     Sales staff      1.0  53.0   8.353354  "
      ]
     },
     "execution_count": 15,
     "metadata": {},
     "output_type": "execute_result"
    }
   ],
   "source": [
    "applications2.head()"
   ]
  },
  {
   "cell_type": "code",
   "execution_count": 16,
   "id": "efa52788-1c0e-4188-b7e9-5b0aaa9857dd",
   "metadata": {},
   "outputs": [
    {
     "data": {
      "text/html": [
       "<div>\n",
       "<style scoped>\n",
       "    .dataframe tbody tr th:only-of-type {\n",
       "        vertical-align: middle;\n",
       "    }\n",
       "\n",
       "    .dataframe tbody tr th {\n",
       "        vertical-align: top;\n",
       "    }\n",
       "\n",
       "    .dataframe thead th {\n",
       "        text-align: right;\n",
       "    }\n",
       "</style>\n",
       "<table border=\"1\" class=\"dataframe\">\n",
       "  <thead>\n",
       "    <tr style=\"text-align: right;\">\n",
       "      <th></th>\n",
       "      <th>ID</th>\n",
       "      <th>gender</th>\n",
       "      <th>ownsCar</th>\n",
       "      <th>ownsRealty</th>\n",
       "      <th>numChildren</th>\n",
       "      <th>totalIncome</th>\n",
       "      <th>incomeType</th>\n",
       "      <th>EduLvl</th>\n",
       "      <th>famStatus</th>\n",
       "      <th>housingType</th>\n",
       "      <th>occupation</th>\n",
       "      <th>famSize</th>\n",
       "      <th>age</th>\n",
       "      <th>yrsEmpl</th>\n",
       "    </tr>\n",
       "  </thead>\n",
       "  <tbody>\n",
       "    <tr>\n",
       "      <th>438547</th>\n",
       "      <td>6839917</td>\n",
       "      <td>F</td>\n",
       "      <td>N</td>\n",
       "      <td>Y</td>\n",
       "      <td>0</td>\n",
       "      <td>180000.0</td>\n",
       "      <td>Pensioner</td>\n",
       "      <td>Higher education</td>\n",
       "      <td>Married</td>\n",
       "      <td>House / apartment</td>\n",
       "      <td>Not identified</td>\n",
       "      <td>2.0</td>\n",
       "      <td>31.0</td>\n",
       "      <td>7.403301</td>\n",
       "    </tr>\n",
       "    <tr>\n",
       "      <th>438548</th>\n",
       "      <td>6839936</td>\n",
       "      <td>M</td>\n",
       "      <td>Y</td>\n",
       "      <td>Y</td>\n",
       "      <td>1</td>\n",
       "      <td>135000.0</td>\n",
       "      <td>Working</td>\n",
       "      <td>Secondary / secondary special</td>\n",
       "      <td>Married</td>\n",
       "      <td>House / apartment</td>\n",
       "      <td>Laborers</td>\n",
       "      <td>3.0</td>\n",
       "      <td>35.0</td>\n",
       "      <td>5.735915</td>\n",
       "    </tr>\n",
       "    <tr>\n",
       "      <th>438549</th>\n",
       "      <td>6840098</td>\n",
       "      <td>F</td>\n",
       "      <td>N</td>\n",
       "      <td>Y</td>\n",
       "      <td>0</td>\n",
       "      <td>135000.0</td>\n",
       "      <td>Pensioner</td>\n",
       "      <td>Secondary / secondary special</td>\n",
       "      <td>Separated</td>\n",
       "      <td>House / apartment</td>\n",
       "      <td>Not identified</td>\n",
       "      <td>1.0</td>\n",
       "      <td>63.0</td>\n",
       "      <td>0.000000</td>\n",
       "    </tr>\n",
       "    <tr>\n",
       "      <th>438550</th>\n",
       "      <td>6840100</td>\n",
       "      <td>F</td>\n",
       "      <td>N</td>\n",
       "      <td>Y</td>\n",
       "      <td>0</td>\n",
       "      <td>135000.0</td>\n",
       "      <td>Pensioner</td>\n",
       "      <td>Secondary / secondary special</td>\n",
       "      <td>Separated</td>\n",
       "      <td>House / apartment</td>\n",
       "      <td>Not identified</td>\n",
       "      <td>1.0</td>\n",
       "      <td>63.0</td>\n",
       "      <td>0.000000</td>\n",
       "    </tr>\n",
       "    <tr>\n",
       "      <th>438551</th>\n",
       "      <td>6840102</td>\n",
       "      <td>F</td>\n",
       "      <td>N</td>\n",
       "      <td>Y</td>\n",
       "      <td>0</td>\n",
       "      <td>135000.0</td>\n",
       "      <td>Pensioner</td>\n",
       "      <td>Secondary / secondary special</td>\n",
       "      <td>Separated</td>\n",
       "      <td>House / apartment</td>\n",
       "      <td>Not identified</td>\n",
       "      <td>1.0</td>\n",
       "      <td>63.0</td>\n",
       "      <td>0.000000</td>\n",
       "    </tr>\n",
       "    <tr>\n",
       "      <th>438552</th>\n",
       "      <td>6840104</td>\n",
       "      <td>M</td>\n",
       "      <td>N</td>\n",
       "      <td>Y</td>\n",
       "      <td>0</td>\n",
       "      <td>135000.0</td>\n",
       "      <td>Pensioner</td>\n",
       "      <td>Secondary / secondary special</td>\n",
       "      <td>Separated</td>\n",
       "      <td>House / apartment</td>\n",
       "      <td>Not identified</td>\n",
       "      <td>1.0</td>\n",
       "      <td>63.0</td>\n",
       "      <td>0.000000</td>\n",
       "    </tr>\n",
       "    <tr>\n",
       "      <th>438553</th>\n",
       "      <td>6840222</td>\n",
       "      <td>F</td>\n",
       "      <td>N</td>\n",
       "      <td>N</td>\n",
       "      <td>0</td>\n",
       "      <td>103500.0</td>\n",
       "      <td>Working</td>\n",
       "      <td>Secondary / secondary special</td>\n",
       "      <td>Single / not married</td>\n",
       "      <td>House / apartment</td>\n",
       "      <td>Laborers</td>\n",
       "      <td>1.0</td>\n",
       "      <td>44.0</td>\n",
       "      <td>8.232886</td>\n",
       "    </tr>\n",
       "    <tr>\n",
       "      <th>438554</th>\n",
       "      <td>6841878</td>\n",
       "      <td>F</td>\n",
       "      <td>N</td>\n",
       "      <td>N</td>\n",
       "      <td>0</td>\n",
       "      <td>54000.0</td>\n",
       "      <td>Commercial associate</td>\n",
       "      <td>Higher education</td>\n",
       "      <td>Single / not married</td>\n",
       "      <td>With parents</td>\n",
       "      <td>Sales staff</td>\n",
       "      <td>1.0</td>\n",
       "      <td>23.0</td>\n",
       "      <td>1.018501</td>\n",
       "    </tr>\n",
       "    <tr>\n",
       "      <th>438555</th>\n",
       "      <td>6842765</td>\n",
       "      <td>F</td>\n",
       "      <td>N</td>\n",
       "      <td>Y</td>\n",
       "      <td>0</td>\n",
       "      <td>72000.0</td>\n",
       "      <td>Pensioner</td>\n",
       "      <td>Secondary / secondary special</td>\n",
       "      <td>Married</td>\n",
       "      <td>House / apartment</td>\n",
       "      <td>Not identified</td>\n",
       "      <td>2.0</td>\n",
       "      <td>60.0</td>\n",
       "      <td>0.000000</td>\n",
       "    </tr>\n",
       "    <tr>\n",
       "      <th>438556</th>\n",
       "      <td>6842885</td>\n",
       "      <td>F</td>\n",
       "      <td>N</td>\n",
       "      <td>Y</td>\n",
       "      <td>0</td>\n",
       "      <td>121500.0</td>\n",
       "      <td>Working</td>\n",
       "      <td>Secondary / secondary special</td>\n",
       "      <td>Married</td>\n",
       "      <td>House / apartment</td>\n",
       "      <td>Sales staff</td>\n",
       "      <td>2.0</td>\n",
       "      <td>52.0</td>\n",
       "      <td>3.288226</td>\n",
       "    </tr>\n",
       "  </tbody>\n",
       "</table>\n",
       "</div>"
      ],
      "text/plain": [
       "             ID gender ownsCar ownsRealty  numChildren  totalIncome  \\\n",
       "438547  6839917      F       N          Y            0     180000.0   \n",
       "438548  6839936      M       Y          Y            1     135000.0   \n",
       "438549  6840098      F       N          Y            0     135000.0   \n",
       "438550  6840100      F       N          Y            0     135000.0   \n",
       "438551  6840102      F       N          Y            0     135000.0   \n",
       "438552  6840104      M       N          Y            0     135000.0   \n",
       "438553  6840222      F       N          N            0     103500.0   \n",
       "438554  6841878      F       N          N            0      54000.0   \n",
       "438555  6842765      F       N          Y            0      72000.0   \n",
       "438556  6842885      F       N          Y            0     121500.0   \n",
       "\n",
       "                  incomeType                         EduLvl  \\\n",
       "438547             Pensioner               Higher education   \n",
       "438548               Working  Secondary / secondary special   \n",
       "438549             Pensioner  Secondary / secondary special   \n",
       "438550             Pensioner  Secondary / secondary special   \n",
       "438551             Pensioner  Secondary / secondary special   \n",
       "438552             Pensioner  Secondary / secondary special   \n",
       "438553               Working  Secondary / secondary special   \n",
       "438554  Commercial associate               Higher education   \n",
       "438555             Pensioner  Secondary / secondary special   \n",
       "438556               Working  Secondary / secondary special   \n",
       "\n",
       "                   famStatus        housingType      occupation  famSize  \\\n",
       "438547               Married  House / apartment  Not identified      2.0   \n",
       "438548               Married  House / apartment        Laborers      3.0   \n",
       "438549             Separated  House / apartment  Not identified      1.0   \n",
       "438550             Separated  House / apartment  Not identified      1.0   \n",
       "438551             Separated  House / apartment  Not identified      1.0   \n",
       "438552             Separated  House / apartment  Not identified      1.0   \n",
       "438553  Single / not married  House / apartment        Laborers      1.0   \n",
       "438554  Single / not married       With parents     Sales staff      1.0   \n",
       "438555               Married  House / apartment  Not identified      2.0   \n",
       "438556               Married  House / apartment     Sales staff      2.0   \n",
       "\n",
       "         age   yrsEmpl  \n",
       "438547  31.0  7.403301  \n",
       "438548  35.0  5.735915  \n",
       "438549  63.0  0.000000  \n",
       "438550  63.0  0.000000  \n",
       "438551  63.0  0.000000  \n",
       "438552  63.0  0.000000  \n",
       "438553  44.0  8.232886  \n",
       "438554  23.0  1.018501  \n",
       "438555  60.0  0.000000  \n",
       "438556  52.0  3.288226  "
      ]
     },
     "execution_count": 16,
     "metadata": {},
     "output_type": "execute_result"
    }
   ],
   "source": [
    "applications2.tail(10)"
   ]
  },
  {
   "cell_type": "code",
   "execution_count": 17,
   "id": "700e1a3a-eb0a-484d-ad88-d195176006c9",
   "metadata": {},
   "outputs": [],
   "source": [
    "# drop missing values\n",
    "applications2.dropna(inplace = True)"
   ]
  },
  {
   "cell_type": "code",
   "execution_count": 18,
   "id": "88e18126-4252-4333-a63f-77edee0b32bd",
   "metadata": {},
   "outputs": [],
   "source": [
    "# drop duplicates (rows with same IDs)\n",
    "applications3=applications2.drop_duplicates(subset=applications2.columns[1:], keep='first')"
   ]
  },
  {
   "cell_type": "code",
   "execution_count": 19,
   "id": "897d96ba-fcfd-4331-a5b9-b9d66f2089e5",
   "metadata": {},
   "outputs": [
    {
     "data": {
      "text/html": [
       "<div>\n",
       "<style scoped>\n",
       "    .dataframe tbody tr th:only-of-type {\n",
       "        vertical-align: middle;\n",
       "    }\n",
       "\n",
       "    .dataframe tbody tr th {\n",
       "        vertical-align: top;\n",
       "    }\n",
       "\n",
       "    .dataframe thead th {\n",
       "        text-align: right;\n",
       "    }\n",
       "</style>\n",
       "<table border=\"1\" class=\"dataframe\">\n",
       "  <thead>\n",
       "    <tr style=\"text-align: right;\">\n",
       "      <th></th>\n",
       "      <th>ID</th>\n",
       "      <th>gender</th>\n",
       "      <th>ownsCar</th>\n",
       "      <th>ownsRealty</th>\n",
       "      <th>numChildren</th>\n",
       "      <th>totalIncome</th>\n",
       "      <th>incomeType</th>\n",
       "      <th>EduLvl</th>\n",
       "      <th>famStatus</th>\n",
       "      <th>housingType</th>\n",
       "      <th>occupation</th>\n",
       "      <th>famSize</th>\n",
       "      <th>age</th>\n",
       "      <th>yrsEmpl</th>\n",
       "    </tr>\n",
       "  </thead>\n",
       "  <tbody>\n",
       "    <tr>\n",
       "      <th>0</th>\n",
       "      <td>5008804</td>\n",
       "      <td>M</td>\n",
       "      <td>Y</td>\n",
       "      <td>Y</td>\n",
       "      <td>0</td>\n",
       "      <td>427500.0</td>\n",
       "      <td>Working</td>\n",
       "      <td>Higher education</td>\n",
       "      <td>Civil marriage</td>\n",
       "      <td>Rented apartment</td>\n",
       "      <td>Not identified</td>\n",
       "      <td>2.0</td>\n",
       "      <td>33.0</td>\n",
       "      <td>12.435574</td>\n",
       "    </tr>\n",
       "    <tr>\n",
       "      <th>2</th>\n",
       "      <td>5008806</td>\n",
       "      <td>M</td>\n",
       "      <td>Y</td>\n",
       "      <td>Y</td>\n",
       "      <td>0</td>\n",
       "      <td>112500.0</td>\n",
       "      <td>Working</td>\n",
       "      <td>Secondary / secondary special</td>\n",
       "      <td>Married</td>\n",
       "      <td>House / apartment</td>\n",
       "      <td>Security staff</td>\n",
       "      <td>2.0</td>\n",
       "      <td>59.0</td>\n",
       "      <td>3.104787</td>\n",
       "    </tr>\n",
       "    <tr>\n",
       "      <th>3</th>\n",
       "      <td>5008808</td>\n",
       "      <td>F</td>\n",
       "      <td>N</td>\n",
       "      <td>Y</td>\n",
       "      <td>0</td>\n",
       "      <td>270000.0</td>\n",
       "      <td>Commercial associate</td>\n",
       "      <td>Secondary / secondary special</td>\n",
       "      <td>Single / not married</td>\n",
       "      <td>House / apartment</td>\n",
       "      <td>Sales staff</td>\n",
       "      <td>1.0</td>\n",
       "      <td>53.0</td>\n",
       "      <td>8.353354</td>\n",
       "    </tr>\n",
       "    <tr>\n",
       "      <th>7</th>\n",
       "      <td>5008812</td>\n",
       "      <td>F</td>\n",
       "      <td>N</td>\n",
       "      <td>Y</td>\n",
       "      <td>0</td>\n",
       "      <td>283500.0</td>\n",
       "      <td>Pensioner</td>\n",
       "      <td>Higher education</td>\n",
       "      <td>Separated</td>\n",
       "      <td>House / apartment</td>\n",
       "      <td>Not identified</td>\n",
       "      <td>1.0</td>\n",
       "      <td>62.0</td>\n",
       "      <td>0.000000</td>\n",
       "    </tr>\n",
       "    <tr>\n",
       "      <th>10</th>\n",
       "      <td>5008815</td>\n",
       "      <td>M</td>\n",
       "      <td>Y</td>\n",
       "      <td>Y</td>\n",
       "      <td>0</td>\n",
       "      <td>270000.0</td>\n",
       "      <td>Working</td>\n",
       "      <td>Higher education</td>\n",
       "      <td>Married</td>\n",
       "      <td>House / apartment</td>\n",
       "      <td>Accountants</td>\n",
       "      <td>2.0</td>\n",
       "      <td>47.0</td>\n",
       "      <td>2.105450</td>\n",
       "    </tr>\n",
       "  </tbody>\n",
       "</table>\n",
       "</div>"
      ],
      "text/plain": [
       "         ID gender ownsCar ownsRealty  numChildren  totalIncome  \\\n",
       "0   5008804      M       Y          Y            0     427500.0   \n",
       "2   5008806      M       Y          Y            0     112500.0   \n",
       "3   5008808      F       N          Y            0     270000.0   \n",
       "7   5008812      F       N          Y            0     283500.0   \n",
       "10  5008815      M       Y          Y            0     270000.0   \n",
       "\n",
       "              incomeType                         EduLvl             famStatus  \\\n",
       "0                Working               Higher education        Civil marriage   \n",
       "2                Working  Secondary / secondary special               Married   \n",
       "3   Commercial associate  Secondary / secondary special  Single / not married   \n",
       "7              Pensioner               Higher education             Separated   \n",
       "10               Working               Higher education               Married   \n",
       "\n",
       "          housingType      occupation  famSize   age    yrsEmpl  \n",
       "0    Rented apartment  Not identified      2.0  33.0  12.435574  \n",
       "2   House / apartment  Security staff      2.0  59.0   3.104787  \n",
       "3   House / apartment     Sales staff      1.0  53.0   8.353354  \n",
       "7   House / apartment  Not identified      1.0  62.0   0.000000  \n",
       "10  House / apartment     Accountants      2.0  47.0   2.105450  "
      ]
     },
     "execution_count": 19,
     "metadata": {},
     "output_type": "execute_result"
    }
   ],
   "source": [
    "applications3.head()"
   ]
  },
  {
   "cell_type": "code",
   "execution_count": 20,
   "id": "86a81e4b-b9f2-491e-84e5-cc53f0655f21",
   "metadata": {},
   "outputs": [
    {
     "name": "stdout",
     "output_type": "stream",
     "text": [
      "The lowest applicant income is 26100.0\n"
     ]
    }
   ],
   "source": [
    "# find income range represented in this data set\n",
    "minInc = applications3.totalIncome.min()\n",
    "print(\"The lowest applicant income is\" , minInc)"
   ]
  },
  {
   "cell_type": "code",
   "execution_count": 21,
   "id": "36206ec2-b534-4a48-8b01-358fffe0e4de",
   "metadata": {},
   "outputs": [
    {
     "name": "stdout",
     "output_type": "stream",
     "text": [
      "The maximum applicant income is 6750000.0\n"
     ]
    }
   ],
   "source": [
    "maxInc = applications3.totalIncome.max()\n",
    "print(\"The maximum applicant income is\" , maxInc)"
   ]
  },
  {
   "cell_type": "code",
   "execution_count": 22,
   "id": "f031482c-7d84-4e52-98db-392352f92bde",
   "metadata": {},
   "outputs": [
    {
     "data": {
      "text/plain": [
       "count    8.334300e+04\n",
       "mean     1.822701e+05\n",
       "std      1.045944e+05\n",
       "min      2.610000e+04\n",
       "25%      1.125000e+05\n",
       "50%      1.575000e+05\n",
       "75%      2.250000e+05\n",
       "max      6.750000e+06\n",
       "Name: totalIncome, dtype: float64"
      ]
     },
     "execution_count": 22,
     "metadata": {},
     "output_type": "execute_result"
    }
   ],
   "source": [
    "#total income with outliers\n",
    "applications3.totalIncome.describe()"
   ]
  },
  {
   "cell_type": "markdown",
   "id": "63eb771d-92ee-4dc3-b977-2672cd330eae",
   "metadata": {
    "tags": []
   },
   "source": [
    "### Data Visualization"
   ]
  },
  {
   "cell_type": "code",
   "execution_count": 31,
   "id": "4f0497e9-2b65-4e06-bb01-c0e31905a649",
   "metadata": {},
   "outputs": [
    {
     "data": {
      "text/plain": [
       "Text(0.5, 1.0, 'Applicant Income Dist')"
      ]
     },
     "execution_count": 31,
     "metadata": {},
     "output_type": "execute_result"
    },
    {
     "data": {
      "image/png": "[encoded data removed]",
      "text/plain": [
       "<Figure size 432x288 with 1 Axes>"
      ]
     },
     "metadata": {},
     "output_type": "display_data"
    }
   ],
   "source": [
    "# create histograms for continuous variables\n",
    "num_bins = 250\n",
    "n, bins, patches = plt.hist(applications3['totalIncome'], num_bins, facecolor='green', alpha = .8)\n",
    "plt.xlabel('Income')\n",
    "plt.ylabel('Frequency')\n",
    "plt.title('Applicant Income Dist')"
   ]
  },
  {
   "cell_type": "code",
   "execution_count": 32,
   "id": "e86fc37b-43cb-46ed-9a7c-5869a06b33bd",
   "metadata": {},
   "outputs": [
    {
     "data": {
      "text/plain": [
       "<AxesSubplot:>"
      ]
     },
     "execution_count": 32,
     "metadata": {},
     "output_type": "execute_result"
    },
    {
     "data": {
      "image/png": "[encoded data removed]",
      "text/plain": [
       "<Figure size 432x288 with 1 Axes>"
      ]
     },
     "metadata": {},
     "output_type": "display_data"
    }
   ],
   "source": [
    "applications3['numChildren'].hist()"
   ]
  },
  {
   "cell_type": "code",
   "execution_count": 36,
   "id": "ee15b847-2c03-49cd-a95a-31ff36a6d37a",
   "metadata": {},
   "outputs": [
    {
     "data": {
      "text/plain": [
       "<AxesSubplot:>"
      ]
     },
     "execution_count": 36,
     "metadata": {},
     "output_type": "execute_result"
    },
    {
     "data": {
      "image/png": "[encoded data removed]",
      "text/plain": [
       "<Figure size 432x288 with 1 Axes>"
      ]
     },
     "metadata": {},
     "output_type": "display_data"
    }
   ],
   "source": [
    "applications3['age'].hist()"
   ]
  },
  {
   "cell_type": "code",
   "execution_count": 38,
   "id": "40aa56bb-e979-46a7-8380-42f4a57d3b0d",
   "metadata": {},
   "outputs": [
    {
     "data": {
      "text/plain": [
       "<AxesSubplot:>"
      ]
     },
     "execution_count": 38,
     "metadata": {},
     "output_type": "execute_result"
    },
    {
     "data": {
      "image/png": "[encoded data removed]",
      "text/plain": [
       "<Figure size 432x288 with 1 Axes>"
      ]
     },
     "metadata": {},
     "output_type": "display_data"
    }
   ],
   "source": [
    "applications3['yrsEmpl'].hist()"
   ]
  },
  {
   "cell_type": "code",
   "execution_count": 39,
   "id": "7da1cae7-0ae4-421d-8cc9-eed799fe72a9",
   "metadata": {},
   "outputs": [
    {
     "data": {
      "text/plain": [
       "<AxesSubplot:>"
      ]
     },
     "execution_count": 39,
     "metadata": {},
     "output_type": "execute_result"
    },
    {
     "data": {
      "image/png": "[encoded data removed]",
      "text/plain": [
       "<Figure size 432x288 with 1 Axes>"
      ]
     },
     "metadata": {},
     "output_type": "display_data"
    }
   ],
   "source": [
    "applications3['famSize'].hist()"
   ]
  },
  {
   "cell_type": "code",
   "execution_count": 29,
   "id": "0004b07f-3ba4-42db-b76f-790a9462c3b9",
   "metadata": {},
   "outputs": [
    {
     "data": {
      "text/plain": [
       "<AxesSubplot:>"
      ]
     },
     "execution_count": 29,
     "metadata": {},
     "output_type": "execute_result"
    },
    {
     "data": {
      "image/png": "[encoded data removed]",
      "text/plain": [
       "<Figure size 432x288 with 1 Axes>"
      ]
     },
     "metadata": {},
     "output_type": "display_data"
    }
   ],
   "source": [
    "# Look for outliers\n",
    "applications3.boxplot('totalIncome')"
   ]
  },
  {
   "cell_type": "code",
   "execution_count": null,
   "id": "9f63ac66-0edc-4508-8a86-57da90b761d8",
   "metadata": {},
   "outputs": [],
   "source": []
  },
  {
   "cell_type": "code",
   "execution_count": null,
   "id": "02169f72-fa58-4ca0-9382-50a459e9a9a6",
   "metadata": {},
   "outputs": [],
   "source": [
    "applications3.boxplot('numChildren')"
   ]
  },
  {
   "cell_type": "code",
   "execution_count": null,
   "id": "c7f61121-692f-4623-884e-3e86e09c4bcf",
   "metadata": {},
   "outputs": [],
   "source": [
    "applications3.boxplot('yrsEmpl')"
   ]
  },
  {
   "cell_type": "code",
   "execution_count": null,
   "id": "b2664aca-ab0a-431d-8d39-9a8f3934110f",
   "metadata": {},
   "outputs": [],
   "source": [
    "applications3.boxplot('famSize')"
   ]
  },
  {
   "cell_type": "code",
   "execution_count": null,
   "id": "b0207d7d-5cbc-413e-b8c5-6370e8fff39a",
   "metadata": {},
   "outputs": [],
   "source": [
    "num_bins = 10\n",
    "n, bins, patches = plt.hist(applications3['age'], num_bins, facecolor='green', alpha = .8)\n",
    "plt.xlabel('Age (Yrs)')\n",
    "plt.ylabel('Frequency')\n",
    "plt.title('Distribution of Applicant Age')"
   ]
  },
  {
   "cell_type": "code",
   "execution_count": null,
   "id": "698c9c17-f878-4b7d-9745-2f7fb88ddf0f",
   "metadata": {},
   "outputs": [],
   "source": [
    "# Correlation matrix\n",
    "sns.heatmap(applications3.corr(), annot=True)"
   ]
  },
  {
   "cell_type": "markdown",
   "id": "510ea641-578d-4d52-87a7-c906b5c14d86",
   "metadata": {},
   "source": [
    "#### Categorical Variable Distributions"
   ]
  },
  {
   "cell_type": "code",
   "execution_count": 37,
   "id": "9cb19bb9-7a10-48dc-baa1-a74fa11d6986",
   "metadata": {},
   "outputs": [
    {
     "data": {
      "text/plain": [
       "<AxesSubplot:>"
      ]
     },
     "execution_count": 37,
     "metadata": {},
     "output_type": "execute_result"
    },
    {
     "data": {
      "image/png": "[encoded data removed]",
      "text/plain": [
       "<Figure size 432x288 with 1 Axes>"
      ]
     },
     "metadata": {},
     "output_type": "display_data"
    }
   ],
   "source": [
    "applications3['occupation'].hist(xrot=90)"
   ]
  },
  {
   "cell_type": "markdown",
   "id": "f011909e-7924-40d7-92ec-cd057f7c0b3a",
   "metadata": {},
   "source": [
    "#### Not identified seems to make up a significant amount of represented occupations. See if we can figure out what they are."
   ]
  },
  {
   "cell_type": "code",
   "execution_count": 46,
   "id": "a4cf6396-7c77-416d-ba4c-cba461445cc7",
   "metadata": {},
   "outputs": [
    {
     "data": {
      "text/plain": [
       "array([[<AxesSubplot:title={'center':'Accountants'}>,\n",
       "        <AxesSubplot:title={'center':'Cleaning staff'}>,\n",
       "        <AxesSubplot:title={'center':'Cooking staff'}>,\n",
       "        <AxesSubplot:title={'center':'Core staff'}>],\n",
       "       [<AxesSubplot:title={'center':'Drivers'}>,\n",
       "        <AxesSubplot:title={'center':'HR staff'}>,\n",
       "        <AxesSubplot:title={'center':'High skill tech staff'}>,\n",
       "        <AxesSubplot:title={'center':'IT staff'}>],\n",
       "       [<AxesSubplot:title={'center':'Laborers'}>,\n",
       "        <AxesSubplot:title={'center':'Low-skill Laborers'}>,\n",
       "        <AxesSubplot:title={'center':'Managers'}>,\n",
       "        <AxesSubplot:title={'center':'Medicine staff'}>],\n",
       "       [<AxesSubplot:title={'center':'Not identified'}>,\n",
       "        <AxesSubplot:title={'center':'Private service staff'}>,\n",
       "        <AxesSubplot:title={'center':'Realty agents'}>,\n",
       "        <AxesSubplot:title={'center':'Sales staff'}>],\n",
       "       [<AxesSubplot:title={'center':'Secretaries'}>,\n",
       "        <AxesSubplot:title={'center':'Security staff'}>,\n",
       "        <AxesSubplot:title={'center':'Waiters/barmen staff'}>,\n",
       "        <AxesSubplot:>]], dtype=object)"
      ]
     },
     "execution_count": 46,
     "metadata": {},
     "output_type": "execute_result"
    },
    {
     "data": {
      "image/png": "[encoded data removed]",
      "text/plain": [
       "<Figure size 1440x1440 with 20 Axes>"
      ]
     },
     "metadata": {},
     "output_type": "display_data"
    }
   ],
   "source": [
    "applications3[['yrsEmpl','occupation']].hist(by='occupation', figsize=(20, 20))"
   ]
  },
  {
   "cell_type": "code",
   "execution_count": 47,
   "id": "8f70bd4a-e9e4-432a-b593-e29edabb05d9",
   "metadata": {},
   "outputs": [
    {
     "data": {
      "text/plain": [
       "array([[<AxesSubplot:title={'center':'Commercial associate'}>,\n",
       "        <AxesSubplot:title={'center':'Pensioner'}>],\n",
       "       [<AxesSubplot:title={'center':'State servant'}>,\n",
       "        <AxesSubplot:title={'center':'Student'}>],\n",
       "       [<AxesSubplot:title={'center':'Working'}>, <AxesSubplot:>]],\n",
       "      dtype=object)"
      ]
     },
     "execution_count": 47,
     "metadata": {},
     "output_type": "execute_result"
    },
    {
     "data": {
      "image/png": "[encoded data removed]",
      "text/plain": [
       "<Figure size 1440x1440 with 6 Axes>"
      ]
     },
     "metadata": {},
     "output_type": "display_data"
    }
   ],
   "source": [
    "applications3[['yrsEmpl','incomeType']].hist(by='incomeType', figsize=(20, 20))"
   ]
  },
  {
   "cell_type": "markdown",
   "id": "050fe32c-db9a-4055-836b-c217a03395f7",
   "metadata": {},
   "source": [
    "#### Seems to be a connection between Pensioner income type and Not identified occupation. Most of the missing occupation records are majority working pensioners it seems."
   ]
  },
  {
   "cell_type": "code",
   "execution_count": 50,
   "id": "cbb2e853-2aeb-475f-9a09-b70b1a0a6571",
   "metadata": {},
   "outputs": [],
   "source": [
    "# So that we don't have so many missing values, changed 'Not identified' to 'Pensioner'\n",
    "applications3.loc[(applications3['incomeType'] == 'Pensioner') & (applications3['occupation'] == 'Not identified'), 'occupation'] = 'Pensioner'"
   ]
  },
  {
   "cell_type": "code",
   "execution_count": 53,
   "id": "dc2e540c-e74c-4358-a1e6-a791a0d0c4d8",
   "metadata": {},
   "outputs": [
    {
     "data": {
      "text/plain": [
       "<AxesSubplot:>"
      ]
     },
     "execution_count": 53,
     "metadata": {},
     "output_type": "execute_result"
    },
    {
     "data": {
      "image/png": "[encoded data removed]",
      "text/plain": [
       "<Figure size 432x288 with 1 Axes>"
      ]
     },
     "metadata": {},
     "output_type": "display_data"
    }
   ],
   "source": [
    "applications3['housingType'].hist(xrot=90)"
   ]
  },
  {
   "cell_type": "code",
   "execution_count": 54,
   "id": "01d31e7c-46c4-44f3-b4b1-8ec955eff23e",
   "metadata": {},
   "outputs": [
    {
     "data": {
      "text/plain": [
       "<AxesSubplot:>"
      ]
     },
     "execution_count": 54,
     "metadata": {},
     "output_type": "execute_result"
    },
    {
     "data": {
      "image/png": "[encoded data removed]",
      "text/plain": [
       "<Figure size 432x288 with 1 Axes>"
      ]
     },
     "metadata": {},
     "output_type": "display_data"
    }
   ],
   "source": [
    "applications3['famStatus'].hist(xrot=90)"
   ]
  },
  {
   "cell_type": "code",
   "execution_count": 55,
   "id": "e585ef04-7751-4705-b9b4-255c66d329e1",
   "metadata": {},
   "outputs": [
    {
     "data": {
      "image/png": "[encoded data removed]",
      "text/plain": [
       "<Figure size 720x360 with 2 Axes>"
      ]
     },
     "metadata": {},
     "output_type": "display_data"
    }
   ],
   "source": [
    "fig, axes = plt.subplots(1,2)\n",
    "g1 = applications3.groupby('gender')['gender'].count().plot(kind='pie', y='gender', ax=axes[0])\n",
    "g2 = applications3.groupby('ownsCar')['ownsCar'].count().plot(kind='pie', y='ownsCar', ax=axes[1])\n",
    "\n",
    "fig.set_size_inches(10,5)\n",
    "\n",
    "plt.tight_layout()"
   ]
  },
  {
   "cell_type": "code",
   "execution_count": 56,
   "id": "5788fd47-071e-4772-b76b-0b6c228c602f",
   "metadata": {},
   "outputs": [
    {
     "data": {
      "image/png": "[encoded data removed]",
      "text/plain": [
       "<Figure size 432x288 with 1 Axes>"
      ]
     },
     "metadata": {},
     "output_type": "display_data"
    }
   ],
   "source": [
    "g3 = applications3.groupby('ownsRealty')['ownsRealty'].count().plot(kind='pie', y='ownsRealty')"
   ]
  },
  {
   "cell_type": "code",
   "execution_count": null,
   "id": "a8950dc7-5741-4b99-814d-16942a39cb09",
   "metadata": {},
   "outputs": [],
   "source": [
    "# Income type, family status distributions\n",
    "\n",
    "fig, axes = plt.subplots(1,2)\n",
    "\n",
    "incTDist=sns.countplot(y=applications3.incomeType,linewidth=1.2, ax=axes[0])\n",
    "incTDist.set_title(\"Applicant Distribution by Income Type\")\n",
    "incTDist.set_xlabel(\"Count\")\n",
    "\n",
    "famDist=sns.countplot(y=applications3.famStatus,linewidth=1.2, ax=axes[1])\n",
    "famDist.set_title(\"Applicant Distribution by Family Status\")\n",
    "famDist.set_xlabel(\"Count\")\n",
    "\n",
    "fig.set_size_inches(15,5)\n",
    "\n",
    "plt.tight_layout()"
   ]
  }
 ],
 "metadata": {
  "kernelspec": {
   "display_name": "Python 3 (ipykernel)",
   "language": "python",
   "name": "python3"
  },
  "language_info": {
   "codemirror_mode": {
    "name": "ipython",
    "version": 3
   },
   "file_extension": ".py",
   "mimetype": "text/x-python",
   "name": "python",
   "nbconvert_exporter": "python",
   "pygments_lexer": "ipython3",
   "version": "3.10.4"
  }
 },
 "nbformat": 4,
 "nbformat_minor": 5
}
