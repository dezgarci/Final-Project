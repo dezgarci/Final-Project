{
 "cells": [
  {
   "cell_type": "markdown",
   "id": "df4534b8-94f2-4705-83ed-818dd7b0e088",
   "metadata": {},
   "source": [
    "# Analyses in R Final Project"
   ]
  },
  {
   "cell_type": "markdown",
   "id": "bd98fe35-ff3a-4e93-89cb-71ef347d3206",
   "metadata": {},
   "source": [
    "### load packages"
   ]
  },
  {
   "cell_type": "code",
   "execution_count": 6,
   "id": "c069d36e-d838-43f2-af3d-9694647b9ca8",
   "metadata": {},
   "outputs": [
    {
     "name": "stderr",
     "output_type": "stream",
     "text": [
      "Warning message:\n",
      "\"package 'lmtest' was built under R version 4.1.3\"\n",
      "Loading required package: zoo\n",
      "\n",
      "\n",
      "Attaching package: 'zoo'\n",
      "\n",
      "\n",
      "The following objects are masked from 'package:base':\n",
      "\n",
      "    as.Date, as.Date.numeric\n",
      "\n",
      "\n"
     ]
    }
   ],
   "source": [
    "library(\"dplyr\")\n",
    "library(\"car\")\n",
    "library(\"rcompanion\")\n",
    "library(\"IDPmisc\")\n",
    "library(\"caret\")\n",
    "library(\"gvlma\")\n",
    "library(\"predictmeans\")\n",
    "library(\"e1071\")\n",
    "library(\"lmtest\")"
   ]
  },
  {
   "cell_type": "code",
   "execution_count": 7,
   "id": "1ccd5d3f-d112-4bf3-a2c1-75a359ae8b25",
   "metadata": {},
   "outputs": [],
   "source": [
    "apps = read.csv('../Data/mergedNoDupes.csv')"
   ]
  },
  {
   "cell_type": "code",
   "execution_count": null,
   "id": "bb51932c-63c7-4661-a9c7-66fb95dcec58",
   "metadata": {},
   "outputs": [],
   "source": [
    "apps."
   ]
  },
  {
   "cell_type": "markdown",
   "id": "fd99cc78-bb9a-483b-aa8d-a6763182f91e",
   "metadata": {},
   "source": [
    "# Data Wrangling"
   ]
  },
  {
   "cell_type": "code",
   "execution_count": null,
   "id": "973ffc87-cc62-4b8e-8c78-04dc64af07f5",
   "metadata": {},
   "outputs": [],
   "source": []
  },
  {
   "cell_type": "markdown",
   "id": "f533348c-6d0d-4bc0-956b-cfb257d44044",
   "metadata": {},
   "source": [
    "# One Way Between Subjects ANOVA"
   ]
  },
  {
   "cell_type": "code",
   "execution_count": null,
   "id": "a1eaa1f5-05c4-440b-99b3-be7c0b8f893b",
   "metadata": {},
   "outputs": [],
   "source": [
    "# Is there a difference in income among all categories of occupation type?"
   ]
  },
  {
   "cell_type": "code",
   "execution_count": 17,
   "id": "8cc1112e-79b5-4a3b-b435-3471231381ae",
   "metadata": {},
   "outputs": [
    {
     "name": "stderr",
     "output_type": "stream",
     "text": [
      "Warning message in min(x):\n",
      "\"no non-missing arguments to min; returning Inf\"\n",
      "Warning message in max(x):\n",
      "\"no non-missing arguments to max; returning -Inf\"\n"
     ]
    },
    {
     "ename": "ERROR",
     "evalue": "Error in seq.default(min(x), max(x), length = length): 'from' must be a finite number\n",
     "output_type": "error",
     "traceback": [
      "Error in seq.default(min(x), max(x), length = length): 'from' must be a finite number\nTraceback:\n",
      "1. plotNormalHistogram(apps3$AMT_INCOME_TOTAL)",
      "2. seq(min(x), max(x), length = length)",
      "3. seq.default(min(x), max(x), length = length)",
      "4. stop(\"'from' must be a finite number\")"
     ]
    }
   ],
   "source": [
    "# Normality of the DV (totalIncome)\n",
    "plotNormalHistogram(apps3$AMT_INCOME_TOTAL)"
   ]
  },
  {
   "cell_type": "code",
   "execution_count": 18,
   "id": "5c6d3f51-0bb4-4643-b544-e47d7c7a6098",
   "metadata": {},
   "outputs": [
    {
     "ename": "ERROR",
     "evalue": "Error in sqrt(apps3$AMT_INCOME_TOTAL): non-numeric argument to mathematical function\n",
     "output_type": "error",
     "traceback": [
      "Error in sqrt(apps3$AMT_INCOME_TOTAL): non-numeric argument to mathematical function\nTraceback:\n"
     ]
    }
   ],
   "source": [
    "# try sqrt due to slight positive skew\n",
    "apps3$AMT_INCOME_TOTALSQRT <- sqrt(apps3$AMT_INCOME_TOTAL)"
   ]
  },
  {
   "cell_type": "code",
   "execution_count": null,
   "id": "6b9fa2df-4148-4bab-81eb-4d7c87513a89",
   "metadata": {},
   "outputs": [],
   "source": [
    "plotNormalHistogram(apps3$AMT_INCOME_TOTALSQRT)"
   ]
  },
  {
   "cell_type": "code",
   "execution_count": null,
   "id": "3f41d4aa-1f91-4473-905c-09723de4eb54",
   "metadata": {},
   "outputs": [],
   "source": [
    "# homogeneity of variance - bartlett's test\n",
    "bartlett.test(AMT_INCOME_TOTALSQRT~OCCUPATION_TYPE, data = apps3)"
   ]
  },
  {
   "cell_type": "code",
   "execution_count": null,
   "id": "b0c906df-cc29-46fa-bca2-c605de39ad5a",
   "metadata": {},
   "outputs": [],
   "source": [
    "## Since p val is <.05, this assumption fails."
   ]
  },
  {
   "cell_type": "code",
   "execution_count": null,
   "id": "39a681e4-568a-4d76-9f73-1954e96fdaf3",
   "metadata": {},
   "outputs": [],
   "source": [
    "# Is there a difference in income among all categories of family status type?"
   ]
  },
  {
   "cell_type": "code",
   "execution_count": null,
   "id": "7aa995f9-5bb4-496d-adf8-820178bb6a9d",
   "metadata": {},
   "outputs": [],
   "source": [
    "unique(apps3$NAME_FAMILY_STATUS)"
   ]
  },
  {
   "cell_type": "code",
   "execution_count": null,
   "id": "97d0b5e3-20e1-444d-8ebd-8b4f61cc390e",
   "metadata": {},
   "outputs": [],
   "source": [
    "# homogeneity of variance - bartlett's test\n",
    "bartlett.test(AMT_INCOME_TOTALSQRT~NAME_FAMILY_STATUS, data = apps3)"
   ]
  },
  {
   "cell_type": "code",
   "execution_count": null,
   "id": "4c44f96b-9319-4a70-bca2-08a8c170163e",
   "metadata": {},
   "outputs": [],
   "source": [
    "# Is there a difference in income among all categories of HOUSING type?"
   ]
  },
  {
   "cell_type": "code",
   "execution_count": null,
   "id": "67199df7-a4c0-4d77-911e-bbbc1c8bc4c4",
   "metadata": {},
   "outputs": [],
   "source": [
    "bartlett.test(AMT_INCOME_TOTALSQRT~NAME_HOUSING_TYPE, data = apps3)"
   ]
  },
  {
   "cell_type": "code",
   "execution_count": null,
   "id": "c71735ab-d269-49ac-8c5e-c403ec1040df",
   "metadata": {},
   "outputs": [],
   "source": [
    "# Is there a difference in income among all categories of EDUCATION type?"
   ]
  },
  {
   "cell_type": "code",
   "execution_count": null,
   "id": "d4135dcd-aad3-49f0-815d-0463684d011b",
   "metadata": {},
   "outputs": [],
   "source": [
    "bartlett.test(AMT_INCOME_TOTALSQRT~NAME_EDUCATION_TYPE, data = apps2)"
   ]
  },
  {
   "cell_type": "code",
   "execution_count": null,
   "id": "ed59d36a-8ccb-44ca-98ad-2b9ed9814045",
   "metadata": {},
   "outputs": [],
   "source": [
    "# Is there a difference in income among all categories of INCOME type?"
   ]
  },
  {
   "cell_type": "code",
   "execution_count": null,
   "id": "cf8c591b-73c4-4079-be3f-ffaeb920dd4a",
   "metadata": {},
   "outputs": [],
   "source": [
    "bartlett.test(AMT_INCOME_TOTALSQRT~NAME_INCOME_TYPE, data = apps2)"
   ]
  },
  {
   "cell_type": "markdown",
   "id": "1b7f4b5e-d06b-4466-b67f-738a97b72f73",
   "metadata": {},
   "source": [
    "### the DV (total income) has a normal distribution, but none of the categorical variables in this dataset pass the assumption of homogeneity as it pertains to total income.  Therefore, ANOVAs and MANOVAs cannot be followed through with with the expectations of receiving accurate conclusions."
   ]
  },
  {
   "cell_type": "code",
   "execution_count": null,
   "id": "f0f667cb-ee9b-4cc8-bf6f-2faef2824513",
   "metadata": {},
   "outputs": [],
   "source": [
    "# "
   ]
  }
 ],
 "metadata": {
  "kernelspec": {
   "display_name": "R",
   "language": "R",
   "name": "ir"
  },
  "language_info": {
   "codemirror_mode": "r",
   "file_extension": ".r",
   "mimetype": "text/x-r-source",
   "name": "R",
   "pygments_lexer": "r",
   "version": "4.1.2"
  }
 },
 "nbformat": 4,
 "nbformat_minor": 5
}
