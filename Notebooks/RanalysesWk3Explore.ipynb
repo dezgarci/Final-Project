{
 "cells": [
  {
   "cell_type": "markdown",
   "id": "df4534b8-94f2-4705-83ed-818dd7b0e088",
   "metadata": {},
   "source": [
    "# Analyses in R Final Project"
   ]
  },
  {
   "cell_type": "markdown",
   "id": "bd98fe35-ff3a-4e93-89cb-71ef347d3206",
   "metadata": {},
   "source": [
    "### load packages"
   ]
  },
  {
   "cell_type": "code",
   "execution_count": 10,
   "id": "c069d36e-d838-43f2-af3d-9694647b9ca8",
   "metadata": {},
   "outputs": [],
   "source": [
    "library(\"dplyr\")\n",
    "library(\"ggplot2\")\n",
    "library(\"car\")\n",
    "library(\"rcompanion\")\n",
    "library(\"IDPmisc\")\n",
    "library(\"caret\")\n",
    "library(\"gvlma\")\n",
    "library(\"predictmeans\")\n",
    "library(\"e1071\")\n",
    "library(\"lmtest\")\n",
    "library(\"lattice\")"
   ]
  },
  {
   "cell_type": "code",
   "execution_count": 12,
   "id": "1ccd5d3f-d112-4bf3-a2c1-75a359ae8b25",
   "metadata": {},
   "outputs": [],
   "source": [
    "apps = read.csv('../Data/mergedOneRecord.csv')"
   ]
  },
  {
   "cell_type": "code",
   "execution_count": 14,
   "id": "bb51932c-63c7-4661-a9c7-66fb95dcec58",
   "metadata": {},
   "outputs": [
    {
     "data": {
      "text/html": [
       "<table class=\"dataframe\">\n",
       "<caption>A data.frame: 6 × 16</caption>\n",
       "<thead>\n",
       "\t<tr><th></th><th scope=col>X</th><th scope=col>gender</th><th scope=col>ownsCar</th><th scope=col>ownsRealty</th><th scope=col>numChildren</th><th scope=col>totalIncome</th><th scope=col>incomeType</th><th scope=col>eduLvl</th><th scope=col>famStatus</th><th scope=col>housingType</th><th scope=col>occupation</th><th scope=col>famSize</th><th scope=col>ageYrs</th><th scope=col>yrsEmpl</th><th scope=col>UNEMPLOYED</th><th scope=col>ApprStatus</th></tr>\n",
       "\t<tr><th></th><th scope=col>&lt;int&gt;</th><th scope=col>&lt;chr&gt;</th><th scope=col>&lt;chr&gt;</th><th scope=col>&lt;chr&gt;</th><th scope=col>&lt;int&gt;</th><th scope=col>&lt;dbl&gt;</th><th scope=col>&lt;chr&gt;</th><th scope=col>&lt;chr&gt;</th><th scope=col>&lt;chr&gt;</th><th scope=col>&lt;chr&gt;</th><th scope=col>&lt;chr&gt;</th><th scope=col>&lt;dbl&gt;</th><th scope=col>&lt;dbl&gt;</th><th scope=col>&lt;dbl&gt;</th><th scope=col>&lt;int&gt;</th><th scope=col>&lt;int&gt;</th></tr>\n",
       "</thead>\n",
       "<tbody>\n",
       "\t<tr><th scope=row>1</th><td>  0</td><td>M</td><td>Y</td><td>Y</td><td>0</td><td>427500</td><td>Working             </td><td>Higher education             </td><td>Civil marriage      </td><td>Rented apartment </td><td>Not identified</td><td>2</td><td>33</td><td>12.435574</td><td>1</td><td>1</td></tr>\n",
       "\t<tr><th scope=row>2</th><td> 31</td><td>M</td><td>Y</td><td>Y</td><td>0</td><td>112500</td><td>Working             </td><td>Secondary / secondary special</td><td>Married             </td><td>House / apartment</td><td>Security staff</td><td>2</td><td>59</td><td> 3.104787</td><td>1</td><td>1</td></tr>\n",
       "\t<tr><th scope=row>3</th><td> 61</td><td>F</td><td>N</td><td>Y</td><td>0</td><td>270000</td><td>Commercial associate</td><td>Secondary / secondary special</td><td>Single / not married</td><td>House / apartment</td><td>Sales staff   </td><td>1</td><td>53</td><td> 8.353354</td><td>1</td><td>1</td></tr>\n",
       "\t<tr><th scope=row>4</th><td>137</td><td>F</td><td>N</td><td>Y</td><td>0</td><td>283500</td><td>Pensioner           </td><td>Higher education             </td><td>Separated           </td><td>House / apartment</td><td>Not identified</td><td>1</td><td>62</td><td> 0.000000</td><td>0</td><td>0</td></tr>\n",
       "\t<tr><th scope=row>5</th><td>188</td><td>M</td><td>Y</td><td>Y</td><td>0</td><td>270000</td><td>Working             </td><td>Higher education             </td><td>Married             </td><td>House / apartment</td><td>Accountants   </td><td>2</td><td>47</td><td> 2.105450</td><td>1</td><td>0</td></tr>\n",
       "\t<tr><th scope=row>6</th><td>237</td><td>M</td><td>Y</td><td>Y</td><td>0</td><td>135000</td><td>Commercial associate</td><td>Secondary / secondary special</td><td>Married             </td><td>House / apartment</td><td>Laborers      </td><td>2</td><td>49</td><td> 3.269061</td><td>1</td><td>1</td></tr>\n",
       "</tbody>\n",
       "</table>\n"
      ],
      "text/latex": [
       "A data.frame: 6 × 16\n",
       "\\begin{tabular}{r|llllllllllllllll}\n",
       "  & X & gender & ownsCar & ownsRealty & numChildren & totalIncome & incomeType & eduLvl & famStatus & housingType & occupation & famSize & ageYrs & yrsEmpl & UNEMPLOYED & ApprStatus\\\\\n",
       "  & <int> & <chr> & <chr> & <chr> & <int> & <dbl> & <chr> & <chr> & <chr> & <chr> & <chr> & <dbl> & <dbl> & <dbl> & <int> & <int>\\\\\n",
       "\\hline\n",
       "\t1 &   0 & M & Y & Y & 0 & 427500 & Working              & Higher education              & Civil marriage       & Rented apartment  & Not identified & 2 & 33 & 12.435574 & 1 & 1\\\\\n",
       "\t2 &  31 & M & Y & Y & 0 & 112500 & Working              & Secondary / secondary special & Married              & House / apartment & Security staff & 2 & 59 &  3.104787 & 1 & 1\\\\\n",
       "\t3 &  61 & F & N & Y & 0 & 270000 & Commercial associate & Secondary / secondary special & Single / not married & House / apartment & Sales staff    & 1 & 53 &  8.353354 & 1 & 1\\\\\n",
       "\t4 & 137 & F & N & Y & 0 & 283500 & Pensioner            & Higher education              & Separated            & House / apartment & Not identified & 1 & 62 &  0.000000 & 0 & 0\\\\\n",
       "\t5 & 188 & M & Y & Y & 0 & 270000 & Working              & Higher education              & Married              & House / apartment & Accountants    & 2 & 47 &  2.105450 & 1 & 0\\\\\n",
       "\t6 & 237 & M & Y & Y & 0 & 135000 & Commercial associate & Secondary / secondary special & Married              & House / apartment & Laborers       & 2 & 49 &  3.269061 & 1 & 1\\\\\n",
       "\\end{tabular}\n"
      ],
      "text/markdown": [
       "\n",
       "A data.frame: 6 × 16\n",
       "\n",
       "| <!--/--> | X &lt;int&gt; | gender &lt;chr&gt; | ownsCar &lt;chr&gt; | ownsRealty &lt;chr&gt; | numChildren &lt;int&gt; | totalIncome &lt;dbl&gt; | incomeType &lt;chr&gt; | eduLvl &lt;chr&gt; | famStatus &lt;chr&gt; | housingType &lt;chr&gt; | occupation &lt;chr&gt; | famSize &lt;dbl&gt; | ageYrs &lt;dbl&gt; | yrsEmpl &lt;dbl&gt; | UNEMPLOYED &lt;int&gt; | ApprStatus &lt;int&gt; |\n",
       "|---|---|---|---|---|---|---|---|---|---|---|---|---|---|---|---|---|\n",
       "| 1 |   0 | M | Y | Y | 0 | 427500 | Working              | Higher education              | Civil marriage       | Rented apartment  | Not identified | 2 | 33 | 12.435574 | 1 | 1 |\n",
       "| 2 |  31 | M | Y | Y | 0 | 112500 | Working              | Secondary / secondary special | Married              | House / apartment | Security staff | 2 | 59 |  3.104787 | 1 | 1 |\n",
       "| 3 |  61 | F | N | Y | 0 | 270000 | Commercial associate | Secondary / secondary special | Single / not married | House / apartment | Sales staff    | 1 | 53 |  8.353354 | 1 | 1 |\n",
       "| 4 | 137 | F | N | Y | 0 | 283500 | Pensioner            | Higher education              | Separated            | House / apartment | Not identified | 1 | 62 |  0.000000 | 0 | 0 |\n",
       "| 5 | 188 | M | Y | Y | 0 | 270000 | Working              | Higher education              | Married              | House / apartment | Accountants    | 2 | 47 |  2.105450 | 1 | 0 |\n",
       "| 6 | 237 | M | Y | Y | 0 | 135000 | Commercial associate | Secondary / secondary special | Married              | House / apartment | Laborers       | 2 | 49 |  3.269061 | 1 | 1 |\n",
       "\n"
      ],
      "text/plain": [
       "  X   gender ownsCar ownsRealty numChildren totalIncome incomeType          \n",
       "1   0 M      Y       Y          0           427500      Working             \n",
       "2  31 M      Y       Y          0           112500      Working             \n",
       "3  61 F      N       Y          0           270000      Commercial associate\n",
       "4 137 F      N       Y          0           283500      Pensioner           \n",
       "5 188 M      Y       Y          0           270000      Working             \n",
       "6 237 M      Y       Y          0           135000      Commercial associate\n",
       "  eduLvl                        famStatus            housingType      \n",
       "1 Higher education              Civil marriage       Rented apartment \n",
       "2 Secondary / secondary special Married              House / apartment\n",
       "3 Secondary / secondary special Single / not married House / apartment\n",
       "4 Higher education              Separated            House / apartment\n",
       "5 Higher education              Married              House / apartment\n",
       "6 Secondary / secondary special Married              House / apartment\n",
       "  occupation     famSize ageYrs yrsEmpl   UNEMPLOYED ApprStatus\n",
       "1 Not identified 2       33     12.435574 1          1         \n",
       "2 Security staff 2       59      3.104787 1          1         \n",
       "3 Sales staff    1       53      8.353354 1          1         \n",
       "4 Not identified 1       62      0.000000 0          0         \n",
       "5 Accountants    2       47      2.105450 1          0         \n",
       "6 Laborers       2       49      3.269061 1          1         "
      ]
     },
     "metadata": {},
     "output_type": "display_data"
    }
   ],
   "source": [
    "head(apps)"
   ]
  },
  {
   "cell_type": "code",
   "execution_count": 15,
   "id": "0a6dbaad-56d9-4e6d-bd87-07d349f3b134",
   "metadata": {},
   "outputs": [
    {
     "name": "stdout",
     "output_type": "stream",
     "text": [
      "'data.frame':\t13311 obs. of  16 variables:\n",
      " $ X          : int  0 31 61 137 188 237 254 281 307 768419 ...\n",
      " $ gender     : chr  \"M\" \"M\" \"F\" \"F\" ...\n",
      " $ ownsCar    : chr  \"Y\" \"Y\" \"N\" \"N\" ...\n",
      " $ ownsRealty : chr  \"Y\" \"Y\" \"Y\" \"Y\" ...\n",
      " $ numChildren: int  0 0 0 0 0 0 0 0 0 0 ...\n",
      " $ totalIncome: num  427500 112500 270000 283500 270000 ...\n",
      " $ incomeType : chr  \"Working\" \"Working\" \"Commercial associate\" \"Pensioner\" ...\n",
      " $ eduLvl     : chr  \"Higher education\" \"Secondary / secondary special\" \"Secondary / secondary special\" \"Higher education\" ...\n",
      " $ famStatus  : chr  \"Civil marriage\" \"Married\" \"Single / not married\" \"Separated\" ...\n",
      " $ housingType: chr  \"Rented apartment\" \"House / apartment\" \"House / apartment\" \"House / apartment\" ...\n",
      " $ occupation : chr  \"Not identified\" \"Security staff\" \"Sales staff\" \"Not identified\" ...\n",
      " $ famSize    : num  2 2 1 1 2 2 2 2 2 2 ...\n",
      " $ ageYrs     : num  33 59 53 62 47 49 49 30 30 52 ...\n",
      " $ yrsEmpl    : num  12.44 3.1 8.35 0 2.11 ...\n",
      " $ UNEMPLOYED : int  1 1 1 0 1 1 1 1 1 0 ...\n",
      " $ ApprStatus : int  1 1 1 0 0 1 0 0 1 1 ...\n"
     ]
    }
   ],
   "source": [
    "str(apps)"
   ]
  },
  {
   "cell_type": "code",
   "execution_count": 16,
   "id": "b4940dcb-a1d7-4b45-8f10-d1ef4e5ec6f1",
   "metadata": {},
   "outputs": [],
   "source": [
    "## How many females vs males get approved?"
   ]
  },
  {
   "cell_type": "code",
   "execution_count": null,
   "id": "e1d41dd9-d8bf-4b13-a9fa-d71fdde440b7",
   "metadata": {},
   "outputs": [],
   "source": []
  },
  {
   "cell_type": "code",
   "execution_count": null,
   "id": "fe779ca2-abbc-437c-b46b-116fb9c43f56",
   "metadata": {},
   "outputs": [],
   "source": [
    "## How many of the married applicants are female?"
   ]
  },
  {
   "cell_type": "code",
   "execution_count": null,
   "id": "2c10a7ff-844b-4aec-aa2f-dbdd6808cf98",
   "metadata": {},
   "outputs": [],
   "source": []
  },
  {
   "cell_type": "markdown",
   "id": "fd99cc78-bb9a-483b-aa8d-a6763182f91e",
   "metadata": {},
   "source": [
    "# Data Wrangling"
   ]
  },
  {
   "cell_type": "code",
   "execution_count": null,
   "id": "973ffc87-cc62-4b8e-8c78-04dc64af07f5",
   "metadata": {},
   "outputs": [],
   "source": []
  },
  {
   "cell_type": "markdown",
   "id": "f533348c-6d0d-4bc0-956b-cfb257d44044",
   "metadata": {},
   "source": [
    "# One Way Between Subjects ANOVA"
   ]
  },
  {
   "cell_type": "code",
   "execution_count": null,
   "id": "a1eaa1f5-05c4-440b-99b3-be7c0b8f893b",
   "metadata": {},
   "outputs": [],
   "source": [
    "# Is there a difference in income among all categories of occupation type?"
   ]
  },
  {
   "cell_type": "code",
   "execution_count": null,
   "id": "8cc1112e-79b5-4a3b-b435-3471231381ae",
   "metadata": {},
   "outputs": [],
   "source": [
    "# Normality of the DV (totalIncome)\n",
    "plotNormalHistogram(apps3$AMT_INCOME_TOTAL)"
   ]
  },
  {
   "cell_type": "code",
   "execution_count": null,
   "id": "5c6d3f51-0bb4-4643-b544-e47d7c7a6098",
   "metadata": {},
   "outputs": [],
   "source": [
    "# try sqrt due to slight positive skew\n",
    "apps3$AMT_INCOME_TOTALSQRT <- sqrt(apps3$AMT_INCOME_TOTAL)"
   ]
  },
  {
   "cell_type": "code",
   "execution_count": null,
   "id": "6b9fa2df-4148-4bab-81eb-4d7c87513a89",
   "metadata": {},
   "outputs": [],
   "source": [
    "plotNormalHistogram(apps3$AMT_INCOME_TOTALSQRT)"
   ]
  },
  {
   "cell_type": "code",
   "execution_count": null,
   "id": "3f41d4aa-1f91-4473-905c-09723de4eb54",
   "metadata": {},
   "outputs": [],
   "source": [
    "# homogeneity of variance - bartlett's test\n",
    "bartlett.test(AMT_INCOME_TOTALSQRT~OCCUPATION_TYPE, data = apps3)"
   ]
  },
  {
   "cell_type": "code",
   "execution_count": null,
   "id": "b0c906df-cc29-46fa-bca2-c605de39ad5a",
   "metadata": {},
   "outputs": [],
   "source": [
    "## Since p val is <.05, this assumption fails."
   ]
  },
  {
   "cell_type": "code",
   "execution_count": null,
   "id": "39a681e4-568a-4d76-9f73-1954e96fdaf3",
   "metadata": {},
   "outputs": [],
   "source": [
    "# Is there a difference in income among all categories of family status type?"
   ]
  },
  {
   "cell_type": "code",
   "execution_count": null,
   "id": "7aa995f9-5bb4-496d-adf8-820178bb6a9d",
   "metadata": {},
   "outputs": [],
   "source": [
    "unique(apps3$NAME_FAMILY_STATUS)"
   ]
  },
  {
   "cell_type": "code",
   "execution_count": null,
   "id": "97d0b5e3-20e1-444d-8ebd-8b4f61cc390e",
   "metadata": {},
   "outputs": [],
   "source": [
    "# homogeneity of variance - bartlett's test\n",
    "bartlett.test(AMT_INCOME_TOTALSQRT~NAME_FAMILY_STATUS, data = apps3)"
   ]
  },
  {
   "cell_type": "code",
   "execution_count": null,
   "id": "4c44f96b-9319-4a70-bca2-08a8c170163e",
   "metadata": {},
   "outputs": [],
   "source": [
    "# Is there a difference in income among all categories of HOUSING type?"
   ]
  },
  {
   "cell_type": "code",
   "execution_count": null,
   "id": "67199df7-a4c0-4d77-911e-bbbc1c8bc4c4",
   "metadata": {},
   "outputs": [],
   "source": [
    "bartlett.test(AMT_INCOME_TOTALSQRT~NAME_HOUSING_TYPE, data = apps3)"
   ]
  },
  {
   "cell_type": "code",
   "execution_count": null,
   "id": "c71735ab-d269-49ac-8c5e-c403ec1040df",
   "metadata": {},
   "outputs": [],
   "source": [
    "# Is there a difference in income among all categories of EDUCATION type?"
   ]
  },
  {
   "cell_type": "code",
   "execution_count": null,
   "id": "d4135dcd-aad3-49f0-815d-0463684d011b",
   "metadata": {},
   "outputs": [],
   "source": [
    "bartlett.test(AMT_INCOME_TOTALSQRT~NAME_EDUCATION_TYPE, data = apps2)"
   ]
  },
  {
   "cell_type": "code",
   "execution_count": null,
   "id": "ed59d36a-8ccb-44ca-98ad-2b9ed9814045",
   "metadata": {},
   "outputs": [],
   "source": [
    "# Is there a difference in income among all categories of INCOME type?"
   ]
  },
  {
   "cell_type": "code",
   "execution_count": null,
   "id": "cf8c591b-73c4-4079-be3f-ffaeb920dd4a",
   "metadata": {},
   "outputs": [],
   "source": [
    "bartlett.test(AMT_INCOME_TOTALSQRT~NAME_INCOME_TYPE, data = apps2)"
   ]
  },
  {
   "cell_type": "markdown",
   "id": "1b7f4b5e-d06b-4466-b67f-738a97b72f73",
   "metadata": {},
   "source": [
    "### the DV (total income) has a normal distribution, but none of the categorical variables in this dataset pass the assumption of homogeneity as it pertains to total income.  Therefore, ANOVAs and MANOVAs cannot be followed through with with the expectations of receiving accurate conclusions."
   ]
  },
  {
   "cell_type": "code",
   "execution_count": null,
   "id": "f0f667cb-ee9b-4cc8-bf6f-2faef2824513",
   "metadata": {},
   "outputs": [],
   "source": [
    "# "
   ]
  }
 ],
 "metadata": {
  "kernelspec": {
   "display_name": "R",
   "language": "R",
   "name": "ir"
  },
  "language_info": {
   "codemirror_mode": "r",
   "file_extension": ".r",
   "mimetype": "text/x-r-source",
   "name": "R",
   "pygments_lexer": "r",
   "version": "4.1.2"
  }
 },
 "nbformat": 4,
 "nbformat_minor": 5
}
