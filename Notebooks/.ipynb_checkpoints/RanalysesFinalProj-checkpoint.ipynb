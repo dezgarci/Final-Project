{
 "cells": [
  {
   "cell_type": "markdown",
   "id": "df4534b8-94f2-4705-83ed-818dd7b0e088",
   "metadata": {},
   "source": [
    "# Analyses in R Final Project"
   ]
  },
  {
   "cell_type": "markdown",
   "id": "bd98fe35-ff3a-4e93-89cb-71ef347d3206",
   "metadata": {},
   "source": [
    "### load packages"
   ]
  },
  {
   "cell_type": "code",
   "execution_count": 1,
   "id": "c069d36e-d838-43f2-af3d-9694647b9ca8",
   "metadata": {},
   "outputs": [
    {
     "name": "stderr",
     "output_type": "stream",
     "text": [
      "\n",
      "Attaching package: 'dplyr'\n",
      "\n",
      "\n",
      "The following objects are masked from 'package:stats':\n",
      "\n",
      "    filter, lag\n",
      "\n",
      "\n",
      "The following objects are masked from 'package:base':\n",
      "\n",
      "    intersect, setdiff, setequal, union\n",
      "\n",
      "\n",
      "Warning message:\n",
      "\"package 'car' was built under R version 4.1.3\"\n",
      "Loading required package: carData\n",
      "\n",
      "Warning message:\n",
      "\"package 'carData' was built under R version 4.1.3\"\n",
      "\n",
      "Attaching package: 'car'\n",
      "\n",
      "\n",
      "The following object is masked from 'package:dplyr':\n",
      "\n",
      "    recode\n",
      "\n",
      "\n",
      "Warning message:\n",
      "\"package 'rcompanion' was built under R version 4.1.3\"\n"
     ]
    }
   ],
   "source": [
    "library(\"dplyr\")\n",
    "library(\"car\")\n",
    "library(\"rcompanion\")\n",
    "library(\"IDPmisc\")"
   ]
  },
  {
   "cell_type": "code",
   "execution_count": 2,
   "id": "1ccd5d3f-d112-4bf3-a2c1-75a359ae8b25",
   "metadata": {},
   "outputs": [],
   "source": [
    "apps = read.csv('../Data/application_record.csv')"
   ]
  },
  {
   "cell_type": "markdown",
   "id": "fd99cc78-bb9a-483b-aa8d-a6763182f91e",
   "metadata": {},
   "source": [
    "# Data Wrangling"
   ]
  },
  {
   "cell_type": "code",
   "execution_count": 3,
   "id": "6dcbacc5-c3f9-4b62-bcc4-63001880ebd7",
   "metadata": {},
   "outputs": [],
   "source": [
    "# rename columns\n",
    "names(apps)[names(apps) == \"CODE_GENDER\"] <- \"gender\"\n",
    "names(apps)[names(apps) == \"FLAG_OWN_CAR\"] <- \"ownsCar\"\n",
    "names(apps)[names(apps) == \"FLAG_OWN_REALTY\"] <- \"ownsRealty\"\n",
    "names(apps)[names(apps) == \"NAME_INCOME_TYPE\"] <- \"incomeType\"\n",
    "names(apps)[names(apps) == \"OCCUPATION_TYPE\"] <- \"occupation\"\n",
    "names(apps)[names(apps) == \"NAME_HOUSING_TYPE\"] <- \"housingType\"\n",
    "names(apps)[names(apps) == \"NAME_EDUCATION_TYPE\"] <- \"eduLvl\"\n",
    "names(apps)[names(apps) == \"NAME_FAMILY_STATUS\"] <- \"famStatus\"\n",
    "names(apps)[names(apps) == \"CNT_CHILDREN\"] <- \"numChildren\"\n",
    "names(apps)[names(apps) == \"AMT_INCOME_TOTAL\"] <- \"totalIncome\"\n",
    "names(apps)[names(apps) == \"DAYS_BIRTH\"] <- \"daysBirth\"\n",
    "names(apps)[names(apps) == \"DAYS_EMPLOYED\"] <- \"daysEmpl\"\n",
    "names(apps)[names(apps) == \"CNT_FAM_MEMBERS\"] <- \"famSize\""
   ]
  },
  {
   "cell_type": "code",
   "execution_count": 4,
   "id": "ee472336-f52d-4c35-b2d3-fc7853e0dfe1",
   "metadata": {},
   "outputs": [
    {
     "data": {
      "text/html": [
       "<table class=\"dataframe\">\n",
       "<caption>A data.frame: 6 × 18</caption>\n",
       "<thead>\n",
       "\t<tr><th></th><th scope=col>ID</th><th scope=col>gender</th><th scope=col>ownsCar</th><th scope=col>ownsRealty</th><th scope=col>numChildren</th><th scope=col>totalIncome</th><th scope=col>incomeType</th><th scope=col>eduLvl</th><th scope=col>famStatus</th><th scope=col>housingType</th><th scope=col>daysBirth</th><th scope=col>daysEmpl</th><th scope=col>FLAG_MOBIL</th><th scope=col>FLAG_WORK_PHONE</th><th scope=col>FLAG_PHONE</th><th scope=col>FLAG_EMAIL</th><th scope=col>occupation</th><th scope=col>famSize</th></tr>\n",
       "\t<tr><th></th><th scope=col>&lt;int&gt;</th><th scope=col>&lt;chr&gt;</th><th scope=col>&lt;chr&gt;</th><th scope=col>&lt;chr&gt;</th><th scope=col>&lt;int&gt;</th><th scope=col>&lt;dbl&gt;</th><th scope=col>&lt;chr&gt;</th><th scope=col>&lt;chr&gt;</th><th scope=col>&lt;chr&gt;</th><th scope=col>&lt;chr&gt;</th><th scope=col>&lt;int&gt;</th><th scope=col>&lt;int&gt;</th><th scope=col>&lt;int&gt;</th><th scope=col>&lt;int&gt;</th><th scope=col>&lt;int&gt;</th><th scope=col>&lt;int&gt;</th><th scope=col>&lt;chr&gt;</th><th scope=col>&lt;dbl&gt;</th></tr>\n",
       "</thead>\n",
       "<tbody>\n",
       "\t<tr><th scope=row>1</th><td>5008804</td><td>M</td><td>Y</td><td>Y</td><td>0</td><td>427500</td><td>Working             </td><td>Higher education             </td><td>Civil marriage      </td><td>Rented apartment </td><td>-12005</td><td>-4542</td><td>1</td><td>1</td><td>0</td><td>0</td><td>              </td><td>2</td></tr>\n",
       "\t<tr><th scope=row>2</th><td>5008805</td><td>M</td><td>Y</td><td>Y</td><td>0</td><td>427500</td><td>Working             </td><td>Higher education             </td><td>Civil marriage      </td><td>Rented apartment </td><td>-12005</td><td>-4542</td><td>1</td><td>1</td><td>0</td><td>0</td><td>              </td><td>2</td></tr>\n",
       "\t<tr><th scope=row>3</th><td>5008806</td><td>M</td><td>Y</td><td>Y</td><td>0</td><td>112500</td><td>Working             </td><td>Secondary / secondary special</td><td>Married             </td><td>House / apartment</td><td>-21474</td><td>-1134</td><td>1</td><td>0</td><td>0</td><td>0</td><td>Security staff</td><td>2</td></tr>\n",
       "\t<tr><th scope=row>4</th><td>5008808</td><td>F</td><td>N</td><td>Y</td><td>0</td><td>270000</td><td>Commercial associate</td><td>Secondary / secondary special</td><td>Single / not married</td><td>House / apartment</td><td>-19110</td><td>-3051</td><td>1</td><td>0</td><td>1</td><td>1</td><td>Sales staff   </td><td>1</td></tr>\n",
       "\t<tr><th scope=row>5</th><td>5008809</td><td>F</td><td>N</td><td>Y</td><td>0</td><td>270000</td><td>Commercial associate</td><td>Secondary / secondary special</td><td>Single / not married</td><td>House / apartment</td><td>-19110</td><td>-3051</td><td>1</td><td>0</td><td>1</td><td>1</td><td>Sales staff   </td><td>1</td></tr>\n",
       "\t<tr><th scope=row>6</th><td>5008810</td><td>F</td><td>N</td><td>Y</td><td>0</td><td>270000</td><td>Commercial associate</td><td>Secondary / secondary special</td><td>Single / not married</td><td>House / apartment</td><td>-19110</td><td>-3051</td><td>1</td><td>0</td><td>1</td><td>1</td><td>Sales staff   </td><td>1</td></tr>\n",
       "</tbody>\n",
       "</table>\n"
      ],
      "text/latex": [
       "A data.frame: 6 × 18\n",
       "\\begin{tabular}{r|llllllllllllllllll}\n",
       "  & ID & gender & ownsCar & ownsRealty & numChildren & totalIncome & incomeType & eduLvl & famStatus & housingType & daysBirth & daysEmpl & FLAG\\_MOBIL & FLAG\\_WORK\\_PHONE & FLAG\\_PHONE & FLAG\\_EMAIL & occupation & famSize\\\\\n",
       "  & <int> & <chr> & <chr> & <chr> & <int> & <dbl> & <chr> & <chr> & <chr> & <chr> & <int> & <int> & <int> & <int> & <int> & <int> & <chr> & <dbl>\\\\\n",
       "\\hline\n",
       "\t1 & 5008804 & M & Y & Y & 0 & 427500 & Working              & Higher education              & Civil marriage       & Rented apartment  & -12005 & -4542 & 1 & 1 & 0 & 0 &                & 2\\\\\n",
       "\t2 & 5008805 & M & Y & Y & 0 & 427500 & Working              & Higher education              & Civil marriage       & Rented apartment  & -12005 & -4542 & 1 & 1 & 0 & 0 &                & 2\\\\\n",
       "\t3 & 5008806 & M & Y & Y & 0 & 112500 & Working              & Secondary / secondary special & Married              & House / apartment & -21474 & -1134 & 1 & 0 & 0 & 0 & Security staff & 2\\\\\n",
       "\t4 & 5008808 & F & N & Y & 0 & 270000 & Commercial associate & Secondary / secondary special & Single / not married & House / apartment & -19110 & -3051 & 1 & 0 & 1 & 1 & Sales staff    & 1\\\\\n",
       "\t5 & 5008809 & F & N & Y & 0 & 270000 & Commercial associate & Secondary / secondary special & Single / not married & House / apartment & -19110 & -3051 & 1 & 0 & 1 & 1 & Sales staff    & 1\\\\\n",
       "\t6 & 5008810 & F & N & Y & 0 & 270000 & Commercial associate & Secondary / secondary special & Single / not married & House / apartment & -19110 & -3051 & 1 & 0 & 1 & 1 & Sales staff    & 1\\\\\n",
       "\\end{tabular}\n"
      ],
      "text/markdown": [
       "\n",
       "A data.frame: 6 × 18\n",
       "\n",
       "| <!--/--> | ID &lt;int&gt; | gender &lt;chr&gt; | ownsCar &lt;chr&gt; | ownsRealty &lt;chr&gt; | numChildren &lt;int&gt; | totalIncome &lt;dbl&gt; | incomeType &lt;chr&gt; | eduLvl &lt;chr&gt; | famStatus &lt;chr&gt; | housingType &lt;chr&gt; | daysBirth &lt;int&gt; | daysEmpl &lt;int&gt; | FLAG_MOBIL &lt;int&gt; | FLAG_WORK_PHONE &lt;int&gt; | FLAG_PHONE &lt;int&gt; | FLAG_EMAIL &lt;int&gt; | occupation &lt;chr&gt; | famSize &lt;dbl&gt; |\n",
       "|---|---|---|---|---|---|---|---|---|---|---|---|---|---|---|---|---|---|---|\n",
       "| 1 | 5008804 | M | Y | Y | 0 | 427500 | Working              | Higher education              | Civil marriage       | Rented apartment  | -12005 | -4542 | 1 | 1 | 0 | 0 | <!----> | 2 |\n",
       "| 2 | 5008805 | M | Y | Y | 0 | 427500 | Working              | Higher education              | Civil marriage       | Rented apartment  | -12005 | -4542 | 1 | 1 | 0 | 0 | <!----> | 2 |\n",
       "| 3 | 5008806 | M | Y | Y | 0 | 112500 | Working              | Secondary / secondary special | Married              | House / apartment | -21474 | -1134 | 1 | 0 | 0 | 0 | Security staff | 2 |\n",
       "| 4 | 5008808 | F | N | Y | 0 | 270000 | Commercial associate | Secondary / secondary special | Single / not married | House / apartment | -19110 | -3051 | 1 | 0 | 1 | 1 | Sales staff    | 1 |\n",
       "| 5 | 5008809 | F | N | Y | 0 | 270000 | Commercial associate | Secondary / secondary special | Single / not married | House / apartment | -19110 | -3051 | 1 | 0 | 1 | 1 | Sales staff    | 1 |\n",
       "| 6 | 5008810 | F | N | Y | 0 | 270000 | Commercial associate | Secondary / secondary special | Single / not married | House / apartment | -19110 | -3051 | 1 | 0 | 1 | 1 | Sales staff    | 1 |\n",
       "\n"
      ],
      "text/plain": [
       "  ID      gender ownsCar ownsRealty numChildren totalIncome\n",
       "1 5008804 M      Y       Y          0           427500     \n",
       "2 5008805 M      Y       Y          0           427500     \n",
       "3 5008806 M      Y       Y          0           112500     \n",
       "4 5008808 F      N       Y          0           270000     \n",
       "5 5008809 F      N       Y          0           270000     \n",
       "6 5008810 F      N       Y          0           270000     \n",
       "  incomeType           eduLvl                        famStatus           \n",
       "1 Working              Higher education              Civil marriage      \n",
       "2 Working              Higher education              Civil marriage      \n",
       "3 Working              Secondary / secondary special Married             \n",
       "4 Commercial associate Secondary / secondary special Single / not married\n",
       "5 Commercial associate Secondary / secondary special Single / not married\n",
       "6 Commercial associate Secondary / secondary special Single / not married\n",
       "  housingType       daysBirth daysEmpl FLAG_MOBIL FLAG_WORK_PHONE FLAG_PHONE\n",
       "1 Rented apartment  -12005    -4542    1          1               0         \n",
       "2 Rented apartment  -12005    -4542    1          1               0         \n",
       "3 House / apartment -21474    -1134    1          0               0         \n",
       "4 House / apartment -19110    -3051    1          0               1         \n",
       "5 House / apartment -19110    -3051    1          0               1         \n",
       "6 House / apartment -19110    -3051    1          0               1         \n",
       "  FLAG_EMAIL occupation     famSize\n",
       "1 0                         2      \n",
       "2 0                         2      \n",
       "3 0          Security staff 2      \n",
       "4 1          Sales staff    1      \n",
       "5 1          Sales staff    1      \n",
       "6 1          Sales staff    1      "
      ]
     },
     "metadata": {},
     "output_type": "display_data"
    }
   ],
   "source": [
    "head(apps)"
   ]
  },
  {
   "cell_type": "code",
   "execution_count": 11,
   "id": "641c52c5-37ec-4828-8a8a-b82d181c65b2",
   "metadata": {},
   "outputs": [],
   "source": [
    "# subset to only include variables of interest\n",
    "apps2 <- apps[-c(13:16)]"
   ]
  },
  {
   "cell_type": "code",
   "execution_count": 12,
   "id": "2ea91dbe-ceb0-435c-8187-fef2acbdee31",
   "metadata": {},
   "outputs": [
    {
     "data": {
      "text/html": [
       "<table class=\"dataframe\">\n",
       "<caption>A data.frame: 6 × 14</caption>\n",
       "<thead>\n",
       "\t<tr><th></th><th scope=col>ID</th><th scope=col>gender</th><th scope=col>ownsCar</th><th scope=col>ownsRealty</th><th scope=col>numChildren</th><th scope=col>totalIncome</th><th scope=col>incomeType</th><th scope=col>eduLvl</th><th scope=col>famStatus</th><th scope=col>housingType</th><th scope=col>daysBirth</th><th scope=col>daysEmpl</th><th scope=col>occupation</th><th scope=col>famSize</th></tr>\n",
       "\t<tr><th></th><th scope=col>&lt;int&gt;</th><th scope=col>&lt;chr&gt;</th><th scope=col>&lt;chr&gt;</th><th scope=col>&lt;chr&gt;</th><th scope=col>&lt;int&gt;</th><th scope=col>&lt;dbl&gt;</th><th scope=col>&lt;chr&gt;</th><th scope=col>&lt;chr&gt;</th><th scope=col>&lt;chr&gt;</th><th scope=col>&lt;chr&gt;</th><th scope=col>&lt;int&gt;</th><th scope=col>&lt;int&gt;</th><th scope=col>&lt;chr&gt;</th><th scope=col>&lt;dbl&gt;</th></tr>\n",
       "</thead>\n",
       "<tbody>\n",
       "\t<tr><th scope=row>1</th><td>5008804</td><td>M</td><td>Y</td><td>Y</td><td>0</td><td>427500</td><td>Working             </td><td>Higher education             </td><td>Civil marriage      </td><td>Rented apartment </td><td>-12005</td><td>-4542</td><td>              </td><td>2</td></tr>\n",
       "\t<tr><th scope=row>2</th><td>5008805</td><td>M</td><td>Y</td><td>Y</td><td>0</td><td>427500</td><td>Working             </td><td>Higher education             </td><td>Civil marriage      </td><td>Rented apartment </td><td>-12005</td><td>-4542</td><td>              </td><td>2</td></tr>\n",
       "\t<tr><th scope=row>3</th><td>5008806</td><td>M</td><td>Y</td><td>Y</td><td>0</td><td>112500</td><td>Working             </td><td>Secondary / secondary special</td><td>Married             </td><td>House / apartment</td><td>-21474</td><td>-1134</td><td>Security staff</td><td>2</td></tr>\n",
       "\t<tr><th scope=row>4</th><td>5008808</td><td>F</td><td>N</td><td>Y</td><td>0</td><td>270000</td><td>Commercial associate</td><td>Secondary / secondary special</td><td>Single / not married</td><td>House / apartment</td><td>-19110</td><td>-3051</td><td>Sales staff   </td><td>1</td></tr>\n",
       "\t<tr><th scope=row>5</th><td>5008809</td><td>F</td><td>N</td><td>Y</td><td>0</td><td>270000</td><td>Commercial associate</td><td>Secondary / secondary special</td><td>Single / not married</td><td>House / apartment</td><td>-19110</td><td>-3051</td><td>Sales staff   </td><td>1</td></tr>\n",
       "\t<tr><th scope=row>6</th><td>5008810</td><td>F</td><td>N</td><td>Y</td><td>0</td><td>270000</td><td>Commercial associate</td><td>Secondary / secondary special</td><td>Single / not married</td><td>House / apartment</td><td>-19110</td><td>-3051</td><td>Sales staff   </td><td>1</td></tr>\n",
       "</tbody>\n",
       "</table>\n"
      ],
      "text/latex": [
       "A data.frame: 6 × 14\n",
       "\\begin{tabular}{r|llllllllllllll}\n",
       "  & ID & gender & ownsCar & ownsRealty & numChildren & totalIncome & incomeType & eduLvl & famStatus & housingType & daysBirth & daysEmpl & occupation & famSize\\\\\n",
       "  & <int> & <chr> & <chr> & <chr> & <int> & <dbl> & <chr> & <chr> & <chr> & <chr> & <int> & <int> & <chr> & <dbl>\\\\\n",
       "\\hline\n",
       "\t1 & 5008804 & M & Y & Y & 0 & 427500 & Working              & Higher education              & Civil marriage       & Rented apartment  & -12005 & -4542 &                & 2\\\\\n",
       "\t2 & 5008805 & M & Y & Y & 0 & 427500 & Working              & Higher education              & Civil marriage       & Rented apartment  & -12005 & -4542 &                & 2\\\\\n",
       "\t3 & 5008806 & M & Y & Y & 0 & 112500 & Working              & Secondary / secondary special & Married              & House / apartment & -21474 & -1134 & Security staff & 2\\\\\n",
       "\t4 & 5008808 & F & N & Y & 0 & 270000 & Commercial associate & Secondary / secondary special & Single / not married & House / apartment & -19110 & -3051 & Sales staff    & 1\\\\\n",
       "\t5 & 5008809 & F & N & Y & 0 & 270000 & Commercial associate & Secondary / secondary special & Single / not married & House / apartment & -19110 & -3051 & Sales staff    & 1\\\\\n",
       "\t6 & 5008810 & F & N & Y & 0 & 270000 & Commercial associate & Secondary / secondary special & Single / not married & House / apartment & -19110 & -3051 & Sales staff    & 1\\\\\n",
       "\\end{tabular}\n"
      ],
      "text/markdown": [
       "\n",
       "A data.frame: 6 × 14\n",
       "\n",
       "| <!--/--> | ID &lt;int&gt; | gender &lt;chr&gt; | ownsCar &lt;chr&gt; | ownsRealty &lt;chr&gt; | numChildren &lt;int&gt; | totalIncome &lt;dbl&gt; | incomeType &lt;chr&gt; | eduLvl &lt;chr&gt; | famStatus &lt;chr&gt; | housingType &lt;chr&gt; | daysBirth &lt;int&gt; | daysEmpl &lt;int&gt; | occupation &lt;chr&gt; | famSize &lt;dbl&gt; |\n",
       "|---|---|---|---|---|---|---|---|---|---|---|---|---|---|---|\n",
       "| 1 | 5008804 | M | Y | Y | 0 | 427500 | Working              | Higher education              | Civil marriage       | Rented apartment  | -12005 | -4542 | <!----> | 2 |\n",
       "| 2 | 5008805 | M | Y | Y | 0 | 427500 | Working              | Higher education              | Civil marriage       | Rented apartment  | -12005 | -4542 | <!----> | 2 |\n",
       "| 3 | 5008806 | M | Y | Y | 0 | 112500 | Working              | Secondary / secondary special | Married              | House / apartment | -21474 | -1134 | Security staff | 2 |\n",
       "| 4 | 5008808 | F | N | Y | 0 | 270000 | Commercial associate | Secondary / secondary special | Single / not married | House / apartment | -19110 | -3051 | Sales staff    | 1 |\n",
       "| 5 | 5008809 | F | N | Y | 0 | 270000 | Commercial associate | Secondary / secondary special | Single / not married | House / apartment | -19110 | -3051 | Sales staff    | 1 |\n",
       "| 6 | 5008810 | F | N | Y | 0 | 270000 | Commercial associate | Secondary / secondary special | Single / not married | House / apartment | -19110 | -3051 | Sales staff    | 1 |\n",
       "\n"
      ],
      "text/plain": [
       "  ID      gender ownsCar ownsRealty numChildren totalIncome\n",
       "1 5008804 M      Y       Y          0           427500     \n",
       "2 5008805 M      Y       Y          0           427500     \n",
       "3 5008806 M      Y       Y          0           112500     \n",
       "4 5008808 F      N       Y          0           270000     \n",
       "5 5008809 F      N       Y          0           270000     \n",
       "6 5008810 F      N       Y          0           270000     \n",
       "  incomeType           eduLvl                        famStatus           \n",
       "1 Working              Higher education              Civil marriage      \n",
       "2 Working              Higher education              Civil marriage      \n",
       "3 Working              Secondary / secondary special Married             \n",
       "4 Commercial associate Secondary / secondary special Single / not married\n",
       "5 Commercial associate Secondary / secondary special Single / not married\n",
       "6 Commercial associate Secondary / secondary special Single / not married\n",
       "  housingType       daysBirth daysEmpl occupation     famSize\n",
       "1 Rented apartment  -12005    -4542                   2      \n",
       "2 Rented apartment  -12005    -4542                   2      \n",
       "3 House / apartment -21474    -1134    Security staff 2      \n",
       "4 House / apartment -19110    -3051    Sales staff    1      \n",
       "5 House / apartment -19110    -3051    Sales staff    1      \n",
       "6 House / apartment -19110    -3051    Sales staff    1      "
      ]
     },
     "metadata": {},
     "output_type": "display_data"
    }
   ],
   "source": [
    "head(apps2)"
   ]
  },
  {
   "cell_type": "code",
   "execution_count": 13,
   "id": "3e9662c6-7f18-4124-b1ed-5a758b75d080",
   "metadata": {},
   "outputs": [],
   "source": [
    "# omit missing values\n",
    "apps2 <- na.omit(apps2)"
   ]
  },
  {
   "cell_type": "code",
   "execution_count": 14,
   "id": "a816a8a7-45a7-4466-bd1a-3dc8632bfa32",
   "metadata": {},
   "outputs": [
    {
     "data": {
      "text/html": [
       "<table class=\"dataframe\">\n",
       "<caption>A data.frame: 6 × 14</caption>\n",
       "<thead>\n",
       "\t<tr><th></th><th scope=col>ID</th><th scope=col>gender</th><th scope=col>ownsCar</th><th scope=col>ownsRealty</th><th scope=col>numChildren</th><th scope=col>totalIncome</th><th scope=col>incomeType</th><th scope=col>eduLvl</th><th scope=col>famStatus</th><th scope=col>housingType</th><th scope=col>daysBirth</th><th scope=col>daysEmpl</th><th scope=col>occupation</th><th scope=col>famSize</th></tr>\n",
       "\t<tr><th></th><th scope=col>&lt;int&gt;</th><th scope=col>&lt;chr&gt;</th><th scope=col>&lt;chr&gt;</th><th scope=col>&lt;chr&gt;</th><th scope=col>&lt;int&gt;</th><th scope=col>&lt;dbl&gt;</th><th scope=col>&lt;chr&gt;</th><th scope=col>&lt;chr&gt;</th><th scope=col>&lt;chr&gt;</th><th scope=col>&lt;chr&gt;</th><th scope=col>&lt;int&gt;</th><th scope=col>&lt;int&gt;</th><th scope=col>&lt;chr&gt;</th><th scope=col>&lt;dbl&gt;</th></tr>\n",
       "</thead>\n",
       "<tbody>\n",
       "\t<tr><th scope=row>1</th><td>5008804</td><td>M</td><td>Y</td><td>Y</td><td>0</td><td>427500</td><td>Working             </td><td>Higher education             </td><td>Civil marriage      </td><td>Rented apartment </td><td>-12005</td><td>-4542</td><td>              </td><td>2</td></tr>\n",
       "\t<tr><th scope=row>2</th><td>5008805</td><td>M</td><td>Y</td><td>Y</td><td>0</td><td>427500</td><td>Working             </td><td>Higher education             </td><td>Civil marriage      </td><td>Rented apartment </td><td>-12005</td><td>-4542</td><td>              </td><td>2</td></tr>\n",
       "\t<tr><th scope=row>3</th><td>5008806</td><td>M</td><td>Y</td><td>Y</td><td>0</td><td>112500</td><td>Working             </td><td>Secondary / secondary special</td><td>Married             </td><td>House / apartment</td><td>-21474</td><td>-1134</td><td>Security staff</td><td>2</td></tr>\n",
       "\t<tr><th scope=row>4</th><td>5008808</td><td>F</td><td>N</td><td>Y</td><td>0</td><td>270000</td><td>Commercial associate</td><td>Secondary / secondary special</td><td>Single / not married</td><td>House / apartment</td><td>-19110</td><td>-3051</td><td>Sales staff   </td><td>1</td></tr>\n",
       "\t<tr><th scope=row>5</th><td>5008809</td><td>F</td><td>N</td><td>Y</td><td>0</td><td>270000</td><td>Commercial associate</td><td>Secondary / secondary special</td><td>Single / not married</td><td>House / apartment</td><td>-19110</td><td>-3051</td><td>Sales staff   </td><td>1</td></tr>\n",
       "\t<tr><th scope=row>6</th><td>5008810</td><td>F</td><td>N</td><td>Y</td><td>0</td><td>270000</td><td>Commercial associate</td><td>Secondary / secondary special</td><td>Single / not married</td><td>House / apartment</td><td>-19110</td><td>-3051</td><td>Sales staff   </td><td>1</td></tr>\n",
       "</tbody>\n",
       "</table>\n"
      ],
      "text/latex": [
       "A data.frame: 6 × 14\n",
       "\\begin{tabular}{r|llllllllllllll}\n",
       "  & ID & gender & ownsCar & ownsRealty & numChildren & totalIncome & incomeType & eduLvl & famStatus & housingType & daysBirth & daysEmpl & occupation & famSize\\\\\n",
       "  & <int> & <chr> & <chr> & <chr> & <int> & <dbl> & <chr> & <chr> & <chr> & <chr> & <int> & <int> & <chr> & <dbl>\\\\\n",
       "\\hline\n",
       "\t1 & 5008804 & M & Y & Y & 0 & 427500 & Working              & Higher education              & Civil marriage       & Rented apartment  & -12005 & -4542 &                & 2\\\\\n",
       "\t2 & 5008805 & M & Y & Y & 0 & 427500 & Working              & Higher education              & Civil marriage       & Rented apartment  & -12005 & -4542 &                & 2\\\\\n",
       "\t3 & 5008806 & M & Y & Y & 0 & 112500 & Working              & Secondary / secondary special & Married              & House / apartment & -21474 & -1134 & Security staff & 2\\\\\n",
       "\t4 & 5008808 & F & N & Y & 0 & 270000 & Commercial associate & Secondary / secondary special & Single / not married & House / apartment & -19110 & -3051 & Sales staff    & 1\\\\\n",
       "\t5 & 5008809 & F & N & Y & 0 & 270000 & Commercial associate & Secondary / secondary special & Single / not married & House / apartment & -19110 & -3051 & Sales staff    & 1\\\\\n",
       "\t6 & 5008810 & F & N & Y & 0 & 270000 & Commercial associate & Secondary / secondary special & Single / not married & House / apartment & -19110 & -3051 & Sales staff    & 1\\\\\n",
       "\\end{tabular}\n"
      ],
      "text/markdown": [
       "\n",
       "A data.frame: 6 × 14\n",
       "\n",
       "| <!--/--> | ID &lt;int&gt; | gender &lt;chr&gt; | ownsCar &lt;chr&gt; | ownsRealty &lt;chr&gt; | numChildren &lt;int&gt; | totalIncome &lt;dbl&gt; | incomeType &lt;chr&gt; | eduLvl &lt;chr&gt; | famStatus &lt;chr&gt; | housingType &lt;chr&gt; | daysBirth &lt;int&gt; | daysEmpl &lt;int&gt; | occupation &lt;chr&gt; | famSize &lt;dbl&gt; |\n",
       "|---|---|---|---|---|---|---|---|---|---|---|---|---|---|---|\n",
       "| 1 | 5008804 | M | Y | Y | 0 | 427500 | Working              | Higher education              | Civil marriage       | Rented apartment  | -12005 | -4542 | <!----> | 2 |\n",
       "| 2 | 5008805 | M | Y | Y | 0 | 427500 | Working              | Higher education              | Civil marriage       | Rented apartment  | -12005 | -4542 | <!----> | 2 |\n",
       "| 3 | 5008806 | M | Y | Y | 0 | 112500 | Working              | Secondary / secondary special | Married              | House / apartment | -21474 | -1134 | Security staff | 2 |\n",
       "| 4 | 5008808 | F | N | Y | 0 | 270000 | Commercial associate | Secondary / secondary special | Single / not married | House / apartment | -19110 | -3051 | Sales staff    | 1 |\n",
       "| 5 | 5008809 | F | N | Y | 0 | 270000 | Commercial associate | Secondary / secondary special | Single / not married | House / apartment | -19110 | -3051 | Sales staff    | 1 |\n",
       "| 6 | 5008810 | F | N | Y | 0 | 270000 | Commercial associate | Secondary / secondary special | Single / not married | House / apartment | -19110 | -3051 | Sales staff    | 1 |\n",
       "\n"
      ],
      "text/plain": [
       "  ID      gender ownsCar ownsRealty numChildren totalIncome\n",
       "1 5008804 M      Y       Y          0           427500     \n",
       "2 5008805 M      Y       Y          0           427500     \n",
       "3 5008806 M      Y       Y          0           112500     \n",
       "4 5008808 F      N       Y          0           270000     \n",
       "5 5008809 F      N       Y          0           270000     \n",
       "6 5008810 F      N       Y          0           270000     \n",
       "  incomeType           eduLvl                        famStatus           \n",
       "1 Working              Higher education              Civil marriage      \n",
       "2 Working              Higher education              Civil marriage      \n",
       "3 Working              Secondary / secondary special Married             \n",
       "4 Commercial associate Secondary / secondary special Single / not married\n",
       "5 Commercial associate Secondary / secondary special Single / not married\n",
       "6 Commercial associate Secondary / secondary special Single / not married\n",
       "  housingType       daysBirth daysEmpl occupation     famSize\n",
       "1 Rented apartment  -12005    -4542                   2      \n",
       "2 Rented apartment  -12005    -4542                   2      \n",
       "3 House / apartment -21474    -1134    Security staff 2      \n",
       "4 House / apartment -19110    -3051    Sales staff    1      \n",
       "5 House / apartment -19110    -3051    Sales staff    1      \n",
       "6 House / apartment -19110    -3051    Sales staff    1      "
      ]
     },
     "metadata": {},
     "output_type": "display_data"
    }
   ],
   "source": [
    "head(apps2)"
   ]
  },
  {
   "cell_type": "code",
   "execution_count": null,
   "id": "e79d7ba4-d8d9-4267-b534-e92748d51384",
   "metadata": {},
   "outputs": [],
   "source": [
    "duplicated(apps2)"
   ]
  },
  {
   "cell_type": "code",
   "execution_count": 15,
   "id": "825bb063-9ce0-49b8-beb1-21103964bd30",
   "metadata": {},
   "outputs": [],
   "source": [
    "#remove duplicate rows across entire data frame\n",
    "apps3 <- apps2[!duplicated(apps2), ]"
   ]
  },
  {
   "cell_type": "code",
   "execution_count": 16,
   "id": "77ebb3bb-57a0-436e-97c2-0d30a67f79ce",
   "metadata": {},
   "outputs": [
    {
     "data": {
      "text/html": [
       "<table class=\"dataframe\">\n",
       "<caption>A data.frame: 6 × 14</caption>\n",
       "<thead>\n",
       "\t<tr><th></th><th scope=col>ID</th><th scope=col>gender</th><th scope=col>ownsCar</th><th scope=col>ownsRealty</th><th scope=col>numChildren</th><th scope=col>totalIncome</th><th scope=col>incomeType</th><th scope=col>eduLvl</th><th scope=col>famStatus</th><th scope=col>housingType</th><th scope=col>daysBirth</th><th scope=col>daysEmpl</th><th scope=col>occupation</th><th scope=col>famSize</th></tr>\n",
       "\t<tr><th></th><th scope=col>&lt;int&gt;</th><th scope=col>&lt;chr&gt;</th><th scope=col>&lt;chr&gt;</th><th scope=col>&lt;chr&gt;</th><th scope=col>&lt;int&gt;</th><th scope=col>&lt;dbl&gt;</th><th scope=col>&lt;chr&gt;</th><th scope=col>&lt;chr&gt;</th><th scope=col>&lt;chr&gt;</th><th scope=col>&lt;chr&gt;</th><th scope=col>&lt;int&gt;</th><th scope=col>&lt;int&gt;</th><th scope=col>&lt;chr&gt;</th><th scope=col>&lt;dbl&gt;</th></tr>\n",
       "</thead>\n",
       "<tbody>\n",
       "\t<tr><th scope=row>1</th><td>5008804</td><td>M</td><td>Y</td><td>Y</td><td>0</td><td>427500</td><td>Working             </td><td>Higher education             </td><td>Civil marriage      </td><td>Rented apartment </td><td>-12005</td><td>-4542</td><td>              </td><td>2</td></tr>\n",
       "\t<tr><th scope=row>2</th><td>5008805</td><td>M</td><td>Y</td><td>Y</td><td>0</td><td>427500</td><td>Working             </td><td>Higher education             </td><td>Civil marriage      </td><td>Rented apartment </td><td>-12005</td><td>-4542</td><td>              </td><td>2</td></tr>\n",
       "\t<tr><th scope=row>3</th><td>5008806</td><td>M</td><td>Y</td><td>Y</td><td>0</td><td>112500</td><td>Working             </td><td>Secondary / secondary special</td><td>Married             </td><td>House / apartment</td><td>-21474</td><td>-1134</td><td>Security staff</td><td>2</td></tr>\n",
       "\t<tr><th scope=row>4</th><td>5008808</td><td>F</td><td>N</td><td>Y</td><td>0</td><td>270000</td><td>Commercial associate</td><td>Secondary / secondary special</td><td>Single / not married</td><td>House / apartment</td><td>-19110</td><td>-3051</td><td>Sales staff   </td><td>1</td></tr>\n",
       "\t<tr><th scope=row>5</th><td>5008809</td><td>F</td><td>N</td><td>Y</td><td>0</td><td>270000</td><td>Commercial associate</td><td>Secondary / secondary special</td><td>Single / not married</td><td>House / apartment</td><td>-19110</td><td>-3051</td><td>Sales staff   </td><td>1</td></tr>\n",
       "\t<tr><th scope=row>6</th><td>5008810</td><td>F</td><td>N</td><td>Y</td><td>0</td><td>270000</td><td>Commercial associate</td><td>Secondary / secondary special</td><td>Single / not married</td><td>House / apartment</td><td>-19110</td><td>-3051</td><td>Sales staff   </td><td>1</td></tr>\n",
       "</tbody>\n",
       "</table>\n"
      ],
      "text/latex": [
       "A data.frame: 6 × 14\n",
       "\\begin{tabular}{r|llllllllllllll}\n",
       "  & ID & gender & ownsCar & ownsRealty & numChildren & totalIncome & incomeType & eduLvl & famStatus & housingType & daysBirth & daysEmpl & occupation & famSize\\\\\n",
       "  & <int> & <chr> & <chr> & <chr> & <int> & <dbl> & <chr> & <chr> & <chr> & <chr> & <int> & <int> & <chr> & <dbl>\\\\\n",
       "\\hline\n",
       "\t1 & 5008804 & M & Y & Y & 0 & 427500 & Working              & Higher education              & Civil marriage       & Rented apartment  & -12005 & -4542 &                & 2\\\\\n",
       "\t2 & 5008805 & M & Y & Y & 0 & 427500 & Working              & Higher education              & Civil marriage       & Rented apartment  & -12005 & -4542 &                & 2\\\\\n",
       "\t3 & 5008806 & M & Y & Y & 0 & 112500 & Working              & Secondary / secondary special & Married              & House / apartment & -21474 & -1134 & Security staff & 2\\\\\n",
       "\t4 & 5008808 & F & N & Y & 0 & 270000 & Commercial associate & Secondary / secondary special & Single / not married & House / apartment & -19110 & -3051 & Sales staff    & 1\\\\\n",
       "\t5 & 5008809 & F & N & Y & 0 & 270000 & Commercial associate & Secondary / secondary special & Single / not married & House / apartment & -19110 & -3051 & Sales staff    & 1\\\\\n",
       "\t6 & 5008810 & F & N & Y & 0 & 270000 & Commercial associate & Secondary / secondary special & Single / not married & House / apartment & -19110 & -3051 & Sales staff    & 1\\\\\n",
       "\\end{tabular}\n"
      ],
      "text/markdown": [
       "\n",
       "A data.frame: 6 × 14\n",
       "\n",
       "| <!--/--> | ID &lt;int&gt; | gender &lt;chr&gt; | ownsCar &lt;chr&gt; | ownsRealty &lt;chr&gt; | numChildren &lt;int&gt; | totalIncome &lt;dbl&gt; | incomeType &lt;chr&gt; | eduLvl &lt;chr&gt; | famStatus &lt;chr&gt; | housingType &lt;chr&gt; | daysBirth &lt;int&gt; | daysEmpl &lt;int&gt; | occupation &lt;chr&gt; | famSize &lt;dbl&gt; |\n",
       "|---|---|---|---|---|---|---|---|---|---|---|---|---|---|---|\n",
       "| 1 | 5008804 | M | Y | Y | 0 | 427500 | Working              | Higher education              | Civil marriage       | Rented apartment  | -12005 | -4542 | <!----> | 2 |\n",
       "| 2 | 5008805 | M | Y | Y | 0 | 427500 | Working              | Higher education              | Civil marriage       | Rented apartment  | -12005 | -4542 | <!----> | 2 |\n",
       "| 3 | 5008806 | M | Y | Y | 0 | 112500 | Working              | Secondary / secondary special | Married              | House / apartment | -21474 | -1134 | Security staff | 2 |\n",
       "| 4 | 5008808 | F | N | Y | 0 | 270000 | Commercial associate | Secondary / secondary special | Single / not married | House / apartment | -19110 | -3051 | Sales staff    | 1 |\n",
       "| 5 | 5008809 | F | N | Y | 0 | 270000 | Commercial associate | Secondary / secondary special | Single / not married | House / apartment | -19110 | -3051 | Sales staff    | 1 |\n",
       "| 6 | 5008810 | F | N | Y | 0 | 270000 | Commercial associate | Secondary / secondary special | Single / not married | House / apartment | -19110 | -3051 | Sales staff    | 1 |\n",
       "\n"
      ],
      "text/plain": [
       "  ID      gender ownsCar ownsRealty numChildren totalIncome\n",
       "1 5008804 M      Y       Y          0           427500     \n",
       "2 5008805 M      Y       Y          0           427500     \n",
       "3 5008806 M      Y       Y          0           112500     \n",
       "4 5008808 F      N       Y          0           270000     \n",
       "5 5008809 F      N       Y          0           270000     \n",
       "6 5008810 F      N       Y          0           270000     \n",
       "  incomeType           eduLvl                        famStatus           \n",
       "1 Working              Higher education              Civil marriage      \n",
       "2 Working              Higher education              Civil marriage      \n",
       "3 Working              Secondary / secondary special Married             \n",
       "4 Commercial associate Secondary / secondary special Single / not married\n",
       "5 Commercial associate Secondary / secondary special Single / not married\n",
       "6 Commercial associate Secondary / secondary special Single / not married\n",
       "  housingType       daysBirth daysEmpl occupation     famSize\n",
       "1 Rented apartment  -12005    -4542                   2      \n",
       "2 Rented apartment  -12005    -4542                   2      \n",
       "3 House / apartment -21474    -1134    Security staff 2      \n",
       "4 House / apartment -19110    -3051    Sales staff    1      \n",
       "5 House / apartment -19110    -3051    Sales staff    1      \n",
       "6 House / apartment -19110    -3051    Sales staff    1      "
      ]
     },
     "metadata": {},
     "output_type": "display_data"
    }
   ],
   "source": [
    "head(apps3)"
   ]
  },
  {
   "cell_type": "markdown",
   "id": "f533348c-6d0d-4bc0-956b-cfb257d44044",
   "metadata": {},
   "source": [
    "# One Way Between Subjects ANOVA"
   ]
  },
  {
   "cell_type": "code",
   "execution_count": null,
   "id": "a1eaa1f5-05c4-440b-99b3-be7c0b8f893b",
   "metadata": {},
   "outputs": [],
   "source": [
    "# Is there a difference in income among all categories of occupation type?"
   ]
  },
  {
   "cell_type": "code",
   "execution_count": null,
   "id": "8cc1112e-79b5-4a3b-b435-3471231381ae",
   "metadata": {},
   "outputs": [],
   "source": [
    "# Normality of the DV (totalIncome)\n",
    "plotNormalHistogram(apps3$AMT_INCOME_TOTAL)"
   ]
  },
  {
   "cell_type": "code",
   "execution_count": null,
   "id": "5c6d3f51-0bb4-4643-b544-e47d7c7a6098",
   "metadata": {},
   "outputs": [],
   "source": [
    "# try sqrt due to slight positive skew\n",
    "apps3$AMT_INCOME_TOTALSQRT <- sqrt(apps3$AMT_INCOME_TOTAL)"
   ]
  },
  {
   "cell_type": "code",
   "execution_count": null,
   "id": "6b9fa2df-4148-4bab-81eb-4d7c87513a89",
   "metadata": {},
   "outputs": [],
   "source": [
    "plotNormalHistogram(apps3$AMT_INCOME_TOTALSQRT)"
   ]
  },
  {
   "cell_type": "code",
   "execution_count": null,
   "id": "3f41d4aa-1f91-4473-905c-09723de4eb54",
   "metadata": {},
   "outputs": [],
   "source": [
    "# homogeneity of variance - bartlett's test\n",
    "bartlett.test(AMT_INCOME_TOTALSQRT~OCCUPATION_TYPE, data = apps3)"
   ]
  },
  {
   "cell_type": "code",
   "execution_count": null,
   "id": "b0c906df-cc29-46fa-bca2-c605de39ad5a",
   "metadata": {},
   "outputs": [],
   "source": [
    "## Since p val is <.05, this assumption fails."
   ]
  },
  {
   "cell_type": "code",
   "execution_count": null,
   "id": "39a681e4-568a-4d76-9f73-1954e96fdaf3",
   "metadata": {},
   "outputs": [],
   "source": [
    "# Is there a difference in income among all categories of family status type?"
   ]
  },
  {
   "cell_type": "code",
   "execution_count": null,
   "id": "7aa995f9-5bb4-496d-adf8-820178bb6a9d",
   "metadata": {},
   "outputs": [],
   "source": [
    "unique(apps3$NAME_FAMILY_STATUS)"
   ]
  },
  {
   "cell_type": "code",
   "execution_count": null,
   "id": "97d0b5e3-20e1-444d-8ebd-8b4f61cc390e",
   "metadata": {},
   "outputs": [],
   "source": [
    "# homogeneity of variance - bartlett's test\n",
    "bartlett.test(AMT_INCOME_TOTALSQRT~NAME_FAMILY_STATUS, data = apps3)"
   ]
  },
  {
   "cell_type": "code",
   "execution_count": null,
   "id": "4c44f96b-9319-4a70-bca2-08a8c170163e",
   "metadata": {},
   "outputs": [],
   "source": [
    "# Is there a difference in income among all categories of HOUSING type?"
   ]
  },
  {
   "cell_type": "code",
   "execution_count": null,
   "id": "67199df7-a4c0-4d77-911e-bbbc1c8bc4c4",
   "metadata": {},
   "outputs": [],
   "source": [
    "bartlett.test(AMT_INCOME_TOTALSQRT~NAME_HOUSING_TYPE, data = apps3)"
   ]
  },
  {
   "cell_type": "code",
   "execution_count": null,
   "id": "c71735ab-d269-49ac-8c5e-c403ec1040df",
   "metadata": {},
   "outputs": [],
   "source": [
    "# Is there a difference in income among all categories of EDUCATION type?"
   ]
  },
  {
   "cell_type": "code",
   "execution_count": null,
   "id": "d4135dcd-aad3-49f0-815d-0463684d011b",
   "metadata": {},
   "outputs": [],
   "source": [
    "bartlett.test(AMT_INCOME_TOTALSQRT~NAME_EDUCATION_TYPE, data = apps2)"
   ]
  },
  {
   "cell_type": "code",
   "execution_count": null,
   "id": "ed59d36a-8ccb-44ca-98ad-2b9ed9814045",
   "metadata": {},
   "outputs": [],
   "source": [
    "# Is there a difference in income among all categories of INCOME type?"
   ]
  },
  {
   "cell_type": "code",
   "execution_count": null,
   "id": "cf8c591b-73c4-4079-be3f-ffaeb920dd4a",
   "metadata": {},
   "outputs": [],
   "source": [
    "bartlett.test(AMT_INCOME_TOTALSQRT~NAME_INCOME_TYPE, data = apps2)"
   ]
  },
  {
   "cell_type": "markdown",
   "id": "1b7f4b5e-d06b-4466-b67f-738a97b72f73",
   "metadata": {},
   "source": [
    "### the DV (total income) has a normal distribution, but none of the categorical variables in this dataset pass the assumption of homogeneity as it pertains to total income.  Therefore, ANOVAs and MANOVAs cannot be followed through with with the expectations of receiving accurate conclusions."
   ]
  },
  {
   "cell_type": "code",
   "execution_count": null,
   "id": "f0f667cb-ee9b-4cc8-bf6f-2faef2824513",
   "metadata": {},
   "outputs": [],
   "source": [
    "# "
   ]
  }
 ],
 "metadata": {
  "kernelspec": {
   "display_name": "R",
   "language": "R",
   "name": "ir"
  },
  "language_info": {
   "codemirror_mode": "r",
   "file_extension": ".r",
   "mimetype": "text/x-r-source",
   "name": "R",
   "pygments_lexer": "r",
   "version": "4.1.2"
  }
 },
 "nbformat": 4,
 "nbformat_minor": 5
}
