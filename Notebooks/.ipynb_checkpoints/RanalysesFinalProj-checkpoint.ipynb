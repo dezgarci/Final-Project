{
 "cells": [
  {
   "cell_type": "markdown",
   "id": "df4534b8-94f2-4705-83ed-818dd7b0e088",
   "metadata": {},
   "source": [
    "# Analyses in R Final Project"
   ]
  },
  {
   "cell_type": "markdown",
   "id": "bd98fe35-ff3a-4e93-89cb-71ef347d3206",
   "metadata": {},
   "source": [
    "### load packages"
   ]
  },
  {
   "cell_type": "code",
   "execution_count": 1,
   "id": "c069d36e-d838-43f2-af3d-9694647b9ca8",
   "metadata": {},
   "outputs": [
    {
     "name": "stderr",
     "output_type": "stream",
     "text": [
      "\n",
      "Attaching package: 'dplyr'\n",
      "\n",
      "\n",
      "The following objects are masked from 'package:stats':\n",
      "\n",
      "    filter, lag\n",
      "\n",
      "\n",
      "The following objects are masked from 'package:base':\n",
      "\n",
      "    intersect, setdiff, setequal, union\n",
      "\n",
      "\n",
      "Warning message:\n",
      "\"package 'car' was built under R version 4.1.3\"\n",
      "Loading required package: carData\n",
      "\n",
      "Warning message:\n",
      "\"package 'carData' was built under R version 4.1.3\"\n",
      "\n",
      "Attaching package: 'car'\n",
      "\n",
      "\n",
      "The following object is masked from 'package:dplyr':\n",
      "\n",
      "    recode\n",
      "\n",
      "\n",
      "Warning message:\n",
      "\"package 'rcompanion' was built under R version 4.1.3\"\n"
     ]
    }
   ],
   "source": [
    "library(\"dplyr\")\n",
    "library(\"car\")\n",
    "library(\"rcompanion\")\n",
    "library(\"IDPmisc\")"
   ]
  },
  {
   "cell_type": "code",
   "execution_count": 2,
   "id": "1ccd5d3f-d112-4bf3-a2c1-75a359ae8b25",
   "metadata": {},
   "outputs": [],
   "source": [
    "apps = read.csv('../Data/cleanMerge1.csv')"
   ]
  },
  {
   "cell_type": "markdown",
   "id": "fd99cc78-bb9a-483b-aa8d-a6763182f91e",
   "metadata": {},
   "source": [
    "# Data Wrangling"
   ]
  },
  {
   "cell_type": "code",
   "execution_count": 3,
   "id": "ee472336-f52d-4c35-b2d3-fc7853e0dfe1",
   "metadata": {},
   "outputs": [
    {
     "data": {
      "text/html": [
       "<table class=\"dataframe\">\n",
       "<caption>A data.frame: 6 × 17</caption>\n",
       "<thead>\n",
       "\t<tr><th></th><th scope=col>X</th><th scope=col>ID</th><th scope=col>gender</th><th scope=col>ownsCar</th><th scope=col>ownsRealty</th><th scope=col>numChildren</th><th scope=col>totalIncome</th><th scope=col>incomeType</th><th scope=col>eduLvl</th><th scope=col>famStatus</th><th scope=col>housingType</th><th scope=col>occupation</th><th scope=col>famSize</th><th scope=col>ageYrs</th><th scope=col>yrsEmpl</th><th scope=col>UNEMPLOYED</th><th scope=col>ApprStatus</th></tr>\n",
       "\t<tr><th></th><th scope=col>&lt;int&gt;</th><th scope=col>&lt;int&gt;</th><th scope=col>&lt;chr&gt;</th><th scope=col>&lt;chr&gt;</th><th scope=col>&lt;chr&gt;</th><th scope=col>&lt;int&gt;</th><th scope=col>&lt;int&gt;</th><th scope=col>&lt;chr&gt;</th><th scope=col>&lt;chr&gt;</th><th scope=col>&lt;chr&gt;</th><th scope=col>&lt;chr&gt;</th><th scope=col>&lt;chr&gt;</th><th scope=col>&lt;int&gt;</th><th scope=col>&lt;int&gt;</th><th scope=col>&lt;int&gt;</th><th scope=col>&lt;int&gt;</th><th scope=col>&lt;int&gt;</th></tr>\n",
       "</thead>\n",
       "<tbody>\n",
       "\t<tr><th scope=row>1</th><td> 0</td><td>5008804</td><td>M</td><td>Y</td><td>Y</td><td>0</td><td>427500</td><td>Working</td><td>Higher education</td><td>Civil marriage</td><td>Rented apartment</td><td>Not identified</td><td>2</td><td>33</td><td>12</td><td>1</td><td>1</td></tr>\n",
       "\t<tr><th scope=row>2</th><td>15</td><td>5008804</td><td>M</td><td>Y</td><td>Y</td><td>0</td><td>427500</td><td>Working</td><td>Higher education</td><td>Civil marriage</td><td>Rented apartment</td><td>Not identified</td><td>2</td><td>33</td><td>12</td><td>1</td><td>1</td></tr>\n",
       "\t<tr><th scope=row>3</th><td>14</td><td>5008804</td><td>M</td><td>Y</td><td>Y</td><td>0</td><td>427500</td><td>Working</td><td>Higher education</td><td>Civil marriage</td><td>Rented apartment</td><td>Not identified</td><td>2</td><td>33</td><td>12</td><td>1</td><td>1</td></tr>\n",
       "\t<tr><th scope=row>4</th><td>13</td><td>5008804</td><td>M</td><td>Y</td><td>Y</td><td>0</td><td>427500</td><td>Working</td><td>Higher education</td><td>Civil marriage</td><td>Rented apartment</td><td>Not identified</td><td>2</td><td>33</td><td>12</td><td>1</td><td>1</td></tr>\n",
       "\t<tr><th scope=row>5</th><td>12</td><td>5008804</td><td>M</td><td>Y</td><td>Y</td><td>0</td><td>427500</td><td>Working</td><td>Higher education</td><td>Civil marriage</td><td>Rented apartment</td><td>Not identified</td><td>2</td><td>33</td><td>12</td><td>1</td><td>1</td></tr>\n",
       "\t<tr><th scope=row>6</th><td>10</td><td>5008804</td><td>M</td><td>Y</td><td>Y</td><td>0</td><td>427500</td><td>Working</td><td>Higher education</td><td>Civil marriage</td><td>Rented apartment</td><td>Not identified</td><td>2</td><td>33</td><td>12</td><td>1</td><td>1</td></tr>\n",
       "</tbody>\n",
       "</table>\n"
      ],
      "text/latex": [
       "A data.frame: 6 × 17\n",
       "\\begin{tabular}{r|lllllllllllllllll}\n",
       "  & X & ID & gender & ownsCar & ownsRealty & numChildren & totalIncome & incomeType & eduLvl & famStatus & housingType & occupation & famSize & ageYrs & yrsEmpl & UNEMPLOYED & ApprStatus\\\\\n",
       "  & <int> & <int> & <chr> & <chr> & <chr> & <int> & <int> & <chr> & <chr> & <chr> & <chr> & <chr> & <int> & <int> & <int> & <int> & <int>\\\\\n",
       "\\hline\n",
       "\t1 &  0 & 5008804 & M & Y & Y & 0 & 427500 & Working & Higher education & Civil marriage & Rented apartment & Not identified & 2 & 33 & 12 & 1 & 1\\\\\n",
       "\t2 & 15 & 5008804 & M & Y & Y & 0 & 427500 & Working & Higher education & Civil marriage & Rented apartment & Not identified & 2 & 33 & 12 & 1 & 1\\\\\n",
       "\t3 & 14 & 5008804 & M & Y & Y & 0 & 427500 & Working & Higher education & Civil marriage & Rented apartment & Not identified & 2 & 33 & 12 & 1 & 1\\\\\n",
       "\t4 & 13 & 5008804 & M & Y & Y & 0 & 427500 & Working & Higher education & Civil marriage & Rented apartment & Not identified & 2 & 33 & 12 & 1 & 1\\\\\n",
       "\t5 & 12 & 5008804 & M & Y & Y & 0 & 427500 & Working & Higher education & Civil marriage & Rented apartment & Not identified & 2 & 33 & 12 & 1 & 1\\\\\n",
       "\t6 & 10 & 5008804 & M & Y & Y & 0 & 427500 & Working & Higher education & Civil marriage & Rented apartment & Not identified & 2 & 33 & 12 & 1 & 1\\\\\n",
       "\\end{tabular}\n"
      ],
      "text/markdown": [
       "\n",
       "A data.frame: 6 × 17\n",
       "\n",
       "| <!--/--> | X &lt;int&gt; | ID &lt;int&gt; | gender &lt;chr&gt; | ownsCar &lt;chr&gt; | ownsRealty &lt;chr&gt; | numChildren &lt;int&gt; | totalIncome &lt;int&gt; | incomeType &lt;chr&gt; | eduLvl &lt;chr&gt; | famStatus &lt;chr&gt; | housingType &lt;chr&gt; | occupation &lt;chr&gt; | famSize &lt;int&gt; | ageYrs &lt;int&gt; | yrsEmpl &lt;int&gt; | UNEMPLOYED &lt;int&gt; | ApprStatus &lt;int&gt; |\n",
       "|---|---|---|---|---|---|---|---|---|---|---|---|---|---|---|---|---|---|\n",
       "| 1 |  0 | 5008804 | M | Y | Y | 0 | 427500 | Working | Higher education | Civil marriage | Rented apartment | Not identified | 2 | 33 | 12 | 1 | 1 |\n",
       "| 2 | 15 | 5008804 | M | Y | Y | 0 | 427500 | Working | Higher education | Civil marriage | Rented apartment | Not identified | 2 | 33 | 12 | 1 | 1 |\n",
       "| 3 | 14 | 5008804 | M | Y | Y | 0 | 427500 | Working | Higher education | Civil marriage | Rented apartment | Not identified | 2 | 33 | 12 | 1 | 1 |\n",
       "| 4 | 13 | 5008804 | M | Y | Y | 0 | 427500 | Working | Higher education | Civil marriage | Rented apartment | Not identified | 2 | 33 | 12 | 1 | 1 |\n",
       "| 5 | 12 | 5008804 | M | Y | Y | 0 | 427500 | Working | Higher education | Civil marriage | Rented apartment | Not identified | 2 | 33 | 12 | 1 | 1 |\n",
       "| 6 | 10 | 5008804 | M | Y | Y | 0 | 427500 | Working | Higher education | Civil marriage | Rented apartment | Not identified | 2 | 33 | 12 | 1 | 1 |\n",
       "\n"
      ],
      "text/plain": [
       "  X  ID      gender ownsCar ownsRealty numChildren totalIncome incomeType\n",
       "1  0 5008804 M      Y       Y          0           427500      Working   \n",
       "2 15 5008804 M      Y       Y          0           427500      Working   \n",
       "3 14 5008804 M      Y       Y          0           427500      Working   \n",
       "4 13 5008804 M      Y       Y          0           427500      Working   \n",
       "5 12 5008804 M      Y       Y          0           427500      Working   \n",
       "6 10 5008804 M      Y       Y          0           427500      Working   \n",
       "  eduLvl           famStatus      housingType      occupation     famSize\n",
       "1 Higher education Civil marriage Rented apartment Not identified 2      \n",
       "2 Higher education Civil marriage Rented apartment Not identified 2      \n",
       "3 Higher education Civil marriage Rented apartment Not identified 2      \n",
       "4 Higher education Civil marriage Rented apartment Not identified 2      \n",
       "5 Higher education Civil marriage Rented apartment Not identified 2      \n",
       "6 Higher education Civil marriage Rented apartment Not identified 2      \n",
       "  ageYrs yrsEmpl UNEMPLOYED ApprStatus\n",
       "1 33     12      1          1         \n",
       "2 33     12      1          1         \n",
       "3 33     12      1          1         \n",
       "4 33     12      1          1         \n",
       "5 33     12      1          1         \n",
       "6 33     12      1          1         "
      ]
     },
     "metadata": {},
     "output_type": "display_data"
    }
   ],
   "source": [
    "head(apps)"
   ]
  },
  {
   "cell_type": "code",
   "execution_count": 12,
   "id": "2ea91dbe-ceb0-435c-8187-fef2acbdee31",
   "metadata": {},
   "outputs": [
    {
     "data": {
      "text/html": [
       "<table class=\"dataframe\">\n",
       "<caption>A data.frame: 6 × 14</caption>\n",
       "<thead>\n",
       "\t<tr><th></th><th scope=col>ID</th><th scope=col>gender</th><th scope=col>ownsCar</th><th scope=col>ownsRealty</th><th scope=col>numChildren</th><th scope=col>totalIncome</th><th scope=col>incomeType</th><th scope=col>eduLvl</th><th scope=col>famStatus</th><th scope=col>housingType</th><th scope=col>daysBirth</th><th scope=col>daysEmpl</th><th scope=col>occupation</th><th scope=col>famSize</th></tr>\n",
       "\t<tr><th></th><th scope=col>&lt;int&gt;</th><th scope=col>&lt;chr&gt;</th><th scope=col>&lt;chr&gt;</th><th scope=col>&lt;chr&gt;</th><th scope=col>&lt;int&gt;</th><th scope=col>&lt;dbl&gt;</th><th scope=col>&lt;chr&gt;</th><th scope=col>&lt;chr&gt;</th><th scope=col>&lt;chr&gt;</th><th scope=col>&lt;chr&gt;</th><th scope=col>&lt;int&gt;</th><th scope=col>&lt;int&gt;</th><th scope=col>&lt;chr&gt;</th><th scope=col>&lt;dbl&gt;</th></tr>\n",
       "</thead>\n",
       "<tbody>\n",
       "\t<tr><th scope=row>1</th><td>5008804</td><td>M</td><td>Y</td><td>Y</td><td>0</td><td>427500</td><td>Working             </td><td>Higher education             </td><td>Civil marriage      </td><td>Rented apartment </td><td>-12005</td><td>-4542</td><td>              </td><td>2</td></tr>\n",
       "\t<tr><th scope=row>2</th><td>5008805</td><td>M</td><td>Y</td><td>Y</td><td>0</td><td>427500</td><td>Working             </td><td>Higher education             </td><td>Civil marriage      </td><td>Rented apartment </td><td>-12005</td><td>-4542</td><td>              </td><td>2</td></tr>\n",
       "\t<tr><th scope=row>3</th><td>5008806</td><td>M</td><td>Y</td><td>Y</td><td>0</td><td>112500</td><td>Working             </td><td>Secondary / secondary special</td><td>Married             </td><td>House / apartment</td><td>-21474</td><td>-1134</td><td>Security staff</td><td>2</td></tr>\n",
       "\t<tr><th scope=row>4</th><td>5008808</td><td>F</td><td>N</td><td>Y</td><td>0</td><td>270000</td><td>Commercial associate</td><td>Secondary / secondary special</td><td>Single / not married</td><td>House / apartment</td><td>-19110</td><td>-3051</td><td>Sales staff   </td><td>1</td></tr>\n",
       "\t<tr><th scope=row>5</th><td>5008809</td><td>F</td><td>N</td><td>Y</td><td>0</td><td>270000</td><td>Commercial associate</td><td>Secondary / secondary special</td><td>Single / not married</td><td>House / apartment</td><td>-19110</td><td>-3051</td><td>Sales staff   </td><td>1</td></tr>\n",
       "\t<tr><th scope=row>6</th><td>5008810</td><td>F</td><td>N</td><td>Y</td><td>0</td><td>270000</td><td>Commercial associate</td><td>Secondary / secondary special</td><td>Single / not married</td><td>House / apartment</td><td>-19110</td><td>-3051</td><td>Sales staff   </td><td>1</td></tr>\n",
       "</tbody>\n",
       "</table>\n"
      ],
      "text/latex": [
       "A data.frame: 6 × 14\n",
       "\\begin{tabular}{r|llllllllllllll}\n",
       "  & ID & gender & ownsCar & ownsRealty & numChildren & totalIncome & incomeType & eduLvl & famStatus & housingType & daysBirth & daysEmpl & occupation & famSize\\\\\n",
       "  & <int> & <chr> & <chr> & <chr> & <int> & <dbl> & <chr> & <chr> & <chr> & <chr> & <int> & <int> & <chr> & <dbl>\\\\\n",
       "\\hline\n",
       "\t1 & 5008804 & M & Y & Y & 0 & 427500 & Working              & Higher education              & Civil marriage       & Rented apartment  & -12005 & -4542 &                & 2\\\\\n",
       "\t2 & 5008805 & M & Y & Y & 0 & 427500 & Working              & Higher education              & Civil marriage       & Rented apartment  & -12005 & -4542 &                & 2\\\\\n",
       "\t3 & 5008806 & M & Y & Y & 0 & 112500 & Working              & Secondary / secondary special & Married              & House / apartment & -21474 & -1134 & Security staff & 2\\\\\n",
       "\t4 & 5008808 & F & N & Y & 0 & 270000 & Commercial associate & Secondary / secondary special & Single / not married & House / apartment & -19110 & -3051 & Sales staff    & 1\\\\\n",
       "\t5 & 5008809 & F & N & Y & 0 & 270000 & Commercial associate & Secondary / secondary special & Single / not married & House / apartment & -19110 & -3051 & Sales staff    & 1\\\\\n",
       "\t6 & 5008810 & F & N & Y & 0 & 270000 & Commercial associate & Secondary / secondary special & Single / not married & House / apartment & -19110 & -3051 & Sales staff    & 1\\\\\n",
       "\\end{tabular}\n"
      ],
      "text/markdown": [
       "\n",
       "A data.frame: 6 × 14\n",
       "\n",
       "| <!--/--> | ID &lt;int&gt; | gender &lt;chr&gt; | ownsCar &lt;chr&gt; | ownsRealty &lt;chr&gt; | numChildren &lt;int&gt; | totalIncome &lt;dbl&gt; | incomeType &lt;chr&gt; | eduLvl &lt;chr&gt; | famStatus &lt;chr&gt; | housingType &lt;chr&gt; | daysBirth &lt;int&gt; | daysEmpl &lt;int&gt; | occupation &lt;chr&gt; | famSize &lt;dbl&gt; |\n",
       "|---|---|---|---|---|---|---|---|---|---|---|---|---|---|---|\n",
       "| 1 | 5008804 | M | Y | Y | 0 | 427500 | Working              | Higher education              | Civil marriage       | Rented apartment  | -12005 | -4542 | <!----> | 2 |\n",
       "| 2 | 5008805 | M | Y | Y | 0 | 427500 | Working              | Higher education              | Civil marriage       | Rented apartment  | -12005 | -4542 | <!----> | 2 |\n",
       "| 3 | 5008806 | M | Y | Y | 0 | 112500 | Working              | Secondary / secondary special | Married              | House / apartment | -21474 | -1134 | Security staff | 2 |\n",
       "| 4 | 5008808 | F | N | Y | 0 | 270000 | Commercial associate | Secondary / secondary special | Single / not married | House / apartment | -19110 | -3051 | Sales staff    | 1 |\n",
       "| 5 | 5008809 | F | N | Y | 0 | 270000 | Commercial associate | Secondary / secondary special | Single / not married | House / apartment | -19110 | -3051 | Sales staff    | 1 |\n",
       "| 6 | 5008810 | F | N | Y | 0 | 270000 | Commercial associate | Secondary / secondary special | Single / not married | House / apartment | -19110 | -3051 | Sales staff    | 1 |\n",
       "\n"
      ],
      "text/plain": [
       "  ID      gender ownsCar ownsRealty numChildren totalIncome\n",
       "1 5008804 M      Y       Y          0           427500     \n",
       "2 5008805 M      Y       Y          0           427500     \n",
       "3 5008806 M      Y       Y          0           112500     \n",
       "4 5008808 F      N       Y          0           270000     \n",
       "5 5008809 F      N       Y          0           270000     \n",
       "6 5008810 F      N       Y          0           270000     \n",
       "  incomeType           eduLvl                        famStatus           \n",
       "1 Working              Higher education              Civil marriage      \n",
       "2 Working              Higher education              Civil marriage      \n",
       "3 Working              Secondary / secondary special Married             \n",
       "4 Commercial associate Secondary / secondary special Single / not married\n",
       "5 Commercial associate Secondary / secondary special Single / not married\n",
       "6 Commercial associate Secondary / secondary special Single / not married\n",
       "  housingType       daysBirth daysEmpl occupation     famSize\n",
       "1 Rented apartment  -12005    -4542                   2      \n",
       "2 Rented apartment  -12005    -4542                   2      \n",
       "3 House / apartment -21474    -1134    Security staff 2      \n",
       "4 House / apartment -19110    -3051    Sales staff    1      \n",
       "5 House / apartment -19110    -3051    Sales staff    1      \n",
       "6 House / apartment -19110    -3051    Sales staff    1      "
      ]
     },
     "metadata": {},
     "output_type": "display_data"
    }
   ],
   "source": [
    "head(apps2)"
   ]
  },
  {
   "cell_type": "code",
   "execution_count": null,
   "id": "973ffc87-cc62-4b8e-8c78-04dc64af07f5",
   "metadata": {},
   "outputs": [],
   "source": []
  },
  {
   "cell_type": "markdown",
   "id": "f533348c-6d0d-4bc0-956b-cfb257d44044",
   "metadata": {},
   "source": [
    "# One Way Between Subjects ANOVA"
   ]
  },
  {
   "cell_type": "code",
   "execution_count": null,
   "id": "a1eaa1f5-05c4-440b-99b3-be7c0b8f893b",
   "metadata": {},
   "outputs": [],
   "source": [
    "# Is there a difference in income among all categories of occupation type?"
   ]
  },
  {
   "cell_type": "code",
   "execution_count": 17,
   "id": "8cc1112e-79b5-4a3b-b435-3471231381ae",
   "metadata": {},
   "outputs": [
    {
     "name": "stderr",
     "output_type": "stream",
     "text": [
      "Warning message in min(x):\n",
      "\"no non-missing arguments to min; returning Inf\"\n",
      "Warning message in max(x):\n",
      "\"no non-missing arguments to max; returning -Inf\"\n"
     ]
    },
    {
     "ename": "ERROR",
     "evalue": "Error in seq.default(min(x), max(x), length = length): 'from' must be a finite number\n",
     "output_type": "error",
     "traceback": [
      "Error in seq.default(min(x), max(x), length = length): 'from' must be a finite number\nTraceback:\n",
      "1. plotNormalHistogram(apps3$AMT_INCOME_TOTAL)",
      "2. seq(min(x), max(x), length = length)",
      "3. seq.default(min(x), max(x), length = length)",
      "4. stop(\"'from' must be a finite number\")"
     ]
    }
   ],
   "source": [
    "# Normality of the DV (totalIncome)\n",
    "plotNormalHistogram(apps3$AMT_INCOME_TOTAL)"
   ]
  },
  {
   "cell_type": "code",
   "execution_count": 18,
   "id": "5c6d3f51-0bb4-4643-b544-e47d7c7a6098",
   "metadata": {},
   "outputs": [
    {
     "ename": "ERROR",
     "evalue": "Error in sqrt(apps3$AMT_INCOME_TOTAL): non-numeric argument to mathematical function\n",
     "output_type": "error",
     "traceback": [
      "Error in sqrt(apps3$AMT_INCOME_TOTAL): non-numeric argument to mathematical function\nTraceback:\n"
     ]
    }
   ],
   "source": [
    "# try sqrt due to slight positive skew\n",
    "apps3$AMT_INCOME_TOTALSQRT <- sqrt(apps3$AMT_INCOME_TOTAL)"
   ]
  },
  {
   "cell_type": "code",
   "execution_count": null,
   "id": "6b9fa2df-4148-4bab-81eb-4d7c87513a89",
   "metadata": {},
   "outputs": [],
   "source": [
    "plotNormalHistogram(apps3$AMT_INCOME_TOTALSQRT)"
   ]
  },
  {
   "cell_type": "code",
   "execution_count": null,
   "id": "3f41d4aa-1f91-4473-905c-09723de4eb54",
   "metadata": {},
   "outputs": [],
   "source": [
    "# homogeneity of variance - bartlett's test\n",
    "bartlett.test(AMT_INCOME_TOTALSQRT~OCCUPATION_TYPE, data = apps3)"
   ]
  },
  {
   "cell_type": "code",
   "execution_count": null,
   "id": "b0c906df-cc29-46fa-bca2-c605de39ad5a",
   "metadata": {},
   "outputs": [],
   "source": [
    "## Since p val is <.05, this assumption fails."
   ]
  },
  {
   "cell_type": "code",
   "execution_count": null,
   "id": "39a681e4-568a-4d76-9f73-1954e96fdaf3",
   "metadata": {},
   "outputs": [],
   "source": [
    "# Is there a difference in income among all categories of family status type?"
   ]
  },
  {
   "cell_type": "code",
   "execution_count": null,
   "id": "7aa995f9-5bb4-496d-adf8-820178bb6a9d",
   "metadata": {},
   "outputs": [],
   "source": [
    "unique(apps3$NAME_FAMILY_STATUS)"
   ]
  },
  {
   "cell_type": "code",
   "execution_count": null,
   "id": "97d0b5e3-20e1-444d-8ebd-8b4f61cc390e",
   "metadata": {},
   "outputs": [],
   "source": [
    "# homogeneity of variance - bartlett's test\n",
    "bartlett.test(AMT_INCOME_TOTALSQRT~NAME_FAMILY_STATUS, data = apps3)"
   ]
  },
  {
   "cell_type": "code",
   "execution_count": null,
   "id": "4c44f96b-9319-4a70-bca2-08a8c170163e",
   "metadata": {},
   "outputs": [],
   "source": [
    "# Is there a difference in income among all categories of HOUSING type?"
   ]
  },
  {
   "cell_type": "code",
   "execution_count": null,
   "id": "67199df7-a4c0-4d77-911e-bbbc1c8bc4c4",
   "metadata": {},
   "outputs": [],
   "source": [
    "bartlett.test(AMT_INCOME_TOTALSQRT~NAME_HOUSING_TYPE, data = apps3)"
   ]
  },
  {
   "cell_type": "code",
   "execution_count": null,
   "id": "c71735ab-d269-49ac-8c5e-c403ec1040df",
   "metadata": {},
   "outputs": [],
   "source": [
    "# Is there a difference in income among all categories of EDUCATION type?"
   ]
  },
  {
   "cell_type": "code",
   "execution_count": null,
   "id": "d4135dcd-aad3-49f0-815d-0463684d011b",
   "metadata": {},
   "outputs": [],
   "source": [
    "bartlett.test(AMT_INCOME_TOTALSQRT~NAME_EDUCATION_TYPE, data = apps2)"
   ]
  },
  {
   "cell_type": "code",
   "execution_count": null,
   "id": "ed59d36a-8ccb-44ca-98ad-2b9ed9814045",
   "metadata": {},
   "outputs": [],
   "source": [
    "# Is there a difference in income among all categories of INCOME type?"
   ]
  },
  {
   "cell_type": "code",
   "execution_count": null,
   "id": "cf8c591b-73c4-4079-be3f-ffaeb920dd4a",
   "metadata": {},
   "outputs": [],
   "source": [
    "bartlett.test(AMT_INCOME_TOTALSQRT~NAME_INCOME_TYPE, data = apps2)"
   ]
  },
  {
   "cell_type": "markdown",
   "id": "1b7f4b5e-d06b-4466-b67f-738a97b72f73",
   "metadata": {},
   "source": [
    "### the DV (total income) has a normal distribution, but none of the categorical variables in this dataset pass the assumption of homogeneity as it pertains to total income.  Therefore, ANOVAs and MANOVAs cannot be followed through with with the expectations of receiving accurate conclusions."
   ]
  },
  {
   "cell_type": "code",
   "execution_count": null,
   "id": "f0f667cb-ee9b-4cc8-bf6f-2faef2824513",
   "metadata": {},
   "outputs": [],
   "source": [
    "# "
   ]
  }
 ],
 "metadata": {
  "kernelspec": {
   "display_name": "R",
   "language": "R",
   "name": "ir"
  },
  "language_info": {
   "codemirror_mode": "r",
   "file_extension": ".r",
   "mimetype": "text/x-r-source",
   "name": "R",
   "pygments_lexer": "r",
   "version": "4.1.2"
  }
 },
 "nbformat": 4,
 "nbformat_minor": 5
}
