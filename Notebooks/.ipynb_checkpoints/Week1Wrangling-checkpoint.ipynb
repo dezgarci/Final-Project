{
 "cells": [
  {
   "cell_type": "markdown",
   "id": "95b3b1de-e4dc-4697-973b-5607c156bf14",
   "metadata": {},
   "source": [
    "# Week 1 - Data Wrangling"
   ]
  },
  {
   "cell_type": "markdown",
   "id": "bc45786a-a67a-4d43-a70d-597ed34e9cda",
   "metadata": {},
   "source": [
    "### import packages"
   ]
  },
  {
   "cell_type": "code",
   "execution_count": 1,
   "id": "ba6b8fa2-7fa4-4e21-b819-026bf3ef8277",
   "metadata": {},
   "outputs": [],
   "source": [
    "#Basics\n",
    "import numpy as np\n",
    "import pandas as pd\n",
    "import matplotlib.pyplot as plt\n",
    "%matplotlib inline\n",
    "import seaborn as sns\n",
    "import plotly as py\n",
    "import datetime as dt\n",
    "import scipy as scp\n",
    "from scipy import stats\n",
    "from scipy.stats import ttest_ind\n",
    "\n",
    "import warnings\n",
    "warnings.filterwarnings('ignore')"
   ]
  },
  {
   "cell_type": "markdown",
   "id": "4ee2a238-09d0-4611-9576-8438557edec1",
   "metadata": {},
   "source": [
    "### create dataFrame"
   ]
  },
  {
   "cell_type": "code",
   "execution_count": 2,
   "id": "cf160129-15e9-4cb0-b4c1-cfac997e3560",
   "metadata": {},
   "outputs": [],
   "source": [
    "applications = pd.read_csv('../Data/application_record.csv')"
   ]
  },
  {
   "cell_type": "code",
   "execution_count": 3,
   "id": "0bead16a-54c5-401d-9521-6aa689e3e920",
   "metadata": {},
   "outputs": [],
   "source": [
    "records = pd.read_csv('../Data/credit_record.csv')"
   ]
  },
  {
   "cell_type": "code",
   "execution_count": 4,
   "id": "51ed0627-31a1-4e1f-bb8e-2d00438ffb27",
   "metadata": {},
   "outputs": [
    {
     "data": {
      "text/html": [
       "<div>\n",
       "<style scoped>\n",
       "    .dataframe tbody tr th:only-of-type {\n",
       "        vertical-align: middle;\n",
       "    }\n",
       "\n",
       "    .dataframe tbody tr th {\n",
       "        vertical-align: top;\n",
       "    }\n",
       "\n",
       "    .dataframe thead th {\n",
       "        text-align: right;\n",
       "    }\n",
       "</style>\n",
       "<table border=\"1\" class=\"dataframe\">\n",
       "  <thead>\n",
       "    <tr style=\"text-align: right;\">\n",
       "      <th></th>\n",
       "      <th>ID</th>\n",
       "      <th>CODE_GENDER</th>\n",
       "      <th>FLAG_OWN_CAR</th>\n",
       "      <th>FLAG_OWN_REALTY</th>\n",
       "      <th>CNT_CHILDREN</th>\n",
       "      <th>AMT_INCOME_TOTAL</th>\n",
       "      <th>NAME_INCOME_TYPE</th>\n",
       "      <th>NAME_EDUCATION_TYPE</th>\n",
       "      <th>NAME_FAMILY_STATUS</th>\n",
       "      <th>NAME_HOUSING_TYPE</th>\n",
       "      <th>DAYS_BIRTH</th>\n",
       "      <th>DAYS_EMPLOYED</th>\n",
       "      <th>FLAG_MOBIL</th>\n",
       "      <th>FLAG_WORK_PHONE</th>\n",
       "      <th>FLAG_PHONE</th>\n",
       "      <th>FLAG_EMAIL</th>\n",
       "      <th>OCCUPATION_TYPE</th>\n",
       "      <th>CNT_FAM_MEMBERS</th>\n",
       "    </tr>\n",
       "  </thead>\n",
       "  <tbody>\n",
       "    <tr>\n",
       "      <th>0</th>\n",
       "      <td>5008804</td>\n",
       "      <td>M</td>\n",
       "      <td>Y</td>\n",
       "      <td>Y</td>\n",
       "      <td>0</td>\n",
       "      <td>427500.0</td>\n",
       "      <td>Working</td>\n",
       "      <td>Higher education</td>\n",
       "      <td>Civil marriage</td>\n",
       "      <td>Rented apartment</td>\n",
       "      <td>-12005</td>\n",
       "      <td>-4542</td>\n",
       "      <td>1</td>\n",
       "      <td>1</td>\n",
       "      <td>0</td>\n",
       "      <td>0</td>\n",
       "      <td>NaN</td>\n",
       "      <td>2.0</td>\n",
       "    </tr>\n",
       "    <tr>\n",
       "      <th>1</th>\n",
       "      <td>5008805</td>\n",
       "      <td>M</td>\n",
       "      <td>Y</td>\n",
       "      <td>Y</td>\n",
       "      <td>0</td>\n",
       "      <td>427500.0</td>\n",
       "      <td>Working</td>\n",
       "      <td>Higher education</td>\n",
       "      <td>Civil marriage</td>\n",
       "      <td>Rented apartment</td>\n",
       "      <td>-12005</td>\n",
       "      <td>-4542</td>\n",
       "      <td>1</td>\n",
       "      <td>1</td>\n",
       "      <td>0</td>\n",
       "      <td>0</td>\n",
       "      <td>NaN</td>\n",
       "      <td>2.0</td>\n",
       "    </tr>\n",
       "    <tr>\n",
       "      <th>2</th>\n",
       "      <td>5008806</td>\n",
       "      <td>M</td>\n",
       "      <td>Y</td>\n",
       "      <td>Y</td>\n",
       "      <td>0</td>\n",
       "      <td>112500.0</td>\n",
       "      <td>Working</td>\n",
       "      <td>Secondary / secondary special</td>\n",
       "      <td>Married</td>\n",
       "      <td>House / apartment</td>\n",
       "      <td>-21474</td>\n",
       "      <td>-1134</td>\n",
       "      <td>1</td>\n",
       "      <td>0</td>\n",
       "      <td>0</td>\n",
       "      <td>0</td>\n",
       "      <td>Security staff</td>\n",
       "      <td>2.0</td>\n",
       "    </tr>\n",
       "    <tr>\n",
       "      <th>3</th>\n",
       "      <td>5008808</td>\n",
       "      <td>F</td>\n",
       "      <td>N</td>\n",
       "      <td>Y</td>\n",
       "      <td>0</td>\n",
       "      <td>270000.0</td>\n",
       "      <td>Commercial associate</td>\n",
       "      <td>Secondary / secondary special</td>\n",
       "      <td>Single / not married</td>\n",
       "      <td>House / apartment</td>\n",
       "      <td>-19110</td>\n",
       "      <td>-3051</td>\n",
       "      <td>1</td>\n",
       "      <td>0</td>\n",
       "      <td>1</td>\n",
       "      <td>1</td>\n",
       "      <td>Sales staff</td>\n",
       "      <td>1.0</td>\n",
       "    </tr>\n",
       "    <tr>\n",
       "      <th>4</th>\n",
       "      <td>5008809</td>\n",
       "      <td>F</td>\n",
       "      <td>N</td>\n",
       "      <td>Y</td>\n",
       "      <td>0</td>\n",
       "      <td>270000.0</td>\n",
       "      <td>Commercial associate</td>\n",
       "      <td>Secondary / secondary special</td>\n",
       "      <td>Single / not married</td>\n",
       "      <td>House / apartment</td>\n",
       "      <td>-19110</td>\n",
       "      <td>-3051</td>\n",
       "      <td>1</td>\n",
       "      <td>0</td>\n",
       "      <td>1</td>\n",
       "      <td>1</td>\n",
       "      <td>Sales staff</td>\n",
       "      <td>1.0</td>\n",
       "    </tr>\n",
       "  </tbody>\n",
       "</table>\n",
       "</div>"
      ],
      "text/plain": [
       "        ID CODE_GENDER FLAG_OWN_CAR FLAG_OWN_REALTY  CNT_CHILDREN  \\\n",
       "0  5008804           M            Y               Y             0   \n",
       "1  5008805           M            Y               Y             0   \n",
       "2  5008806           M            Y               Y             0   \n",
       "3  5008808           F            N               Y             0   \n",
       "4  5008809           F            N               Y             0   \n",
       "\n",
       "   AMT_INCOME_TOTAL      NAME_INCOME_TYPE            NAME_EDUCATION_TYPE  \\\n",
       "0          427500.0               Working               Higher education   \n",
       "1          427500.0               Working               Higher education   \n",
       "2          112500.0               Working  Secondary / secondary special   \n",
       "3          270000.0  Commercial associate  Secondary / secondary special   \n",
       "4          270000.0  Commercial associate  Secondary / secondary special   \n",
       "\n",
       "     NAME_FAMILY_STATUS  NAME_HOUSING_TYPE  DAYS_BIRTH  DAYS_EMPLOYED  \\\n",
       "0        Civil marriage   Rented apartment      -12005          -4542   \n",
       "1        Civil marriage   Rented apartment      -12005          -4542   \n",
       "2               Married  House / apartment      -21474          -1134   \n",
       "3  Single / not married  House / apartment      -19110          -3051   \n",
       "4  Single / not married  House / apartment      -19110          -3051   \n",
       "\n",
       "   FLAG_MOBIL  FLAG_WORK_PHONE  FLAG_PHONE  FLAG_EMAIL OCCUPATION_TYPE  \\\n",
       "0           1                1           0           0             NaN   \n",
       "1           1                1           0           0             NaN   \n",
       "2           1                0           0           0  Security staff   \n",
       "3           1                0           1           1     Sales staff   \n",
       "4           1                0           1           1     Sales staff   \n",
       "\n",
       "   CNT_FAM_MEMBERS  \n",
       "0              2.0  \n",
       "1              2.0  \n",
       "2              2.0  \n",
       "3              1.0  \n",
       "4              1.0  "
      ]
     },
     "execution_count": 4,
     "metadata": {},
     "output_type": "execute_result"
    }
   ],
   "source": [
    "applications.head()"
   ]
  },
  {
   "cell_type": "code",
   "execution_count": 5,
   "id": "1305d5c7-4130-4506-9486-8a32ecdf9b77",
   "metadata": {},
   "outputs": [],
   "source": [
    "# it appears that there may be some duplicate records. deal with this later."
   ]
  },
  {
   "cell_type": "code",
   "execution_count": 6,
   "id": "e2f77a30-0767-4ffd-b850-8e72aec4ead3",
   "metadata": {},
   "outputs": [
    {
     "data": {
      "text/plain": [
       "ID                          0\n",
       "CODE_GENDER                 0\n",
       "FLAG_OWN_CAR                0\n",
       "FLAG_OWN_REALTY             0\n",
       "CNT_CHILDREN                0\n",
       "AMT_INCOME_TOTAL            0\n",
       "NAME_INCOME_TYPE            0\n",
       "NAME_EDUCATION_TYPE         0\n",
       "NAME_FAMILY_STATUS          0\n",
       "NAME_HOUSING_TYPE           0\n",
       "DAYS_BIRTH                  0\n",
       "DAYS_EMPLOYED               0\n",
       "FLAG_MOBIL                  0\n",
       "FLAG_WORK_PHONE             0\n",
       "FLAG_PHONE                  0\n",
       "FLAG_EMAIL                  0\n",
       "OCCUPATION_TYPE        134203\n",
       "CNT_FAM_MEMBERS             0\n",
       "dtype: int64"
      ]
     },
     "execution_count": 6,
     "metadata": {},
     "output_type": "execute_result"
    }
   ],
   "source": [
    "# check for missing values\n",
    "applications.isna().sum()"
   ]
  },
  {
   "cell_type": "code",
   "execution_count": 7,
   "id": "fbfd9aad-0b60-4522-94b4-6e1fed5f7459",
   "metadata": {},
   "outputs": [],
   "source": [
    "# drop missing values\n",
    "applications.dropna(inplace = True)"
   ]
  },
  {
   "cell_type": "code",
   "execution_count": 8,
   "id": "f7e22ac9-8784-458c-bb64-6aabf809cbac",
   "metadata": {},
   "outputs": [
    {
     "data": {
      "text/plain": [
       "ID                     0\n",
       "CODE_GENDER            0\n",
       "FLAG_OWN_CAR           0\n",
       "FLAG_OWN_REALTY        0\n",
       "CNT_CHILDREN           0\n",
       "AMT_INCOME_TOTAL       0\n",
       "NAME_INCOME_TYPE       0\n",
       "NAME_EDUCATION_TYPE    0\n",
       "NAME_FAMILY_STATUS     0\n",
       "NAME_HOUSING_TYPE      0\n",
       "DAYS_BIRTH             0\n",
       "DAYS_EMPLOYED          0\n",
       "FLAG_MOBIL             0\n",
       "FLAG_WORK_PHONE        0\n",
       "FLAG_PHONE             0\n",
       "FLAG_EMAIL             0\n",
       "OCCUPATION_TYPE        0\n",
       "CNT_FAM_MEMBERS        0\n",
       "dtype: int64"
      ]
     },
     "execution_count": 8,
     "metadata": {},
     "output_type": "execute_result"
    }
   ],
   "source": [
    "applications.isna().sum()"
   ]
  },
  {
   "cell_type": "code",
   "execution_count": 9,
   "id": "e66fdf4e-74cd-4860-b813-538902e57155",
   "metadata": {},
   "outputs": [],
   "source": [
    "# subset data - drop variables that most likely won't affect the DV.\n",
    "applications2 = applications.drop(['FLAG_MOBIL', 'FLAG_WORK_PHONE', 'FLAG_PHONE', 'FLAG_EMAIL'], axis=1)"
   ]
  },
  {
   "cell_type": "code",
   "execution_count": 10,
   "id": "133e3f76-01cb-489b-a036-18f226908287",
   "metadata": {},
   "outputs": [],
   "source": [
    "# rename columns \n",
    "applications2.rename(columns={'CODE_GENDER': 'gender', 'FLAG_OWN_CAR' : 'ownsCar', 'FLAG_OWN_REALTY' : 'ownsRealty', 'CNT_CHILDREN' : 'numChildren', 'AMT_INCOME_TOTAL' : 'totalIncome', 'NAME_INCOME_TYPE' : 'incomeType', 'NAME_EDUCATION_TYPE' : 'eduLvl', 'NAME_FAMILY_STATUS': 'famStatus', 'NAME_HOUSING_TYPE' : 'housingType', 'DAYS_BIRTH' : 'daysBirth', 'DAYS_EMPLOYED' : 'daysEmpl', 'OCCUPATION_TYPE' : 'occupation', 'CNT_FAM_MEMBERS' : 'famSize'}, inplace = True)"
   ]
  },
  {
   "cell_type": "code",
   "execution_count": 11,
   "id": "187bda48-0cdc-44f1-b554-cbce23e3ef43",
   "metadata": {},
   "outputs": [],
   "source": [
    "# convert daysBirth to Age in years for better understanding\n",
    "applications2['ageYrs'] = np.ceil(pd.to_timedelta(applications2['daysBirth'], unit='D').dt.days / -365.25)\n",
    "applications2.drop('daysBirth', axis = 1, inplace = True)"
   ]
  },
  {
   "cell_type": "code",
   "execution_count": 12,
   "id": "6a80908c-a055-4acd-808d-a8cad0bcb278",
   "metadata": {},
   "outputs": [],
   "source": [
    "# convert daysEmpl to yrsEmpl to keep in the same units\n",
    "applications2['yrsEmpl']=-applications2['daysEmpl']/365.2425\n",
    "applications2.loc[applications2['yrsEmpl']<0,'yrsEmpl']=0\n",
    "applications2.drop('daysEmpl', axis=1, inplace=True)"
   ]
  },
  {
   "cell_type": "code",
   "execution_count": 13,
   "id": "8afc2d0e-4ab7-4826-8d3f-51f68354dbeb",
   "metadata": {},
   "outputs": [],
   "source": [
    "# drop duplicates\n",
    "applications3=applications2.drop_duplicates(subset=applications2.columns[1:], keep='first')"
   ]
  },
  {
   "cell_type": "code",
   "execution_count": 14,
   "id": "1b743b25-6d4d-4799-a01e-8402480e4d55",
   "metadata": {},
   "outputs": [
    {
     "data": {
      "text/html": [
       "<div>\n",
       "<style scoped>\n",
       "    .dataframe tbody tr th:only-of-type {\n",
       "        vertical-align: middle;\n",
       "    }\n",
       "\n",
       "    .dataframe tbody tr th {\n",
       "        vertical-align: top;\n",
       "    }\n",
       "\n",
       "    .dataframe thead th {\n",
       "        text-align: right;\n",
       "    }\n",
       "</style>\n",
       "<table border=\"1\" class=\"dataframe\">\n",
       "  <thead>\n",
       "    <tr style=\"text-align: right;\">\n",
       "      <th></th>\n",
       "      <th>ID</th>\n",
       "      <th>gender</th>\n",
       "      <th>ownsCar</th>\n",
       "      <th>ownsRealty</th>\n",
       "      <th>numChildren</th>\n",
       "      <th>totalIncome</th>\n",
       "      <th>incomeType</th>\n",
       "      <th>eduLvl</th>\n",
       "      <th>famStatus</th>\n",
       "      <th>housingType</th>\n",
       "      <th>occupation</th>\n",
       "      <th>famSize</th>\n",
       "      <th>ageYrs</th>\n",
       "      <th>yrsEmpl</th>\n",
       "    </tr>\n",
       "  </thead>\n",
       "  <tbody>\n",
       "    <tr>\n",
       "      <th>2</th>\n",
       "      <td>5008806</td>\n",
       "      <td>M</td>\n",
       "      <td>Y</td>\n",
       "      <td>Y</td>\n",
       "      <td>0</td>\n",
       "      <td>112500.0</td>\n",
       "      <td>Working</td>\n",
       "      <td>Secondary / secondary special</td>\n",
       "      <td>Married</td>\n",
       "      <td>House / apartment</td>\n",
       "      <td>Security staff</td>\n",
       "      <td>2.0</td>\n",
       "      <td>59.0</td>\n",
       "      <td>3.104787</td>\n",
       "    </tr>\n",
       "    <tr>\n",
       "      <th>3</th>\n",
       "      <td>5008808</td>\n",
       "      <td>F</td>\n",
       "      <td>N</td>\n",
       "      <td>Y</td>\n",
       "      <td>0</td>\n",
       "      <td>270000.0</td>\n",
       "      <td>Commercial associate</td>\n",
       "      <td>Secondary / secondary special</td>\n",
       "      <td>Single / not married</td>\n",
       "      <td>House / apartment</td>\n",
       "      <td>Sales staff</td>\n",
       "      <td>1.0</td>\n",
       "      <td>53.0</td>\n",
       "      <td>8.353354</td>\n",
       "    </tr>\n",
       "    <tr>\n",
       "      <th>10</th>\n",
       "      <td>5008815</td>\n",
       "      <td>M</td>\n",
       "      <td>Y</td>\n",
       "      <td>Y</td>\n",
       "      <td>0</td>\n",
       "      <td>270000.0</td>\n",
       "      <td>Working</td>\n",
       "      <td>Higher education</td>\n",
       "      <td>Married</td>\n",
       "      <td>House / apartment</td>\n",
       "      <td>Accountants</td>\n",
       "      <td>2.0</td>\n",
       "      <td>47.0</td>\n",
       "      <td>2.105450</td>\n",
       "    </tr>\n",
       "    <tr>\n",
       "      <th>13</th>\n",
       "      <td>5008819</td>\n",
       "      <td>M</td>\n",
       "      <td>Y</td>\n",
       "      <td>Y</td>\n",
       "      <td>0</td>\n",
       "      <td>135000.0</td>\n",
       "      <td>Commercial associate</td>\n",
       "      <td>Secondary / secondary special</td>\n",
       "      <td>Married</td>\n",
       "      <td>House / apartment</td>\n",
       "      <td>Laborers</td>\n",
       "      <td>2.0</td>\n",
       "      <td>49.0</td>\n",
       "      <td>3.269061</td>\n",
       "    </tr>\n",
       "    <tr>\n",
       "      <th>19</th>\n",
       "      <td>5008825</td>\n",
       "      <td>F</td>\n",
       "      <td>Y</td>\n",
       "      <td>N</td>\n",
       "      <td>0</td>\n",
       "      <td>130500.0</td>\n",
       "      <td>Working</td>\n",
       "      <td>Incomplete higher</td>\n",
       "      <td>Married</td>\n",
       "      <td>House / apartment</td>\n",
       "      <td>Accountants</td>\n",
       "      <td>2.0</td>\n",
       "      <td>30.0</td>\n",
       "      <td>3.019911</td>\n",
       "    </tr>\n",
       "  </tbody>\n",
       "</table>\n",
       "</div>"
      ],
      "text/plain": [
       "         ID gender ownsCar ownsRealty  numChildren  totalIncome  \\\n",
       "2   5008806      M       Y          Y            0     112500.0   \n",
       "3   5008808      F       N          Y            0     270000.0   \n",
       "10  5008815      M       Y          Y            0     270000.0   \n",
       "13  5008819      M       Y          Y            0     135000.0   \n",
       "19  5008825      F       Y          N            0     130500.0   \n",
       "\n",
       "              incomeType                         eduLvl             famStatus  \\\n",
       "2                Working  Secondary / secondary special               Married   \n",
       "3   Commercial associate  Secondary / secondary special  Single / not married   \n",
       "10               Working               Higher education               Married   \n",
       "13  Commercial associate  Secondary / secondary special               Married   \n",
       "19               Working              Incomplete higher               Married   \n",
       "\n",
       "          housingType      occupation  famSize  ageYrs   yrsEmpl  \n",
       "2   House / apartment  Security staff      2.0    59.0  3.104787  \n",
       "3   House / apartment     Sales staff      1.0    53.0  8.353354  \n",
       "10  House / apartment     Accountants      2.0    47.0  2.105450  \n",
       "13  House / apartment        Laborers      2.0    49.0  3.269061  \n",
       "19  House / apartment     Accountants      2.0    30.0  3.019911  "
      ]
     },
     "execution_count": 14,
     "metadata": {},
     "output_type": "execute_result"
    }
   ],
   "source": [
    "applications3.head()"
   ]
  },
  {
   "cell_type": "code",
   "execution_count": 15,
   "id": "fc71d6de-9650-44dd-bedc-460bb620c4cd",
   "metadata": {},
   "outputs": [
    {
     "data": {
      "text/html": [
       "<div>\n",
       "<style scoped>\n",
       "    .dataframe tbody tr th:only-of-type {\n",
       "        vertical-align: middle;\n",
       "    }\n",
       "\n",
       "    .dataframe tbody tr th {\n",
       "        vertical-align: top;\n",
       "    }\n",
       "\n",
       "    .dataframe thead th {\n",
       "        text-align: right;\n",
       "    }\n",
       "</style>\n",
       "<table border=\"1\" class=\"dataframe\">\n",
       "  <thead>\n",
       "    <tr style=\"text-align: right;\">\n",
       "      <th></th>\n",
       "      <th>ID</th>\n",
       "      <th>numChildren</th>\n",
       "      <th>totalIncome</th>\n",
       "      <th>famSize</th>\n",
       "      <th>ageYrs</th>\n",
       "      <th>yrsEmpl</th>\n",
       "    </tr>\n",
       "  </thead>\n",
       "  <tbody>\n",
       "    <tr>\n",
       "      <th>ID</th>\n",
       "      <td>1.000000</td>\n",
       "      <td>-0.002885</td>\n",
       "      <td>-0.006742</td>\n",
       "      <td>-0.002113</td>\n",
       "      <td>-0.004054</td>\n",
       "      <td>-0.006438</td>\n",
       "    </tr>\n",
       "    <tr>\n",
       "      <th>numChildren</th>\n",
       "      <td>-0.002885</td>\n",
       "      <td>1.000000</td>\n",
       "      <td>-0.014820</td>\n",
       "      <td>0.893676</td>\n",
       "      <td>-0.237324</td>\n",
       "      <td>-0.065774</td>\n",
       "    </tr>\n",
       "    <tr>\n",
       "      <th>totalIncome</th>\n",
       "      <td>-0.006742</td>\n",
       "      <td>-0.014820</td>\n",
       "      <td>1.000000</td>\n",
       "      <td>-0.014715</td>\n",
       "      <td>0.065162</td>\n",
       "      <td>0.031040</td>\n",
       "    </tr>\n",
       "    <tr>\n",
       "      <th>famSize</th>\n",
       "      <td>-0.002113</td>\n",
       "      <td>0.893676</td>\n",
       "      <td>-0.014715</td>\n",
       "      <td>1.000000</td>\n",
       "      <td>-0.171740</td>\n",
       "      <td>-0.032965</td>\n",
       "    </tr>\n",
       "    <tr>\n",
       "      <th>ageYrs</th>\n",
       "      <td>-0.004054</td>\n",
       "      <td>-0.237324</td>\n",
       "      <td>0.065162</td>\n",
       "      <td>-0.171740</td>\n",
       "      <td>1.000000</td>\n",
       "      <td>0.346357</td>\n",
       "    </tr>\n",
       "    <tr>\n",
       "      <th>yrsEmpl</th>\n",
       "      <td>-0.006438</td>\n",
       "      <td>-0.065774</td>\n",
       "      <td>0.031040</td>\n",
       "      <td>-0.032965</td>\n",
       "      <td>0.346357</td>\n",
       "      <td>1.000000</td>\n",
       "    </tr>\n",
       "  </tbody>\n",
       "</table>\n",
       "</div>"
      ],
      "text/plain": [
       "                   ID  numChildren  totalIncome   famSize    ageYrs   yrsEmpl\n",
       "ID           1.000000    -0.002885    -0.006742 -0.002113 -0.004054 -0.006438\n",
       "numChildren -0.002885     1.000000    -0.014820  0.893676 -0.237324 -0.065774\n",
       "totalIncome -0.006742    -0.014820     1.000000 -0.014715  0.065162  0.031040\n",
       "famSize     -0.002113     0.893676    -0.014715  1.000000 -0.171740 -0.032965\n",
       "ageYrs      -0.004054    -0.237324     0.065162 -0.171740  1.000000  0.346357\n",
       "yrsEmpl     -0.006438    -0.065774     0.031040 -0.032965  0.346357  1.000000"
      ]
     },
     "execution_count": 15,
     "metadata": {},
     "output_type": "execute_result"
    }
   ],
   "source": [
    "# make sure data is not too related (>.9)\n",
    "applications3.corr()"
   ]
  },
  {
   "cell_type": "code",
   "execution_count": null,
   "id": "df283408-5927-4583-8745-d1e9f7971869",
   "metadata": {},
   "outputs": [],
   "source": [
    "# This data appears to be independent, which is great for our analyses."
   ]
  },
  {
   "cell_type": "code",
   "execution_count": null,
   "id": "d74fa5b7-59de-46e1-9ad8-166e759adaf4",
   "metadata": {},
   "outputs": [],
   "source": [
    "# dummy code binary variables (ownsCar, ownsRealty, gender)\n",
    "\n",
    "# dummy code binary variables\n",
    "\n",
    "def genderRecode (series):\n",
    "    if series == \"F\":\n",
    "        return 0\n",
    "    if series == \"M\":\n",
    "        return 1\n",
    "applications3['genderR'] = applications3['gender'].apply(genderRecode)\n"
   ]
  },
  {
   "cell_type": "code",
   "execution_count": null,
   "id": "9db56285-e152-45f7-bcb5-768a8f8ec17e",
   "metadata": {},
   "outputs": [],
   "source": [
    "def carRecode (series):\n",
    "    if series == \"N\":\n",
    "        return 0\n",
    "    if series == \"Y\":\n",
    "        return 1\n",
    "applications3['ownsCarR'] = applications3['ownsCar'].apply(carRecode)\n"
   ]
  },
  {
   "cell_type": "code",
   "execution_count": null,
   "id": "4971b003-1158-4941-9b9e-c004365e6f48",
   "metadata": {},
   "outputs": [],
   "source": [
    "def realtyRecode (series):\n",
    "    if series == \"N\":\n",
    "        return 0\n",
    "    if series == \"Y\":\n",
    "        return 1\n",
    "applications3['ownsRealtyR'] = applications3['ownsRealty'].apply(realtyRecode)"
   ]
  },
  {
   "cell_type": "code",
   "execution_count": 16,
   "id": "6e9136dc-1052-416c-810f-561253d7dbeb",
   "metadata": {},
   "outputs": [
    {
     "data": {
      "text/html": [
       "<div>\n",
       "<style scoped>\n",
       "    .dataframe tbody tr th:only-of-type {\n",
       "        vertical-align: middle;\n",
       "    }\n",
       "\n",
       "    .dataframe tbody tr th {\n",
       "        vertical-align: top;\n",
       "    }\n",
       "\n",
       "    .dataframe thead th {\n",
       "        text-align: right;\n",
       "    }\n",
       "</style>\n",
       "<table border=\"1\" class=\"dataframe\">\n",
       "  <thead>\n",
       "    <tr style=\"text-align: right;\">\n",
       "      <th></th>\n",
       "      <th>ID</th>\n",
       "      <th>gender</th>\n",
       "      <th>ownsCar</th>\n",
       "      <th>ownsRealty</th>\n",
       "      <th>numChildren</th>\n",
       "      <th>totalIncome</th>\n",
       "      <th>incomeType</th>\n",
       "      <th>eduLvl</th>\n",
       "      <th>famStatus</th>\n",
       "      <th>housingType</th>\n",
       "      <th>occupation</th>\n",
       "      <th>famSize</th>\n",
       "      <th>ageYrs</th>\n",
       "      <th>yrsEmpl</th>\n",
       "    </tr>\n",
       "  </thead>\n",
       "  <tbody>\n",
       "    <tr>\n",
       "      <th>2</th>\n",
       "      <td>5008806</td>\n",
       "      <td>M</td>\n",
       "      <td>Y</td>\n",
       "      <td>Y</td>\n",
       "      <td>0</td>\n",
       "      <td>112500.0</td>\n",
       "      <td>Working</td>\n",
       "      <td>Secondary / secondary special</td>\n",
       "      <td>Married</td>\n",
       "      <td>House / apartment</td>\n",
       "      <td>Security staff</td>\n",
       "      <td>2.0</td>\n",
       "      <td>59.0</td>\n",
       "      <td>3.104787</td>\n",
       "    </tr>\n",
       "    <tr>\n",
       "      <th>3</th>\n",
       "      <td>5008808</td>\n",
       "      <td>F</td>\n",
       "      <td>N</td>\n",
       "      <td>Y</td>\n",
       "      <td>0</td>\n",
       "      <td>270000.0</td>\n",
       "      <td>Commercial associate</td>\n",
       "      <td>Secondary / secondary special</td>\n",
       "      <td>Single / not married</td>\n",
       "      <td>House / apartment</td>\n",
       "      <td>Sales staff</td>\n",
       "      <td>1.0</td>\n",
       "      <td>53.0</td>\n",
       "      <td>8.353354</td>\n",
       "    </tr>\n",
       "    <tr>\n",
       "      <th>10</th>\n",
       "      <td>5008815</td>\n",
       "      <td>M</td>\n",
       "      <td>Y</td>\n",
       "      <td>Y</td>\n",
       "      <td>0</td>\n",
       "      <td>270000.0</td>\n",
       "      <td>Working</td>\n",
       "      <td>Higher education</td>\n",
       "      <td>Married</td>\n",
       "      <td>House / apartment</td>\n",
       "      <td>Accountants</td>\n",
       "      <td>2.0</td>\n",
       "      <td>47.0</td>\n",
       "      <td>2.105450</td>\n",
       "    </tr>\n",
       "    <tr>\n",
       "      <th>13</th>\n",
       "      <td>5008819</td>\n",
       "      <td>M</td>\n",
       "      <td>Y</td>\n",
       "      <td>Y</td>\n",
       "      <td>0</td>\n",
       "      <td>135000.0</td>\n",
       "      <td>Commercial associate</td>\n",
       "      <td>Secondary / secondary special</td>\n",
       "      <td>Married</td>\n",
       "      <td>House / apartment</td>\n",
       "      <td>Laborers</td>\n",
       "      <td>2.0</td>\n",
       "      <td>49.0</td>\n",
       "      <td>3.269061</td>\n",
       "    </tr>\n",
       "    <tr>\n",
       "      <th>19</th>\n",
       "      <td>5008825</td>\n",
       "      <td>F</td>\n",
       "      <td>Y</td>\n",
       "      <td>N</td>\n",
       "      <td>0</td>\n",
       "      <td>130500.0</td>\n",
       "      <td>Working</td>\n",
       "      <td>Incomplete higher</td>\n",
       "      <td>Married</td>\n",
       "      <td>House / apartment</td>\n",
       "      <td>Accountants</td>\n",
       "      <td>2.0</td>\n",
       "      <td>30.0</td>\n",
       "      <td>3.019911</td>\n",
       "    </tr>\n",
       "  </tbody>\n",
       "</table>\n",
       "</div>"
      ],
      "text/plain": [
       "         ID gender ownsCar ownsRealty  numChildren  totalIncome  \\\n",
       "2   5008806      M       Y          Y            0     112500.0   \n",
       "3   5008808      F       N          Y            0     270000.0   \n",
       "10  5008815      M       Y          Y            0     270000.0   \n",
       "13  5008819      M       Y          Y            0     135000.0   \n",
       "19  5008825      F       Y          N            0     130500.0   \n",
       "\n",
       "              incomeType                         eduLvl             famStatus  \\\n",
       "2                Working  Secondary / secondary special               Married   \n",
       "3   Commercial associate  Secondary / secondary special  Single / not married   \n",
       "10               Working               Higher education               Married   \n",
       "13  Commercial associate  Secondary / secondary special               Married   \n",
       "19               Working              Incomplete higher               Married   \n",
       "\n",
       "          housingType      occupation  famSize  ageYrs   yrsEmpl  \n",
       "2   House / apartment  Security staff      2.0    59.0  3.104787  \n",
       "3   House / apartment     Sales staff      1.0    53.0  8.353354  \n",
       "10  House / apartment     Accountants      2.0    47.0  2.105450  \n",
       "13  House / apartment        Laborers      2.0    49.0  3.269061  \n",
       "19  House / apartment     Accountants      2.0    30.0  3.019911  "
      ]
     },
     "execution_count": 16,
     "metadata": {},
     "output_type": "execute_result"
    }
   ],
   "source": [
    "applications3.head()"
   ]
  },
  {
   "cell_type": "code",
   "execution_count": null,
   "id": "923e1dde-a64d-48a9-ba80-9249af7e5423",
   "metadata": {},
   "outputs": [],
   "source": [
    "# Check out what we have for records\n",
    "records.head()"
   ]
  },
  {
   "cell_type": "code",
   "execution_count": null,
   "id": "b987ac6b-f953-4fbf-ba6d-5cad45e54ea7",
   "metadata": {},
   "outputs": [],
   "source": [
    "records.STATUS.value_counts()"
   ]
  },
  {
   "cell_type": "code",
   "execution_count": null,
   "id": "576afda9-677e-4732-8bdf-25e4b6a8badf",
   "metadata": {},
   "outputs": [],
   "source": [
    "# calling 1's bad, 0's Good"
   ]
  },
  {
   "cell_type": "code",
   "execution_count": null,
   "id": "5f989e8b-66de-41a3-b7aa-b3ae6b1d186a",
   "metadata": {},
   "outputs": [],
   "source": [
    "# find unique months balance values\n",
    "records['MONTHS_BALANCE'].unique()"
   ]
  },
  {
   "cell_type": "code",
   "execution_count": null,
   "id": "6c536b87-057c-4145-97d6-4e865b2f573a",
   "metadata": {},
   "outputs": [],
   "source": [
    "# look at unique status types for applicant's records\n",
    "records['STATUS'].unique()"
   ]
  },
  {
   "cell_type": "code",
   "execution_count": null,
   "id": "7d7e56e3-3ddf-4da1-bb7a-66a183409bc8",
   "metadata": {},
   "outputs": [],
   "source": [
    "# recode status types\n",
    "def status(s):\n",
    "    if s == \"C\":\n",
    "        return 0\n",
    "    elif s == \"X\":\n",
    "        return 0\n",
    "    elif s == '0':\n",
    "        return 0\n",
    "    elif s == '1':\n",
    "        return 0\n",
    "    elif s == '2':\n",
    "        return 1\n",
    "    elif s == '3':\n",
    "        return 1\n",
    "    elif s == '4':\n",
    "        return 1\n",
    "    elif s == '5':\n",
    "        return 1"
   ]
  },
  {
   "cell_type": "code",
   "execution_count": null,
   "id": "01d529ec-01d2-4566-ab2f-50c8971dcb1f",
   "metadata": {},
   "outputs": [],
   "source": [
    "records['STATUS'] = records['STATUS'].apply(lambda x:status(x))"
   ]
  },
  {
   "cell_type": "code",
   "execution_count": null,
   "id": "75527229-c418-4419-8b20-b84e70f5dad8",
   "metadata": {},
   "outputs": [],
   "source": [
    "records.head()"
   ]
  },
  {
   "cell_type": "code",
   "execution_count": null,
   "id": "ad1570b9-5eb2-4606-8458-b7c3dfaa4615",
   "metadata": {},
   "outputs": [],
   "source": [
    "# merge the datasets\n",
    "merged = pd.merge(applications3, records, on=\"ID\")"
   ]
  },
  {
   "cell_type": "code",
   "execution_count": null,
   "id": "a7159f39-393b-49f1-a8bd-7ccac17bd99b",
   "metadata": {},
   "outputs": [],
   "source": [
    "merged.head()"
   ]
  },
  {
   "cell_type": "markdown",
   "id": "82379e52-1503-4c96-8d5d-8baffb307c55",
   "metadata": {},
   "source": [
    "# Independent t- test"
   ]
  },
  {
   "cell_type": "markdown",
   "id": "1817ad26-e9ad-42e9-9e50-17086d55359c",
   "metadata": {},
   "source": [
    "## Is there a difference in total income between M and F in this dataset?"
   ]
  },
  {
   "cell_type": "markdown",
   "id": "055baf04-2282-442d-868b-c3d5a820e89b",
   "metadata": {},
   "source": [
    "### Test Assumptions"
   ]
  },
  {
   "cell_type": "code",
   "execution_count": null,
   "id": "f136fd62-8a60-42cc-aad1-80bffa92451c",
   "metadata": {},
   "outputs": [],
   "source": [
    "# Normality of the DV (totalIncome)"
   ]
  },
  {
   "cell_type": "code",
   "execution_count": null,
   "id": "073a2d33-7901-42f2-854d-3da2deb22189",
   "metadata": {},
   "outputs": [],
   "source": [
    "num_bins = 250\n",
    "n, bins, patches = plt.hist(applications3['totalIncome'], num_bins, facecolor='green', alpha = .8)\n",
    "plt.xlabel('Income')\n",
    "plt.ylabel('Frequency')\n",
    "plt.title('Applicant Income Dist')"
   ]
  },
  {
   "cell_type": "code",
   "execution_count": null,
   "id": "8890a5de-da63-4bb7-a761-7829589eae3e",
   "metadata": {},
   "outputs": [],
   "source": [
    "sns.distplot(applications3['totalIncome'])"
   ]
  },
  {
   "cell_type": "code",
   "execution_count": null,
   "id": "f1a4780e-45c3-4049-968f-ed28b56cf7cb",
   "metadata": {},
   "outputs": [],
   "source": [
    "applications3.totalIncome[applications3.gender == 'M'].hist()"
   ]
  },
  {
   "cell_type": "code",
   "execution_count": null,
   "id": "1a680368-9a34-4bf6-bd03-ba3159e79113",
   "metadata": {},
   "outputs": [],
   "source": [
    "applications3.totalIncome[applications3.gender == 'F'].hist()"
   ]
  },
  {
   "cell_type": "code",
   "execution_count": null,
   "id": "b2f176cf-eea9-4468-9285-0fbfaa32144c",
   "metadata": {},
   "outputs": [],
   "source": [
    "ttest_ind(applications3.totalIncome[applications3.gender == 'M'],\n",
    "          applications3.totalIncome[applications3.gender =='F'])"
   ]
  },
  {
   "cell_type": "markdown",
   "id": "d61c4a6a-6ab8-4212-8dbc-5bb5a8cd7b53",
   "metadata": {},
   "source": [
    "# p value is <.05, so there is a significant difference in income between males and females in this dataset. Outliers in income may be influencing this analysis."
   ]
  },
  {
   "cell_type": "code",
   "execution_count": null,
   "id": "c474cf7d-fab6-4935-bcdd-a341d819dcb5",
   "metadata": {},
   "outputs": [],
   "source": [
    "# Look for outliers\n",
    "applications3.boxplot('totalIncome')"
   ]
  },
  {
   "cell_type": "markdown",
   "id": "de6c6edf-5ad9-4d70-a423-3fd882f2bd1c",
   "metadata": {},
   "source": [
    "## Is there a difference in total income between those who own cars and those who don't in this dataset?"
   ]
  },
  {
   "cell_type": "code",
   "execution_count": null,
   "id": "8b0ca8c4-1b1c-438b-a2af-1022f5036994",
   "metadata": {},
   "outputs": [],
   "source": [
    "applications3.totalIncome[applications3.ownsCar == 'Y'].hist()"
   ]
  },
  {
   "cell_type": "code",
   "execution_count": null,
   "id": "dd0aa91d-9003-4d47-93b6-04bb6c3f3320",
   "metadata": {},
   "outputs": [],
   "source": [
    "applications3.totalIncome[applications3.ownsCar == 'N'].hist()"
   ]
  },
  {
   "cell_type": "code",
   "execution_count": null,
   "id": "22736646-06f4-4f6f-894c-fe77c6846095",
   "metadata": {},
   "outputs": [],
   "source": [
    "ttest_ind(applications3.totalIncome[applications3.ownsCar == 'Y'],\n",
    "          applications3.totalIncome[applications3.ownsCar =='N'])"
   ]
  },
  {
   "cell_type": "markdown",
   "id": "7b24a18d-d8ce-4d2c-8599-1f60558eede5",
   "metadata": {},
   "source": [
    "### p value is <.05, so there is a significant difference in income between applicants who own a car and those who don't in this dataset. "
   ]
  },
  {
   "cell_type": "code",
   "execution_count": null,
   "id": "a1ce4c4d-b308-439f-8e87-d880dbf2a6b7",
   "metadata": {},
   "outputs": [],
   "source": []
  }
 ],
 "metadata": {
  "kernelspec": {
   "display_name": "Python 3 (ipykernel)",
   "language": "python",
   "name": "python3"
  },
  "language_info": {
   "codemirror_mode": {
    "name": "ipython",
    "version": 3
   },
   "file_extension": ".py",
   "mimetype": "text/x-python",
   "name": "python",
   "nbconvert_exporter": "python",
   "pygments_lexer": "ipython3",
   "version": "3.10.4"
  }
 },
 "nbformat": 4,
 "nbformat_minor": 5
}
