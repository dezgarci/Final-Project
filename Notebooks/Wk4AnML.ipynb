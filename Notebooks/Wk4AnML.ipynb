{
 "cells": [
  {
   "cell_type": "markdown",
   "id": "b7024fbe-54d2-40f2-884c-0e81bea8114d",
   "metadata": {},
   "source": [
    "# Week 4 Machine Learning"
   ]
  },
  {
   "cell_type": "markdown",
   "id": "e0e1ba0a-746c-4716-b5f5-9bcad49f2c9c",
   "metadata": {},
   "source": [
    "#### import packages"
   ]
  },
  {
   "cell_type": "code",
   "execution_count": 1,
   "id": "9bbc3c16-ace4-4e03-9c4f-edaf5b21ea79",
   "metadata": {},
   "outputs": [],
   "source": [
    "import pandas as pd\n",
    "from sklearn.linear_model import LinearRegression\n",
    "from sklearn.model_selection import train_test_split\n",
    "import matplotlib.pyplot as plt\n",
    "%matplotlib inline\n",
    "from sklearn import metrics\n",
    "import numpy as np\n",
    "from sklearn.model_selection import KFold\n",
    "from sklearn.model_selection import cross_val_score\n",
    "import seaborn as sns\n",
    "from sklearn.utils import shuffle"
   ]
  },
  {
   "cell_type": "markdown",
   "id": "e62df298-c275-40a5-96ee-7f97312e2010",
   "metadata": {},
   "source": [
    "#### load wrangled dataset"
   ]
  },
  {
   "cell_type": "code",
   "execution_count": null,
   "id": "acc60ca7-5601-42a2-b9ff-d8540cafec3d",
   "metadata": {},
   "outputs": [],
   "source": [
    "cleanDummy = pd.read_csv('../Data/cleanDummyDropOL.csv')"
   ]
  },
  {
   "cell_type": "code",
   "execution_count": null,
   "id": "1b21f1e0-4c16-4c81-aa5d-8a887a6417c5",
   "metadata": {},
   "outputs": [],
   "source": [
    "cleanDummy.head()"
   ]
  },
  {
   "cell_type": "code",
   "execution_count": null,
   "id": "96a1b5c4-5915-486b-818b-c371a209a419",
   "metadata": {},
   "outputs": [],
   "source": [
    "# Drop Unnamed:0 col\n",
    "cleanDummy.drop('Unnamed: 0', axis=1, inplace=True) "
   ]
  },
  {
   "cell_type": "code",
   "execution_count": null,
   "id": "44f4ffa5-880d-4842-aff8-8f1befc761ab",
   "metadata": {},
   "outputs": [],
   "source": [
    "# create x and y variables as their own array\n",
    "x = cleanDummy[['totalIncome', 'famSize', 'ageYrs', 'yrsEmpl', 'UNEMPLOYED', 'genderR', 'ownsCarR', 'ownsRealtyR', 'eduLvlR', 'incomeTypeR', 'housingTypeR', 'famStatusR']]\n",
    "y = cleanDummy['ApprStatus']"
   ]
  },
  {
   "cell_type": "code",
   "execution_count": null,
   "id": "7c5d5bba-11bb-4a77-ae72-43d2fe6d4812",
   "metadata": {},
   "outputs": [],
   "source": [
    "# train test split\n",
    "x_train, x_test, y_train, y_test = train_test_split(x,y, test_size = .3, random_state=101)"
   ]
  },
  {
   "cell_type": "code",
   "execution_count": null,
   "id": "a2e25561-ab46-4d9a-adb0-58ee02a51d01",
   "metadata": {},
   "outputs": [],
   "source": [
    "# to see the shape of the data you'll be using for ML algorithm:\n",
    "print(x_train.shape, y_train.shape)\n",
    "print(x_test.shape, y_test.shape)"
   ]
  },
  {
   "cell_type": "code",
   "execution_count": null,
   "id": "af67d28a-2d05-4ae7-ae37-83e5143a297e",
   "metadata": {},
   "outputs": [],
   "source": [
    "# create the linear regression model\n",
    "lm = LinearRegression()\n",
    "lm.fit(x_train, y_train)"
   ]
  },
  {
   "cell_type": "markdown",
   "id": "0ad09a44-f5a8-42f6-b9ac-db38030ef5d9",
   "metadata": {},
   "source": [
    "## Cross validation and interpretation"
   ]
  },
  {
   "cell_type": "code",
   "execution_count": null,
   "id": "f2745fd8-621c-4a86-af75-78559a265301",
   "metadata": {},
   "outputs": [],
   "source": [
    "# see what predictions the model has made about CC approvals\n",
    "predictions1 = lm.predict(x_test)\n",
    "predictions1"
   ]
  },
  {
   "cell_type": "code",
   "execution_count": null,
   "id": "19ec4c43-bb86-4554-a38c-3488f8646daa",
   "metadata": {},
   "outputs": [],
   "source": [
    "# create a scatterplot of the output values to better visualize:\n",
    "plt.scatter(y_test, predictions1)"
   ]
  },
  {
   "cell_type": "code",
   "execution_count": null,
   "id": "1328c7d5-6c9a-4ab4-b27f-778a7792a66e",
   "metadata": {},
   "outputs": [],
   "source": [
    "# determine accuracy of the model through quantitative method: RMSE\n",
    "np.sqrt(metrics.mean_squared_error(y_test, predictions1))"
   ]
  },
  {
   "cell_type": "code",
   "execution_count": null,
   "id": "5a0128dd-6ff0-4963-92b9-9a0bdc0840f3",
   "metadata": {},
   "outputs": [],
   "source": [
    "# Accuracy score\n",
    "print(\"Score:\", lm.score(x_test, y_test))"
   ]
  },
  {
   "cell_type": "code",
   "execution_count": null,
   "id": "2579cf4d-7aeb-4e3e-bbad-e38fcf70e83c",
   "metadata": {},
   "outputs": [],
   "source": [
    "# Check Mean Square Error\n",
    "metrics.mean_squared_error(y_test, predictions1)"
   ]
  },
  {
   "cell_type": "markdown",
   "id": "35168b24-fe1a-4aa9-a2cf-af82121d0935",
   "metadata": {},
   "source": [
    "### This model predicts CC approval correctly -0.2% of the time.  This is not a very robust model at all"
   ]
  },
  {
   "cell_type": "code",
   "execution_count": null,
   "id": "49fc7185-1b54-4999-831f-e2aa0e3685db",
   "metadata": {},
   "outputs": [],
   "source": [
    "kfold = KFold(n_splits= 5, shuffle=True, random_state=1)\n",
    "for train, test in kfold.split(x,y):\n",
    "    print('train: %s, test: %s' % (train,test))"
   ]
  },
  {
   "cell_type": "code",
   "execution_count": null,
   "id": "dc88fed3-58ec-476c-b8d6-8e09a5d10059",
   "metadata": {},
   "outputs": [],
   "source": [
    "# run cross validation\n",
    "print(cross_val_score(lm, x,y, cv=12))"
   ]
  },
  {
   "cell_type": "markdown",
   "id": "34e95255-241f-4b81-a93c-e8c04c396d31",
   "metadata": {},
   "source": [
    "# Train a Model using Features Engineering (from Random Forest Modeling - BALANCED Dataset)"
   ]
  },
  {
   "cell_type": "code",
   "execution_count": 2,
   "id": "18e55353-2026-4fa1-90af-f211c4423c44",
   "metadata": {},
   "outputs": [],
   "source": [
    "# import BALANCED dataset\n",
    "balancedMF = pd.read_csv('../Data/balancedMF.csv')"
   ]
  },
  {
   "cell_type": "code",
   "execution_count": 3,
   "id": "4ac3082f-60cd-4954-8f74-0c24098dbb5b",
   "metadata": {},
   "outputs": [
    {
     "data": {
      "text/html": [
       "<div>\n",
       "<style scoped>\n",
       "    .dataframe tbody tr th:only-of-type {\n",
       "        vertical-align: middle;\n",
       "    }\n",
       "\n",
       "    .dataframe tbody tr th {\n",
       "        vertical-align: top;\n",
       "    }\n",
       "\n",
       "    .dataframe thead th {\n",
       "        text-align: right;\n",
       "    }\n",
       "</style>\n",
       "<table border=\"1\" class=\"dataframe\">\n",
       "  <thead>\n",
       "    <tr style=\"text-align: right;\">\n",
       "      <th></th>\n",
       "      <th>Unnamed: 0</th>\n",
       "      <th>totalIncome</th>\n",
       "      <th>famSize</th>\n",
       "      <th>ageYrs</th>\n",
       "      <th>yrsEmpl</th>\n",
       "      <th>UNEMPLOYED</th>\n",
       "      <th>ApprStatus</th>\n",
       "      <th>ownsCarR</th>\n",
       "      <th>ownsRealtyR</th>\n",
       "      <th>eduLvlR</th>\n",
       "      <th>incomeTypeR</th>\n",
       "      <th>housingTypeR</th>\n",
       "      <th>famStatusR</th>\n",
       "      <th>genderR</th>\n",
       "    </tr>\n",
       "  </thead>\n",
       "  <tbody>\n",
       "    <tr>\n",
       "      <th>0</th>\n",
       "      <td>0</td>\n",
       "      <td>238500.0</td>\n",
       "      <td>2.0</td>\n",
       "      <td>47.0</td>\n",
       "      <td>13.599184</td>\n",
       "      <td>1</td>\n",
       "      <td>1</td>\n",
       "      <td>0</td>\n",
       "      <td>1</td>\n",
       "      <td>0</td>\n",
       "      <td>0</td>\n",
       "      <td>1</td>\n",
       "      <td>1</td>\n",
       "      <td>0</td>\n",
       "    </tr>\n",
       "    <tr>\n",
       "      <th>1</th>\n",
       "      <td>1</td>\n",
       "      <td>135000.0</td>\n",
       "      <td>3.0</td>\n",
       "      <td>41.0</td>\n",
       "      <td>4.799551</td>\n",
       "      <td>1</td>\n",
       "      <td>0</td>\n",
       "      <td>1</td>\n",
       "      <td>1</td>\n",
       "      <td>1</td>\n",
       "      <td>0</td>\n",
       "      <td>1</td>\n",
       "      <td>1</td>\n",
       "      <td>0</td>\n",
       "    </tr>\n",
       "    <tr>\n",
       "      <th>2</th>\n",
       "      <td>2</td>\n",
       "      <td>157500.0</td>\n",
       "      <td>2.0</td>\n",
       "      <td>40.0</td>\n",
       "      <td>12.506759</td>\n",
       "      <td>1</td>\n",
       "      <td>0</td>\n",
       "      <td>0</td>\n",
       "      <td>1</td>\n",
       "      <td>1</td>\n",
       "      <td>0</td>\n",
       "      <td>1</td>\n",
       "      <td>1</td>\n",
       "      <td>0</td>\n",
       "    </tr>\n",
       "    <tr>\n",
       "      <th>3</th>\n",
       "      <td>3</td>\n",
       "      <td>225000.0</td>\n",
       "      <td>2.0</td>\n",
       "      <td>24.0</td>\n",
       "      <td>0.257363</td>\n",
       "      <td>1</td>\n",
       "      <td>1</td>\n",
       "      <td>0</td>\n",
       "      <td>1</td>\n",
       "      <td>2</td>\n",
       "      <td>1</td>\n",
       "      <td>1</td>\n",
       "      <td>0</td>\n",
       "      <td>0</td>\n",
       "    </tr>\n",
       "    <tr>\n",
       "      <th>4</th>\n",
       "      <td>4</td>\n",
       "      <td>67500.0</td>\n",
       "      <td>2.0</td>\n",
       "      <td>37.0</td>\n",
       "      <td>3.263585</td>\n",
       "      <td>1</td>\n",
       "      <td>1</td>\n",
       "      <td>0</td>\n",
       "      <td>1</td>\n",
       "      <td>1</td>\n",
       "      <td>0</td>\n",
       "      <td>1</td>\n",
       "      <td>2</td>\n",
       "      <td>0</td>\n",
       "    </tr>\n",
       "  </tbody>\n",
       "</table>\n",
       "</div>"
      ],
      "text/plain": [
       "   Unnamed: 0  totalIncome  famSize  ageYrs    yrsEmpl  UNEMPLOYED  \\\n",
       "0           0     238500.0      2.0    47.0  13.599184           1   \n",
       "1           1     135000.0      3.0    41.0   4.799551           1   \n",
       "2           2     157500.0      2.0    40.0  12.506759           1   \n",
       "3           3     225000.0      2.0    24.0   0.257363           1   \n",
       "4           4      67500.0      2.0    37.0   3.263585           1   \n",
       "\n",
       "   ApprStatus  ownsCarR  ownsRealtyR  eduLvlR  incomeTypeR  housingTypeR  \\\n",
       "0           1         0            1        0            0             1   \n",
       "1           0         1            1        1            0             1   \n",
       "2           0         0            1        1            0             1   \n",
       "3           1         0            1        2            1             1   \n",
       "4           1         0            1        1            0             1   \n",
       "\n",
       "   famStatusR  genderR  \n",
       "0           1        0  \n",
       "1           1        0  \n",
       "2           1        0  \n",
       "3           0        0  \n",
       "4           2        0  "
      ]
     },
     "execution_count": 3,
     "metadata": {},
     "output_type": "execute_result"
    }
   ],
   "source": [
    "balancedMF.head()"
   ]
  },
  {
   "cell_type": "code",
   "execution_count": 4,
   "id": "8d303ffa-76a7-41e9-a3f6-3901806ee75a",
   "metadata": {},
   "outputs": [],
   "source": [
    "# Drop Unnamed:0 col\n",
    "balancedMF.drop('Unnamed: 0', axis=1, inplace=True) "
   ]
  },
  {
   "cell_type": "code",
   "execution_count": 20,
   "id": "20c60b91-0a5b-46d6-ab12-9468101e700c",
   "metadata": {},
   "outputs": [],
   "source": [
    "# create x and y variables as their own array using top 3 features of importance\n",
    "xbal = balancedMF[['totalIncome', 'ageYrs', 'yrsEmpl']]\n",
    "ybal = balancedMF['ApprStatus']"
   ]
  },
  {
   "cell_type": "code",
   "execution_count": 21,
   "id": "d046bbce-d5dc-4829-9989-a67a7d76d0e0",
   "metadata": {},
   "outputs": [],
   "source": [
    "# train test split\n",
    "x_train, x_test, y_train, y_test = train_test_split(xbal,ybal, test_size = .3, random_state=101)"
   ]
  },
  {
   "cell_type": "code",
   "execution_count": 22,
   "id": "a1be8112-605e-4d84-a11a-4ace26f89265",
   "metadata": {},
   "outputs": [
    {
     "name": "stdout",
     "output_type": "stream",
     "text": [
      "(5700, 3) (5700,)\n",
      "(3800, 3) (3800,)\n"
     ]
    }
   ],
   "source": [
    "# to see the shape of the data you'll be using for ML algorithm:\n",
    "print(x_train.shape, y_train.shape)\n",
    "print(x_test.shape, y_test.shape)"
   ]
  },
  {
   "cell_type": "code",
   "execution_count": 8,
   "id": "6f361c59-02ea-4099-8788-7eed81570a5f",
   "metadata": {},
   "outputs": [
    {
     "data": {
      "text/html": [
       "<style>#sk-container-id-1 {color: black;background-color: white;}#sk-container-id-1 pre{padding: 0;}#sk-container-id-1 div.sk-toggleable {background-color: white;}#sk-container-id-1 label.sk-toggleable__label {cursor: pointer;display: block;width: 100%;margin-bottom: 0;padding: 0.3em;box-sizing: border-box;text-align: center;}#sk-container-id-1 label.sk-toggleable__label-arrow:before {content: \"▸\";float: left;margin-right: 0.25em;color: #696969;}#sk-container-id-1 label.sk-toggleable__label-arrow:hover:before {color: black;}#sk-container-id-1 div.sk-estimator:hover label.sk-toggleable__label-arrow:before {color: black;}#sk-container-id-1 div.sk-toggleable__content {max-height: 0;max-width: 0;overflow: hidden;text-align: left;background-color: #f0f8ff;}#sk-container-id-1 div.sk-toggleable__content pre {margin: 0.2em;color: black;border-radius: 0.25em;background-color: #f0f8ff;}#sk-container-id-1 input.sk-toggleable__control:checked~div.sk-toggleable__content {max-height: 200px;max-width: 100%;overflow: auto;}#sk-container-id-1 input.sk-toggleable__control:checked~label.sk-toggleable__label-arrow:before {content: \"▾\";}#sk-container-id-1 div.sk-estimator input.sk-toggleable__control:checked~label.sk-toggleable__label {background-color: #d4ebff;}#sk-container-id-1 div.sk-label input.sk-toggleable__control:checked~label.sk-toggleable__label {background-color: #d4ebff;}#sk-container-id-1 input.sk-hidden--visually {border: 0;clip: rect(1px 1px 1px 1px);clip: rect(1px, 1px, 1px, 1px);height: 1px;margin: -1px;overflow: hidden;padding: 0;position: absolute;width: 1px;}#sk-container-id-1 div.sk-estimator {font-family: monospace;background-color: #f0f8ff;border: 1px dotted black;border-radius: 0.25em;box-sizing: border-box;margin-bottom: 0.5em;}#sk-container-id-1 div.sk-estimator:hover {background-color: #d4ebff;}#sk-container-id-1 div.sk-parallel-item::after {content: \"\";width: 100%;border-bottom: 1px solid gray;flex-grow: 1;}#sk-container-id-1 div.sk-label:hover label.sk-toggleable__label {background-color: #d4ebff;}#sk-container-id-1 div.sk-serial::before {content: \"\";position: absolute;border-left: 1px solid gray;box-sizing: border-box;top: 0;bottom: 0;left: 50%;z-index: 0;}#sk-container-id-1 div.sk-serial {display: flex;flex-direction: column;align-items: center;background-color: white;padding-right: 0.2em;padding-left: 0.2em;position: relative;}#sk-container-id-1 div.sk-item {position: relative;z-index: 1;}#sk-container-id-1 div.sk-parallel {display: flex;align-items: stretch;justify-content: center;background-color: white;position: relative;}#sk-container-id-1 div.sk-item::before, #sk-container-id-1 div.sk-parallel-item::before {content: \"\";position: absolute;border-left: 1px solid gray;box-sizing: border-box;top: 0;bottom: 0;left: 50%;z-index: -1;}#sk-container-id-1 div.sk-parallel-item {display: flex;flex-direction: column;z-index: 1;position: relative;background-color: white;}#sk-container-id-1 div.sk-parallel-item:first-child::after {align-self: flex-end;width: 50%;}#sk-container-id-1 div.sk-parallel-item:last-child::after {align-self: flex-start;width: 50%;}#sk-container-id-1 div.sk-parallel-item:only-child::after {width: 0;}#sk-container-id-1 div.sk-dashed-wrapped {border: 1px dashed gray;margin: 0 0.4em 0.5em 0.4em;box-sizing: border-box;padding-bottom: 0.4em;background-color: white;}#sk-container-id-1 div.sk-label label {font-family: monospace;font-weight: bold;display: inline-block;line-height: 1.2em;}#sk-container-id-1 div.sk-label-container {text-align: center;}#sk-container-id-1 div.sk-container {/* jupyter's `normalize.less` sets `[hidden] { display: none; }` but bootstrap.min.css set `[hidden] { display: none !important; }` so we also need the `!important` here to be able to override the default hidden behavior on the sphinx rendered scikit-learn.org. See: https://github.com/scikit-learn/scikit-learn/issues/21755 */display: inline-block !important;position: relative;}#sk-container-id-1 div.sk-text-repr-fallback {display: none;}</style><div id=\"sk-container-id-1\" class=\"sk-top-container\"><div class=\"sk-text-repr-fallback\"><pre>LinearRegression()</pre><b>In a Jupyter environment, please rerun this cell to show the HTML representation or trust the notebook. <br />On GitHub, the HTML representation is unable to render, please try loading this page with nbviewer.org.</b></div><div class=\"sk-container\" hidden><div class=\"sk-item\"><div class=\"sk-estimator sk-toggleable\"><input class=\"sk-toggleable__control sk-hidden--visually\" id=\"sk-estimator-id-1\" type=\"checkbox\" checked><label for=\"sk-estimator-id-1\" class=\"sk-toggleable__label sk-toggleable__label-arrow\">LinearRegression</label><div class=\"sk-toggleable__content\"><pre>LinearRegression()</pre></div></div></div></div></div>"
      ],
      "text/plain": [
       "LinearRegression()"
      ]
     },
     "execution_count": 8,
     "metadata": {},
     "output_type": "execute_result"
    }
   ],
   "source": [
    "# create the linear regression model\n",
    "lm2 = LinearRegression()\n",
    "lm2.fit(x_train, y_train)"
   ]
  },
  {
   "cell_type": "markdown",
   "id": "9e45722e-e609-4304-98ce-0f2f62a35088",
   "metadata": {},
   "source": [
    "## Cross Validation and Interpretation using BALANCED Data, feature engineering"
   ]
  },
  {
   "cell_type": "code",
   "execution_count": 9,
   "id": "d54bcc0d-d35c-4d8f-85c3-1cd950b25f5b",
   "metadata": {},
   "outputs": [
    {
     "data": {
      "text/plain": [
       "array([0.51760574, 0.52825271, 0.52361289, ..., 0.51856533, 0.53290234,\n",
       "       0.51877078])"
      ]
     },
     "execution_count": 9,
     "metadata": {},
     "output_type": "execute_result"
    }
   ],
   "source": [
    "# see what predictions the model has made about CC approvals\n",
    "predictions2 = lm2.predict(x_test)\n",
    "predictions2"
   ]
  },
  {
   "cell_type": "code",
   "execution_count": 10,
   "id": "eea93ff4-f59d-43b7-abaa-1ed88fe002d9",
   "metadata": {},
   "outputs": [
    {
     "data": {
      "text/plain": [
       "<matplotlib.collections.PathCollection at 0x1e94fb2db40>"
      ]
     },
     "execution_count": 10,
     "metadata": {},
     "output_type": "execute_result"
    },
    {
     "data": {
      "image/png": "[encoded data removed]",
      "text/plain": [
       "<Figure size 432x288 with 1 Axes>"
      ]
     },
     "metadata": {
      "needs_background": "light"
     },
     "output_type": "display_data"
    }
   ],
   "source": [
    "# create a scatterplot of the output values to better visualize:\n",
    "plt.scatter(y_test, predictions2)"
   ]
  },
  {
   "cell_type": "code",
   "execution_count": 23,
   "id": "4cbd925b-bf93-4352-8d0b-601f709abb22",
   "metadata": {},
   "outputs": [
    {
     "name": "stdout",
     "output_type": "stream",
     "text": [
      "Score: -0.001043249642636912\n"
     ]
    }
   ],
   "source": [
    "# hard to tell from the plot if our model has a good fit, so try an accuracy score\n",
    "\n",
    "print(\"Score:\", lm2.score(x_test, y_test))"
   ]
  },
  {
   "cell_type": "code",
   "execution_count": 11,
   "id": "4cf886f5-729b-42e2-850b-ae8cd8a1b0d5",
   "metadata": {},
   "outputs": [
    {
     "data": {
      "text/plain": [
       "0.4999211169967702"
      ]
     },
     "execution_count": 11,
     "metadata": {},
     "output_type": "execute_result"
    }
   ],
   "source": [
    "# determine accuracy of the model through quantitative method: RMSE\n",
    "np.sqrt(metrics.mean_squared_error(y_test, predictions2))"
   ]
  },
  {
   "cell_type": "code",
   "execution_count": 24,
   "id": "adfdf282-7838-409f-a98e-9907d11af5fa",
   "metadata": {},
   "outputs": [
    {
     "data": {
      "text/plain": [
       "0.4999211169967702"
      ]
     },
     "execution_count": 24,
     "metadata": {},
     "output_type": "execute_result"
    }
   ],
   "source": [
    "# Check Root Mean Square Error\n",
    "np.sqrt(metrics.mean_squared_error(y_test, predictions2))"
   ]
  },
  {
   "cell_type": "code",
   "execution_count": 27,
   "id": "2aeb08e1-049d-46df-b310-c3612376b7cd",
   "metadata": {},
   "outputs": [
    {
     "name": "stdout",
     "output_type": "stream",
     "text": [
      "train: [   0    1    2 ... 9497 9498 9499], test: [   6    7   21 ... 9489 9491 9494]\n",
      "train: [   0    1    2 ... 9495 9497 9499], test: [   3   11   16 ... 9493 9496 9498]\n",
      "train: [   0    2    3 ... 9495 9496 9498], test: [   1    4    5 ... 9490 9497 9499]\n",
      "train: [   0    1    2 ... 9497 9498 9499], test: [   9   10   14 ... 9478 9480 9492]\n",
      "train: [   1    3    4 ... 9497 9498 9499], test: [   0    2    8 ... 9483 9486 9495]\n"
     ]
    }
   ],
   "source": [
    "# Create the Folds\n",
    "kfold2 = KFold(n_splits= 5, shuffle=True, random_state=1)\n",
    "for train, test in kfold2.split(xbal,ybal):\n",
    "    print('train: %s, test: %s' % (train,test))"
   ]
  },
  {
   "cell_type": "code",
   "execution_count": 26,
   "id": "fca69c1f-3921-4465-a29a-66a55fc553f3",
   "metadata": {},
   "outputs": [
    {
     "name": "stdout",
     "output_type": "stream",
     "text": [
      "[-0.00293363 -0.00172418 -0.00023806]\n"
     ]
    }
   ],
   "source": [
    "# run cross validation\n",
    "print(cross_val_score(lm2, xbal,ybal, cv=3))"
   ]
  },
  {
   "cell_type": "markdown",
   "id": "a72ade44-030e-4112-8b49-a87e80133245",
   "metadata": {},
   "source": [
    "## Observations (Balanced data, training on features of importance)"
   ]
  },
  {
   "cell_type": "markdown",
   "id": "b77f46ae-9c1e-40bd-a9db-032e90089021",
   "metadata": {},
   "source": [
    "* The overall accuracy of my model was pitiful, at -0.1%.\n",
    "* The output of 0.249 from the Mean Square Error tells me that the model can't be too bad because it's a value close to zero.\n",
    "* Upon running a K-folds cross validation, the first model was accurate -0.2% of the time, the second was accurate -0.1% of the time, and the third was accurate -0.02% of the time.  "
   ]
  },
  {
   "cell_type": "code",
   "execution_count": null,
   "id": "6bb2ba7b-2609-4c28-873b-c94c325b7fe0",
   "metadata": {},
   "outputs": [],
   "source": []
  }
 ],
 "metadata": {
  "kernelspec": {
   "display_name": "Python 3 (ipykernel)",
   "language": "python",
   "name": "python3"
  },
  "language_info": {
   "codemirror_mode": {
    "name": "ipython",
    "version": 3
   },
   "file_extension": ".py",
   "mimetype": "text/x-python",
   "name": "python",
   "nbconvert_exporter": "python",
   "pygments_lexer": "ipython3",
   "version": "3.10.4"
  }
 },
 "nbformat": 4,
 "nbformat_minor": 5
}
