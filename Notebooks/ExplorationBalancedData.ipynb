{
 "cells": [
  {
   "cell_type": "markdown",
   "id": "1eaff44e-6d4f-46f7-8dd5-b94af58a3543",
   "metadata": {},
   "source": [
    "# Data Exploration - Undersampled Data + Independent Chi-Squares Analysis"
   ]
  },
  {
   "cell_type": "code",
   "execution_count": 19,
   "id": "882c1fff-4266-42ce-a3ae-5b6b8d9c4648",
   "metadata": {},
   "outputs": [],
   "source": [
    "#Basics\n",
    "import numpy as np\n",
    "import pandas as pd\n",
    "import matplotlib.pyplot as plt\n",
    "%matplotlib inline\n",
    "import seaborn as sns\n",
    "import plotly as py\n",
    "import datetime as dt\n",
    "import scipy as scp\n",
    "from scipy import stats\n",
    "from scipy.stats import ttest_ind\n",
    "\n",
    "#for plotting\n",
    "import matplotlib.pyplot as plt\n",
    "import seaborn as sns\n",
    "%matplotlib inline\n",
    "sns.set(color_codes=True)\n",
    "\n",
    "import warnings\n",
    "warnings.filterwarnings('ignore')"
   ]
  },
  {
   "cell_type": "code",
   "execution_count": 2,
   "id": "da7f17b8-9340-42b6-8700-7cbccc504a12",
   "metadata": {},
   "outputs": [],
   "source": [
    "# import dataset\n",
    "balancedMF = pd.read_csv('../Data/balancedMF.csv')"
   ]
  },
  {
   "cell_type": "code",
   "execution_count": 3,
   "id": "c500454f-27d7-4ae3-b9a1-893668176f94",
   "metadata": {},
   "outputs": [],
   "source": [
    "# Drop Unnamed:0 col\n",
    "balancedMF.drop('Unnamed: 0', axis=1, inplace=True) "
   ]
  },
  {
   "cell_type": "code",
   "execution_count": 4,
   "id": "e1f69fa3-5640-4a64-8cb6-cdebdfe6cc82",
   "metadata": {},
   "outputs": [],
   "source": [
    "# sort dataFrame by genderR column to cross check original values\n",
    "balancedMF2= balancedMF.sort_values('genderR')"
   ]
  },
  {
   "cell_type": "code",
   "execution_count": 5,
   "id": "6188aa0c-a514-4cf5-9987-22a56d9b3078",
   "metadata": {},
   "outputs": [
    {
     "data": {
      "text/html": [
       "<div>\n",
       "<style scoped>\n",
       "    .dataframe tbody tr th:only-of-type {\n",
       "        vertical-align: middle;\n",
       "    }\n",
       "\n",
       "    .dataframe tbody tr th {\n",
       "        vertical-align: top;\n",
       "    }\n",
       "\n",
       "    .dataframe thead th {\n",
       "        text-align: right;\n",
       "    }\n",
       "</style>\n",
       "<table border=\"1\" class=\"dataframe\">\n",
       "  <thead>\n",
       "    <tr style=\"text-align: right;\">\n",
       "      <th></th>\n",
       "      <th>totalIncome</th>\n",
       "      <th>famSize</th>\n",
       "      <th>ageYrs</th>\n",
       "      <th>yrsEmpl</th>\n",
       "      <th>UNEMPLOYED</th>\n",
       "      <th>ApprStatus</th>\n",
       "      <th>ownsCarR</th>\n",
       "      <th>ownsRealtyR</th>\n",
       "      <th>eduLvlR</th>\n",
       "      <th>incomeTypeR</th>\n",
       "      <th>housingTypeR</th>\n",
       "      <th>famStatusR</th>\n",
       "      <th>genderR</th>\n",
       "    </tr>\n",
       "  </thead>\n",
       "  <tbody>\n",
       "    <tr>\n",
       "      <th>0</th>\n",
       "      <td>238500.0</td>\n",
       "      <td>2.0</td>\n",
       "      <td>47.0</td>\n",
       "      <td>13.599184</td>\n",
       "      <td>1</td>\n",
       "      <td>1</td>\n",
       "      <td>0</td>\n",
       "      <td>1</td>\n",
       "      <td>0</td>\n",
       "      <td>0</td>\n",
       "      <td>1</td>\n",
       "      <td>1</td>\n",
       "      <td>0</td>\n",
       "    </tr>\n",
       "    <tr>\n",
       "      <th>3170</th>\n",
       "      <td>202500.0</td>\n",
       "      <td>3.0</td>\n",
       "      <td>38.0</td>\n",
       "      <td>6.926905</td>\n",
       "      <td>1</td>\n",
       "      <td>1</td>\n",
       "      <td>1</td>\n",
       "      <td>1</td>\n",
       "      <td>1</td>\n",
       "      <td>3</td>\n",
       "      <td>1</td>\n",
       "      <td>0</td>\n",
       "      <td>0</td>\n",
       "    </tr>\n",
       "    <tr>\n",
       "      <th>3169</th>\n",
       "      <td>180000.0</td>\n",
       "      <td>2.0</td>\n",
       "      <td>43.0</td>\n",
       "      <td>3.280013</td>\n",
       "      <td>1</td>\n",
       "      <td>1</td>\n",
       "      <td>1</td>\n",
       "      <td>1</td>\n",
       "      <td>1</td>\n",
       "      <td>1</td>\n",
       "      <td>1</td>\n",
       "      <td>1</td>\n",
       "      <td>0</td>\n",
       "    </tr>\n",
       "    <tr>\n",
       "      <th>3168</th>\n",
       "      <td>247500.0</td>\n",
       "      <td>2.0</td>\n",
       "      <td>42.0</td>\n",
       "      <td>1.533228</td>\n",
       "      <td>1</td>\n",
       "      <td>0</td>\n",
       "      <td>0</td>\n",
       "      <td>1</td>\n",
       "      <td>1</td>\n",
       "      <td>1</td>\n",
       "      <td>1</td>\n",
       "      <td>1</td>\n",
       "      <td>0</td>\n",
       "    </tr>\n",
       "    <tr>\n",
       "      <th>3167</th>\n",
       "      <td>117000.0</td>\n",
       "      <td>2.0</td>\n",
       "      <td>26.0</td>\n",
       "      <td>2.817306</td>\n",
       "      <td>1</td>\n",
       "      <td>1</td>\n",
       "      <td>0</td>\n",
       "      <td>1</td>\n",
       "      <td>1</td>\n",
       "      <td>0</td>\n",
       "      <td>1</td>\n",
       "      <td>1</td>\n",
       "      <td>0</td>\n",
       "    </tr>\n",
       "    <tr>\n",
       "      <th>...</th>\n",
       "      <td>...</td>\n",
       "      <td>...</td>\n",
       "      <td>...</td>\n",
       "      <td>...</td>\n",
       "      <td>...</td>\n",
       "      <td>...</td>\n",
       "      <td>...</td>\n",
       "      <td>...</td>\n",
       "      <td>...</td>\n",
       "      <td>...</td>\n",
       "      <td>...</td>\n",
       "      <td>...</td>\n",
       "      <td>...</td>\n",
       "    </tr>\n",
       "    <tr>\n",
       "      <th>6330</th>\n",
       "      <td>135000.0</td>\n",
       "      <td>3.0</td>\n",
       "      <td>43.0</td>\n",
       "      <td>7.293784</td>\n",
       "      <td>1</td>\n",
       "      <td>1</td>\n",
       "      <td>0</td>\n",
       "      <td>0</td>\n",
       "      <td>1</td>\n",
       "      <td>0</td>\n",
       "      <td>5</td>\n",
       "      <td>1</td>\n",
       "      <td>1</td>\n",
       "    </tr>\n",
       "    <tr>\n",
       "      <th>6329</th>\n",
       "      <td>135000.0</td>\n",
       "      <td>2.0</td>\n",
       "      <td>50.0</td>\n",
       "      <td>9.538868</td>\n",
       "      <td>1</td>\n",
       "      <td>1</td>\n",
       "      <td>1</td>\n",
       "      <td>0</td>\n",
       "      <td>1</td>\n",
       "      <td>0</td>\n",
       "      <td>1</td>\n",
       "      <td>1</td>\n",
       "      <td>1</td>\n",
       "    </tr>\n",
       "    <tr>\n",
       "      <th>6328</th>\n",
       "      <td>135000.0</td>\n",
       "      <td>2.0</td>\n",
       "      <td>50.0</td>\n",
       "      <td>9.538868</td>\n",
       "      <td>1</td>\n",
       "      <td>0</td>\n",
       "      <td>1</td>\n",
       "      <td>0</td>\n",
       "      <td>1</td>\n",
       "      <td>0</td>\n",
       "      <td>1</td>\n",
       "      <td>1</td>\n",
       "      <td>1</td>\n",
       "    </tr>\n",
       "    <tr>\n",
       "      <th>6326</th>\n",
       "      <td>540000.0</td>\n",
       "      <td>2.0</td>\n",
       "      <td>48.0</td>\n",
       "      <td>16.706709</td>\n",
       "      <td>1</td>\n",
       "      <td>0</td>\n",
       "      <td>1</td>\n",
       "      <td>0</td>\n",
       "      <td>0</td>\n",
       "      <td>1</td>\n",
       "      <td>1</td>\n",
       "      <td>1</td>\n",
       "      <td>1</td>\n",
       "    </tr>\n",
       "    <tr>\n",
       "      <th>9499</th>\n",
       "      <td>202500.0</td>\n",
       "      <td>2.0</td>\n",
       "      <td>54.0</td>\n",
       "      <td>5.930307</td>\n",
       "      <td>1</td>\n",
       "      <td>1</td>\n",
       "      <td>1</td>\n",
       "      <td>0</td>\n",
       "      <td>1</td>\n",
       "      <td>0</td>\n",
       "      <td>1</td>\n",
       "      <td>1</td>\n",
       "      <td>1</td>\n",
       "    </tr>\n",
       "  </tbody>\n",
       "</table>\n",
       "<p>9500 rows × 13 columns</p>\n",
       "</div>"
      ],
      "text/plain": [
       "      totalIncome  famSize  ageYrs    yrsEmpl  UNEMPLOYED  ApprStatus  \\\n",
       "0        238500.0      2.0    47.0  13.599184           1           1   \n",
       "3170     202500.0      3.0    38.0   6.926905           1           1   \n",
       "3169     180000.0      2.0    43.0   3.280013           1           1   \n",
       "3168     247500.0      2.0    42.0   1.533228           1           0   \n",
       "3167     117000.0      2.0    26.0   2.817306           1           1   \n",
       "...           ...      ...     ...        ...         ...         ...   \n",
       "6330     135000.0      3.0    43.0   7.293784           1           1   \n",
       "6329     135000.0      2.0    50.0   9.538868           1           1   \n",
       "6328     135000.0      2.0    50.0   9.538868           1           0   \n",
       "6326     540000.0      2.0    48.0  16.706709           1           0   \n",
       "9499     202500.0      2.0    54.0   5.930307           1           1   \n",
       "\n",
       "      ownsCarR  ownsRealtyR  eduLvlR  incomeTypeR  housingTypeR  famStatusR  \\\n",
       "0            0            1        0            0             1           1   \n",
       "3170         1            1        1            3             1           0   \n",
       "3169         1            1        1            1             1           1   \n",
       "3168         0            1        1            1             1           1   \n",
       "3167         0            1        1            0             1           1   \n",
       "...        ...          ...      ...          ...           ...         ...   \n",
       "6330         0            0        1            0             5           1   \n",
       "6329         1            0        1            0             1           1   \n",
       "6328         1            0        1            0             1           1   \n",
       "6326         1            0        0            1             1           1   \n",
       "9499         1            0        1            0             1           1   \n",
       "\n",
       "      genderR  \n",
       "0           0  \n",
       "3170        0  \n",
       "3169        0  \n",
       "3168        0  \n",
       "3167        0  \n",
       "...       ...  \n",
       "6330        1  \n",
       "6329        1  \n",
       "6328        1  \n",
       "6326        1  \n",
       "9499        1  \n",
       "\n",
       "[9500 rows x 13 columns]"
      ]
     },
     "execution_count": 5,
     "metadata": {},
     "output_type": "execute_result"
    }
   ],
   "source": [
    "balancedMF2"
   ]
  },
  {
   "cell_type": "code",
   "execution_count": 6,
   "id": "bb279a4a-8d15-45b2-9e90-36fd6d759360",
   "metadata": {},
   "outputs": [
    {
     "name": "stdout",
     "output_type": "stream",
     "text": [
      "<class 'pandas.core.frame.DataFrame'>\n",
      "RangeIndex: 9500 entries, 0 to 9499\n",
      "Data columns (total 13 columns):\n",
      " #   Column        Non-Null Count  Dtype  \n",
      "---  ------        --------------  -----  \n",
      " 0   totalIncome   9500 non-null   float64\n",
      " 1   famSize       9500 non-null   float64\n",
      " 2   ageYrs        9500 non-null   float64\n",
      " 3   yrsEmpl       9500 non-null   float64\n",
      " 4   UNEMPLOYED    9500 non-null   int64  \n",
      " 5   ApprStatus    9500 non-null   int64  \n",
      " 6   ownsCarR      9500 non-null   int64  \n",
      " 7   ownsRealtyR   9500 non-null   int64  \n",
      " 8   eduLvlR       9500 non-null   int64  \n",
      " 9   incomeTypeR   9500 non-null   int64  \n",
      " 10  housingTypeR  9500 non-null   int64  \n",
      " 11  famStatusR    9500 non-null   int64  \n",
      " 12  genderR       9500 non-null   int64  \n",
      "dtypes: float64(4), int64(9)\n",
      "memory usage: 965.0 KB\n"
     ]
    }
   ],
   "source": [
    "balancedMF.info()"
   ]
  },
  {
   "cell_type": "code",
   "execution_count": 7,
   "id": "f299b714-3e0b-4646-9471-c57f488f60a3",
   "metadata": {},
   "outputs": [
    {
     "data": {
      "text/html": [
       "<div>\n",
       "<style scoped>\n",
       "    .dataframe tbody tr th:only-of-type {\n",
       "        vertical-align: middle;\n",
       "    }\n",
       "\n",
       "    .dataframe tbody tr th {\n",
       "        vertical-align: top;\n",
       "    }\n",
       "\n",
       "    .dataframe thead th {\n",
       "        text-align: right;\n",
       "    }\n",
       "</style>\n",
       "<table border=\"1\" class=\"dataframe\">\n",
       "  <thead>\n",
       "    <tr style=\"text-align: right;\">\n",
       "      <th></th>\n",
       "      <th>totalIncome</th>\n",
       "      <th>famSize</th>\n",
       "      <th>ageYrs</th>\n",
       "      <th>yrsEmpl</th>\n",
       "      <th>UNEMPLOYED</th>\n",
       "      <th>ApprStatus</th>\n",
       "      <th>ownsCarR</th>\n",
       "      <th>ownsRealtyR</th>\n",
       "      <th>eduLvlR</th>\n",
       "      <th>incomeTypeR</th>\n",
       "      <th>housingTypeR</th>\n",
       "      <th>famStatusR</th>\n",
       "      <th>genderR</th>\n",
       "    </tr>\n",
       "  </thead>\n",
       "  <tbody>\n",
       "    <tr>\n",
       "      <th>count</th>\n",
       "      <td>9.500000e+03</td>\n",
       "      <td>9500.000000</td>\n",
       "      <td>9500.000000</td>\n",
       "      <td>9500.000000</td>\n",
       "      <td>9500.000000</td>\n",
       "      <td>9500.000000</td>\n",
       "      <td>9500.000000</td>\n",
       "      <td>9500.000000</td>\n",
       "      <td>9500.000000</td>\n",
       "      <td>9500.000000</td>\n",
       "      <td>9500.000000</td>\n",
       "      <td>9500.000000</td>\n",
       "      <td>9500.000000</td>\n",
       "    </tr>\n",
       "    <tr>\n",
       "      <th>mean</th>\n",
       "      <td>1.907839e+05</td>\n",
       "      <td>2.215474</td>\n",
       "      <td>43.254211</td>\n",
       "      <td>5.872936</td>\n",
       "      <td>0.866737</td>\n",
       "      <td>0.521789</td>\n",
       "      <td>0.430842</td>\n",
       "      <td>0.655474</td>\n",
       "      <td>0.804842</td>\n",
       "      <td>0.740105</td>\n",
       "      <td>1.166421</td>\n",
       "      <td>1.268842</td>\n",
       "      <td>0.500000</td>\n",
       "    </tr>\n",
       "    <tr>\n",
       "      <th>std</th>\n",
       "      <td>1.029051e+05</td>\n",
       "      <td>0.943834</td>\n",
       "      <td>11.341065</td>\n",
       "      <td>6.214874</td>\n",
       "      <td>0.339877</td>\n",
       "      <td>0.499551</td>\n",
       "      <td>0.495220</td>\n",
       "      <td>0.475239</td>\n",
       "      <td>0.563868</td>\n",
       "      <td>0.953897</td>\n",
       "      <td>0.640255</td>\n",
       "      <td>0.820786</td>\n",
       "      <td>0.500026</td>\n",
       "    </tr>\n",
       "    <tr>\n",
       "      <th>min</th>\n",
       "      <td>2.700000e+04</td>\n",
       "      <td>1.000000</td>\n",
       "      <td>22.000000</td>\n",
       "      <td>0.000000</td>\n",
       "      <td>0.000000</td>\n",
       "      <td>0.000000</td>\n",
       "      <td>0.000000</td>\n",
       "      <td>0.000000</td>\n",
       "      <td>0.000000</td>\n",
       "      <td>0.000000</td>\n",
       "      <td>0.000000</td>\n",
       "      <td>0.000000</td>\n",
       "      <td>0.000000</td>\n",
       "    </tr>\n",
       "    <tr>\n",
       "      <th>25%</th>\n",
       "      <td>1.260000e+05</td>\n",
       "      <td>2.000000</td>\n",
       "      <td>34.000000</td>\n",
       "      <td>1.284078</td>\n",
       "      <td>1.000000</td>\n",
       "      <td>0.000000</td>\n",
       "      <td>0.000000</td>\n",
       "      <td>0.000000</td>\n",
       "      <td>0.000000</td>\n",
       "      <td>0.000000</td>\n",
       "      <td>1.000000</td>\n",
       "      <td>1.000000</td>\n",
       "      <td>0.000000</td>\n",
       "    </tr>\n",
       "    <tr>\n",
       "      <th>50%</th>\n",
       "      <td>1.710000e+05</td>\n",
       "      <td>2.000000</td>\n",
       "      <td>42.000000</td>\n",
       "      <td>4.098647</td>\n",
       "      <td>1.000000</td>\n",
       "      <td>1.000000</td>\n",
       "      <td>0.000000</td>\n",
       "      <td>1.000000</td>\n",
       "      <td>1.000000</td>\n",
       "      <td>0.000000</td>\n",
       "      <td>1.000000</td>\n",
       "      <td>1.000000</td>\n",
       "      <td>0.500000</td>\n",
       "    </tr>\n",
       "    <tr>\n",
       "      <th>75%</th>\n",
       "      <td>2.250000e+05</td>\n",
       "      <td>3.000000</td>\n",
       "      <td>52.000000</td>\n",
       "      <td>8.380733</td>\n",
       "      <td>1.000000</td>\n",
       "      <td>1.000000</td>\n",
       "      <td>1.000000</td>\n",
       "      <td>1.000000</td>\n",
       "      <td>1.000000</td>\n",
       "      <td>1.000000</td>\n",
       "      <td>1.000000</td>\n",
       "      <td>1.000000</td>\n",
       "      <td>1.000000</td>\n",
       "    </tr>\n",
       "    <tr>\n",
       "      <th>max</th>\n",
       "      <td>1.575000e+06</td>\n",
       "      <td>20.000000</td>\n",
       "      <td>69.000000</td>\n",
       "      <td>43.020733</td>\n",
       "      <td>1.000000</td>\n",
       "      <td>1.000000</td>\n",
       "      <td>1.000000</td>\n",
       "      <td>1.000000</td>\n",
       "      <td>4.000000</td>\n",
       "      <td>4.000000</td>\n",
       "      <td>5.000000</td>\n",
       "      <td>4.000000</td>\n",
       "      <td>1.000000</td>\n",
       "    </tr>\n",
       "  </tbody>\n",
       "</table>\n",
       "</div>"
      ],
      "text/plain": [
       "        totalIncome      famSize       ageYrs      yrsEmpl   UNEMPLOYED  \\\n",
       "count  9.500000e+03  9500.000000  9500.000000  9500.000000  9500.000000   \n",
       "mean   1.907839e+05     2.215474    43.254211     5.872936     0.866737   \n",
       "std    1.029051e+05     0.943834    11.341065     6.214874     0.339877   \n",
       "min    2.700000e+04     1.000000    22.000000     0.000000     0.000000   \n",
       "25%    1.260000e+05     2.000000    34.000000     1.284078     1.000000   \n",
       "50%    1.710000e+05     2.000000    42.000000     4.098647     1.000000   \n",
       "75%    2.250000e+05     3.000000    52.000000     8.380733     1.000000   \n",
       "max    1.575000e+06    20.000000    69.000000    43.020733     1.000000   \n",
       "\n",
       "        ApprStatus     ownsCarR  ownsRealtyR      eduLvlR  incomeTypeR  \\\n",
       "count  9500.000000  9500.000000  9500.000000  9500.000000  9500.000000   \n",
       "mean      0.521789     0.430842     0.655474     0.804842     0.740105   \n",
       "std       0.499551     0.495220     0.475239     0.563868     0.953897   \n",
       "min       0.000000     0.000000     0.000000     0.000000     0.000000   \n",
       "25%       0.000000     0.000000     0.000000     0.000000     0.000000   \n",
       "50%       1.000000     0.000000     1.000000     1.000000     0.000000   \n",
       "75%       1.000000     1.000000     1.000000     1.000000     1.000000   \n",
       "max       1.000000     1.000000     1.000000     4.000000     4.000000   \n",
       "\n",
       "       housingTypeR   famStatusR      genderR  \n",
       "count   9500.000000  9500.000000  9500.000000  \n",
       "mean       1.166421     1.268842     0.500000  \n",
       "std        0.640255     0.820786     0.500026  \n",
       "min        0.000000     0.000000     0.000000  \n",
       "25%        1.000000     1.000000     0.000000  \n",
       "50%        1.000000     1.000000     0.500000  \n",
       "75%        1.000000     1.000000     1.000000  \n",
       "max        5.000000     4.000000     1.000000  "
      ]
     },
     "execution_count": 7,
     "metadata": {},
     "output_type": "execute_result"
    }
   ],
   "source": [
    "balancedMF.describe()"
   ]
  },
  {
   "cell_type": "markdown",
   "id": "56ef0884-0b10-40b0-9ad3-10e8e7109dc2",
   "metadata": {},
   "source": [
    "### Looks like we didn't lose any of our data and our stats have not been altered. So far so good!"
   ]
  },
  {
   "cell_type": "code",
   "execution_count": 8,
   "id": "1c8dac4d-2460-45a9-b893-184c6e9a2dd1",
   "metadata": {},
   "outputs": [
    {
     "data": {
      "text/plain": [
       "<AxesSubplot:>"
      ]
     },
     "execution_count": 8,
     "metadata": {},
     "output_type": "execute_result"
    },
    {
     "data": {
      "image/png": "[encoded data removed]",
      "text/plain": [
       "<Figure size 432x288 with 2 Axes>"
      ]
     },
     "metadata": {},
     "output_type": "display_data"
    }
   ],
   "source": [
    "# See what the heatmap for this dataset looks like\n",
    "sns.heatmap(balancedMF.corr(), annot=True)"
   ]
  },
  {
   "cell_type": "markdown",
   "id": "a98da64d-2d3c-4abf-8f36-4de069835547",
   "metadata": {},
   "source": [
    "balancedMF.corr()"
   ]
  },
  {
   "cell_type": "markdown",
   "id": "2516fbf5-3166-4a41-bd94-d3c24fa46f51",
   "metadata": {},
   "source": [
    "### The correlation plot shows a couple of interesting things. Age and UNEMPLOYMENT have a negative correlation, meaning as a person gets older, they're more likely to have a job.  Income type and unemployed are also negatively correlated."
   ]
  },
  {
   "cell_type": "markdown",
   "id": "3ab55e8f-7c3c-4c27-a6bb-8db73e9ca7b2",
   "metadata": {},
   "source": [
    "## Continuous Variables Distribution"
   ]
  },
  {
   "cell_type": "code",
   "execution_count": 9,
   "id": "ebe8606f-3d04-4a89-9019-c63c267f1a79",
   "metadata": {},
   "outputs": [
    {
     "data": {
      "text/plain": [
       "Text(0.5, 1.0, 'M/F Balanced Applicant Income Distribution')"
      ]
     },
     "execution_count": 9,
     "metadata": {},
     "output_type": "execute_result"
    },
    {
     "data": {
      "image/png": "[encoded data removed]",
      "text/plain": [
       "<Figure size 432x288 with 1 Axes>"
      ]
     },
     "metadata": {},
     "output_type": "display_data"
    }
   ],
   "source": [
    "num_bins = 100\n",
    "n, bins, patches = plt.hist(balancedMF['totalIncome'], num_bins, facecolor='green', alpha = .8)\n",
    "plt.xlabel('Income')\n",
    "plt.ylabel('Frequency')\n",
    "plt.title('M/F Balanced Applicant Income Distribution')"
   ]
  },
  {
   "cell_type": "code",
   "execution_count": 10,
   "id": "c0ed7acd-27a0-4dab-b4ea-322833411355",
   "metadata": {},
   "outputs": [
    {
     "data": {
      "text/plain": [
       "<AxesSubplot:>"
      ]
     },
     "execution_count": 10,
     "metadata": {},
     "output_type": "execute_result"
    },
    {
     "data": {
      "image/png": "[encoded data removed]",
      "text/plain": [
       "<Figure size 432x288 with 1 Axes>"
      ]
     },
     "metadata": {},
     "output_type": "display_data"
    }
   ],
   "source": [
    "balancedMF.boxplot('totalIncome')"
   ]
  },
  {
   "cell_type": "code",
   "execution_count": 11,
   "id": "9ccc8d2a-e359-4291-96f0-6743cd685989",
   "metadata": {},
   "outputs": [
    {
     "data": {
      "text/plain": [
       "<AxesSubplot:>"
      ]
     },
     "execution_count": 11,
     "metadata": {},
     "output_type": "execute_result"
    },
    {
     "data": {
      "image/png": "[encoded data removed]",
      "text/plain": [
       "<Figure size 432x288 with 1 Axes>"
      ]
     },
     "metadata": {},
     "output_type": "display_data"
    }
   ],
   "source": [
    "balancedMF['ageYrs'].hist()"
   ]
  },
  {
   "cell_type": "code",
   "execution_count": 12,
   "id": "16f1c87c-c6c7-4698-9733-5216634a2825",
   "metadata": {},
   "outputs": [
    {
     "data": {
      "text/plain": [
       "<AxesSubplot:>"
      ]
     },
     "execution_count": 12,
     "metadata": {},
     "output_type": "execute_result"
    },
    {
     "data": {
      "image/png": "[encoded data removed]",
      "text/plain": [
       "<Figure size 432x288 with 1 Axes>"
      ]
     },
     "metadata": {},
     "output_type": "display_data"
    }
   ],
   "source": [
    "balancedMF.boxplot('ageYrs')"
   ]
  },
  {
   "cell_type": "code",
   "execution_count": 13,
   "id": "343e5403-58ea-4b13-913e-c29d7ba23606",
   "metadata": {},
   "outputs": [],
   "source": [
    "# Categorical Variables Distribution"
   ]
  },
  {
   "cell_type": "code",
   "execution_count": 14,
   "id": "332c1ec1-4cbf-46f4-92c2-78eeab6cf58c",
   "metadata": {},
   "outputs": [
    {
     "data": {
      "text/plain": [
       "<AxesSubplot:>"
      ]
     },
     "execution_count": 14,
     "metadata": {},
     "output_type": "execute_result"
    },
    {
     "data": {
      "image/png": "[encoded data removed]",
      "text/plain": [
       "<Figure size 432x288 with 1 Axes>"
      ]
     },
     "metadata": {},
     "output_type": "display_data"
    }
   ],
   "source": [
    "balancedMF['incomeTypeR'].hist(xrot=90)"
   ]
  },
  {
   "cell_type": "code",
   "execution_count": 15,
   "id": "2e273185-7a2d-4cde-a296-1ea34bfb068f",
   "metadata": {},
   "outputs": [],
   "source": [
    "# 0 = working, 1 = Commercial Associate, 2 = Pensioner, 3 = State Servant, 4 = Student"
   ]
  },
  {
   "cell_type": "code",
   "execution_count": 16,
   "id": "79a2be3a-bca7-4f8c-85bc-1d0f56f32e4c",
   "metadata": {},
   "outputs": [
    {
     "data": {
      "image/png": "[encoded data removed]",
      "text/plain": [
       "<Figure size 432x288 with 1 Axes>"
      ]
     },
     "metadata": {},
     "output_type": "display_data"
    }
   ],
   "source": [
    "g1 = balancedMF.groupby('genderR')['genderR'].count().plot(kind='pie', y='genderR')"
   ]
  },
  {
   "cell_type": "markdown",
   "id": "9a3e0715-3354-4273-9168-b29243345820",
   "metadata": {},
   "source": [
    "# Data Insights"
   ]
  },
  {
   "cell_type": "markdown",
   "id": "f075ce90-dd05-4392-a232-ba630881779f",
   "metadata": {},
   "source": [
    "## Do males or females make more money on average? Independent t-Test \n"
   ]
  },
  {
   "cell_type": "code",
   "execution_count": 21,
   "id": "e6d3800e-f5b0-4fb4-8519-fbce35897b98",
   "metadata": {},
   "outputs": [
    {
     "data": {
      "text/plain": [
       "<AxesSubplot:>"
      ]
     },
     "execution_count": 21,
     "metadata": {},
     "output_type": "execute_result"
    },
    {
     "data": {
      "image/png": "[encoded data removed]",
      "text/plain": [
       "<Figure size 432x288 with 1 Axes>"
      ]
     },
     "metadata": {},
     "output_type": "display_data"
    }
   ],
   "source": [
    "# Test normal distribution of each\n",
    "balancedMF.totalIncome[balancedMF.genderR == 1].hist()\n",
    "balancedMF.totalIncome[balancedMF.genderR == 0].hist()"
   ]
  },
  {
   "cell_type": "code",
   "execution_count": 29,
   "id": "6a54a288-6e0f-419d-bbd8-1be33592f462",
   "metadata": {},
   "outputs": [
    {
     "data": {
      "text/plain": [
       "Ttest_indResult(statistic=19.946834533049635, pvalue=9.392523984156663e-87)"
      ]
     },
     "execution_count": 29,
     "metadata": {},
     "output_type": "execute_result"
    }
   ],
   "source": [
    "# run the analysis\n",
    "ttest_ind(balancedMF.totalIncome[balancedMF.genderR == 1], balancedMF.totalIncome[balancedMF.genderR ==0])"
   ]
  },
  {
   "cell_type": "markdown",
   "id": "2de13e26-e268-4203-9c78-98c0a872fead",
   "metadata": {},
   "source": [
    "## Since p value is <.05, there is a significant difference in total income between males and females in this dataset. Examine the means to see where the differences lie:"
   ]
  },
  {
   "cell_type": "code",
   "execution_count": 24,
   "id": "0b610030-c7e5-4692-8a10-dbf285f9381d",
   "metadata": {},
   "outputs": [
    {
     "data": {
      "text/plain": [
       "211416.7869473684"
      ]
     },
     "execution_count": 24,
     "metadata": {},
     "output_type": "execute_result"
    }
   ],
   "source": [
    "balancedMF.totalIncome[balancedMF.genderR == 1].mean()"
   ]
  },
  {
   "cell_type": "code",
   "execution_count": 25,
   "id": "b8e136c9-6e89-4b75-83c4-44a9a911f27c",
   "metadata": {},
   "outputs": [
    {
     "data": {
      "text/plain": [
       "170150.9229473684"
      ]
     },
     "execution_count": 25,
     "metadata": {},
     "output_type": "execute_result"
    }
   ],
   "source": [
    "balancedMF.totalIncome[balancedMF.genderR == 0].mean()"
   ]
  },
  {
   "cell_type": "markdown",
   "id": "0bfec7b3-b10b-4004-835b-ad71b0ccb842",
   "metadata": {},
   "source": [
    "## Males make quite a bit more money on average than females in this dataset. Try removing the total income outliers and re-run to see if there's a difference."
   ]
  },
  {
   "cell_type": "code",
   "execution_count": 27,
   "id": "99724e1c-a996-4488-94dc-4b42b4d50fd5",
   "metadata": {},
   "outputs": [],
   "source": [
    "def dropOL(ftr):\n",
    "    q75,q25 = np.percentile(balancedMF[ftr],[75,25])\n",
    "    intr_qr = q75-q25\n",
    "    mx = q75+(1.5*intr_qr)\n",
    "    mn = q25-(1.5*intr_qr)\n",
    "    return mx,mn"
   ]
  },
  {
   "cell_type": "code",
   "execution_count": 28,
   "id": "3520a069-051a-429b-a0d0-fd11d58e6840",
   "metadata": {},
   "outputs": [],
   "source": [
    "mx,mn = dropOL('totalIncome')"
   ]
  },
  {
   "cell_type": "code",
   "execution_count": 31,
   "id": "5e3d6dce-d3f5-41c5-8dbf-96324a1ed932",
   "metadata": {},
   "outputs": [],
   "source": [
    "balancedMF.drop(balancedMF[balancedMF.totalIncome > mx].index,inplace=True)"
   ]
  },
  {
   "cell_type": "code",
   "execution_count": 32,
   "id": "09ee608f-a768-462c-ace5-2b63a4ad1265",
   "metadata": {},
   "outputs": [
    {
     "data": {
      "text/plain": [
       "Ttest_indResult(statistic=22.585543015557697, pvalue=6.264067307897963e-110)"
      ]
     },
     "execution_count": 32,
     "metadata": {},
     "output_type": "execute_result"
    }
   ],
   "source": [
    "ttest_ind(balancedMF.totalIncome[balancedMF.genderR == 1], balancedMF.totalIncome[balancedMF.genderR ==0])"
   ]
  },
  {
   "cell_type": "code",
   "execution_count": 33,
   "id": "f4cf7f82-186f-408b-bf43-fee179886391",
   "metadata": {},
   "outputs": [
    {
     "data": {
      "text/plain": [
       "192503.1369955157"
      ]
     },
     "execution_count": 33,
     "metadata": {},
     "output_type": "execute_result"
    }
   ],
   "source": [
    "balancedMF.totalIncome[balancedMF.genderR == 1].mean()"
   ]
  },
  {
   "cell_type": "code",
   "execution_count": 34,
   "id": "d5d149be-3a8f-4506-82f8-5744ab99a369",
   "metadata": {},
   "outputs": [
    {
     "data": {
      "text/plain": [
       "159470.5853976532"
      ]
     },
     "execution_count": 34,
     "metadata": {},
     "output_type": "execute_result"
    }
   ],
   "source": [
    "balancedMF.totalIncome[balancedMF.genderR == 0].mean()"
   ]
  },
  {
   "cell_type": "markdown",
   "id": "f19f2d6f-f12d-4485-aca2-9361a453c50d",
   "metadata": {},
   "source": [
    "## After removing the total income outliers, males still have a significantly higher income than females."
   ]
  },
  {
   "cell_type": "markdown",
   "id": "853f583e-a802-40b9-a76f-bad5709e8454",
   "metadata": {},
   "source": [
    "### Is one gender more likely to get approved for a credit card than the other? Independent Chi Square"
   ]
  },
  {
   "cell_type": "code",
   "execution_count": 28,
   "id": "10ac8bcd-37b2-46e8-b33c-de30149240d7",
   "metadata": {},
   "outputs": [],
   "source": [
    "# Ho = No difference in approval rate\n",
    "# Ha = Gender does have an effect on approval rate\n",
    "\n",
    "crosstab = pd.crosstab(balancedMF['genderR'], balancedMF['ApprStatus'])"
   ]
  },
  {
   "cell_type": "code",
   "execution_count": 29,
   "id": "01d29df2-dbe8-47f9-b143-0d4359e582e7",
   "metadata": {},
   "outputs": [
    {
     "data": {
      "text/html": [
       "<div>\n",
       "<style scoped>\n",
       "    .dataframe tbody tr th:only-of-type {\n",
       "        vertical-align: middle;\n",
       "    }\n",
       "\n",
       "    .dataframe tbody tr th {\n",
       "        vertical-align: top;\n",
       "    }\n",
       "\n",
       "    .dataframe thead th {\n",
       "        text-align: right;\n",
       "    }\n",
       "</style>\n",
       "<table border=\"1\" class=\"dataframe\">\n",
       "  <thead>\n",
       "    <tr style=\"text-align: right;\">\n",
       "      <th>ApprStatus</th>\n",
       "      <th>0</th>\n",
       "      <th>1</th>\n",
       "    </tr>\n",
       "    <tr>\n",
       "      <th>genderR</th>\n",
       "      <th></th>\n",
       "      <th></th>\n",
       "    </tr>\n",
       "  </thead>\n",
       "  <tbody>\n",
       "    <tr>\n",
       "      <th>0</th>\n",
       "      <td>2274</td>\n",
       "      <td>2476</td>\n",
       "    </tr>\n",
       "    <tr>\n",
       "      <th>1</th>\n",
       "      <td>2269</td>\n",
       "      <td>2481</td>\n",
       "    </tr>\n",
       "  </tbody>\n",
       "</table>\n",
       "</div>"
      ],
      "text/plain": [
       "ApprStatus     0     1\n",
       "genderR               \n",
       "0           2274  2476\n",
       "1           2269  2481"
      ]
     },
     "execution_count": 29,
     "metadata": {},
     "output_type": "execute_result"
    }
   ],
   "source": [
    "crosstab"
   ]
  },
  {
   "cell_type": "markdown",
   "id": "78cb81ed-714d-4353-a60d-ccd2bee41349",
   "metadata": {},
   "source": [
    "### we passed the assumption of having at least 5 entries per cell."
   ]
  },
  {
   "cell_type": "code",
   "execution_count": 30,
   "id": "6a95e118-df2b-45d6-8d65-41fcc8d5b3b5",
   "metadata": {},
   "outputs": [
    {
     "data": {
      "text/plain": [
       "(0.006749660552021876,\n",
       " 0.9345224093234461,\n",
       " 1,\n",
       " array([[2271.5, 2478.5],\n",
       "        [2271.5, 2478.5]]))"
      ]
     },
     "execution_count": 30,
     "metadata": {},
     "output_type": "execute_result"
    }
   ],
   "source": [
    "# determine if the frequencies differ by creating the contingency table\n",
    "\n",
    "stats.chi2_contingency(crosstab)"
   ]
  },
  {
   "cell_type": "markdown",
   "id": "867d17e5-e201-4384-a060-0aefa0fda088",
   "metadata": {},
   "source": [
    "### Our p value of 0.93 indicates that there is not a significant difference in approval rates between males and females in this dataset."
   ]
  },
  {
   "cell_type": "markdown",
   "id": "66c97ac5-40c7-4149-a851-f46563b38c27",
   "metadata": {},
   "source": [
    "## Does unemployment status affect approval rate? Independent Chi Square"
   ]
  },
  {
   "cell_type": "code",
   "execution_count": 32,
   "id": "0c95c5ac-6f33-4a06-934a-20e286d95c98",
   "metadata": {},
   "outputs": [],
   "source": [
    "# Ho = No difference in approval rate between employed and unemployed\n",
    "# Ha = UNEMPLOYMENT does have an effect on approval rate\n",
    "\n",
    "crosstab2 = pd.crosstab(balancedMF['UNEMPLOYED'], balancedMF['ApprStatus'])"
   ]
  },
  {
   "cell_type": "code",
   "execution_count": 33,
   "id": "d3c11f66-1c76-40c5-8030-c1808ff882e2",
   "metadata": {},
   "outputs": [
    {
     "data": {
      "text/html": [
       "<div>\n",
       "<style scoped>\n",
       "    .dataframe tbody tr th:only-of-type {\n",
       "        vertical-align: middle;\n",
       "    }\n",
       "\n",
       "    .dataframe tbody tr th {\n",
       "        vertical-align: top;\n",
       "    }\n",
       "\n",
       "    .dataframe thead th {\n",
       "        text-align: right;\n",
       "    }\n",
       "</style>\n",
       "<table border=\"1\" class=\"dataframe\">\n",
       "  <thead>\n",
       "    <tr style=\"text-align: right;\">\n",
       "      <th>ApprStatus</th>\n",
       "      <th>0</th>\n",
       "      <th>1</th>\n",
       "    </tr>\n",
       "    <tr>\n",
       "      <th>UNEMPLOYED</th>\n",
       "      <th></th>\n",
       "      <th></th>\n",
       "    </tr>\n",
       "  </thead>\n",
       "  <tbody>\n",
       "    <tr>\n",
       "      <th>0</th>\n",
       "      <td>600</td>\n",
       "      <td>666</td>\n",
       "    </tr>\n",
       "    <tr>\n",
       "      <th>1</th>\n",
       "      <td>3943</td>\n",
       "      <td>4291</td>\n",
       "    </tr>\n",
       "  </tbody>\n",
       "</table>\n",
       "</div>"
      ],
      "text/plain": [
       "ApprStatus     0     1\n",
       "UNEMPLOYED            \n",
       "0            600   666\n",
       "1           3943  4291"
      ]
     },
     "execution_count": 33,
     "metadata": {},
     "output_type": "execute_result"
    }
   ],
   "source": [
    "crosstab2"
   ]
  },
  {
   "cell_type": "markdown",
   "id": "26db6dc8-7100-4dcd-ae1a-f53d85e47f2d",
   "metadata": {},
   "source": [
    "### We've passed the assumption of having at least 5 cases per cell."
   ]
  },
  {
   "cell_type": "code",
   "execution_count": 34,
   "id": "7f54f828-11ed-4403-9804-192fc84769f2",
   "metadata": {},
   "outputs": [
    {
     "data": {
      "text/plain": [
       "(0.08821205135897162,\n",
       " 0.7664625873086189,\n",
       " 1,\n",
       " array([[ 605.41452632,  660.58547368],\n",
       "        [3937.58547368, 4296.41452632]]))"
      ]
     },
     "execution_count": 34,
     "metadata": {},
     "output_type": "execute_result"
    }
   ],
   "source": [
    "# determine if the frequencies differ by creating the contingency table\n",
    "\n",
    "stats.chi2_contingency(crosstab2)"
   ]
  },
  {
   "cell_type": "markdown",
   "id": "fb87849c-0831-42c2-838f-2ff5ec0ea00a",
   "metadata": {},
   "source": [
    "### No signiicant difference in application approval between EMPLOYED and UNEMPLOYED."
   ]
  },
  {
   "cell_type": "markdown",
   "id": "a460f3d9-17ef-4d89-8606-69d548ed34c6",
   "metadata": {},
   "source": [
    "## Does income type affect approval rate? Independent Chi Square"
   ]
  },
  {
   "cell_type": "code",
   "execution_count": 36,
   "id": "ceef1f28-fdf3-4c4d-a571-39ed118059c9",
   "metadata": {},
   "outputs": [],
   "source": [
    "# Ho = No difference in approval rate\n",
    "# Ha = Income type does have an effect on approval rate\n",
    "\n",
    "crosstab3 = pd.crosstab(balancedMF['incomeTypeR'], balancedMF['ApprStatus'])"
   ]
  },
  {
   "cell_type": "code",
   "execution_count": 37,
   "id": "48672466-ad8f-4017-95ba-d7844285e642",
   "metadata": {},
   "outputs": [
    {
     "data": {
      "text/html": [
       "<div>\n",
       "<style scoped>\n",
       "    .dataframe tbody tr th:only-of-type {\n",
       "        vertical-align: middle;\n",
       "    }\n",
       "\n",
       "    .dataframe tbody tr th {\n",
       "        vertical-align: top;\n",
       "    }\n",
       "\n",
       "    .dataframe thead th {\n",
       "        text-align: right;\n",
       "    }\n",
       "</style>\n",
       "<table border=\"1\" class=\"dataframe\">\n",
       "  <thead>\n",
       "    <tr style=\"text-align: right;\">\n",
       "      <th>ApprStatus</th>\n",
       "      <th>0</th>\n",
       "      <th>1</th>\n",
       "    </tr>\n",
       "    <tr>\n",
       "      <th>incomeTypeR</th>\n",
       "      <th></th>\n",
       "      <th></th>\n",
       "    </tr>\n",
       "  </thead>\n",
       "  <tbody>\n",
       "    <tr>\n",
       "      <th>0</th>\n",
       "      <td>2479</td>\n",
       "      <td>2686</td>\n",
       "    </tr>\n",
       "    <tr>\n",
       "      <th>1</th>\n",
       "      <td>1126</td>\n",
       "      <td>1223</td>\n",
       "    </tr>\n",
       "    <tr>\n",
       "      <th>2</th>\n",
       "      <td>608</td>\n",
       "      <td>670</td>\n",
       "    </tr>\n",
       "    <tr>\n",
       "      <th>3</th>\n",
       "      <td>328</td>\n",
       "      <td>378</td>\n",
       "    </tr>\n",
       "    <tr>\n",
       "      <th>4</th>\n",
       "      <td>2</td>\n",
       "      <td>0</td>\n",
       "    </tr>\n",
       "  </tbody>\n",
       "</table>\n",
       "</div>"
      ],
      "text/plain": [
       "ApprStatus      0     1\n",
       "incomeTypeR            \n",
       "0            2479  2686\n",
       "1            1126  1223\n",
       "2             608   670\n",
       "3             328   378\n",
       "4               2     0"
      ]
     },
     "execution_count": 37,
     "metadata": {},
     "output_type": "execute_result"
    }
   ],
   "source": [
    "crosstab3"
   ]
  },
  {
   "cell_type": "markdown",
   "id": "418c9685-5902-4993-8d2b-b2d114e3c9e5",
   "metadata": {},
   "source": [
    "### We do not pass the assumption for independent chi-squares due to incomeType 4 (Student) not having at least 5 cases per cell"
   ]
  },
  {
   "cell_type": "markdown",
   "id": "664f9506-f093-41e9-9e7e-2601c1643e3d",
   "metadata": {},
   "source": [
    "## Does education level affect approval rate? Independent Chi Square"
   ]
  },
  {
   "cell_type": "code",
   "execution_count": 39,
   "id": "e3455788-b9fe-4aaa-8c4c-bb01542b9d62",
   "metadata": {},
   "outputs": [],
   "source": [
    "# Ho = No difference in approval rate\n",
    "# Ha = Education level does have an effect on approval rate\n",
    "\n",
    "crosstab4 = pd.crosstab(balancedMF['eduLvlR'], balancedMF['ApprStatus'])"
   ]
  },
  {
   "cell_type": "code",
   "execution_count": 40,
   "id": "fa45dfb3-d37c-4ba9-ab74-b430860280b5",
   "metadata": {},
   "outputs": [
    {
     "data": {
      "text/html": [
       "<div>\n",
       "<style scoped>\n",
       "    .dataframe tbody tr th:only-of-type {\n",
       "        vertical-align: middle;\n",
       "    }\n",
       "\n",
       "    .dataframe tbody tr th {\n",
       "        vertical-align: top;\n",
       "    }\n",
       "\n",
       "    .dataframe thead th {\n",
       "        text-align: right;\n",
       "    }\n",
       "</style>\n",
       "<table border=\"1\" class=\"dataframe\">\n",
       "  <thead>\n",
       "    <tr style=\"text-align: right;\">\n",
       "      <th>ApprStatus</th>\n",
       "      <th>0</th>\n",
       "      <th>1</th>\n",
       "    </tr>\n",
       "    <tr>\n",
       "      <th>eduLvlR</th>\n",
       "      <th></th>\n",
       "      <th></th>\n",
       "    </tr>\n",
       "  </thead>\n",
       "  <tbody>\n",
       "    <tr>\n",
       "      <th>0</th>\n",
       "      <td>1164</td>\n",
       "      <td>1322</td>\n",
       "    </tr>\n",
       "    <tr>\n",
       "      <th>1</th>\n",
       "      <td>3137</td>\n",
       "      <td>3371</td>\n",
       "    </tr>\n",
       "    <tr>\n",
       "      <th>2</th>\n",
       "      <td>182</td>\n",
       "      <td>204</td>\n",
       "    </tr>\n",
       "    <tr>\n",
       "      <th>3</th>\n",
       "      <td>56</td>\n",
       "      <td>58</td>\n",
       "    </tr>\n",
       "    <tr>\n",
       "      <th>4</th>\n",
       "      <td>4</td>\n",
       "      <td>2</td>\n",
       "    </tr>\n",
       "  </tbody>\n",
       "</table>\n",
       "</div>"
      ],
      "text/plain": [
       "ApprStatus     0     1\n",
       "eduLvlR               \n",
       "0           1164  1322\n",
       "1           3137  3371\n",
       "2            182   204\n",
       "3             56    58\n",
       "4              4     2"
      ]
     },
     "execution_count": 40,
     "metadata": {},
     "output_type": "execute_result"
    }
   ],
   "source": [
    "crosstab4"
   ]
  },
  {
   "cell_type": "markdown",
   "id": "7337c5b3-d71b-4104-9986-7ce7773a0508",
   "metadata": {},
   "source": [
    "### We do not pass the assumption for independent chi-squares due to education level 4 (Academic Degree) not having at least 5 cases per cell"
   ]
  },
  {
   "cell_type": "markdown",
   "id": "4450e84a-1ed3-4be3-88cc-5a5be85e120b",
   "metadata": {},
   "source": [
    "## Does family status have an affect approval rate? Independent Chi Square"
   ]
  },
  {
   "cell_type": "code",
   "execution_count": 42,
   "id": "42b2f89b-7889-42dd-9c73-9b02710a03e9",
   "metadata": {},
   "outputs": [],
   "source": [
    "# Ho = No difference in approval rate\n",
    "# Ha = Whether or not someone is married does have an effect on approval rate\n",
    "\n",
    "crosstab5 = pd.crosstab(balancedMF['famStatusR'], balancedMF['ApprStatus'])"
   ]
  },
  {
   "cell_type": "code",
   "execution_count": 43,
   "id": "4176ec5e-7232-4b97-a709-ea96836b8563",
   "metadata": {},
   "outputs": [
    {
     "data": {
      "text/html": [
       "<div>\n",
       "<style scoped>\n",
       "    .dataframe tbody tr th:only-of-type {\n",
       "        vertical-align: middle;\n",
       "    }\n",
       "\n",
       "    .dataframe tbody tr th {\n",
       "        vertical-align: top;\n",
       "    }\n",
       "\n",
       "    .dataframe thead th {\n",
       "        text-align: right;\n",
       "    }\n",
       "</style>\n",
       "<table border=\"1\" class=\"dataframe\">\n",
       "  <thead>\n",
       "    <tr style=\"text-align: right;\">\n",
       "      <th>ApprStatus</th>\n",
       "      <th>0</th>\n",
       "      <th>1</th>\n",
       "    </tr>\n",
       "    <tr>\n",
       "      <th>famStatusR</th>\n",
       "      <th></th>\n",
       "      <th></th>\n",
       "    </tr>\n",
       "  </thead>\n",
       "  <tbody>\n",
       "    <tr>\n",
       "      <th>0</th>\n",
       "      <td>374</td>\n",
       "      <td>411</td>\n",
       "    </tr>\n",
       "    <tr>\n",
       "      <th>1</th>\n",
       "      <td>3145</td>\n",
       "      <td>3389</td>\n",
       "    </tr>\n",
       "    <tr>\n",
       "      <th>2</th>\n",
       "      <td>638</td>\n",
       "      <td>708</td>\n",
       "    </tr>\n",
       "    <tr>\n",
       "      <th>3</th>\n",
       "      <td>234</td>\n",
       "      <td>278</td>\n",
       "    </tr>\n",
       "    <tr>\n",
       "      <th>4</th>\n",
       "      <td>152</td>\n",
       "      <td>171</td>\n",
       "    </tr>\n",
       "  </tbody>\n",
       "</table>\n",
       "</div>"
      ],
      "text/plain": [
       "ApprStatus     0     1\n",
       "famStatusR            \n",
       "0            374   411\n",
       "1           3145  3389\n",
       "2            638   708\n",
       "3            234   278\n",
       "4            152   171"
      ]
     },
     "execution_count": 43,
     "metadata": {},
     "output_type": "execute_result"
    }
   ],
   "source": [
    "crosstab5"
   ]
  },
  {
   "cell_type": "markdown",
   "id": "f346a250-b5c0-4640-8cc8-7ac3428c7fae",
   "metadata": {},
   "source": [
    "### We pass the assumption of having at least 5 cases per cell."
   ]
  },
  {
   "cell_type": "code",
   "execution_count": 44,
   "id": "cbfe988e-fd5b-41a5-a94c-8944ccfc452f",
   "metadata": {},
   "outputs": [
    {
     "data": {
      "text/plain": [
       "(1.3558762119144314,\n",
       " 0.8518265231624831,\n",
       " 4,\n",
       " array([[ 375.39526316,  409.60473684],\n",
       "        [3124.62757895, 3409.37242105],\n",
       "        [ 643.67136842,  702.32863158],\n",
       "        [ 244.84378947,  267.15621053],\n",
       "        [ 154.462     ,  168.538     ]]))"
      ]
     },
     "execution_count": 44,
     "metadata": {},
     "output_type": "execute_result"
    }
   ],
   "source": [
    "# determine if the frequencies differ by creating the contingency table\n",
    "\n",
    "stats.chi2_contingency(crosstab5)"
   ]
  },
  {
   "cell_type": "markdown",
   "id": "4050123b-2a65-437f-a617-354d61e08a60",
   "metadata": {},
   "source": [
    "## Since p value is >.05, there is no significant effect of being married or not on credit card approval.."
   ]
  }
 ],
 "metadata": {
  "kernelspec": {
   "display_name": "Python 3 (ipykernel)",
   "language": "python",
   "name": "python3"
  },
  "language_info": {
   "codemirror_mode": {
    "name": "ipython",
    "version": 3
   },
   "file_extension": ".py",
   "mimetype": "text/x-python",
   "name": "python",
   "nbconvert_exporter": "python",
   "pygments_lexer": "ipython3",
   "version": "3.10.4"
  }
 },
 "nbformat": 4,
 "nbformat_minor": 5
}
