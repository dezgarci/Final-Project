{
 "cells": [
  {
   "cell_type": "markdown",
   "id": "58024772-1e6a-47dc-ad76-58a4a140c0d9",
   "metadata": {},
   "source": [
    "# Week 3 Data Exploration"
   ]
  },
  {
   "cell_type": "markdown",
   "id": "955a6ef6-f044-48ba-b0d5-929e43377466",
   "metadata": {},
   "source": [
    "### Load packages"
   ]
  },
  {
   "cell_type": "code",
   "execution_count": 1,
   "id": "b2469c36-4edb-4f01-8d5d-1405301f7b81",
   "metadata": {},
   "outputs": [],
   "source": [
    "#Basics\n",
    "import numpy as np\n",
    "import pandas as pd\n",
    "import matplotlib.pyplot as plt\n",
    "%matplotlib inline\n",
    "import seaborn as sns\n",
    "import plotly as py\n",
    "import datetime as dt\n",
    "import scipy as scp\n",
    "from scipy import stats\n",
    "from scipy.stats import ttest_ind\n",
    "\n",
    "#for plotting\n",
    "import matplotlib.pyplot as plt\n",
    "import seaborn as sns\n",
    "%matplotlib inline\n",
    "sns.set(color_codes=True)\n",
    "\n",
    "import warnings\n",
    "warnings.filterwarnings('ignore')"
   ]
  },
  {
   "cell_type": "markdown",
   "id": "2cfa753b-b8ca-4aeb-8a75-31c21283ef87",
   "metadata": {},
   "source": [
    "#### Additional Data Wrangling"
   ]
  },
  {
   "cell_type": "code",
   "execution_count": 2,
   "id": "fc4714d6-d8c1-45eb-a9a4-6b2dda58ce15",
   "metadata": {},
   "outputs": [],
   "source": [
    "### Import cleaned data without original STATUS column\n",
    "\n",
    "merged4A = pd.read_csv('../Data/merged4AnalysisSTRICT.csv')"
   ]
  },
  {
   "cell_type": "code",
   "execution_count": 3,
   "id": "9b8d476b-71d0-4471-9f44-26770f905de3",
   "metadata": {},
   "outputs": [
    {
     "data": {
      "text/html": [
       "<div>\n",
       "<style scoped>\n",
       "    .dataframe tbody tr th:only-of-type {\n",
       "        vertical-align: middle;\n",
       "    }\n",
       "\n",
       "    .dataframe tbody tr th {\n",
       "        vertical-align: top;\n",
       "    }\n",
       "\n",
       "    .dataframe thead th {\n",
       "        text-align: right;\n",
       "    }\n",
       "</style>\n",
       "<table border=\"1\" class=\"dataframe\">\n",
       "  <thead>\n",
       "    <tr style=\"text-align: right;\">\n",
       "      <th></th>\n",
       "      <th>Unnamed: 0</th>\n",
       "      <th>ID</th>\n",
       "      <th>gender</th>\n",
       "      <th>ownsCar</th>\n",
       "      <th>ownsRealty</th>\n",
       "      <th>numChildren</th>\n",
       "      <th>totalIncome</th>\n",
       "      <th>incomeType</th>\n",
       "      <th>eduLvl</th>\n",
       "      <th>famStatus</th>\n",
       "      <th>housingType</th>\n",
       "      <th>occupation</th>\n",
       "      <th>famSize</th>\n",
       "      <th>ageYrs</th>\n",
       "      <th>yrsEmpl</th>\n",
       "      <th>UNEMPLOYED</th>\n",
       "      <th>ApprStatus</th>\n",
       "    </tr>\n",
       "  </thead>\n",
       "  <tbody>\n",
       "    <tr>\n",
       "      <th>0</th>\n",
       "      <td>0</td>\n",
       "      <td>5008804</td>\n",
       "      <td>M</td>\n",
       "      <td>Y</td>\n",
       "      <td>Y</td>\n",
       "      <td>0</td>\n",
       "      <td>427500</td>\n",
       "      <td>Working</td>\n",
       "      <td>Higher education</td>\n",
       "      <td>Civil marriage</td>\n",
       "      <td>Rented apartment</td>\n",
       "      <td>Not identified</td>\n",
       "      <td>2</td>\n",
       "      <td>33</td>\n",
       "      <td>12</td>\n",
       "      <td>1</td>\n",
       "      <td>1</td>\n",
       "    </tr>\n",
       "    <tr>\n",
       "      <th>1</th>\n",
       "      <td>1</td>\n",
       "      <td>5008804</td>\n",
       "      <td>M</td>\n",
       "      <td>Y</td>\n",
       "      <td>Y</td>\n",
       "      <td>0</td>\n",
       "      <td>427500</td>\n",
       "      <td>Working</td>\n",
       "      <td>Higher education</td>\n",
       "      <td>Civil marriage</td>\n",
       "      <td>Rented apartment</td>\n",
       "      <td>Not identified</td>\n",
       "      <td>2</td>\n",
       "      <td>33</td>\n",
       "      <td>12</td>\n",
       "      <td>1</td>\n",
       "      <td>1</td>\n",
       "    </tr>\n",
       "    <tr>\n",
       "      <th>2</th>\n",
       "      <td>2</td>\n",
       "      <td>5008804</td>\n",
       "      <td>M</td>\n",
       "      <td>Y</td>\n",
       "      <td>Y</td>\n",
       "      <td>0</td>\n",
       "      <td>427500</td>\n",
       "      <td>Working</td>\n",
       "      <td>Higher education</td>\n",
       "      <td>Civil marriage</td>\n",
       "      <td>Rented apartment</td>\n",
       "      <td>Not identified</td>\n",
       "      <td>2</td>\n",
       "      <td>33</td>\n",
       "      <td>12</td>\n",
       "      <td>1</td>\n",
       "      <td>1</td>\n",
       "    </tr>\n",
       "    <tr>\n",
       "      <th>3</th>\n",
       "      <td>3</td>\n",
       "      <td>5008804</td>\n",
       "      <td>M</td>\n",
       "      <td>Y</td>\n",
       "      <td>Y</td>\n",
       "      <td>0</td>\n",
       "      <td>427500</td>\n",
       "      <td>Working</td>\n",
       "      <td>Higher education</td>\n",
       "      <td>Civil marriage</td>\n",
       "      <td>Rented apartment</td>\n",
       "      <td>Not identified</td>\n",
       "      <td>2</td>\n",
       "      <td>33</td>\n",
       "      <td>12</td>\n",
       "      <td>1</td>\n",
       "      <td>1</td>\n",
       "    </tr>\n",
       "    <tr>\n",
       "      <th>4</th>\n",
       "      <td>4</td>\n",
       "      <td>5008804</td>\n",
       "      <td>M</td>\n",
       "      <td>Y</td>\n",
       "      <td>Y</td>\n",
       "      <td>0</td>\n",
       "      <td>427500</td>\n",
       "      <td>Working</td>\n",
       "      <td>Higher education</td>\n",
       "      <td>Civil marriage</td>\n",
       "      <td>Rented apartment</td>\n",
       "      <td>Not identified</td>\n",
       "      <td>2</td>\n",
       "      <td>33</td>\n",
       "      <td>12</td>\n",
       "      <td>1</td>\n",
       "      <td>1</td>\n",
       "    </tr>\n",
       "    <tr>\n",
       "      <th>5</th>\n",
       "      <td>5</td>\n",
       "      <td>5008804</td>\n",
       "      <td>M</td>\n",
       "      <td>Y</td>\n",
       "      <td>Y</td>\n",
       "      <td>0</td>\n",
       "      <td>427500</td>\n",
       "      <td>Working</td>\n",
       "      <td>Higher education</td>\n",
       "      <td>Civil marriage</td>\n",
       "      <td>Rented apartment</td>\n",
       "      <td>Not identified</td>\n",
       "      <td>2</td>\n",
       "      <td>33</td>\n",
       "      <td>12</td>\n",
       "      <td>1</td>\n",
       "      <td>1</td>\n",
       "    </tr>\n",
       "    <tr>\n",
       "      <th>6</th>\n",
       "      <td>6</td>\n",
       "      <td>5008804</td>\n",
       "      <td>M</td>\n",
       "      <td>Y</td>\n",
       "      <td>Y</td>\n",
       "      <td>0</td>\n",
       "      <td>427500</td>\n",
       "      <td>Working</td>\n",
       "      <td>Higher education</td>\n",
       "      <td>Civil marriage</td>\n",
       "      <td>Rented apartment</td>\n",
       "      <td>Not identified</td>\n",
       "      <td>2</td>\n",
       "      <td>33</td>\n",
       "      <td>12</td>\n",
       "      <td>1</td>\n",
       "      <td>1</td>\n",
       "    </tr>\n",
       "    <tr>\n",
       "      <th>7</th>\n",
       "      <td>7</td>\n",
       "      <td>5008804</td>\n",
       "      <td>M</td>\n",
       "      <td>Y</td>\n",
       "      <td>Y</td>\n",
       "      <td>0</td>\n",
       "      <td>427500</td>\n",
       "      <td>Working</td>\n",
       "      <td>Higher education</td>\n",
       "      <td>Civil marriage</td>\n",
       "      <td>Rented apartment</td>\n",
       "      <td>Not identified</td>\n",
       "      <td>2</td>\n",
       "      <td>33</td>\n",
       "      <td>12</td>\n",
       "      <td>1</td>\n",
       "      <td>1</td>\n",
       "    </tr>\n",
       "    <tr>\n",
       "      <th>8</th>\n",
       "      <td>8</td>\n",
       "      <td>5008804</td>\n",
       "      <td>M</td>\n",
       "      <td>Y</td>\n",
       "      <td>Y</td>\n",
       "      <td>0</td>\n",
       "      <td>427500</td>\n",
       "      <td>Working</td>\n",
       "      <td>Higher education</td>\n",
       "      <td>Civil marriage</td>\n",
       "      <td>Rented apartment</td>\n",
       "      <td>Not identified</td>\n",
       "      <td>2</td>\n",
       "      <td>33</td>\n",
       "      <td>12</td>\n",
       "      <td>1</td>\n",
       "      <td>1</td>\n",
       "    </tr>\n",
       "    <tr>\n",
       "      <th>9</th>\n",
       "      <td>9</td>\n",
       "      <td>5008804</td>\n",
       "      <td>M</td>\n",
       "      <td>Y</td>\n",
       "      <td>Y</td>\n",
       "      <td>0</td>\n",
       "      <td>427500</td>\n",
       "      <td>Working</td>\n",
       "      <td>Higher education</td>\n",
       "      <td>Civil marriage</td>\n",
       "      <td>Rented apartment</td>\n",
       "      <td>Not identified</td>\n",
       "      <td>2</td>\n",
       "      <td>33</td>\n",
       "      <td>12</td>\n",
       "      <td>1</td>\n",
       "      <td>1</td>\n",
       "    </tr>\n",
       "    <tr>\n",
       "      <th>10</th>\n",
       "      <td>10</td>\n",
       "      <td>5008804</td>\n",
       "      <td>M</td>\n",
       "      <td>Y</td>\n",
       "      <td>Y</td>\n",
       "      <td>0</td>\n",
       "      <td>427500</td>\n",
       "      <td>Working</td>\n",
       "      <td>Higher education</td>\n",
       "      <td>Civil marriage</td>\n",
       "      <td>Rented apartment</td>\n",
       "      <td>Not identified</td>\n",
       "      <td>2</td>\n",
       "      <td>33</td>\n",
       "      <td>12</td>\n",
       "      <td>1</td>\n",
       "      <td>1</td>\n",
       "    </tr>\n",
       "    <tr>\n",
       "      <th>11</th>\n",
       "      <td>11</td>\n",
       "      <td>5008804</td>\n",
       "      <td>M</td>\n",
       "      <td>Y</td>\n",
       "      <td>Y</td>\n",
       "      <td>0</td>\n",
       "      <td>427500</td>\n",
       "      <td>Working</td>\n",
       "      <td>Higher education</td>\n",
       "      <td>Civil marriage</td>\n",
       "      <td>Rented apartment</td>\n",
       "      <td>Not identified</td>\n",
       "      <td>2</td>\n",
       "      <td>33</td>\n",
       "      <td>12</td>\n",
       "      <td>1</td>\n",
       "      <td>1</td>\n",
       "    </tr>\n",
       "    <tr>\n",
       "      <th>12</th>\n",
       "      <td>12</td>\n",
       "      <td>5008804</td>\n",
       "      <td>M</td>\n",
       "      <td>Y</td>\n",
       "      <td>Y</td>\n",
       "      <td>0</td>\n",
       "      <td>427500</td>\n",
       "      <td>Working</td>\n",
       "      <td>Higher education</td>\n",
       "      <td>Civil marriage</td>\n",
       "      <td>Rented apartment</td>\n",
       "      <td>Not identified</td>\n",
       "      <td>2</td>\n",
       "      <td>33</td>\n",
       "      <td>12</td>\n",
       "      <td>1</td>\n",
       "      <td>1</td>\n",
       "    </tr>\n",
       "    <tr>\n",
       "      <th>13</th>\n",
       "      <td>13</td>\n",
       "      <td>5008804</td>\n",
       "      <td>M</td>\n",
       "      <td>Y</td>\n",
       "      <td>Y</td>\n",
       "      <td>0</td>\n",
       "      <td>427500</td>\n",
       "      <td>Working</td>\n",
       "      <td>Higher education</td>\n",
       "      <td>Civil marriage</td>\n",
       "      <td>Rented apartment</td>\n",
       "      <td>Not identified</td>\n",
       "      <td>2</td>\n",
       "      <td>33</td>\n",
       "      <td>12</td>\n",
       "      <td>1</td>\n",
       "      <td>1</td>\n",
       "    </tr>\n",
       "    <tr>\n",
       "      <th>14</th>\n",
       "      <td>14</td>\n",
       "      <td>5008804</td>\n",
       "      <td>M</td>\n",
       "      <td>Y</td>\n",
       "      <td>Y</td>\n",
       "      <td>0</td>\n",
       "      <td>427500</td>\n",
       "      <td>Working</td>\n",
       "      <td>Higher education</td>\n",
       "      <td>Civil marriage</td>\n",
       "      <td>Rented apartment</td>\n",
       "      <td>Not identified</td>\n",
       "      <td>2</td>\n",
       "      <td>33</td>\n",
       "      <td>12</td>\n",
       "      <td>1</td>\n",
       "      <td>1</td>\n",
       "    </tr>\n",
       "    <tr>\n",
       "      <th>15</th>\n",
       "      <td>15</td>\n",
       "      <td>5008804</td>\n",
       "      <td>M</td>\n",
       "      <td>Y</td>\n",
       "      <td>Y</td>\n",
       "      <td>0</td>\n",
       "      <td>427500</td>\n",
       "      <td>Working</td>\n",
       "      <td>Higher education</td>\n",
       "      <td>Civil marriage</td>\n",
       "      <td>Rented apartment</td>\n",
       "      <td>Not identified</td>\n",
       "      <td>2</td>\n",
       "      <td>33</td>\n",
       "      <td>12</td>\n",
       "      <td>1</td>\n",
       "      <td>1</td>\n",
       "    </tr>\n",
       "    <tr>\n",
       "      <th>16</th>\n",
       "      <td>16</td>\n",
       "      <td>5008805</td>\n",
       "      <td>M</td>\n",
       "      <td>Y</td>\n",
       "      <td>Y</td>\n",
       "      <td>0</td>\n",
       "      <td>427500</td>\n",
       "      <td>Working</td>\n",
       "      <td>Higher education</td>\n",
       "      <td>Civil marriage</td>\n",
       "      <td>Rented apartment</td>\n",
       "      <td>Not identified</td>\n",
       "      <td>2</td>\n",
       "      <td>33</td>\n",
       "      <td>12</td>\n",
       "      <td>1</td>\n",
       "      <td>1</td>\n",
       "    </tr>\n",
       "    <tr>\n",
       "      <th>17</th>\n",
       "      <td>17</td>\n",
       "      <td>5008805</td>\n",
       "      <td>M</td>\n",
       "      <td>Y</td>\n",
       "      <td>Y</td>\n",
       "      <td>0</td>\n",
       "      <td>427500</td>\n",
       "      <td>Working</td>\n",
       "      <td>Higher education</td>\n",
       "      <td>Civil marriage</td>\n",
       "      <td>Rented apartment</td>\n",
       "      <td>Not identified</td>\n",
       "      <td>2</td>\n",
       "      <td>33</td>\n",
       "      <td>12</td>\n",
       "      <td>1</td>\n",
       "      <td>1</td>\n",
       "    </tr>\n",
       "    <tr>\n",
       "      <th>18</th>\n",
       "      <td>18</td>\n",
       "      <td>5008805</td>\n",
       "      <td>M</td>\n",
       "      <td>Y</td>\n",
       "      <td>Y</td>\n",
       "      <td>0</td>\n",
       "      <td>427500</td>\n",
       "      <td>Working</td>\n",
       "      <td>Higher education</td>\n",
       "      <td>Civil marriage</td>\n",
       "      <td>Rented apartment</td>\n",
       "      <td>Not identified</td>\n",
       "      <td>2</td>\n",
       "      <td>33</td>\n",
       "      <td>12</td>\n",
       "      <td>1</td>\n",
       "      <td>1</td>\n",
       "    </tr>\n",
       "    <tr>\n",
       "      <th>19</th>\n",
       "      <td>19</td>\n",
       "      <td>5008805</td>\n",
       "      <td>M</td>\n",
       "      <td>Y</td>\n",
       "      <td>Y</td>\n",
       "      <td>0</td>\n",
       "      <td>427500</td>\n",
       "      <td>Working</td>\n",
       "      <td>Higher education</td>\n",
       "      <td>Civil marriage</td>\n",
       "      <td>Rented apartment</td>\n",
       "      <td>Not identified</td>\n",
       "      <td>2</td>\n",
       "      <td>33</td>\n",
       "      <td>12</td>\n",
       "      <td>1</td>\n",
       "      <td>1</td>\n",
       "    </tr>\n",
       "    <tr>\n",
       "      <th>20</th>\n",
       "      <td>20</td>\n",
       "      <td>5008805</td>\n",
       "      <td>M</td>\n",
       "      <td>Y</td>\n",
       "      <td>Y</td>\n",
       "      <td>0</td>\n",
       "      <td>427500</td>\n",
       "      <td>Working</td>\n",
       "      <td>Higher education</td>\n",
       "      <td>Civil marriage</td>\n",
       "      <td>Rented apartment</td>\n",
       "      <td>Not identified</td>\n",
       "      <td>2</td>\n",
       "      <td>33</td>\n",
       "      <td>12</td>\n",
       "      <td>1</td>\n",
       "      <td>1</td>\n",
       "    </tr>\n",
       "    <tr>\n",
       "      <th>21</th>\n",
       "      <td>21</td>\n",
       "      <td>5008805</td>\n",
       "      <td>M</td>\n",
       "      <td>Y</td>\n",
       "      <td>Y</td>\n",
       "      <td>0</td>\n",
       "      <td>427500</td>\n",
       "      <td>Working</td>\n",
       "      <td>Higher education</td>\n",
       "      <td>Civil marriage</td>\n",
       "      <td>Rented apartment</td>\n",
       "      <td>Not identified</td>\n",
       "      <td>2</td>\n",
       "      <td>33</td>\n",
       "      <td>12</td>\n",
       "      <td>1</td>\n",
       "      <td>1</td>\n",
       "    </tr>\n",
       "    <tr>\n",
       "      <th>22</th>\n",
       "      <td>22</td>\n",
       "      <td>5008805</td>\n",
       "      <td>M</td>\n",
       "      <td>Y</td>\n",
       "      <td>Y</td>\n",
       "      <td>0</td>\n",
       "      <td>427500</td>\n",
       "      <td>Working</td>\n",
       "      <td>Higher education</td>\n",
       "      <td>Civil marriage</td>\n",
       "      <td>Rented apartment</td>\n",
       "      <td>Not identified</td>\n",
       "      <td>2</td>\n",
       "      <td>33</td>\n",
       "      <td>12</td>\n",
       "      <td>1</td>\n",
       "      <td>1</td>\n",
       "    </tr>\n",
       "    <tr>\n",
       "      <th>23</th>\n",
       "      <td>23</td>\n",
       "      <td>5008805</td>\n",
       "      <td>M</td>\n",
       "      <td>Y</td>\n",
       "      <td>Y</td>\n",
       "      <td>0</td>\n",
       "      <td>427500</td>\n",
       "      <td>Working</td>\n",
       "      <td>Higher education</td>\n",
       "      <td>Civil marriage</td>\n",
       "      <td>Rented apartment</td>\n",
       "      <td>Not identified</td>\n",
       "      <td>2</td>\n",
       "      <td>33</td>\n",
       "      <td>12</td>\n",
       "      <td>1</td>\n",
       "      <td>1</td>\n",
       "    </tr>\n",
       "    <tr>\n",
       "      <th>24</th>\n",
       "      <td>24</td>\n",
       "      <td>5008805</td>\n",
       "      <td>M</td>\n",
       "      <td>Y</td>\n",
       "      <td>Y</td>\n",
       "      <td>0</td>\n",
       "      <td>427500</td>\n",
       "      <td>Working</td>\n",
       "      <td>Higher education</td>\n",
       "      <td>Civil marriage</td>\n",
       "      <td>Rented apartment</td>\n",
       "      <td>Not identified</td>\n",
       "      <td>2</td>\n",
       "      <td>33</td>\n",
       "      <td>12</td>\n",
       "      <td>1</td>\n",
       "      <td>1</td>\n",
       "    </tr>\n",
       "  </tbody>\n",
       "</table>\n",
       "</div>"
      ],
      "text/plain": [
       "    Unnamed: 0       ID gender ownsCar ownsRealty  numChildren  totalIncome  \\\n",
       "0            0  5008804      M       Y          Y            0       427500   \n",
       "1            1  5008804      M       Y          Y            0       427500   \n",
       "2            2  5008804      M       Y          Y            0       427500   \n",
       "3            3  5008804      M       Y          Y            0       427500   \n",
       "4            4  5008804      M       Y          Y            0       427500   \n",
       "5            5  5008804      M       Y          Y            0       427500   \n",
       "6            6  5008804      M       Y          Y            0       427500   \n",
       "7            7  5008804      M       Y          Y            0       427500   \n",
       "8            8  5008804      M       Y          Y            0       427500   \n",
       "9            9  5008804      M       Y          Y            0       427500   \n",
       "10          10  5008804      M       Y          Y            0       427500   \n",
       "11          11  5008804      M       Y          Y            0       427500   \n",
       "12          12  5008804      M       Y          Y            0       427500   \n",
       "13          13  5008804      M       Y          Y            0       427500   \n",
       "14          14  5008804      M       Y          Y            0       427500   \n",
       "15          15  5008804      M       Y          Y            0       427500   \n",
       "16          16  5008805      M       Y          Y            0       427500   \n",
       "17          17  5008805      M       Y          Y            0       427500   \n",
       "18          18  5008805      M       Y          Y            0       427500   \n",
       "19          19  5008805      M       Y          Y            0       427500   \n",
       "20          20  5008805      M       Y          Y            0       427500   \n",
       "21          21  5008805      M       Y          Y            0       427500   \n",
       "22          22  5008805      M       Y          Y            0       427500   \n",
       "23          23  5008805      M       Y          Y            0       427500   \n",
       "24          24  5008805      M       Y          Y            0       427500   \n",
       "\n",
       "   incomeType            eduLvl       famStatus       housingType  \\\n",
       "0     Working  Higher education  Civil marriage  Rented apartment   \n",
       "1     Working  Higher education  Civil marriage  Rented apartment   \n",
       "2     Working  Higher education  Civil marriage  Rented apartment   \n",
       "3     Working  Higher education  Civil marriage  Rented apartment   \n",
       "4     Working  Higher education  Civil marriage  Rented apartment   \n",
       "5     Working  Higher education  Civil marriage  Rented apartment   \n",
       "6     Working  Higher education  Civil marriage  Rented apartment   \n",
       "7     Working  Higher education  Civil marriage  Rented apartment   \n",
       "8     Working  Higher education  Civil marriage  Rented apartment   \n",
       "9     Working  Higher education  Civil marriage  Rented apartment   \n",
       "10    Working  Higher education  Civil marriage  Rented apartment   \n",
       "11    Working  Higher education  Civil marriage  Rented apartment   \n",
       "12    Working  Higher education  Civil marriage  Rented apartment   \n",
       "13    Working  Higher education  Civil marriage  Rented apartment   \n",
       "14    Working  Higher education  Civil marriage  Rented apartment   \n",
       "15    Working  Higher education  Civil marriage  Rented apartment   \n",
       "16    Working  Higher education  Civil marriage  Rented apartment   \n",
       "17    Working  Higher education  Civil marriage  Rented apartment   \n",
       "18    Working  Higher education  Civil marriage  Rented apartment   \n",
       "19    Working  Higher education  Civil marriage  Rented apartment   \n",
       "20    Working  Higher education  Civil marriage  Rented apartment   \n",
       "21    Working  Higher education  Civil marriage  Rented apartment   \n",
       "22    Working  Higher education  Civil marriage  Rented apartment   \n",
       "23    Working  Higher education  Civil marriage  Rented apartment   \n",
       "24    Working  Higher education  Civil marriage  Rented apartment   \n",
       "\n",
       "        occupation  famSize  ageYrs  yrsEmpl  UNEMPLOYED  ApprStatus  \n",
       "0   Not identified        2      33       12           1           1  \n",
       "1   Not identified        2      33       12           1           1  \n",
       "2   Not identified        2      33       12           1           1  \n",
       "3   Not identified        2      33       12           1           1  \n",
       "4   Not identified        2      33       12           1           1  \n",
       "5   Not identified        2      33       12           1           1  \n",
       "6   Not identified        2      33       12           1           1  \n",
       "7   Not identified        2      33       12           1           1  \n",
       "8   Not identified        2      33       12           1           1  \n",
       "9   Not identified        2      33       12           1           1  \n",
       "10  Not identified        2      33       12           1           1  \n",
       "11  Not identified        2      33       12           1           1  \n",
       "12  Not identified        2      33       12           1           1  \n",
       "13  Not identified        2      33       12           1           1  \n",
       "14  Not identified        2      33       12           1           1  \n",
       "15  Not identified        2      33       12           1           1  \n",
       "16  Not identified        2      33       12           1           1  \n",
       "17  Not identified        2      33       12           1           1  \n",
       "18  Not identified        2      33       12           1           1  \n",
       "19  Not identified        2      33       12           1           1  \n",
       "20  Not identified        2      33       12           1           1  \n",
       "21  Not identified        2      33       12           1           1  \n",
       "22  Not identified        2      33       12           1           1  \n",
       "23  Not identified        2      33       12           1           1  \n",
       "24  Not identified        2      33       12           1           1  "
      ]
     },
     "execution_count": 3,
     "metadata": {},
     "output_type": "execute_result"
    }
   ],
   "source": [
    "merged4A.head(25)"
   ]
  },
  {
   "cell_type": "code",
   "execution_count": 4,
   "id": "7e9f7ed7-31c7-4661-b629-ec13411dc8e7",
   "metadata": {},
   "outputs": [],
   "source": [
    "# drop duplicates to show one record per applicant for analysis\n",
    "merged4B = merged4A.drop_duplicates(subset=merged4A.columns[1:], keep='first')"
   ]
  },
  {
   "cell_type": "code",
   "execution_count": 5,
   "id": "ec7d48a2-56e0-4f34-bc5b-b58c0bc7a8ee",
   "metadata": {},
   "outputs": [],
   "source": [
    "# sort dataFrame by ID so that each unique applicants' info appears together (check no dupes)\n",
    "merged4C= merged4B.sort_values('ID')"
   ]
  },
  {
   "cell_type": "code",
   "execution_count": 6,
   "id": "d88ef1b8-6021-41f3-83f8-b3a71f1d3cb8",
   "metadata": {},
   "outputs": [
    {
     "data": {
      "text/html": [
       "<div>\n",
       "<style scoped>\n",
       "    .dataframe tbody tr th:only-of-type {\n",
       "        vertical-align: middle;\n",
       "    }\n",
       "\n",
       "    .dataframe tbody tr th {\n",
       "        vertical-align: top;\n",
       "    }\n",
       "\n",
       "    .dataframe thead th {\n",
       "        text-align: right;\n",
       "    }\n",
       "</style>\n",
       "<table border=\"1\" class=\"dataframe\">\n",
       "  <thead>\n",
       "    <tr style=\"text-align: right;\">\n",
       "      <th></th>\n",
       "      <th>Unnamed: 0</th>\n",
       "      <th>ID</th>\n",
       "      <th>gender</th>\n",
       "      <th>ownsCar</th>\n",
       "      <th>ownsRealty</th>\n",
       "      <th>numChildren</th>\n",
       "      <th>totalIncome</th>\n",
       "      <th>incomeType</th>\n",
       "      <th>eduLvl</th>\n",
       "      <th>famStatus</th>\n",
       "      <th>housingType</th>\n",
       "      <th>occupation</th>\n",
       "      <th>famSize</th>\n",
       "      <th>ageYrs</th>\n",
       "      <th>yrsEmpl</th>\n",
       "      <th>UNEMPLOYED</th>\n",
       "      <th>ApprStatus</th>\n",
       "    </tr>\n",
       "  </thead>\n",
       "  <tbody>\n",
       "    <tr>\n",
       "      <th>0</th>\n",
       "      <td>0</td>\n",
       "      <td>5008804</td>\n",
       "      <td>M</td>\n",
       "      <td>Y</td>\n",
       "      <td>Y</td>\n",
       "      <td>0</td>\n",
       "      <td>427500</td>\n",
       "      <td>Working</td>\n",
       "      <td>Higher education</td>\n",
       "      <td>Civil marriage</td>\n",
       "      <td>Rented apartment</td>\n",
       "      <td>Not identified</td>\n",
       "      <td>2</td>\n",
       "      <td>33</td>\n",
       "      <td>12</td>\n",
       "      <td>1</td>\n",
       "      <td>1</td>\n",
       "    </tr>\n",
       "    <tr>\n",
       "      <th>16</th>\n",
       "      <td>16</td>\n",
       "      <td>5008805</td>\n",
       "      <td>M</td>\n",
       "      <td>Y</td>\n",
       "      <td>Y</td>\n",
       "      <td>0</td>\n",
       "      <td>427500</td>\n",
       "      <td>Working</td>\n",
       "      <td>Higher education</td>\n",
       "      <td>Civil marriage</td>\n",
       "      <td>Rented apartment</td>\n",
       "      <td>Not identified</td>\n",
       "      <td>2</td>\n",
       "      <td>33</td>\n",
       "      <td>12</td>\n",
       "      <td>1</td>\n",
       "      <td>1</td>\n",
       "    </tr>\n",
       "    <tr>\n",
       "      <th>31</th>\n",
       "      <td>31</td>\n",
       "      <td>5008806</td>\n",
       "      <td>M</td>\n",
       "      <td>Y</td>\n",
       "      <td>Y</td>\n",
       "      <td>0</td>\n",
       "      <td>112500</td>\n",
       "      <td>Working</td>\n",
       "      <td>Secondary / secondary special</td>\n",
       "      <td>Married</td>\n",
       "      <td>House / apartment</td>\n",
       "      <td>Security staff</td>\n",
       "      <td>2</td>\n",
       "      <td>59</td>\n",
       "      <td>3</td>\n",
       "      <td>1</td>\n",
       "      <td>1</td>\n",
       "    </tr>\n",
       "    <tr>\n",
       "      <th>61</th>\n",
       "      <td>61</td>\n",
       "      <td>5008808</td>\n",
       "      <td>F</td>\n",
       "      <td>N</td>\n",
       "      <td>Y</td>\n",
       "      <td>0</td>\n",
       "      <td>270000</td>\n",
       "      <td>Commercial associate</td>\n",
       "      <td>Secondary / secondary special</td>\n",
       "      <td>Single / not married</td>\n",
       "      <td>House / apartment</td>\n",
       "      <td>Sales staff</td>\n",
       "      <td>1</td>\n",
       "      <td>53</td>\n",
       "      <td>8</td>\n",
       "      <td>1</td>\n",
       "      <td>1</td>\n",
       "    </tr>\n",
       "    <tr>\n",
       "      <th>66</th>\n",
       "      <td>66</td>\n",
       "      <td>5008809</td>\n",
       "      <td>F</td>\n",
       "      <td>N</td>\n",
       "      <td>Y</td>\n",
       "      <td>0</td>\n",
       "      <td>270000</td>\n",
       "      <td>Commercial associate</td>\n",
       "      <td>Secondary / secondary special</td>\n",
       "      <td>Single / not married</td>\n",
       "      <td>House / apartment</td>\n",
       "      <td>Sales staff</td>\n",
       "      <td>1</td>\n",
       "      <td>53</td>\n",
       "      <td>8</td>\n",
       "      <td>1</td>\n",
       "      <td>1</td>\n",
       "    </tr>\n",
       "  </tbody>\n",
       "</table>\n",
       "</div>"
      ],
      "text/plain": [
       "    Unnamed: 0       ID gender ownsCar ownsRealty  numChildren  totalIncome  \\\n",
       "0            0  5008804      M       Y          Y            0       427500   \n",
       "16          16  5008805      M       Y          Y            0       427500   \n",
       "31          31  5008806      M       Y          Y            0       112500   \n",
       "61          61  5008808      F       N          Y            0       270000   \n",
       "66          66  5008809      F       N          Y            0       270000   \n",
       "\n",
       "              incomeType                         eduLvl             famStatus  \\\n",
       "0                Working               Higher education        Civil marriage   \n",
       "16               Working               Higher education        Civil marriage   \n",
       "31               Working  Secondary / secondary special               Married   \n",
       "61  Commercial associate  Secondary / secondary special  Single / not married   \n",
       "66  Commercial associate  Secondary / secondary special  Single / not married   \n",
       "\n",
       "          housingType      occupation  famSize  ageYrs  yrsEmpl  UNEMPLOYED  \\\n",
       "0    Rented apartment  Not identified        2      33       12           1   \n",
       "16   Rented apartment  Not identified        2      33       12           1   \n",
       "31  House / apartment  Security staff        2      59        3           1   \n",
       "61  House / apartment     Sales staff        1      53        8           1   \n",
       "66  House / apartment     Sales staff        1      53        8           1   \n",
       "\n",
       "    ApprStatus  \n",
       "0            1  \n",
       "16           1  \n",
       "31           1  \n",
       "61           1  \n",
       "66           1  "
      ]
     },
     "execution_count": 6,
     "metadata": {},
     "output_type": "execute_result"
    }
   ],
   "source": [
    "merged4C.head()"
   ]
  },
  {
   "cell_type": "code",
   "execution_count": 7,
   "id": "ff47ad59-349f-4479-8766-2c766c532601",
   "metadata": {},
   "outputs": [],
   "source": [
    "# Drop Unnamed:0 col\n",
    "merged4C.drop('Unnamed: 0', axis=1, inplace=True) "
   ]
  },
  {
   "cell_type": "code",
   "execution_count": 8,
   "id": "0ddb08d0-9f96-446a-9bde-fea829fafe8e",
   "metadata": {},
   "outputs": [],
   "source": [
    "# Drop ID column then remove duplicates because we know that one client can have more than one ID (from Kaggle Discussion thread)\n",
    "\n",
    "merged4C.drop('ID', axis=1, inplace=True)"
   ]
  },
  {
   "cell_type": "code",
   "execution_count": 9,
   "id": "b04341ce-0c31-4a58-b362-f91caf30f771",
   "metadata": {},
   "outputs": [],
   "source": [
    "mergedOneRecord = merged4C.drop_duplicates(subset=merged4C.columns[1:], keep='first')"
   ]
  },
  {
   "cell_type": "code",
   "execution_count": 10,
   "id": "10486cc5-ed8c-4a73-8c56-c3ec333dfd01",
   "metadata": {},
   "outputs": [
    {
     "data": {
      "text/html": [
       "<div>\n",
       "<style scoped>\n",
       "    .dataframe tbody tr th:only-of-type {\n",
       "        vertical-align: middle;\n",
       "    }\n",
       "\n",
       "    .dataframe tbody tr th {\n",
       "        vertical-align: top;\n",
       "    }\n",
       "\n",
       "    .dataframe thead th {\n",
       "        text-align: right;\n",
       "    }\n",
       "</style>\n",
       "<table border=\"1\" class=\"dataframe\">\n",
       "  <thead>\n",
       "    <tr style=\"text-align: right;\">\n",
       "      <th></th>\n",
       "      <th>gender</th>\n",
       "      <th>ownsCar</th>\n",
       "      <th>ownsRealty</th>\n",
       "      <th>numChildren</th>\n",
       "      <th>totalIncome</th>\n",
       "      <th>incomeType</th>\n",
       "      <th>eduLvl</th>\n",
       "      <th>famStatus</th>\n",
       "      <th>housingType</th>\n",
       "      <th>occupation</th>\n",
       "      <th>famSize</th>\n",
       "      <th>ageYrs</th>\n",
       "      <th>yrsEmpl</th>\n",
       "      <th>UNEMPLOYED</th>\n",
       "      <th>ApprStatus</th>\n",
       "    </tr>\n",
       "  </thead>\n",
       "  <tbody>\n",
       "    <tr>\n",
       "      <th>0</th>\n",
       "      <td>M</td>\n",
       "      <td>Y</td>\n",
       "      <td>Y</td>\n",
       "      <td>0</td>\n",
       "      <td>427500</td>\n",
       "      <td>Working</td>\n",
       "      <td>Higher education</td>\n",
       "      <td>Civil marriage</td>\n",
       "      <td>Rented apartment</td>\n",
       "      <td>Not identified</td>\n",
       "      <td>2</td>\n",
       "      <td>33</td>\n",
       "      <td>12</td>\n",
       "      <td>1</td>\n",
       "      <td>1</td>\n",
       "    </tr>\n",
       "    <tr>\n",
       "      <th>31</th>\n",
       "      <td>M</td>\n",
       "      <td>Y</td>\n",
       "      <td>Y</td>\n",
       "      <td>0</td>\n",
       "      <td>112500</td>\n",
       "      <td>Working</td>\n",
       "      <td>Secondary / secondary special</td>\n",
       "      <td>Married</td>\n",
       "      <td>House / apartment</td>\n",
       "      <td>Security staff</td>\n",
       "      <td>2</td>\n",
       "      <td>59</td>\n",
       "      <td>3</td>\n",
       "      <td>1</td>\n",
       "      <td>1</td>\n",
       "    </tr>\n",
       "    <tr>\n",
       "      <th>61</th>\n",
       "      <td>F</td>\n",
       "      <td>N</td>\n",
       "      <td>Y</td>\n",
       "      <td>0</td>\n",
       "      <td>270000</td>\n",
       "      <td>Commercial associate</td>\n",
       "      <td>Secondary / secondary special</td>\n",
       "      <td>Single / not married</td>\n",
       "      <td>House / apartment</td>\n",
       "      <td>Sales staff</td>\n",
       "      <td>1</td>\n",
       "      <td>53</td>\n",
       "      <td>8</td>\n",
       "      <td>1</td>\n",
       "      <td>1</td>\n",
       "    </tr>\n",
       "    <tr>\n",
       "      <th>137</th>\n",
       "      <td>F</td>\n",
       "      <td>N</td>\n",
       "      <td>Y</td>\n",
       "      <td>0</td>\n",
       "      <td>283500</td>\n",
       "      <td>Pensioner</td>\n",
       "      <td>Higher education</td>\n",
       "      <td>Separated</td>\n",
       "      <td>House / apartment</td>\n",
       "      <td>Not identified</td>\n",
       "      <td>1</td>\n",
       "      <td>62</td>\n",
       "      <td>0</td>\n",
       "      <td>0</td>\n",
       "      <td>0</td>\n",
       "    </tr>\n",
       "    <tr>\n",
       "      <th>188</th>\n",
       "      <td>M</td>\n",
       "      <td>Y</td>\n",
       "      <td>Y</td>\n",
       "      <td>0</td>\n",
       "      <td>270000</td>\n",
       "      <td>Working</td>\n",
       "      <td>Higher education</td>\n",
       "      <td>Married</td>\n",
       "      <td>House / apartment</td>\n",
       "      <td>Accountants</td>\n",
       "      <td>2</td>\n",
       "      <td>47</td>\n",
       "      <td>2</td>\n",
       "      <td>1</td>\n",
       "      <td>0</td>\n",
       "    </tr>\n",
       "  </tbody>\n",
       "</table>\n",
       "</div>"
      ],
      "text/plain": [
       "    gender ownsCar ownsRealty  numChildren  totalIncome            incomeType  \\\n",
       "0        M       Y          Y            0       427500               Working   \n",
       "31       M       Y          Y            0       112500               Working   \n",
       "61       F       N          Y            0       270000  Commercial associate   \n",
       "137      F       N          Y            0       283500             Pensioner   \n",
       "188      M       Y          Y            0       270000               Working   \n",
       "\n",
       "                            eduLvl             famStatus        housingType  \\\n",
       "0                 Higher education        Civil marriage   Rented apartment   \n",
       "31   Secondary / secondary special               Married  House / apartment   \n",
       "61   Secondary / secondary special  Single / not married  House / apartment   \n",
       "137               Higher education             Separated  House / apartment   \n",
       "188               Higher education               Married  House / apartment   \n",
       "\n",
       "         occupation  famSize  ageYrs  yrsEmpl  UNEMPLOYED  ApprStatus  \n",
       "0    Not identified        2      33       12           1           1  \n",
       "31   Security staff        2      59        3           1           1  \n",
       "61      Sales staff        1      53        8           1           1  \n",
       "137  Not identified        1      62        0           0           0  \n",
       "188     Accountants        2      47        2           1           0  "
      ]
     },
     "execution_count": 10,
     "metadata": {},
     "output_type": "execute_result"
    }
   ],
   "source": [
    "mergedOneRecord.head()"
   ]
  },
  {
   "cell_type": "code",
   "execution_count": 11,
   "id": "20744cdf-dfb3-4437-9b8a-e7494bed0b07",
   "metadata": {},
   "outputs": [
    {
     "name": "stdout",
     "output_type": "stream",
     "text": [
      "<class 'pandas.core.frame.DataFrame'>\n",
      "Int64Index: 13306 entries, 0 to 171489\n",
      "Data columns (total 15 columns):\n",
      " #   Column       Non-Null Count  Dtype \n",
      "---  ------       --------------  ----- \n",
      " 0   gender       13306 non-null  object\n",
      " 1   ownsCar      13306 non-null  object\n",
      " 2   ownsRealty   13306 non-null  object\n",
      " 3   numChildren  13306 non-null  int64 \n",
      " 4   totalIncome  13306 non-null  int64 \n",
      " 5   incomeType   13306 non-null  object\n",
      " 6   eduLvl       13306 non-null  object\n",
      " 7   famStatus    13306 non-null  object\n",
      " 8   housingType  13306 non-null  object\n",
      " 9   occupation   13306 non-null  object\n",
      " 10  famSize      13306 non-null  int64 \n",
      " 11  ageYrs       13306 non-null  int64 \n",
      " 12  yrsEmpl      13306 non-null  int64 \n",
      " 13  UNEMPLOYED   13306 non-null  int64 \n",
      " 14  ApprStatus   13306 non-null  int64 \n",
      "dtypes: int64(7), object(8)\n",
      "memory usage: 1.6+ MB\n"
     ]
    }
   ],
   "source": [
    "mergedOneRecord.info()"
   ]
  },
  {
   "cell_type": "code",
   "execution_count": 12,
   "id": "49b55fba-aaf0-49d1-98be-f81022277318",
   "metadata": {},
   "outputs": [
    {
     "data": {
      "text/html": [
       "<div>\n",
       "<style scoped>\n",
       "    .dataframe tbody tr th:only-of-type {\n",
       "        vertical-align: middle;\n",
       "    }\n",
       "\n",
       "    .dataframe tbody tr th {\n",
       "        vertical-align: top;\n",
       "    }\n",
       "\n",
       "    .dataframe thead th {\n",
       "        text-align: right;\n",
       "    }\n",
       "</style>\n",
       "<table border=\"1\" class=\"dataframe\">\n",
       "  <thead>\n",
       "    <tr style=\"text-align: right;\">\n",
       "      <th></th>\n",
       "      <th>numChildren</th>\n",
       "      <th>totalIncome</th>\n",
       "      <th>famSize</th>\n",
       "      <th>ageYrs</th>\n",
       "      <th>yrsEmpl</th>\n",
       "      <th>UNEMPLOYED</th>\n",
       "      <th>ApprStatus</th>\n",
       "    </tr>\n",
       "  </thead>\n",
       "  <tbody>\n",
       "    <tr>\n",
       "      <th>count</th>\n",
       "      <td>13306.000000</td>\n",
       "      <td>1.330600e+04</td>\n",
       "      <td>13306.000000</td>\n",
       "      <td>13306.000000</td>\n",
       "      <td>13306.000000</td>\n",
       "      <td>13306.000000</td>\n",
       "      <td>13306.000000</td>\n",
       "    </tr>\n",
       "    <tr>\n",
       "      <th>mean</th>\n",
       "      <td>0.436570</td>\n",
       "      <td>1.841788e+05</td>\n",
       "      <td>2.197430</td>\n",
       "      <td>43.755524</td>\n",
       "      <td>5.506914</td>\n",
       "      <td>0.851120</td>\n",
       "      <td>0.518112</td>\n",
       "    </tr>\n",
       "    <tr>\n",
       "      <th>std</th>\n",
       "      <td>0.764634</td>\n",
       "      <td>1.009076e+05</td>\n",
       "      <td>0.934871</td>\n",
       "      <td>11.398114</td>\n",
       "      <td>6.347271</td>\n",
       "      <td>0.355984</td>\n",
       "      <td>0.499691</td>\n",
       "    </tr>\n",
       "    <tr>\n",
       "      <th>min</th>\n",
       "      <td>0.000000</td>\n",
       "      <td>2.700000e+04</td>\n",
       "      <td>1.000000</td>\n",
       "      <td>21.000000</td>\n",
       "      <td>0.000000</td>\n",
       "      <td>0.000000</td>\n",
       "      <td>0.000000</td>\n",
       "    </tr>\n",
       "    <tr>\n",
       "      <th>25%</th>\n",
       "      <td>0.000000</td>\n",
       "      <td>1.170000e+05</td>\n",
       "      <td>2.000000</td>\n",
       "      <td>34.000000</td>\n",
       "      <td>1.000000</td>\n",
       "      <td>1.000000</td>\n",
       "      <td>0.000000</td>\n",
       "    </tr>\n",
       "    <tr>\n",
       "      <th>50%</th>\n",
       "      <td>0.000000</td>\n",
       "      <td>1.575000e+05</td>\n",
       "      <td>2.000000</td>\n",
       "      <td>43.000000</td>\n",
       "      <td>4.000000</td>\n",
       "      <td>1.000000</td>\n",
       "      <td>1.000000</td>\n",
       "    </tr>\n",
       "    <tr>\n",
       "      <th>75%</th>\n",
       "      <td>1.000000</td>\n",
       "      <td>2.250000e+05</td>\n",
       "      <td>3.000000</td>\n",
       "      <td>53.000000</td>\n",
       "      <td>8.000000</td>\n",
       "      <td>1.000000</td>\n",
       "      <td>1.000000</td>\n",
       "    </tr>\n",
       "    <tr>\n",
       "      <th>max</th>\n",
       "      <td>19.000000</td>\n",
       "      <td>1.575000e+06</td>\n",
       "      <td>20.000000</td>\n",
       "      <td>69.000000</td>\n",
       "      <td>43.000000</td>\n",
       "      <td>1.000000</td>\n",
       "      <td>1.000000</td>\n",
       "    </tr>\n",
       "  </tbody>\n",
       "</table>\n",
       "</div>"
      ],
      "text/plain": [
       "        numChildren   totalIncome       famSize        ageYrs       yrsEmpl  \\\n",
       "count  13306.000000  1.330600e+04  13306.000000  13306.000000  13306.000000   \n",
       "mean       0.436570  1.841788e+05      2.197430     43.755524      5.506914   \n",
       "std        0.764634  1.009076e+05      0.934871     11.398114      6.347271   \n",
       "min        0.000000  2.700000e+04      1.000000     21.000000      0.000000   \n",
       "25%        0.000000  1.170000e+05      2.000000     34.000000      1.000000   \n",
       "50%        0.000000  1.575000e+05      2.000000     43.000000      4.000000   \n",
       "75%        1.000000  2.250000e+05      3.000000     53.000000      8.000000   \n",
       "max       19.000000  1.575000e+06     20.000000     69.000000     43.000000   \n",
       "\n",
       "         UNEMPLOYED    ApprStatus  \n",
       "count  13306.000000  13306.000000  \n",
       "mean       0.851120      0.518112  \n",
       "std        0.355984      0.499691  \n",
       "min        0.000000      0.000000  \n",
       "25%        1.000000      0.000000  \n",
       "50%        1.000000      1.000000  \n",
       "75%        1.000000      1.000000  \n",
       "max        1.000000      1.000000  "
      ]
     },
     "execution_count": 12,
     "metadata": {},
     "output_type": "execute_result"
    }
   ],
   "source": [
    "mergedOneRecord.describe()"
   ]
  },
  {
   "cell_type": "markdown",
   "id": "d6fb0086-5c3d-43c2-b605-7d597d8cbf3b",
   "metadata": {},
   "source": [
    "# Determined that there are 13,311 unique clients in our dataset."
   ]
  },
  {
   "cell_type": "code",
   "execution_count": 13,
   "id": "88a71236-5638-4637-a85f-daf14a8f8935",
   "metadata": {},
   "outputs": [],
   "source": [
    "# save dataset where ID col removed then dupes removed to represent ONE record per client\n",
    "mergedOneRecord.to_csv(\"../Data/mergedOneRecord.csv\")"
   ]
  },
  {
   "cell_type": "code",
   "execution_count": 14,
   "id": "ea7c6343-ad5a-4e6b-bcd5-4bda19bd50b3",
   "metadata": {},
   "outputs": [
    {
     "data": {
      "text/plain": [
       "<AxesSubplot:>"
      ]
     },
     "execution_count": 14,
     "metadata": {},
     "output_type": "execute_result"
    },
    {
     "data": {
      "image/png": "[encoded data removed]",
      "text/plain": [
       "<Figure size 432x288 with 2 Axes>"
      ]
     },
     "metadata": {},
     "output_type": "display_data"
    }
   ],
   "source": [
    "# Correlation matrix\n",
    "sns.heatmap(mergedOneRecord.corr(), annot=True)"
   ]
  },
  {
   "cell_type": "markdown",
   "id": "faf13d22-c2db-45eb-9411-8651a22c2779",
   "metadata": {},
   "source": [
    "# family size and number of children are highly correlated, but the rest of the variables do not have significant correlation to eachother. Drop numChildren before doing any ML."
   ]
  },
  {
   "cell_type": "markdown",
   "id": "9ab97f0e-876e-409c-8614-a92c0afc2bc2",
   "metadata": {},
   "source": [
    "## Explore continuous variables"
   ]
  },
  {
   "cell_type": "code",
   "execution_count": 15,
   "id": "d74f2b7b-04ff-4346-8ea2-3be9aa71982a",
   "metadata": {},
   "outputs": [
    {
     "data": {
      "text/plain": [
       "Text(0.5, 1.0, 'Applicant Income Distribution')"
      ]
     },
     "execution_count": 15,
     "metadata": {},
     "output_type": "execute_result"
    },
    {
     "data": {
      "image/png": "[encoded data removed]",
      "text/plain": [
       "<Figure size 432x288 with 1 Axes>"
      ]
     },
     "metadata": {},
     "output_type": "display_data"
    }
   ],
   "source": [
    "num_bins = 100\n",
    "n, bins, patches = plt.hist(mergedOneRecord['totalIncome'], num_bins, facecolor='green', alpha = .8)\n",
    "plt.xlabel('Income')\n",
    "plt.ylabel('Frequency')\n",
    "plt.title('Applicant Income Distribution')"
   ]
  },
  {
   "cell_type": "markdown",
   "id": "0b6d8e84-a756-4eb8-899e-1a39a28457d4",
   "metadata": {},
   "source": [
    "### There is a slight positive skew in income.  There must be some outliers."
   ]
  },
  {
   "cell_type": "code",
   "execution_count": 16,
   "id": "e6c1638e-de27-4848-a935-87414ab80c6e",
   "metadata": {},
   "outputs": [
    {
     "data": {
      "text/html": [
       "<div>\n",
       "<style scoped>\n",
       "    .dataframe tbody tr th:only-of-type {\n",
       "        vertical-align: middle;\n",
       "    }\n",
       "\n",
       "    .dataframe tbody tr th {\n",
       "        vertical-align: top;\n",
       "    }\n",
       "\n",
       "    .dataframe thead th {\n",
       "        text-align: right;\n",
       "    }\n",
       "</style>\n",
       "<table border=\"1\" class=\"dataframe\">\n",
       "  <thead>\n",
       "    <tr style=\"text-align: right;\">\n",
       "      <th></th>\n",
       "      <th>numChildren</th>\n",
       "      <th>totalIncome</th>\n",
       "      <th>famSize</th>\n",
       "      <th>ageYrs</th>\n",
       "      <th>yrsEmpl</th>\n",
       "      <th>UNEMPLOYED</th>\n",
       "      <th>ApprStatus</th>\n",
       "    </tr>\n",
       "  </thead>\n",
       "  <tbody>\n",
       "    <tr>\n",
       "      <th>count</th>\n",
       "      <td>13306.000000</td>\n",
       "      <td>1.330600e+04</td>\n",
       "      <td>13306.000000</td>\n",
       "      <td>13306.000000</td>\n",
       "      <td>13306.000000</td>\n",
       "      <td>13306.000000</td>\n",
       "      <td>13306.000000</td>\n",
       "    </tr>\n",
       "    <tr>\n",
       "      <th>mean</th>\n",
       "      <td>0.436570</td>\n",
       "      <td>1.841788e+05</td>\n",
       "      <td>2.197430</td>\n",
       "      <td>43.755524</td>\n",
       "      <td>5.506914</td>\n",
       "      <td>0.851120</td>\n",
       "      <td>0.518112</td>\n",
       "    </tr>\n",
       "    <tr>\n",
       "      <th>std</th>\n",
       "      <td>0.764634</td>\n",
       "      <td>1.009076e+05</td>\n",
       "      <td>0.934871</td>\n",
       "      <td>11.398114</td>\n",
       "      <td>6.347271</td>\n",
       "      <td>0.355984</td>\n",
       "      <td>0.499691</td>\n",
       "    </tr>\n",
       "    <tr>\n",
       "      <th>min</th>\n",
       "      <td>0.000000</td>\n",
       "      <td>2.700000e+04</td>\n",
       "      <td>1.000000</td>\n",
       "      <td>21.000000</td>\n",
       "      <td>0.000000</td>\n",
       "      <td>0.000000</td>\n",
       "      <td>0.000000</td>\n",
       "    </tr>\n",
       "    <tr>\n",
       "      <th>25%</th>\n",
       "      <td>0.000000</td>\n",
       "      <td>1.170000e+05</td>\n",
       "      <td>2.000000</td>\n",
       "      <td>34.000000</td>\n",
       "      <td>1.000000</td>\n",
       "      <td>1.000000</td>\n",
       "      <td>0.000000</td>\n",
       "    </tr>\n",
       "    <tr>\n",
       "      <th>50%</th>\n",
       "      <td>0.000000</td>\n",
       "      <td>1.575000e+05</td>\n",
       "      <td>2.000000</td>\n",
       "      <td>43.000000</td>\n",
       "      <td>4.000000</td>\n",
       "      <td>1.000000</td>\n",
       "      <td>1.000000</td>\n",
       "    </tr>\n",
       "    <tr>\n",
       "      <th>75%</th>\n",
       "      <td>1.000000</td>\n",
       "      <td>2.250000e+05</td>\n",
       "      <td>3.000000</td>\n",
       "      <td>53.000000</td>\n",
       "      <td>8.000000</td>\n",
       "      <td>1.000000</td>\n",
       "      <td>1.000000</td>\n",
       "    </tr>\n",
       "    <tr>\n",
       "      <th>max</th>\n",
       "      <td>19.000000</td>\n",
       "      <td>1.575000e+06</td>\n",
       "      <td>20.000000</td>\n",
       "      <td>69.000000</td>\n",
       "      <td>43.000000</td>\n",
       "      <td>1.000000</td>\n",
       "      <td>1.000000</td>\n",
       "    </tr>\n",
       "  </tbody>\n",
       "</table>\n",
       "</div>"
      ],
      "text/plain": [
       "        numChildren   totalIncome       famSize        ageYrs       yrsEmpl  \\\n",
       "count  13306.000000  1.330600e+04  13306.000000  13306.000000  13306.000000   \n",
       "mean       0.436570  1.841788e+05      2.197430     43.755524      5.506914   \n",
       "std        0.764634  1.009076e+05      0.934871     11.398114      6.347271   \n",
       "min        0.000000  2.700000e+04      1.000000     21.000000      0.000000   \n",
       "25%        0.000000  1.170000e+05      2.000000     34.000000      1.000000   \n",
       "50%        0.000000  1.575000e+05      2.000000     43.000000      4.000000   \n",
       "75%        1.000000  2.250000e+05      3.000000     53.000000      8.000000   \n",
       "max       19.000000  1.575000e+06     20.000000     69.000000     43.000000   \n",
       "\n",
       "         UNEMPLOYED    ApprStatus  \n",
       "count  13306.000000  13306.000000  \n",
       "mean       0.851120      0.518112  \n",
       "std        0.355984      0.499691  \n",
       "min        0.000000      0.000000  \n",
       "25%        1.000000      0.000000  \n",
       "50%        1.000000      1.000000  \n",
       "75%        1.000000      1.000000  \n",
       "max        1.000000      1.000000  "
      ]
     },
     "execution_count": 16,
     "metadata": {},
     "output_type": "execute_result"
    }
   ],
   "source": [
    "mergedOneRecord.describe()"
   ]
  },
  {
   "cell_type": "code",
   "execution_count": 17,
   "id": "9541925b-a14b-4955-8777-e33d65fefe17",
   "metadata": {},
   "outputs": [
    {
     "name": "stdout",
     "output_type": "stream",
     "text": [
      "The lowest applicant income is 27000\n"
     ]
    }
   ],
   "source": [
    "# print income range represented in this data set\n",
    "minInc = mergedOneRecord.totalIncome.min()\n",
    "print(\"The lowest applicant income is\" , minInc)"
   ]
  },
  {
   "cell_type": "code",
   "execution_count": 18,
   "id": "d7e1197f-594f-4450-8cc4-baea98890ccc",
   "metadata": {},
   "outputs": [
    {
     "name": "stdout",
     "output_type": "stream",
     "text": [
      "The maximum applicant income is 1575000\n"
     ]
    }
   ],
   "source": [
    "maxInc = mergedOneRecord.totalIncome.max()\n",
    "print(\"The maximum applicant income is\" , maxInc)"
   ]
  },
  {
   "cell_type": "code",
   "execution_count": 19,
   "id": "4bcc719a-71e2-4a98-a88f-db090ee1e527",
   "metadata": {},
   "outputs": [
    {
     "data": {
      "text/plain": [
       "<AxesSubplot:>"
      ]
     },
     "execution_count": 19,
     "metadata": {},
     "output_type": "execute_result"
    },
    {
     "data": {
      "image/png": "[encoded data removed]",
      "text/plain": [
       "<Figure size 432x288 with 1 Axes>"
      ]
     },
     "metadata": {},
     "output_type": "display_data"
    }
   ],
   "source": [
    "mergedOneRecord.boxplot('totalIncome')"
   ]
  },
  {
   "cell_type": "code",
   "execution_count": 20,
   "id": "c4bbfef7-9dd8-4c3b-94b7-ceec8b1f0ee3",
   "metadata": {},
   "outputs": [
    {
     "data": {
      "text/plain": [
       "<AxesSubplot:>"
      ]
     },
     "execution_count": 20,
     "metadata": {},
     "output_type": "execute_result"
    },
    {
     "data": {
      "image/png": "[encoded data removed]",
      "text/plain": [
       "<Figure size 432x288 with 1 Axes>"
      ]
     },
     "metadata": {},
     "output_type": "display_data"
    }
   ],
   "source": [
    "mergedOneRecord['numChildren'].hist()"
   ]
  },
  {
   "cell_type": "code",
   "execution_count": 21,
   "id": "ad3b5aeb-7484-4bb4-9d3f-9f37e7902d8f",
   "metadata": {},
   "outputs": [
    {
     "data": {
      "text/plain": [
       "<AxesSubplot:>"
      ]
     },
     "execution_count": 21,
     "metadata": {},
     "output_type": "execute_result"
    },
    {
     "data": {
      "image/png": "[encoded data removed]",
      "text/plain": [
       "<Figure size 432x288 with 1 Axes>"
      ]
     },
     "metadata": {},
     "output_type": "display_data"
    }
   ],
   "source": [
    "mergedOneRecord.boxplot('numChildren')"
   ]
  },
  {
   "cell_type": "code",
   "execution_count": 22,
   "id": "8dbfbfe8-4b11-4d90-86e8-79a342d0ea02",
   "metadata": {},
   "outputs": [
    {
     "data": {
      "text/plain": [
       "<AxesSubplot:>"
      ]
     },
     "execution_count": 22,
     "metadata": {},
     "output_type": "execute_result"
    },
    {
     "data": {
      "image/png": "[encoded data removed]",
      "text/plain": [
       "<Figure size 432x288 with 1 Axes>"
      ]
     },
     "metadata": {},
     "output_type": "display_data"
    }
   ],
   "source": [
    "mergedOneRecord['ageYrs'].hist()"
   ]
  },
  {
   "cell_type": "code",
   "execution_count": 23,
   "id": "68ce9182-313f-46ea-835b-f71b93c34957",
   "metadata": {},
   "outputs": [
    {
     "data": {
      "text/plain": [
       "<AxesSubplot:>"
      ]
     },
     "execution_count": 23,
     "metadata": {},
     "output_type": "execute_result"
    },
    {
     "data": {
      "image/png": "[encoded data removed]",
      "text/plain": [
       "<Figure size 432x288 with 1 Axes>"
      ]
     },
     "metadata": {},
     "output_type": "display_data"
    }
   ],
   "source": [
    "mergedOneRecord.boxplot('ageYrs')"
   ]
  },
  {
   "cell_type": "code",
   "execution_count": 24,
   "id": "1454eedb-4a0c-4179-80ae-2e2bf5d54816",
   "metadata": {},
   "outputs": [
    {
     "data": {
      "text/plain": [
       "<AxesSubplot:>"
      ]
     },
     "execution_count": 24,
     "metadata": {},
     "output_type": "execute_result"
    },
    {
     "data": {
      "image/png": "[encoded data removed]",
      "text/plain": [
       "<Figure size 432x288 with 1 Axes>"
      ]
     },
     "metadata": {},
     "output_type": "display_data"
    }
   ],
   "source": [
    "mergedOneRecord['yrsEmpl'].hist()"
   ]
  },
  {
   "cell_type": "code",
   "execution_count": 25,
   "id": "825b92b1-9a20-4505-8c0d-d9b335fb64d3",
   "metadata": {},
   "outputs": [
    {
     "data": {
      "text/plain": [
       "<AxesSubplot:>"
      ]
     },
     "execution_count": 25,
     "metadata": {},
     "output_type": "execute_result"
    },
    {
     "data": {
      "image/png": "[encoded data removed]",
      "text/plain": [
       "<Figure size 432x288 with 1 Axes>"
      ]
     },
     "metadata": {},
     "output_type": "display_data"
    }
   ],
   "source": [
    "mergedOneRecord.boxplot('yrsEmpl')"
   ]
  },
  {
   "cell_type": "code",
   "execution_count": 26,
   "id": "9cd3a9d3-013a-4959-b730-87364b18b926",
   "metadata": {},
   "outputs": [
    {
     "data": {
      "text/plain": [
       "<AxesSubplot:>"
      ]
     },
     "execution_count": 26,
     "metadata": {},
     "output_type": "execute_result"
    },
    {
     "data": {
      "image/png": "[encoded data removed]",
      "text/plain": [
       "<Figure size 432x288 with 1 Axes>"
      ]
     },
     "metadata": {},
     "output_type": "display_data"
    }
   ],
   "source": [
    "mergedOneRecord['famSize'].hist()"
   ]
  },
  {
   "cell_type": "code",
   "execution_count": 27,
   "id": "c6b6cc05-130b-439a-a8df-644460f3a7c3",
   "metadata": {},
   "outputs": [
    {
     "data": {
      "text/plain": [
       "<AxesSubplot:>"
      ]
     },
     "execution_count": 27,
     "metadata": {},
     "output_type": "execute_result"
    },
    {
     "data": {
      "image/png": "[encoded data removed]",
      "text/plain": [
       "<Figure size 432x288 with 1 Axes>"
      ]
     },
     "metadata": {},
     "output_type": "display_data"
    }
   ],
   "source": [
    "mergedOneRecord.boxplot('famSize')"
   ]
  },
  {
   "cell_type": "markdown",
   "id": "d79173f5-e49e-46a8-baaf-6ef61e10112d",
   "metadata": {},
   "source": [
    "## Categorical Variable Distributions"
   ]
  },
  {
   "cell_type": "code",
   "execution_count": 28,
   "id": "cc974019-ca26-4ef5-a42f-91cdd3a5c7e2",
   "metadata": {},
   "outputs": [
    {
     "data": {
      "text/plain": [
       "<AxesSubplot:>"
      ]
     },
     "execution_count": 28,
     "metadata": {},
     "output_type": "execute_result"
    },
    {
     "data": {
      "image/png": "[encoded data removed]",
      "text/plain": [
       "<Figure size 432x288 with 1 Axes>"
      ]
     },
     "metadata": {},
     "output_type": "display_data"
    }
   ],
   "source": [
    "mergedOneRecord['occupation'].hist(xrot=90)"
   ]
  },
  {
   "cell_type": "code",
   "execution_count": 29,
   "id": "fcf26b97-6ebb-45b0-8fbd-de6de6b116b2",
   "metadata": {},
   "outputs": [
    {
     "data": {
      "text/plain": [
       "array([[<AxesSubplot:title={'center':'Accountants'}>,\n",
       "        <AxesSubplot:title={'center':'Cleaning staff'}>,\n",
       "        <AxesSubplot:title={'center':'Cooking staff'}>,\n",
       "        <AxesSubplot:title={'center':'Core staff'}>],\n",
       "       [<AxesSubplot:title={'center':'Drivers'}>,\n",
       "        <AxesSubplot:title={'center':'HR staff'}>,\n",
       "        <AxesSubplot:title={'center':'High skill tech staff'}>,\n",
       "        <AxesSubplot:title={'center':'IT staff'}>],\n",
       "       [<AxesSubplot:title={'center':'Laborers'}>,\n",
       "        <AxesSubplot:title={'center':'Low-skill Laborers'}>,\n",
       "        <AxesSubplot:title={'center':'Managers'}>,\n",
       "        <AxesSubplot:title={'center':'Medicine staff'}>],\n",
       "       [<AxesSubplot:title={'center':'Not identified'}>,\n",
       "        <AxesSubplot:title={'center':'Private service staff'}>,\n",
       "        <AxesSubplot:title={'center':'Realty agents'}>,\n",
       "        <AxesSubplot:title={'center':'Sales staff'}>],\n",
       "       [<AxesSubplot:title={'center':'Secretaries'}>,\n",
       "        <AxesSubplot:title={'center':'Security staff'}>,\n",
       "        <AxesSubplot:title={'center':'Waiters/barmen staff'}>,\n",
       "        <AxesSubplot:>]], dtype=object)"
      ]
     },
     "execution_count": 29,
     "metadata": {},
     "output_type": "execute_result"
    },
    {
     "data": {
      "image/png": "[encoded data removed]",
      "text/plain": [
       "<Figure size 1440x1440 with 20 Axes>"
      ]
     },
     "metadata": {},
     "output_type": "display_data"
    }
   ],
   "source": [
    "# yrs employed by occupation type\n",
    "mergedOneRecord[['yrsEmpl','occupation']].hist(by='occupation', figsize=(20, 20))"
   ]
  },
  {
   "cell_type": "code",
   "execution_count": 30,
   "id": "530d8404-21f0-4d02-a7e2-67bf2dc5bf27",
   "metadata": {},
   "outputs": [
    {
     "data": {
      "text/plain": [
       "array([[<AxesSubplot:title={'center':'Commercial associate'}>,\n",
       "        <AxesSubplot:title={'center':'Pensioner'}>],\n",
       "       [<AxesSubplot:title={'center':'State servant'}>,\n",
       "        <AxesSubplot:title={'center':'Student'}>],\n",
       "       [<AxesSubplot:title={'center':'Working'}>, <AxesSubplot:>]],\n",
       "      dtype=object)"
      ]
     },
     "execution_count": 30,
     "metadata": {},
     "output_type": "execute_result"
    },
    {
     "data": {
      "image/png": "[encoded data removed]",
      "text/plain": [
       "<Figure size 1440x1440 with 6 Axes>"
      ]
     },
     "metadata": {},
     "output_type": "display_data"
    }
   ],
   "source": [
    "#incomeType by yrsEmpl\n",
    "mergedOneRecord[['yrsEmpl','incomeType']].hist(by='incomeType', figsize=(20, 20))"
   ]
  },
  {
   "cell_type": "markdown",
   "id": "21e850b7-90da-44cc-a801-df57d2e29a33",
   "metadata": {},
   "source": [
    "## Most of the occupation types are \"Not identified\". May drop this column when doing ML since we can use \"incomeType\" instead, and there's no apparent occupation type to replace it with."
   ]
  },
  {
   "cell_type": "code",
   "execution_count": 31,
   "id": "1c83f6eb-9a0a-4f88-8ac6-ea96999cd579",
   "metadata": {},
   "outputs": [
    {
     "data": {
      "text/plain": [
       "<AxesSubplot:>"
      ]
     },
     "execution_count": 31,
     "metadata": {},
     "output_type": "execute_result"
    },
    {
     "data": {
      "image/png": "[encoded data removed]",
      "text/plain": [
       "<Figure size 432x288 with 1 Axes>"
      ]
     },
     "metadata": {},
     "output_type": "display_data"
    }
   ],
   "source": [
    "mergedOneRecord['incomeType'].hist(xrot=90)"
   ]
  },
  {
   "cell_type": "code",
   "execution_count": 32,
   "id": "d243a821-434f-4308-8634-20a6a6d923eb",
   "metadata": {},
   "outputs": [
    {
     "data": {
      "text/plain": [
       "<AxesSubplot:>"
      ]
     },
     "execution_count": 32,
     "metadata": {},
     "output_type": "execute_result"
    },
    {
     "data": {
      "image/png": "[encoded data removed]",
      "text/plain": [
       "<Figure size 432x288 with 1 Axes>"
      ]
     },
     "metadata": {},
     "output_type": "display_data"
    }
   ],
   "source": [
    "mergedOneRecord['eduLvl'].hist(xrot=90)"
   ]
  },
  {
   "cell_type": "markdown",
   "id": "b607366d-fe34-486f-bf16-bb8b2fdaa480",
   "metadata": {},
   "source": [
    "## Most applicants have a high school education, followed by those with a 4 year degree."
   ]
  },
  {
   "cell_type": "code",
   "execution_count": 33,
   "id": "bfe4b7aa-9629-4769-a251-07c85c51a420",
   "metadata": {},
   "outputs": [
    {
     "data": {
      "text/plain": [
       "<AxesSubplot:>"
      ]
     },
     "execution_count": 33,
     "metadata": {},
     "output_type": "execute_result"
    },
    {
     "data": {
      "image/png": "[encoded data removed]",
      "text/plain": [
       "<Figure size 432x288 with 1 Axes>"
      ]
     },
     "metadata": {},
     "output_type": "display_data"
    }
   ],
   "source": [
    "mergedOneRecord['famStatus'].hist(xrot=90)"
   ]
  },
  {
   "cell_type": "markdown",
   "id": "b37aa4da-739f-4f8a-9489-dc7ec0f77f01",
   "metadata": {},
   "source": [
    "## Explore Binary Categorical Variables"
   ]
  },
  {
   "cell_type": "code",
   "execution_count": 34,
   "id": "e48bc354-941c-40dc-a8b7-b6a5d5dce701",
   "metadata": {},
   "outputs": [
    {
     "data": {
      "image/png": "[encoded data removed]",
      "text/plain": [
       "<Figure size 720x360 with 2 Axes>"
      ]
     },
     "metadata": {},
     "output_type": "display_data"
    }
   ],
   "source": [
    "# gender, ownsCar dist\n",
    "fig, axes = plt.subplots(1,2)\n",
    "g1 = mergedOneRecord.groupby('gender')['gender'].count().plot(kind='pie', y='gender', ax=axes[0])\n",
    "g2 = mergedOneRecord.groupby('ownsCar')['ownsCar'].count().plot(kind='pie', y='ownsCar', ax=axes[1])\n",
    "\n",
    "fig.set_size_inches(10,5)\n",
    "\n",
    "plt.tight_layout()"
   ]
  },
  {
   "cell_type": "code",
   "execution_count": 35,
   "id": "36066c6a-a1cb-4bc7-a3b7-c34196108896",
   "metadata": {},
   "outputs": [
    {
     "data": {
      "text/plain": [
       "array([<AxesSubplot:title={'center':'F'}>,\n",
       "       <AxesSubplot:title={'center':'M'}>], dtype=object)"
      ]
     },
     "execution_count": 35,
     "metadata": {},
     "output_type": "execute_result"
    },
    {
     "data": {
      "image/png": "[encoded data removed]",
      "text/plain": [
       "<Figure size 1440x1440 with 2 Axes>"
      ]
     },
     "metadata": {},
     "output_type": "display_data"
    }
   ],
   "source": [
    "# gender by totalIncome\n",
    "mergedOneRecord[['totalIncome','gender']].hist(by='gender', figsize=(20, 20))"
   ]
  },
  {
   "cell_type": "markdown",
   "id": "5c85a641-a659-4ff5-8119-d2ccf9f85a73",
   "metadata": {},
   "source": [
    "# need to balance the M/F variable. Undersample on the F so that there is no bias towards F in models"
   ]
  },
  {
   "cell_type": "code",
   "execution_count": null,
   "id": "d7baff02-d887-49eb-b975-21d7898054ad",
   "metadata": {},
   "outputs": [],
   "source": []
  },
  {
   "cell_type": "code",
   "execution_count": 36,
   "id": "a48280b6-23af-45a8-b610-d7fd84cbb42f",
   "metadata": {},
   "outputs": [
    {
     "data": {
      "image/png": "[encoded data removed]",
      "text/plain": [
       "<Figure size 432x288 with 1 Axes>"
      ]
     },
     "metadata": {},
     "output_type": "display_data"
    }
   ],
   "source": [
    "# ownsRealty \n",
    "\n",
    "g3 = mergedOneRecord.groupby('ownsRealty')['ownsRealty'].count().plot(kind='pie', y='ownsRealty')"
   ]
  },
  {
   "cell_type": "code",
   "execution_count": 37,
   "id": "bfc3fe9f-2e48-4342-88cd-ebec5fca374d",
   "metadata": {},
   "outputs": [
    {
     "data": {
      "image/png": "[encoded data removed]",
      "text/plain": [
       "<Figure size 432x288 with 1 Axes>"
      ]
     },
     "metadata": {},
     "output_type": "display_data"
    }
   ],
   "source": [
    "g4 = mergedOneRecord.groupby('ApprStatus')['ApprStatus'].count().plot(kind='pie', y='ApprovalStatus')"
   ]
  },
  {
   "cell_type": "code",
   "execution_count": 38,
   "id": "9f8f3212-26a6-4875-843f-aabac3b9a0ea",
   "metadata": {},
   "outputs": [
    {
     "data": {
      "image/png": "[encoded data removed]",
      "text/plain": [
       "<Figure size 432x288 with 1 Axes>"
      ]
     },
     "metadata": {},
     "output_type": "display_data"
    }
   ],
   "source": [
    "g5 = mergedOneRecord.groupby('UNEMPLOYED')['UNEMPLOYED'].count().plot(kind='pie', y='UNEMPLOYED')"
   ]
  },
  {
   "cell_type": "code",
   "execution_count": 39,
   "id": "2f67675a-3fbc-45d5-8f55-55b00d6ca0e4",
   "metadata": {},
   "outputs": [
    {
     "data": {
      "text/plain": [
       "1    6894\n",
       "0    6412\n",
       "Name: ApprStatus, dtype: int64"
      ]
     },
     "execution_count": 39,
     "metadata": {},
     "output_type": "execute_result"
    }
   ],
   "source": [
    "mergedOneRecord.ApprStatus.value_counts()"
   ]
  },
  {
   "cell_type": "markdown",
   "id": "9d0319aa-5f9f-47e7-b7f2-222ebcc4dd21",
   "metadata": {},
   "source": [
    "## Our benchmark to compare our ML model to is that 51.8% of applicants in this dataset would be approved for a credit card, and 48.2% would be considered too risky, and thus rejected."
   ]
  },
  {
   "cell_type": "code",
   "execution_count": 40,
   "id": "ca81974e-2401-477b-a330-644617efd544",
   "metadata": {},
   "outputs": [
    {
     "data": {
      "image/png": "[encoded data removed]",
      "text/plain": [
       "<Figure size 1080x360 with 2 Axes>"
      ]
     },
     "metadata": {},
     "output_type": "display_data"
    }
   ],
   "source": [
    "# Income type, family status distributions\n",
    "\n",
    "fig, axes = plt.subplots(1,2)\n",
    "\n",
    "incTDist=sns.countplot(y=mergedOneRecord.incomeType,linewidth=1.2, ax=axes[0])\n",
    "incTDist.set_title(\"Applicant Distribution by Income Type\")\n",
    "incTDist.set_xlabel(\"Count\")\n",
    "\n",
    "famDist=sns.countplot(y=mergedOneRecord.famStatus,linewidth=1.2, ax=axes[1])\n",
    "famDist.set_title(\"Applicant Distribution by Family Status\")\n",
    "famDist.set_xlabel(\"Count\")\n",
    "\n",
    "fig.set_size_inches(15,5)\n",
    "\n",
    "plt.tight_layout()"
   ]
  },
  {
   "cell_type": "code",
   "execution_count": 41,
   "id": "07a5e229-dc9b-4466-93b5-40e5a83880d5",
   "metadata": {},
   "outputs": [
    {
     "data": {
      "image/png": "[encoded data removed]",
      "text/plain": [
       "<Figure size 1080x360 with 2 Axes>"
      ]
     },
     "metadata": {},
     "output_type": "display_data"
    }
   ],
   "source": [
    "# education type, housing type\n",
    "\n",
    "fig, axes = plt.subplots(1,2)\n",
    "\n",
    "eduTDist=sns.countplot(y=mergedOneRecord.eduLvl,linewidth=1.2, ax=axes[0])\n",
    "eduTDist.set_title(\"Applicant Distribution by Education Level\")\n",
    "eduTDist.set_xlabel(\"Count\")\n",
    "\n",
    "houDist=sns.countplot(y=mergedOneRecord.housingType,linewidth=1.2, ax=axes[1])\n",
    "houDist.set_title(\"Applicant Distribution by Housing Type\")\n",
    "houDist.set_xlabel(\"Count\")\n",
    "\n",
    "fig.set_size_inches(15,5)\n",
    "\n",
    "plt.tight_layout()"
   ]
  },
  {
   "cell_type": "code",
   "execution_count": 42,
   "id": "fe457eed-0160-4ad3-bbe6-796fd0019d68",
   "metadata": {},
   "outputs": [],
   "source": [
    "recordsExplore = pd.read_csv('../Data/credit_record.csv')"
   ]
  },
  {
   "cell_type": "code",
   "execution_count": 43,
   "id": "e7f09bc5-030b-4dbe-8696-34094df1f644",
   "metadata": {},
   "outputs": [
    {
     "data": {
      "text/html": [
       "<div>\n",
       "<style scoped>\n",
       "    .dataframe tbody tr th:only-of-type {\n",
       "        vertical-align: middle;\n",
       "    }\n",
       "\n",
       "    .dataframe tbody tr th {\n",
       "        vertical-align: top;\n",
       "    }\n",
       "\n",
       "    .dataframe thead th {\n",
       "        text-align: right;\n",
       "    }\n",
       "</style>\n",
       "<table border=\"1\" class=\"dataframe\">\n",
       "  <thead>\n",
       "    <tr style=\"text-align: right;\">\n",
       "      <th></th>\n",
       "      <th>ID</th>\n",
       "      <th>MONTHS_BALANCE</th>\n",
       "      <th>STATUS</th>\n",
       "    </tr>\n",
       "  </thead>\n",
       "  <tbody>\n",
       "    <tr>\n",
       "      <th>0</th>\n",
       "      <td>5001711</td>\n",
       "      <td>0</td>\n",
       "      <td>X</td>\n",
       "    </tr>\n",
       "    <tr>\n",
       "      <th>1</th>\n",
       "      <td>5001711</td>\n",
       "      <td>-1</td>\n",
       "      <td>0</td>\n",
       "    </tr>\n",
       "    <tr>\n",
       "      <th>2</th>\n",
       "      <td>5001711</td>\n",
       "      <td>-2</td>\n",
       "      <td>0</td>\n",
       "    </tr>\n",
       "    <tr>\n",
       "      <th>3</th>\n",
       "      <td>5001711</td>\n",
       "      <td>-3</td>\n",
       "      <td>0</td>\n",
       "    </tr>\n",
       "    <tr>\n",
       "      <th>4</th>\n",
       "      <td>5001712</td>\n",
       "      <td>0</td>\n",
       "      <td>C</td>\n",
       "    </tr>\n",
       "  </tbody>\n",
       "</table>\n",
       "</div>"
      ],
      "text/plain": [
       "        ID  MONTHS_BALANCE STATUS\n",
       "0  5001711               0      X\n",
       "1  5001711              -1      0\n",
       "2  5001711              -2      0\n",
       "3  5001711              -3      0\n",
       "4  5001712               0      C"
      ]
     },
     "execution_count": 43,
     "metadata": {},
     "output_type": "execute_result"
    }
   ],
   "source": [
    "recordsExplore.head()"
   ]
  },
  {
   "cell_type": "code",
   "execution_count": 44,
   "id": "2b9ba446-bc4e-4a2b-afed-55ab735405e9",
   "metadata": {},
   "outputs": [
    {
     "data": {
      "text/html": [
       "<div>\n",
       "<style scoped>\n",
       "    .dataframe tbody tr th:only-of-type {\n",
       "        vertical-align: middle;\n",
       "    }\n",
       "\n",
       "    .dataframe tbody tr th {\n",
       "        vertical-align: top;\n",
       "    }\n",
       "\n",
       "    .dataframe thead th {\n",
       "        text-align: right;\n",
       "    }\n",
       "</style>\n",
       "<table border=\"1\" class=\"dataframe\">\n",
       "  <thead>\n",
       "    <tr style=\"text-align: right;\">\n",
       "      <th></th>\n",
       "      <th>ID</th>\n",
       "      <th>STATUS</th>\n",
       "      <th>Freq</th>\n",
       "    </tr>\n",
       "  </thead>\n",
       "  <tbody>\n",
       "    <tr>\n",
       "      <th>0</th>\n",
       "      <td>5001711</td>\n",
       "      <td>0</td>\n",
       "      <td>3</td>\n",
       "    </tr>\n",
       "    <tr>\n",
       "      <th>1</th>\n",
       "      <td>5001711</td>\n",
       "      <td>X</td>\n",
       "      <td>1</td>\n",
       "    </tr>\n",
       "    <tr>\n",
       "      <th>2</th>\n",
       "      <td>5001712</td>\n",
       "      <td>0</td>\n",
       "      <td>10</td>\n",
       "    </tr>\n",
       "    <tr>\n",
       "      <th>3</th>\n",
       "      <td>5001712</td>\n",
       "      <td>C</td>\n",
       "      <td>9</td>\n",
       "    </tr>\n",
       "    <tr>\n",
       "      <th>4</th>\n",
       "      <td>5001713</td>\n",
       "      <td>X</td>\n",
       "      <td>22</td>\n",
       "    </tr>\n",
       "    <tr>\n",
       "      <th>...</th>\n",
       "      <td>...</td>\n",
       "      <td>...</td>\n",
       "      <td>...</td>\n",
       "    </tr>\n",
       "    <tr>\n",
       "      <th>94138</th>\n",
       "      <td>5150483</td>\n",
       "      <td>X</td>\n",
       "      <td>18</td>\n",
       "    </tr>\n",
       "    <tr>\n",
       "      <th>94139</th>\n",
       "      <td>5150484</td>\n",
       "      <td>0</td>\n",
       "      <td>12</td>\n",
       "    </tr>\n",
       "    <tr>\n",
       "      <th>94140</th>\n",
       "      <td>5150484</td>\n",
       "      <td>C</td>\n",
       "      <td>1</td>\n",
       "    </tr>\n",
       "    <tr>\n",
       "      <th>94141</th>\n",
       "      <td>5150485</td>\n",
       "      <td>0</td>\n",
       "      <td>2</td>\n",
       "    </tr>\n",
       "    <tr>\n",
       "      <th>94142</th>\n",
       "      <td>5150487</td>\n",
       "      <td>C</td>\n",
       "      <td>30</td>\n",
       "    </tr>\n",
       "  </tbody>\n",
       "</table>\n",
       "<p>94143 rows × 3 columns</p>\n",
       "</div>"
      ],
      "text/plain": [
       "            ID STATUS  Freq\n",
       "0      5001711      0     3\n",
       "1      5001711      X     1\n",
       "2      5001712      0    10\n",
       "3      5001712      C     9\n",
       "4      5001713      X    22\n",
       "...        ...    ...   ...\n",
       "94138  5150483      X    18\n",
       "94139  5150484      0    12\n",
       "94140  5150484      C     1\n",
       "94141  5150485      0     2\n",
       "94142  5150487      C    30\n",
       "\n",
       "[94143 rows x 3 columns]"
      ]
     },
     "execution_count": 44,
     "metadata": {},
     "output_type": "execute_result"
    }
   ],
   "source": [
    "# show the frequency of each Status type for every ID\n",
    "recordsEx2 = pd.DataFrame(recordsExplore.groupby([\"ID\", \"STATUS\"])[\"STATUS\"].count()).rename(columns={'STATUS': 'Freq'}).reset_index()\n",
    "recordsEx2"
   ]
  },
  {
   "cell_type": "code",
   "execution_count": 45,
   "id": "e912ddc3-badc-4e7a-a3db-09018ca2a1ac",
   "metadata": {},
   "outputs": [
    {
     "data": {
      "image/png": "[encoded data removed]",
      "text/plain": [
       "<Figure size 432x288 with 1 Axes>"
      ]
     },
     "metadata": {},
     "output_type": "display_data"
    }
   ],
   "source": [
    "# plot status types\n",
    "g8 = recordsEx2.groupby('STATUS')['STATUS'].count().plot(kind='pie', y='STATUS')\n"
   ]
  },
  {
   "cell_type": "markdown",
   "id": "fa952ae1-0f6d-4fae-b669-47833af57504",
   "metadata": {},
   "source": [
    "#### Confirmed: The majority of the applicants are paid up to date, have a 0 balance, or are overdue on payment by 1-29 days."
   ]
  },
  {
   "cell_type": "markdown",
   "id": "cc30757f-ec5a-4a70-b9a8-fdb1b81401a4",
   "metadata": {},
   "source": [
    "# Basic observations about the data"
   ]
  },
  {
   "cell_type": "markdown",
   "id": "5329253f-c7a0-4897-8686-7dca1b6de9c8",
   "metadata": {},
   "source": [
    "* The income range represented is $27K  to  $1.575M with a slight positive skew\n",
    "* The age range represented is the only normally distributed variable\n",
    "* Family size and number of children are highly correlated\n",
    "* Most of the applicants are employed\n",
    "* Most of the applicants are married\n",
    "* The majority of applicants have a high school degree, followed by those with a higher education \n",
    "* Females are overrepresented in the dataset, comprising 64% of the applicants\n",
    "* A high percentage of applicants do not own a car, but most of them do own real estate\n",
    "* After implementing the proposed credit card approval policy, it is determined that very close to 50% of these applicants would be approved for a credit card, and the other 50% would be rejected."
   ]
  },
  {
   "cell_type": "markdown",
   "id": "fda47df7-e38e-446c-8497-60e485bae695",
   "metadata": {},
   "source": [
    "# Recode String Variables"
   ]
  },
  {
   "cell_type": "code",
   "execution_count": 46,
   "id": "acba16c6-1fed-4315-9d8f-f0cdef09d0d9",
   "metadata": {},
   "outputs": [],
   "source": [
    "# recode, drop original string columns, and ensure int data type\n",
    "def genderRecode (series):\n",
    "    if series == \"F\":\n",
    "        return 0\n",
    "    if series == \"M\":\n",
    "        return 1\n",
    "mergedOneRecord['genderR'] = mergedOneRecord['gender'].apply(genderRecode)\n",
    "mergedOneRecord.drop('gender', axis=1, inplace=True)"
   ]
  },
  {
   "cell_type": "code",
   "execution_count": 47,
   "id": "d2c7b6ce-98f8-41df-8433-8f079ff6a2d8",
   "metadata": {},
   "outputs": [],
   "source": [
    "mergedOneRecord.genderR = mergedOneRecord.genderR.astype(int)"
   ]
  },
  {
   "cell_type": "code",
   "execution_count": 48,
   "id": "b7fd182e-28fd-4118-837b-97f74d7f09de",
   "metadata": {},
   "outputs": [
    {
     "data": {
      "text/html": [
       "<div>\n",
       "<style scoped>\n",
       "    .dataframe tbody tr th:only-of-type {\n",
       "        vertical-align: middle;\n",
       "    }\n",
       "\n",
       "    .dataframe tbody tr th {\n",
       "        vertical-align: top;\n",
       "    }\n",
       "\n",
       "    .dataframe thead th {\n",
       "        text-align: right;\n",
       "    }\n",
       "</style>\n",
       "<table border=\"1\" class=\"dataframe\">\n",
       "  <thead>\n",
       "    <tr style=\"text-align: right;\">\n",
       "      <th></th>\n",
       "      <th>ownsCar</th>\n",
       "      <th>ownsRealty</th>\n",
       "      <th>numChildren</th>\n",
       "      <th>totalIncome</th>\n",
       "      <th>incomeType</th>\n",
       "      <th>eduLvl</th>\n",
       "      <th>famStatus</th>\n",
       "      <th>housingType</th>\n",
       "      <th>occupation</th>\n",
       "      <th>famSize</th>\n",
       "      <th>ageYrs</th>\n",
       "      <th>yrsEmpl</th>\n",
       "      <th>UNEMPLOYED</th>\n",
       "      <th>ApprStatus</th>\n",
       "      <th>genderR</th>\n",
       "    </tr>\n",
       "  </thead>\n",
       "  <tbody>\n",
       "    <tr>\n",
       "      <th>0</th>\n",
       "      <td>Y</td>\n",
       "      <td>Y</td>\n",
       "      <td>0</td>\n",
       "      <td>427500</td>\n",
       "      <td>Working</td>\n",
       "      <td>Higher education</td>\n",
       "      <td>Civil marriage</td>\n",
       "      <td>Rented apartment</td>\n",
       "      <td>Not identified</td>\n",
       "      <td>2</td>\n",
       "      <td>33</td>\n",
       "      <td>12</td>\n",
       "      <td>1</td>\n",
       "      <td>1</td>\n",
       "      <td>1</td>\n",
       "    </tr>\n",
       "    <tr>\n",
       "      <th>31</th>\n",
       "      <td>Y</td>\n",
       "      <td>Y</td>\n",
       "      <td>0</td>\n",
       "      <td>112500</td>\n",
       "      <td>Working</td>\n",
       "      <td>Secondary / secondary special</td>\n",
       "      <td>Married</td>\n",
       "      <td>House / apartment</td>\n",
       "      <td>Security staff</td>\n",
       "      <td>2</td>\n",
       "      <td>59</td>\n",
       "      <td>3</td>\n",
       "      <td>1</td>\n",
       "      <td>1</td>\n",
       "      <td>1</td>\n",
       "    </tr>\n",
       "    <tr>\n",
       "      <th>61</th>\n",
       "      <td>N</td>\n",
       "      <td>Y</td>\n",
       "      <td>0</td>\n",
       "      <td>270000</td>\n",
       "      <td>Commercial associate</td>\n",
       "      <td>Secondary / secondary special</td>\n",
       "      <td>Single / not married</td>\n",
       "      <td>House / apartment</td>\n",
       "      <td>Sales staff</td>\n",
       "      <td>1</td>\n",
       "      <td>53</td>\n",
       "      <td>8</td>\n",
       "      <td>1</td>\n",
       "      <td>1</td>\n",
       "      <td>0</td>\n",
       "    </tr>\n",
       "    <tr>\n",
       "      <th>137</th>\n",
       "      <td>N</td>\n",
       "      <td>Y</td>\n",
       "      <td>0</td>\n",
       "      <td>283500</td>\n",
       "      <td>Pensioner</td>\n",
       "      <td>Higher education</td>\n",
       "      <td>Separated</td>\n",
       "      <td>House / apartment</td>\n",
       "      <td>Not identified</td>\n",
       "      <td>1</td>\n",
       "      <td>62</td>\n",
       "      <td>0</td>\n",
       "      <td>0</td>\n",
       "      <td>0</td>\n",
       "      <td>0</td>\n",
       "    </tr>\n",
       "    <tr>\n",
       "      <th>188</th>\n",
       "      <td>Y</td>\n",
       "      <td>Y</td>\n",
       "      <td>0</td>\n",
       "      <td>270000</td>\n",
       "      <td>Working</td>\n",
       "      <td>Higher education</td>\n",
       "      <td>Married</td>\n",
       "      <td>House / apartment</td>\n",
       "      <td>Accountants</td>\n",
       "      <td>2</td>\n",
       "      <td>47</td>\n",
       "      <td>2</td>\n",
       "      <td>1</td>\n",
       "      <td>0</td>\n",
       "      <td>1</td>\n",
       "    </tr>\n",
       "  </tbody>\n",
       "</table>\n",
       "</div>"
      ],
      "text/plain": [
       "    ownsCar ownsRealty  numChildren  totalIncome            incomeType  \\\n",
       "0         Y          Y            0       427500               Working   \n",
       "31        Y          Y            0       112500               Working   \n",
       "61        N          Y            0       270000  Commercial associate   \n",
       "137       N          Y            0       283500             Pensioner   \n",
       "188       Y          Y            0       270000               Working   \n",
       "\n",
       "                            eduLvl             famStatus        housingType  \\\n",
       "0                 Higher education        Civil marriage   Rented apartment   \n",
       "31   Secondary / secondary special               Married  House / apartment   \n",
       "61   Secondary / secondary special  Single / not married  House / apartment   \n",
       "137               Higher education             Separated  House / apartment   \n",
       "188               Higher education               Married  House / apartment   \n",
       "\n",
       "         occupation  famSize  ageYrs  yrsEmpl  UNEMPLOYED  ApprStatus  genderR  \n",
       "0    Not identified        2      33       12           1           1        1  \n",
       "31   Security staff        2      59        3           1           1        1  \n",
       "61      Sales staff        1      53        8           1           1        0  \n",
       "137  Not identified        1      62        0           0           0        0  \n",
       "188     Accountants        2      47        2           1           0        1  "
      ]
     },
     "execution_count": 48,
     "metadata": {},
     "output_type": "execute_result"
    }
   ],
   "source": [
    "mergedOneRecord.head()"
   ]
  },
  {
   "cell_type": "code",
   "execution_count": 49,
   "id": "29c57c33-816f-473f-8fe0-2ab8a5704b35",
   "metadata": {},
   "outputs": [],
   "source": [
    "def carRecode (series):\n",
    "    if series == \"N\":\n",
    "        return 0\n",
    "    if series == \"Y\":\n",
    "        return 1\n",
    "mergedOneRecord['ownsCarR'] = mergedOneRecord['ownsCar'].apply(carRecode)\n",
    "mergedOneRecord.drop('ownsCar', axis=1, inplace=True)"
   ]
  },
  {
   "cell_type": "code",
   "execution_count": 50,
   "id": "b0b94f35-c7ba-4484-8691-46cf901fd56f",
   "metadata": {},
   "outputs": [],
   "source": [
    "mergedOneRecord.ownsCarR = mergedOneRecord.ownsCarR.astype(int)"
   ]
  },
  {
   "cell_type": "code",
   "execution_count": 51,
   "id": "4ade22bf-242a-42b2-99b0-91bc6cb455a8",
   "metadata": {},
   "outputs": [],
   "source": [
    "def realtyRecode (series):\n",
    "    if series == \"N\":\n",
    "        return 0\n",
    "    if series == \"Y\":\n",
    "        return 1\n",
    "mergedOneRecord['ownsRealtyR'] = mergedOneRecord['ownsRealty'].apply(realtyRecode)\n",
    "mergedOneRecord.drop('ownsRealty', axis=1, inplace=True)"
   ]
  },
  {
   "cell_type": "code",
   "execution_count": 52,
   "id": "e5a0d0d3-5135-4b05-a1a6-f03fe6991b87",
   "metadata": {},
   "outputs": [],
   "source": [
    "mergedOneRecord.ownsRealtyR = mergedOneRecord.ownsRealtyR.astype(int)"
   ]
  },
  {
   "cell_type": "code",
   "execution_count": 53,
   "id": "ff6c0340-172b-47bf-b1e0-4fbc935e0370",
   "metadata": {},
   "outputs": [
    {
     "data": {
      "text/plain": [
       "array(['Not identified', 'Security staff', 'Sales staff', 'Accountants',\n",
       "       'Laborers', 'Managers', 'Drivers', 'Core staff',\n",
       "       'High skill tech staff', 'Cleaning staff', 'Private service staff',\n",
       "       'Cooking staff', 'Low-skill Laborers', 'Medicine staff',\n",
       "       'Secretaries', 'Waiters/barmen staff', 'HR staff', 'Realty agents',\n",
       "       'IT staff'], dtype=object)"
      ]
     },
     "execution_count": 53,
     "metadata": {},
     "output_type": "execute_result"
    }
   ],
   "source": [
    "mergedOneRecord['occupation'].unique()"
   ]
  },
  {
   "cell_type": "code",
   "execution_count": 54,
   "id": "781726a3-2660-42a7-8ed4-74a2b6b7dcc6",
   "metadata": {},
   "outputs": [],
   "source": [
    "# Decided to drop since most occupation types are Not Identified/missing\n",
    "mergedOneRecord.drop('occupation', axis=1, inplace=True) "
   ]
  },
  {
   "cell_type": "code",
   "execution_count": 55,
   "id": "54b59c7e-f77a-4ce2-b6e3-46a98d580c09",
   "metadata": {},
   "outputs": [],
   "source": [
    "# Drop numChildren column since it correlates highly with famSize\n",
    "mergedOneRecord.drop('numChildren', axis=1, inplace=True) "
   ]
  },
  {
   "cell_type": "code",
   "execution_count": 56,
   "id": "844fc759-ad65-4e1d-a189-5d56dc797682",
   "metadata": {},
   "outputs": [
    {
     "data": {
      "text/plain": [
       "array(['Higher education', 'Secondary / secondary special',\n",
       "       'Incomplete higher', 'Lower secondary', 'Academic degree'],\n",
       "      dtype=object)"
      ]
     },
     "execution_count": 56,
     "metadata": {},
     "output_type": "execute_result"
    }
   ],
   "source": [
    "mergedOneRecord['eduLvl'].unique()"
   ]
  },
  {
   "cell_type": "code",
   "execution_count": 57,
   "id": "42d80aef-d122-4f6e-bfe4-7688a376b6cc",
   "metadata": {},
   "outputs": [],
   "source": [
    "def eduR (series):\n",
    "    if series == \"Higher education\":\n",
    "        return 0\n",
    "    if series == \"Secondary / secondary special\":\n",
    "        return 1\n",
    "    if series == \"Incomplete higher\":\n",
    "        return 2\n",
    "    if series == \"Lower secondary\":\n",
    "        return 3\n",
    "    if series == \"Academic degree\":\n",
    "        return 4\n",
    "    \n",
    "mergedOneRecord['eduLvlR'] = mergedOneRecord['eduLvl'].apply(eduR)\n",
    "mergedOneRecord.drop('eduLvl', axis=1, inplace=True)"
   ]
  },
  {
   "cell_type": "code",
   "execution_count": 58,
   "id": "8b81350c-a8d7-4c44-ab05-6f091c490917",
   "metadata": {},
   "outputs": [],
   "source": [
    "mergedOneRecord.eduLvlR = mergedOneRecord.eduLvlR.astype(int)"
   ]
  },
  {
   "cell_type": "code",
   "execution_count": 59,
   "id": "b2f137cc-f866-4f08-9b13-f086c16b4e09",
   "metadata": {},
   "outputs": [
    {
     "data": {
      "text/plain": [
       "array(['Working', 'Commercial associate', 'Pensioner', 'State servant',\n",
       "       'Student'], dtype=object)"
      ]
     },
     "execution_count": 59,
     "metadata": {},
     "output_type": "execute_result"
    }
   ],
   "source": [
    "mergedOneRecord['incomeType'].unique()"
   ]
  },
  {
   "cell_type": "code",
   "execution_count": 60,
   "id": "22454484-2303-4389-8364-f37444d19998",
   "metadata": {},
   "outputs": [],
   "source": [
    "def incR (series):\n",
    "    if series == \"Working\":\n",
    "        return 0\n",
    "    if series == \"Commercial associate\":\n",
    "        return 1\n",
    "    if series == \"Pensioner\":\n",
    "        return 2\n",
    "    if series == \"State servant\":\n",
    "        return 3\n",
    "    if series == \"Student\":\n",
    "        return 4\n",
    "    \n",
    "mergedOneRecord['incomeTypeR'] = mergedOneRecord['incomeType'].apply(incR)\n",
    "mergedOneRecord.drop('incomeType', axis=1, inplace=True)"
   ]
  },
  {
   "cell_type": "code",
   "execution_count": 61,
   "id": "c9b52a1f-b16d-4f8a-99c4-2a24f28f8796",
   "metadata": {},
   "outputs": [],
   "source": [
    "mergedOneRecord.incomeTypeR = mergedOneRecord.incomeTypeR.astype(int)"
   ]
  },
  {
   "cell_type": "code",
   "execution_count": 62,
   "id": "ba2cc3a8-2ed2-4f38-9013-45372008751e",
   "metadata": {},
   "outputs": [
    {
     "data": {
      "text/plain": [
       "array(['Rented apartment', 'House / apartment', 'Municipal apartment',\n",
       "       'With parents', 'Co-op apartment', 'Office apartment'],\n",
       "      dtype=object)"
      ]
     },
     "execution_count": 62,
     "metadata": {},
     "output_type": "execute_result"
    }
   ],
   "source": [
    "mergedOneRecord['housingType'].unique()"
   ]
  },
  {
   "cell_type": "code",
   "execution_count": 63,
   "id": "ef6079f4-8b50-4ea7-8e0c-8bf319e7cb54",
   "metadata": {},
   "outputs": [],
   "source": [
    "def housR (series):\n",
    "    if series == \"Rented apartment\":\n",
    "        return 0\n",
    "    if series == \"House / apartment\":\n",
    "        return 1\n",
    "    if series == \"Municipal apartment\":\n",
    "        return 2\n",
    "    if series == \"With parents\":\n",
    "        return 3\n",
    "    if series == \"Co-op apartment\":\n",
    "        return 4\n",
    "    if series == \"Office apartment\":\n",
    "        return 5\n",
    "    \n",
    "mergedOneRecord['housingTypeR'] = mergedOneRecord['housingType'].apply(housR)\n",
    "mergedOneRecord.drop('housingType', axis=1, inplace=True)"
   ]
  },
  {
   "cell_type": "code",
   "execution_count": 64,
   "id": "3b4f9556-3df4-4ceb-84a4-fd4eb9bac5ac",
   "metadata": {},
   "outputs": [],
   "source": [
    "mergedOneRecord.housingTypeR = mergedOneRecord.housingTypeR.astype(int)"
   ]
  },
  {
   "cell_type": "code",
   "execution_count": 65,
   "id": "67bd0a2c-77d3-40bb-840a-22418a03b482",
   "metadata": {},
   "outputs": [
    {
     "data": {
      "text/plain": [
       "array(['Civil marriage', 'Married', 'Single / not married', 'Separated',\n",
       "       'Widow'], dtype=object)"
      ]
     },
     "execution_count": 65,
     "metadata": {},
     "output_type": "execute_result"
    }
   ],
   "source": [
    "mergedOneRecord['famStatus'].unique()"
   ]
  },
  {
   "cell_type": "code",
   "execution_count": 66,
   "id": "65c65903-7abf-4c39-8823-b83db7915ced",
   "metadata": {},
   "outputs": [],
   "source": [
    "def famR (series):\n",
    "    if series == \"Civil marriage\":\n",
    "        return 0\n",
    "    if series == \"Married\":\n",
    "        return 1\n",
    "    if series == \"Single / not married\":\n",
    "        return 2\n",
    "    if series == \"Separated\":\n",
    "        return 3\n",
    "    if series == \"Widow\":\n",
    "        return 4\n",
    "    \n",
    "mergedOneRecord['famStatusR'] = mergedOneRecord['famStatus'].apply(famR)\n",
    "mergedOneRecord.drop('famStatus', axis=1, inplace=True)"
   ]
  },
  {
   "cell_type": "code",
   "execution_count": 67,
   "id": "d0587c6e-0132-48d8-83c9-09e9b02face3",
   "metadata": {},
   "outputs": [],
   "source": [
    "mergedOneRecord.famStatusR = mergedOneRecord.famStatusR.astype(int)"
   ]
  },
  {
   "cell_type": "code",
   "execution_count": 68,
   "id": "f1f2c6c5-1993-4b47-ae12-b137abaa1cf1",
   "metadata": {},
   "outputs": [
    {
     "data": {
      "text/html": [
       "<div>\n",
       "<style scoped>\n",
       "    .dataframe tbody tr th:only-of-type {\n",
       "        vertical-align: middle;\n",
       "    }\n",
       "\n",
       "    .dataframe tbody tr th {\n",
       "        vertical-align: top;\n",
       "    }\n",
       "\n",
       "    .dataframe thead th {\n",
       "        text-align: right;\n",
       "    }\n",
       "</style>\n",
       "<table border=\"1\" class=\"dataframe\">\n",
       "  <thead>\n",
       "    <tr style=\"text-align: right;\">\n",
       "      <th></th>\n",
       "      <th>totalIncome</th>\n",
       "      <th>famSize</th>\n",
       "      <th>ageYrs</th>\n",
       "      <th>yrsEmpl</th>\n",
       "      <th>UNEMPLOYED</th>\n",
       "      <th>ApprStatus</th>\n",
       "      <th>genderR</th>\n",
       "      <th>ownsCarR</th>\n",
       "      <th>ownsRealtyR</th>\n",
       "      <th>eduLvlR</th>\n",
       "      <th>incomeTypeR</th>\n",
       "      <th>housingTypeR</th>\n",
       "      <th>famStatusR</th>\n",
       "    </tr>\n",
       "  </thead>\n",
       "  <tbody>\n",
       "    <tr>\n",
       "      <th>0</th>\n",
       "      <td>427500</td>\n",
       "      <td>2</td>\n",
       "      <td>33</td>\n",
       "      <td>12</td>\n",
       "      <td>1</td>\n",
       "      <td>1</td>\n",
       "      <td>1</td>\n",
       "      <td>1</td>\n",
       "      <td>1</td>\n",
       "      <td>0</td>\n",
       "      <td>0</td>\n",
       "      <td>0</td>\n",
       "      <td>0</td>\n",
       "    </tr>\n",
       "    <tr>\n",
       "      <th>31</th>\n",
       "      <td>112500</td>\n",
       "      <td>2</td>\n",
       "      <td>59</td>\n",
       "      <td>3</td>\n",
       "      <td>1</td>\n",
       "      <td>1</td>\n",
       "      <td>1</td>\n",
       "      <td>1</td>\n",
       "      <td>1</td>\n",
       "      <td>1</td>\n",
       "      <td>0</td>\n",
       "      <td>1</td>\n",
       "      <td>1</td>\n",
       "    </tr>\n",
       "    <tr>\n",
       "      <th>61</th>\n",
       "      <td>270000</td>\n",
       "      <td>1</td>\n",
       "      <td>53</td>\n",
       "      <td>8</td>\n",
       "      <td>1</td>\n",
       "      <td>1</td>\n",
       "      <td>0</td>\n",
       "      <td>0</td>\n",
       "      <td>1</td>\n",
       "      <td>1</td>\n",
       "      <td>1</td>\n",
       "      <td>1</td>\n",
       "      <td>2</td>\n",
       "    </tr>\n",
       "    <tr>\n",
       "      <th>137</th>\n",
       "      <td>283500</td>\n",
       "      <td>1</td>\n",
       "      <td>62</td>\n",
       "      <td>0</td>\n",
       "      <td>0</td>\n",
       "      <td>0</td>\n",
       "      <td>0</td>\n",
       "      <td>0</td>\n",
       "      <td>1</td>\n",
       "      <td>0</td>\n",
       "      <td>2</td>\n",
       "      <td>1</td>\n",
       "      <td>3</td>\n",
       "    </tr>\n",
       "    <tr>\n",
       "      <th>188</th>\n",
       "      <td>270000</td>\n",
       "      <td>2</td>\n",
       "      <td>47</td>\n",
       "      <td>2</td>\n",
       "      <td>1</td>\n",
       "      <td>0</td>\n",
       "      <td>1</td>\n",
       "      <td>1</td>\n",
       "      <td>1</td>\n",
       "      <td>0</td>\n",
       "      <td>0</td>\n",
       "      <td>1</td>\n",
       "      <td>1</td>\n",
       "    </tr>\n",
       "  </tbody>\n",
       "</table>\n",
       "</div>"
      ],
      "text/plain": [
       "     totalIncome  famSize  ageYrs  yrsEmpl  UNEMPLOYED  ApprStatus  genderR  \\\n",
       "0         427500        2      33       12           1           1        1   \n",
       "31        112500        2      59        3           1           1        1   \n",
       "61        270000        1      53        8           1           1        0   \n",
       "137       283500        1      62        0           0           0        0   \n",
       "188       270000        2      47        2           1           0        1   \n",
       "\n",
       "     ownsCarR  ownsRealtyR  eduLvlR  incomeTypeR  housingTypeR  famStatusR  \n",
       "0           1            1        0            0             0           0  \n",
       "31          1            1        1            0             1           1  \n",
       "61          0            1        1            1             1           2  \n",
       "137         0            1        0            2             1           3  \n",
       "188         1            1        0            0             1           1  "
      ]
     },
     "execution_count": 68,
     "metadata": {},
     "output_type": "execute_result"
    }
   ],
   "source": [
    "mergedOneRecord.head()"
   ]
  },
  {
   "cell_type": "code",
   "execution_count": 69,
   "id": "2cc3d076-53dd-45e6-a9ef-589f6c16f897",
   "metadata": {},
   "outputs": [
    {
     "name": "stdout",
     "output_type": "stream",
     "text": [
      "<class 'pandas.core.frame.DataFrame'>\n",
      "Int64Index: 13306 entries, 0 to 171489\n",
      "Data columns (total 13 columns):\n",
      " #   Column        Non-Null Count  Dtype\n",
      "---  ------        --------------  -----\n",
      " 0   totalIncome   13306 non-null  int64\n",
      " 1   famSize       13306 non-null  int64\n",
      " 2   ageYrs        13306 non-null  int64\n",
      " 3   yrsEmpl       13306 non-null  int64\n",
      " 4   UNEMPLOYED    13306 non-null  int64\n",
      " 5   ApprStatus    13306 non-null  int64\n",
      " 6   genderR       13306 non-null  int32\n",
      " 7   ownsCarR      13306 non-null  int32\n",
      " 8   ownsRealtyR   13306 non-null  int32\n",
      " 9   eduLvlR       13306 non-null  int32\n",
      " 10  incomeTypeR   13306 non-null  int32\n",
      " 11  housingTypeR  13306 non-null  int32\n",
      " 12  famStatusR    13306 non-null  int32\n",
      "dtypes: int32(7), int64(6)\n",
      "memory usage: 1.1 MB\n"
     ]
    }
   ],
   "source": [
    "# Check data types of recoded data frame\n",
    "mergedOneRecord.info()"
   ]
  },
  {
   "cell_type": "code",
   "execution_count": 70,
   "id": "913d9ac3-1eba-4110-bf2a-bf02a4f9c85f",
   "metadata": {},
   "outputs": [],
   "source": [
    "# save cleaned dummy code data frame to csv\n",
    "mergedOneRecord.to_csv(\"../Data/cleanDummy.csv\")"
   ]
  },
  {
   "cell_type": "code",
   "execution_count": 77,
   "id": "0fc8f139-1dff-481b-88df-cc1d5e0e3b36",
   "metadata": {},
   "outputs": [],
   "source": [
    "# break out categorical variables by gender using a for loop\n",
    "def by_gender (features):\n",
    "    for feature in features:\n",
    "        plt.figure(figsize=(9, 9))\n",
    "        ax=sns.countplot(y=mergedOneRecord[feature], hue='gender' , data=mergedOneRecord)\n",
    "        plt.legend(loc='best')\n",
    "        total = len(application_details[feature])\n",
    "        for p in ax.patches:\n",
    "            percentage = '{:.1f}%'.format(100 * p.get_width()/total)\n",
    "            x = p.get_x() + p.get_width() + 0.02\n",
    "            y = p.get_y() + p.get_height()/2\n",
    "            ax.annotate(percentage, (x, y))\n",
    "    plt.show()"
   ]
  },
  {
   "cell_type": "code",
   "execution_count": 82,
   "id": "36ab2126-8aa6-43ff-98e6-8fd96ffbf4be",
   "metadata": {},
   "outputs": [
    {
     "ename": "KeyError",
     "evalue": "'ownsCar'",
     "output_type": "error",
     "traceback": [
      "\u001b[1;31m---------------------------------------------------------------------------\u001b[0m",
      "\u001b[1;31mKeyError\u001b[0m                                  Traceback (most recent call last)",
      "File \u001b[1;32mC:\\Python3\\lib\\site-packages\\pandas\\core\\indexes\\base.py:3621\u001b[0m, in \u001b[0;36mIndex.get_loc\u001b[1;34m(self, key, method, tolerance)\u001b[0m\n\u001b[0;32m   3620\u001b[0m \u001b[38;5;28;01mtry\u001b[39;00m:\n\u001b[1;32m-> 3621\u001b[0m     \u001b[38;5;28;01mreturn\u001b[39;00m \u001b[38;5;28;43mself\u001b[39;49m\u001b[38;5;241;43m.\u001b[39;49m\u001b[43m_engine\u001b[49m\u001b[38;5;241;43m.\u001b[39;49m\u001b[43mget_loc\u001b[49m\u001b[43m(\u001b[49m\u001b[43mcasted_key\u001b[49m\u001b[43m)\u001b[49m\n\u001b[0;32m   3622\u001b[0m \u001b[38;5;28;01mexcept\u001b[39;00m \u001b[38;5;167;01mKeyError\u001b[39;00m \u001b[38;5;28;01mas\u001b[39;00m err:\n",
      "File \u001b[1;32mC:\\Python3\\lib\\site-packages\\pandas\\_libs\\index.pyx:136\u001b[0m, in \u001b[0;36mpandas._libs.index.IndexEngine.get_loc\u001b[1;34m()\u001b[0m\n",
      "File \u001b[1;32mC:\\Python3\\lib\\site-packages\\pandas\\_libs\\index.pyx:163\u001b[0m, in \u001b[0;36mpandas._libs.index.IndexEngine.get_loc\u001b[1;34m()\u001b[0m\n",
      "File \u001b[1;32mpandas\\_libs\\hashtable_class_helper.pxi:5198\u001b[0m, in \u001b[0;36mpandas._libs.hashtable.PyObjectHashTable.get_item\u001b[1;34m()\u001b[0m\n",
      "File \u001b[1;32mpandas\\_libs\\hashtable_class_helper.pxi:5206\u001b[0m, in \u001b[0;36mpandas._libs.hashtable.PyObjectHashTable.get_item\u001b[1;34m()\u001b[0m\n",
      "\u001b[1;31mKeyError\u001b[0m: 'ownsCar'",
      "\nThe above exception was the direct cause of the following exception:\n",
      "\u001b[1;31mKeyError\u001b[0m                                  Traceback (most recent call last)",
      "Input \u001b[1;32mIn [82]\u001b[0m, in \u001b[0;36m<module>\u001b[1;34m\u001b[0m\n\u001b[1;32m----> 1\u001b[0m \u001b[43mby_gender\u001b[49m\u001b[43m(\u001b[49m\u001b[43m[\u001b[49m\u001b[38;5;124;43m'\u001b[39;49m\u001b[38;5;124;43mownsCar\u001b[39;49m\u001b[38;5;124;43m'\u001b[39;49m\u001b[43m,\u001b[49m\u001b[43m \u001b[49m\u001b[38;5;124;43m'\u001b[39;49m\u001b[38;5;124;43mownsRealty\u001b[39;49m\u001b[38;5;124;43m'\u001b[39;49m\u001b[43m,\u001b[49m\u001b[43m \u001b[49m\u001b[38;5;124;43m'\u001b[39;49m\u001b[38;5;124;43mincomeType\u001b[39;49m\u001b[38;5;124;43m'\u001b[39;49m\u001b[43m,\u001b[49m\u001b[43m \u001b[49m\u001b[38;5;124;43m'\u001b[39;49m\u001b[38;5;124;43meduLvl\u001b[39;49m\u001b[38;5;124;43m'\u001b[39;49m\u001b[43m,\u001b[49m\u001b[43m \u001b[49m\u001b[38;5;124;43m'\u001b[39;49m\u001b[38;5;124;43mfamStatus\u001b[39;49m\u001b[38;5;124;43m'\u001b[39;49m\u001b[43m,\u001b[49m\u001b[43m \u001b[49m\u001b[38;5;124;43m'\u001b[39;49m\u001b[38;5;124;43mhousingType\u001b[39;49m\u001b[38;5;124;43m'\u001b[39;49m\u001b[43m,\u001b[49m\u001b[43m \u001b[49m\u001b[38;5;124;43m'\u001b[39;49m\u001b[38;5;124;43moccupation\u001b[39;49m\u001b[38;5;124;43m'\u001b[39;49m\u001b[43m,\u001b[49m\u001b[43m \u001b[49m\u001b[38;5;124;43m'\u001b[39;49m\u001b[38;5;124;43mApprStatus\u001b[39;49m\u001b[38;5;124;43m'\u001b[39;49m\u001b[43m]\u001b[49m\u001b[43m)\u001b[49m\n",
      "Input \u001b[1;32mIn [77]\u001b[0m, in \u001b[0;36mby_gender\u001b[1;34m(features)\u001b[0m\n\u001b[0;32m      3\u001b[0m \u001b[38;5;28;01mfor\u001b[39;00m feature \u001b[38;5;129;01min\u001b[39;00m features:\n\u001b[0;32m      4\u001b[0m     plt\u001b[38;5;241m.\u001b[39mfigure(figsize\u001b[38;5;241m=\u001b[39m(\u001b[38;5;241m9\u001b[39m, \u001b[38;5;241m9\u001b[39m))\n\u001b[1;32m----> 5\u001b[0m     ax\u001b[38;5;241m=\u001b[39msns\u001b[38;5;241m.\u001b[39mcountplot(y\u001b[38;5;241m=\u001b[39m\u001b[43mmergedOneRecord\u001b[49m\u001b[43m[\u001b[49m\u001b[43mfeature\u001b[49m\u001b[43m]\u001b[49m, hue\u001b[38;5;241m=\u001b[39m\u001b[38;5;124m'\u001b[39m\u001b[38;5;124mgender\u001b[39m\u001b[38;5;124m'\u001b[39m , data\u001b[38;5;241m=\u001b[39mmergedOneRecord)\n\u001b[0;32m      6\u001b[0m     plt\u001b[38;5;241m.\u001b[39mlegend(loc\u001b[38;5;241m=\u001b[39m\u001b[38;5;124m'\u001b[39m\u001b[38;5;124mbest\u001b[39m\u001b[38;5;124m'\u001b[39m)\n\u001b[0;32m      7\u001b[0m     total \u001b[38;5;241m=\u001b[39m \u001b[38;5;28mlen\u001b[39m(application_details[feature])\n",
      "File \u001b[1;32mC:\\Python3\\lib\\site-packages\\pandas\\core\\frame.py:3505\u001b[0m, in \u001b[0;36mDataFrame.__getitem__\u001b[1;34m(self, key)\u001b[0m\n\u001b[0;32m   3503\u001b[0m \u001b[38;5;28;01mif\u001b[39;00m \u001b[38;5;28mself\u001b[39m\u001b[38;5;241m.\u001b[39mcolumns\u001b[38;5;241m.\u001b[39mnlevels \u001b[38;5;241m>\u001b[39m \u001b[38;5;241m1\u001b[39m:\n\u001b[0;32m   3504\u001b[0m     \u001b[38;5;28;01mreturn\u001b[39;00m \u001b[38;5;28mself\u001b[39m\u001b[38;5;241m.\u001b[39m_getitem_multilevel(key)\n\u001b[1;32m-> 3505\u001b[0m indexer \u001b[38;5;241m=\u001b[39m \u001b[38;5;28;43mself\u001b[39;49m\u001b[38;5;241;43m.\u001b[39;49m\u001b[43mcolumns\u001b[49m\u001b[38;5;241;43m.\u001b[39;49m\u001b[43mget_loc\u001b[49m\u001b[43m(\u001b[49m\u001b[43mkey\u001b[49m\u001b[43m)\u001b[49m\n\u001b[0;32m   3506\u001b[0m \u001b[38;5;28;01mif\u001b[39;00m is_integer(indexer):\n\u001b[0;32m   3507\u001b[0m     indexer \u001b[38;5;241m=\u001b[39m [indexer]\n",
      "File \u001b[1;32mC:\\Python3\\lib\\site-packages\\pandas\\core\\indexes\\base.py:3623\u001b[0m, in \u001b[0;36mIndex.get_loc\u001b[1;34m(self, key, method, tolerance)\u001b[0m\n\u001b[0;32m   3621\u001b[0m     \u001b[38;5;28;01mreturn\u001b[39;00m \u001b[38;5;28mself\u001b[39m\u001b[38;5;241m.\u001b[39m_engine\u001b[38;5;241m.\u001b[39mget_loc(casted_key)\n\u001b[0;32m   3622\u001b[0m \u001b[38;5;28;01mexcept\u001b[39;00m \u001b[38;5;167;01mKeyError\u001b[39;00m \u001b[38;5;28;01mas\u001b[39;00m err:\n\u001b[1;32m-> 3623\u001b[0m     \u001b[38;5;28;01mraise\u001b[39;00m \u001b[38;5;167;01mKeyError\u001b[39;00m(key) \u001b[38;5;28;01mfrom\u001b[39;00m \u001b[38;5;21;01merr\u001b[39;00m\n\u001b[0;32m   3624\u001b[0m \u001b[38;5;28;01mexcept\u001b[39;00m \u001b[38;5;167;01mTypeError\u001b[39;00m:\n\u001b[0;32m   3625\u001b[0m     \u001b[38;5;66;03m# If we have a listlike key, _check_indexing_error will raise\u001b[39;00m\n\u001b[0;32m   3626\u001b[0m     \u001b[38;5;66;03m#  InvalidIndexError. Otherwise we fall through and re-raise\u001b[39;00m\n\u001b[0;32m   3627\u001b[0m     \u001b[38;5;66;03m#  the TypeError.\u001b[39;00m\n\u001b[0;32m   3628\u001b[0m     \u001b[38;5;28mself\u001b[39m\u001b[38;5;241m.\u001b[39m_check_indexing_error(key)\n",
      "\u001b[1;31mKeyError\u001b[0m: 'ownsCar'"
     ]
    },
    {
     "data": {
      "text/plain": [
       "<Figure size 648x648 with 0 Axes>"
      ]
     },
     "metadata": {},
     "output_type": "display_data"
    }
   ],
   "source": [
    "by_gender(['ownsCar', 'ownsRealty', 'incomeType', 'eduLvl', 'famStatus', 'housingType', 'occupation', 'ApprStatus'])\n"
   ]
  },
  {
   "cell_type": "code",
   "execution_count": null,
   "id": "dd80286c-88ff-4782-ae43-d5ad02cca3b0",
   "metadata": {},
   "outputs": [],
   "source": []
  }
 ],
 "metadata": {
  "kernelspec": {
   "display_name": "Python 3 (ipykernel)",
   "language": "python",
   "name": "python3"
  },
  "language_info": {
   "codemirror_mode": {
    "name": "ipython",
    "version": 3
   },
   "file_extension": ".py",
   "mimetype": "text/x-python",
   "name": "python",
   "nbconvert_exporter": "python",
   "pygments_lexer": "ipython3",
   "version": "3.10.4"
  }
 },
 "nbformat": 4,
 "nbformat_minor": 5
}
