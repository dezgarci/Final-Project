{
 "cells": [
  {
   "cell_type": "markdown",
   "id": "58024772-1e6a-47dc-ad76-58a4a140c0d9",
   "metadata": {},
   "source": [
    "# Week 3 Data Exploration"
   ]
  },
  {
   "cell_type": "markdown",
   "id": "955a6ef6-f044-48ba-b0d5-929e43377466",
   "metadata": {},
   "source": [
    "### Load packages"
   ]
  },
  {
   "cell_type": "code",
   "execution_count": 1,
   "id": "b2469c36-4edb-4f01-8d5d-1405301f7b81",
   "metadata": {},
   "outputs": [],
   "source": [
    "#Basics\n",
    "import numpy as np\n",
    "import pandas as pd\n",
    "import matplotlib.pyplot as plt\n",
    "%matplotlib inline\n",
    "import seaborn as sns\n",
    "import plotly as py\n",
    "import datetime as dt\n",
    "import scipy as scp\n",
    "from scipy import stats\n",
    "from scipy.stats import ttest_ind\n",
    "\n",
    "#for plotting\n",
    "import matplotlib.pyplot as plt\n",
    "import seaborn as sns\n",
    "%matplotlib inline\n",
    "sns.set(color_codes=True)\n",
    "\n",
    "import warnings\n",
    "warnings.filterwarnings('ignore')"
   ]
  },
  {
   "cell_type": "markdown",
   "id": "2cfa753b-b8ca-4aeb-8a75-31c21283ef87",
   "metadata": {},
   "source": [
    "#### Additional Data Wrangling"
   ]
  },
  {
   "cell_type": "code",
   "execution_count": 2,
   "id": "fc4714d6-d8c1-45eb-a9a4-6b2dda58ce15",
   "metadata": {},
   "outputs": [],
   "source": [
    "### Import cleaned data without original STATUS column\n",
    "\n",
    "merged4A = pd.read_csv('../Data/merged4Analysis30.csv')"
   ]
  },
  {
   "cell_type": "code",
   "execution_count": 3,
   "id": "9b8d476b-71d0-4471-9f44-26770f905de3",
   "metadata": {},
   "outputs": [
    {
     "data": {
      "text/html": [
       "<div>\n",
       "<style scoped>\n",
       "    .dataframe tbody tr th:only-of-type {\n",
       "        vertical-align: middle;\n",
       "    }\n",
       "\n",
       "    .dataframe tbody tr th {\n",
       "        vertical-align: top;\n",
       "    }\n",
       "\n",
       "    .dataframe thead th {\n",
       "        text-align: right;\n",
       "    }\n",
       "</style>\n",
       "<table border=\"1\" class=\"dataframe\">\n",
       "  <thead>\n",
       "    <tr style=\"text-align: right;\">\n",
       "      <th></th>\n",
       "      <th>Unnamed: 0</th>\n",
       "      <th>ID</th>\n",
       "      <th>gender</th>\n",
       "      <th>ownsCar</th>\n",
       "      <th>ownsRealty</th>\n",
       "      <th>numChildren</th>\n",
       "      <th>totalIncome</th>\n",
       "      <th>incomeType</th>\n",
       "      <th>eduLvl</th>\n",
       "      <th>famStatus</th>\n",
       "      <th>housingType</th>\n",
       "      <th>occupation</th>\n",
       "      <th>famSize</th>\n",
       "      <th>ageYrs</th>\n",
       "      <th>yrsEmpl</th>\n",
       "      <th>UNEMPLOYED</th>\n",
       "      <th>ApprStatus</th>\n",
       "    </tr>\n",
       "  </thead>\n",
       "  <tbody>\n",
       "    <tr>\n",
       "      <th>0</th>\n",
       "      <td>0</td>\n",
       "      <td>5008804</td>\n",
       "      <td>M</td>\n",
       "      <td>Y</td>\n",
       "      <td>Y</td>\n",
       "      <td>0</td>\n",
       "      <td>427500.0</td>\n",
       "      <td>Working</td>\n",
       "      <td>Higher education</td>\n",
       "      <td>Civil marriage</td>\n",
       "      <td>Rented apartment</td>\n",
       "      <td>Not identified</td>\n",
       "      <td>2.0</td>\n",
       "      <td>33.0</td>\n",
       "      <td>12.435574</td>\n",
       "      <td>1</td>\n",
       "      <td>1</td>\n",
       "    </tr>\n",
       "    <tr>\n",
       "      <th>1</th>\n",
       "      <td>1</td>\n",
       "      <td>5008804</td>\n",
       "      <td>M</td>\n",
       "      <td>Y</td>\n",
       "      <td>Y</td>\n",
       "      <td>0</td>\n",
       "      <td>427500.0</td>\n",
       "      <td>Working</td>\n",
       "      <td>Higher education</td>\n",
       "      <td>Civil marriage</td>\n",
       "      <td>Rented apartment</td>\n",
       "      <td>Not identified</td>\n",
       "      <td>2.0</td>\n",
       "      <td>33.0</td>\n",
       "      <td>12.435574</td>\n",
       "      <td>1</td>\n",
       "      <td>1</td>\n",
       "    </tr>\n",
       "    <tr>\n",
       "      <th>2</th>\n",
       "      <td>2</td>\n",
       "      <td>5008804</td>\n",
       "      <td>M</td>\n",
       "      <td>Y</td>\n",
       "      <td>Y</td>\n",
       "      <td>0</td>\n",
       "      <td>427500.0</td>\n",
       "      <td>Working</td>\n",
       "      <td>Higher education</td>\n",
       "      <td>Civil marriage</td>\n",
       "      <td>Rented apartment</td>\n",
       "      <td>Not identified</td>\n",
       "      <td>2.0</td>\n",
       "      <td>33.0</td>\n",
       "      <td>12.435574</td>\n",
       "      <td>1</td>\n",
       "      <td>1</td>\n",
       "    </tr>\n",
       "    <tr>\n",
       "      <th>3</th>\n",
       "      <td>3</td>\n",
       "      <td>5008804</td>\n",
       "      <td>M</td>\n",
       "      <td>Y</td>\n",
       "      <td>Y</td>\n",
       "      <td>0</td>\n",
       "      <td>427500.0</td>\n",
       "      <td>Working</td>\n",
       "      <td>Higher education</td>\n",
       "      <td>Civil marriage</td>\n",
       "      <td>Rented apartment</td>\n",
       "      <td>Not identified</td>\n",
       "      <td>2.0</td>\n",
       "      <td>33.0</td>\n",
       "      <td>12.435574</td>\n",
       "      <td>1</td>\n",
       "      <td>1</td>\n",
       "    </tr>\n",
       "    <tr>\n",
       "      <th>4</th>\n",
       "      <td>4</td>\n",
       "      <td>5008804</td>\n",
       "      <td>M</td>\n",
       "      <td>Y</td>\n",
       "      <td>Y</td>\n",
       "      <td>0</td>\n",
       "      <td>427500.0</td>\n",
       "      <td>Working</td>\n",
       "      <td>Higher education</td>\n",
       "      <td>Civil marriage</td>\n",
       "      <td>Rented apartment</td>\n",
       "      <td>Not identified</td>\n",
       "      <td>2.0</td>\n",
       "      <td>33.0</td>\n",
       "      <td>12.435574</td>\n",
       "      <td>1</td>\n",
       "      <td>1</td>\n",
       "    </tr>\n",
       "    <tr>\n",
       "      <th>5</th>\n",
       "      <td>5</td>\n",
       "      <td>5008804</td>\n",
       "      <td>M</td>\n",
       "      <td>Y</td>\n",
       "      <td>Y</td>\n",
       "      <td>0</td>\n",
       "      <td>427500.0</td>\n",
       "      <td>Working</td>\n",
       "      <td>Higher education</td>\n",
       "      <td>Civil marriage</td>\n",
       "      <td>Rented apartment</td>\n",
       "      <td>Not identified</td>\n",
       "      <td>2.0</td>\n",
       "      <td>33.0</td>\n",
       "      <td>12.435574</td>\n",
       "      <td>1</td>\n",
       "      <td>1</td>\n",
       "    </tr>\n",
       "    <tr>\n",
       "      <th>6</th>\n",
       "      <td>6</td>\n",
       "      <td>5008804</td>\n",
       "      <td>M</td>\n",
       "      <td>Y</td>\n",
       "      <td>Y</td>\n",
       "      <td>0</td>\n",
       "      <td>427500.0</td>\n",
       "      <td>Working</td>\n",
       "      <td>Higher education</td>\n",
       "      <td>Civil marriage</td>\n",
       "      <td>Rented apartment</td>\n",
       "      <td>Not identified</td>\n",
       "      <td>2.0</td>\n",
       "      <td>33.0</td>\n",
       "      <td>12.435574</td>\n",
       "      <td>1</td>\n",
       "      <td>1</td>\n",
       "    </tr>\n",
       "    <tr>\n",
       "      <th>7</th>\n",
       "      <td>7</td>\n",
       "      <td>5008804</td>\n",
       "      <td>M</td>\n",
       "      <td>Y</td>\n",
       "      <td>Y</td>\n",
       "      <td>0</td>\n",
       "      <td>427500.0</td>\n",
       "      <td>Working</td>\n",
       "      <td>Higher education</td>\n",
       "      <td>Civil marriage</td>\n",
       "      <td>Rented apartment</td>\n",
       "      <td>Not identified</td>\n",
       "      <td>2.0</td>\n",
       "      <td>33.0</td>\n",
       "      <td>12.435574</td>\n",
       "      <td>1</td>\n",
       "      <td>1</td>\n",
       "    </tr>\n",
       "    <tr>\n",
       "      <th>8</th>\n",
       "      <td>8</td>\n",
       "      <td>5008804</td>\n",
       "      <td>M</td>\n",
       "      <td>Y</td>\n",
       "      <td>Y</td>\n",
       "      <td>0</td>\n",
       "      <td>427500.0</td>\n",
       "      <td>Working</td>\n",
       "      <td>Higher education</td>\n",
       "      <td>Civil marriage</td>\n",
       "      <td>Rented apartment</td>\n",
       "      <td>Not identified</td>\n",
       "      <td>2.0</td>\n",
       "      <td>33.0</td>\n",
       "      <td>12.435574</td>\n",
       "      <td>1</td>\n",
       "      <td>1</td>\n",
       "    </tr>\n",
       "    <tr>\n",
       "      <th>9</th>\n",
       "      <td>9</td>\n",
       "      <td>5008804</td>\n",
       "      <td>M</td>\n",
       "      <td>Y</td>\n",
       "      <td>Y</td>\n",
       "      <td>0</td>\n",
       "      <td>427500.0</td>\n",
       "      <td>Working</td>\n",
       "      <td>Higher education</td>\n",
       "      <td>Civil marriage</td>\n",
       "      <td>Rented apartment</td>\n",
       "      <td>Not identified</td>\n",
       "      <td>2.0</td>\n",
       "      <td>33.0</td>\n",
       "      <td>12.435574</td>\n",
       "      <td>1</td>\n",
       "      <td>1</td>\n",
       "    </tr>\n",
       "    <tr>\n",
       "      <th>10</th>\n",
       "      <td>10</td>\n",
       "      <td>5008804</td>\n",
       "      <td>M</td>\n",
       "      <td>Y</td>\n",
       "      <td>Y</td>\n",
       "      <td>0</td>\n",
       "      <td>427500.0</td>\n",
       "      <td>Working</td>\n",
       "      <td>Higher education</td>\n",
       "      <td>Civil marriage</td>\n",
       "      <td>Rented apartment</td>\n",
       "      <td>Not identified</td>\n",
       "      <td>2.0</td>\n",
       "      <td>33.0</td>\n",
       "      <td>12.435574</td>\n",
       "      <td>1</td>\n",
       "      <td>1</td>\n",
       "    </tr>\n",
       "    <tr>\n",
       "      <th>11</th>\n",
       "      <td>11</td>\n",
       "      <td>5008804</td>\n",
       "      <td>M</td>\n",
       "      <td>Y</td>\n",
       "      <td>Y</td>\n",
       "      <td>0</td>\n",
       "      <td>427500.0</td>\n",
       "      <td>Working</td>\n",
       "      <td>Higher education</td>\n",
       "      <td>Civil marriage</td>\n",
       "      <td>Rented apartment</td>\n",
       "      <td>Not identified</td>\n",
       "      <td>2.0</td>\n",
       "      <td>33.0</td>\n",
       "      <td>12.435574</td>\n",
       "      <td>1</td>\n",
       "      <td>1</td>\n",
       "    </tr>\n",
       "    <tr>\n",
       "      <th>12</th>\n",
       "      <td>12</td>\n",
       "      <td>5008804</td>\n",
       "      <td>M</td>\n",
       "      <td>Y</td>\n",
       "      <td>Y</td>\n",
       "      <td>0</td>\n",
       "      <td>427500.0</td>\n",
       "      <td>Working</td>\n",
       "      <td>Higher education</td>\n",
       "      <td>Civil marriage</td>\n",
       "      <td>Rented apartment</td>\n",
       "      <td>Not identified</td>\n",
       "      <td>2.0</td>\n",
       "      <td>33.0</td>\n",
       "      <td>12.435574</td>\n",
       "      <td>1</td>\n",
       "      <td>1</td>\n",
       "    </tr>\n",
       "    <tr>\n",
       "      <th>13</th>\n",
       "      <td>13</td>\n",
       "      <td>5008804</td>\n",
       "      <td>M</td>\n",
       "      <td>Y</td>\n",
       "      <td>Y</td>\n",
       "      <td>0</td>\n",
       "      <td>427500.0</td>\n",
       "      <td>Working</td>\n",
       "      <td>Higher education</td>\n",
       "      <td>Civil marriage</td>\n",
       "      <td>Rented apartment</td>\n",
       "      <td>Not identified</td>\n",
       "      <td>2.0</td>\n",
       "      <td>33.0</td>\n",
       "      <td>12.435574</td>\n",
       "      <td>1</td>\n",
       "      <td>1</td>\n",
       "    </tr>\n",
       "    <tr>\n",
       "      <th>14</th>\n",
       "      <td>14</td>\n",
       "      <td>5008804</td>\n",
       "      <td>M</td>\n",
       "      <td>Y</td>\n",
       "      <td>Y</td>\n",
       "      <td>0</td>\n",
       "      <td>427500.0</td>\n",
       "      <td>Working</td>\n",
       "      <td>Higher education</td>\n",
       "      <td>Civil marriage</td>\n",
       "      <td>Rented apartment</td>\n",
       "      <td>Not identified</td>\n",
       "      <td>2.0</td>\n",
       "      <td>33.0</td>\n",
       "      <td>12.435574</td>\n",
       "      <td>1</td>\n",
       "      <td>1</td>\n",
       "    </tr>\n",
       "    <tr>\n",
       "      <th>15</th>\n",
       "      <td>15</td>\n",
       "      <td>5008804</td>\n",
       "      <td>M</td>\n",
       "      <td>Y</td>\n",
       "      <td>Y</td>\n",
       "      <td>0</td>\n",
       "      <td>427500.0</td>\n",
       "      <td>Working</td>\n",
       "      <td>Higher education</td>\n",
       "      <td>Civil marriage</td>\n",
       "      <td>Rented apartment</td>\n",
       "      <td>Not identified</td>\n",
       "      <td>2.0</td>\n",
       "      <td>33.0</td>\n",
       "      <td>12.435574</td>\n",
       "      <td>1</td>\n",
       "      <td>1</td>\n",
       "    </tr>\n",
       "    <tr>\n",
       "      <th>16</th>\n",
       "      <td>16</td>\n",
       "      <td>5008805</td>\n",
       "      <td>M</td>\n",
       "      <td>Y</td>\n",
       "      <td>Y</td>\n",
       "      <td>0</td>\n",
       "      <td>427500.0</td>\n",
       "      <td>Working</td>\n",
       "      <td>Higher education</td>\n",
       "      <td>Civil marriage</td>\n",
       "      <td>Rented apartment</td>\n",
       "      <td>Not identified</td>\n",
       "      <td>2.0</td>\n",
       "      <td>33.0</td>\n",
       "      <td>12.435574</td>\n",
       "      <td>1</td>\n",
       "      <td>1</td>\n",
       "    </tr>\n",
       "    <tr>\n",
       "      <th>17</th>\n",
       "      <td>17</td>\n",
       "      <td>5008805</td>\n",
       "      <td>M</td>\n",
       "      <td>Y</td>\n",
       "      <td>Y</td>\n",
       "      <td>0</td>\n",
       "      <td>427500.0</td>\n",
       "      <td>Working</td>\n",
       "      <td>Higher education</td>\n",
       "      <td>Civil marriage</td>\n",
       "      <td>Rented apartment</td>\n",
       "      <td>Not identified</td>\n",
       "      <td>2.0</td>\n",
       "      <td>33.0</td>\n",
       "      <td>12.435574</td>\n",
       "      <td>1</td>\n",
       "      <td>1</td>\n",
       "    </tr>\n",
       "    <tr>\n",
       "      <th>18</th>\n",
       "      <td>18</td>\n",
       "      <td>5008805</td>\n",
       "      <td>M</td>\n",
       "      <td>Y</td>\n",
       "      <td>Y</td>\n",
       "      <td>0</td>\n",
       "      <td>427500.0</td>\n",
       "      <td>Working</td>\n",
       "      <td>Higher education</td>\n",
       "      <td>Civil marriage</td>\n",
       "      <td>Rented apartment</td>\n",
       "      <td>Not identified</td>\n",
       "      <td>2.0</td>\n",
       "      <td>33.0</td>\n",
       "      <td>12.435574</td>\n",
       "      <td>1</td>\n",
       "      <td>1</td>\n",
       "    </tr>\n",
       "    <tr>\n",
       "      <th>19</th>\n",
       "      <td>19</td>\n",
       "      <td>5008805</td>\n",
       "      <td>M</td>\n",
       "      <td>Y</td>\n",
       "      <td>Y</td>\n",
       "      <td>0</td>\n",
       "      <td>427500.0</td>\n",
       "      <td>Working</td>\n",
       "      <td>Higher education</td>\n",
       "      <td>Civil marriage</td>\n",
       "      <td>Rented apartment</td>\n",
       "      <td>Not identified</td>\n",
       "      <td>2.0</td>\n",
       "      <td>33.0</td>\n",
       "      <td>12.435574</td>\n",
       "      <td>1</td>\n",
       "      <td>1</td>\n",
       "    </tr>\n",
       "    <tr>\n",
       "      <th>20</th>\n",
       "      <td>20</td>\n",
       "      <td>5008805</td>\n",
       "      <td>M</td>\n",
       "      <td>Y</td>\n",
       "      <td>Y</td>\n",
       "      <td>0</td>\n",
       "      <td>427500.0</td>\n",
       "      <td>Working</td>\n",
       "      <td>Higher education</td>\n",
       "      <td>Civil marriage</td>\n",
       "      <td>Rented apartment</td>\n",
       "      <td>Not identified</td>\n",
       "      <td>2.0</td>\n",
       "      <td>33.0</td>\n",
       "      <td>12.435574</td>\n",
       "      <td>1</td>\n",
       "      <td>1</td>\n",
       "    </tr>\n",
       "    <tr>\n",
       "      <th>21</th>\n",
       "      <td>21</td>\n",
       "      <td>5008805</td>\n",
       "      <td>M</td>\n",
       "      <td>Y</td>\n",
       "      <td>Y</td>\n",
       "      <td>0</td>\n",
       "      <td>427500.0</td>\n",
       "      <td>Working</td>\n",
       "      <td>Higher education</td>\n",
       "      <td>Civil marriage</td>\n",
       "      <td>Rented apartment</td>\n",
       "      <td>Not identified</td>\n",
       "      <td>2.0</td>\n",
       "      <td>33.0</td>\n",
       "      <td>12.435574</td>\n",
       "      <td>1</td>\n",
       "      <td>1</td>\n",
       "    </tr>\n",
       "    <tr>\n",
       "      <th>22</th>\n",
       "      <td>22</td>\n",
       "      <td>5008805</td>\n",
       "      <td>M</td>\n",
       "      <td>Y</td>\n",
       "      <td>Y</td>\n",
       "      <td>0</td>\n",
       "      <td>427500.0</td>\n",
       "      <td>Working</td>\n",
       "      <td>Higher education</td>\n",
       "      <td>Civil marriage</td>\n",
       "      <td>Rented apartment</td>\n",
       "      <td>Not identified</td>\n",
       "      <td>2.0</td>\n",
       "      <td>33.0</td>\n",
       "      <td>12.435574</td>\n",
       "      <td>1</td>\n",
       "      <td>1</td>\n",
       "    </tr>\n",
       "    <tr>\n",
       "      <th>23</th>\n",
       "      <td>23</td>\n",
       "      <td>5008805</td>\n",
       "      <td>M</td>\n",
       "      <td>Y</td>\n",
       "      <td>Y</td>\n",
       "      <td>0</td>\n",
       "      <td>427500.0</td>\n",
       "      <td>Working</td>\n",
       "      <td>Higher education</td>\n",
       "      <td>Civil marriage</td>\n",
       "      <td>Rented apartment</td>\n",
       "      <td>Not identified</td>\n",
       "      <td>2.0</td>\n",
       "      <td>33.0</td>\n",
       "      <td>12.435574</td>\n",
       "      <td>1</td>\n",
       "      <td>1</td>\n",
       "    </tr>\n",
       "    <tr>\n",
       "      <th>24</th>\n",
       "      <td>24</td>\n",
       "      <td>5008805</td>\n",
       "      <td>M</td>\n",
       "      <td>Y</td>\n",
       "      <td>Y</td>\n",
       "      <td>0</td>\n",
       "      <td>427500.0</td>\n",
       "      <td>Working</td>\n",
       "      <td>Higher education</td>\n",
       "      <td>Civil marriage</td>\n",
       "      <td>Rented apartment</td>\n",
       "      <td>Not identified</td>\n",
       "      <td>2.0</td>\n",
       "      <td>33.0</td>\n",
       "      <td>12.435574</td>\n",
       "      <td>1</td>\n",
       "      <td>1</td>\n",
       "    </tr>\n",
       "  </tbody>\n",
       "</table>\n",
       "</div>"
      ],
      "text/plain": [
       "    Unnamed: 0       ID gender ownsCar ownsRealty  numChildren  totalIncome  \\\n",
       "0            0  5008804      M       Y          Y            0     427500.0   \n",
       "1            1  5008804      M       Y          Y            0     427500.0   \n",
       "2            2  5008804      M       Y          Y            0     427500.0   \n",
       "3            3  5008804      M       Y          Y            0     427500.0   \n",
       "4            4  5008804      M       Y          Y            0     427500.0   \n",
       "5            5  5008804      M       Y          Y            0     427500.0   \n",
       "6            6  5008804      M       Y          Y            0     427500.0   \n",
       "7            7  5008804      M       Y          Y            0     427500.0   \n",
       "8            8  5008804      M       Y          Y            0     427500.0   \n",
       "9            9  5008804      M       Y          Y            0     427500.0   \n",
       "10          10  5008804      M       Y          Y            0     427500.0   \n",
       "11          11  5008804      M       Y          Y            0     427500.0   \n",
       "12          12  5008804      M       Y          Y            0     427500.0   \n",
       "13          13  5008804      M       Y          Y            0     427500.0   \n",
       "14          14  5008804      M       Y          Y            0     427500.0   \n",
       "15          15  5008804      M       Y          Y            0     427500.0   \n",
       "16          16  5008805      M       Y          Y            0     427500.0   \n",
       "17          17  5008805      M       Y          Y            0     427500.0   \n",
       "18          18  5008805      M       Y          Y            0     427500.0   \n",
       "19          19  5008805      M       Y          Y            0     427500.0   \n",
       "20          20  5008805      M       Y          Y            0     427500.0   \n",
       "21          21  5008805      M       Y          Y            0     427500.0   \n",
       "22          22  5008805      M       Y          Y            0     427500.0   \n",
       "23          23  5008805      M       Y          Y            0     427500.0   \n",
       "24          24  5008805      M       Y          Y            0     427500.0   \n",
       "\n",
       "   incomeType            eduLvl       famStatus       housingType  \\\n",
       "0     Working  Higher education  Civil marriage  Rented apartment   \n",
       "1     Working  Higher education  Civil marriage  Rented apartment   \n",
       "2     Working  Higher education  Civil marriage  Rented apartment   \n",
       "3     Working  Higher education  Civil marriage  Rented apartment   \n",
       "4     Working  Higher education  Civil marriage  Rented apartment   \n",
       "5     Working  Higher education  Civil marriage  Rented apartment   \n",
       "6     Working  Higher education  Civil marriage  Rented apartment   \n",
       "7     Working  Higher education  Civil marriage  Rented apartment   \n",
       "8     Working  Higher education  Civil marriage  Rented apartment   \n",
       "9     Working  Higher education  Civil marriage  Rented apartment   \n",
       "10    Working  Higher education  Civil marriage  Rented apartment   \n",
       "11    Working  Higher education  Civil marriage  Rented apartment   \n",
       "12    Working  Higher education  Civil marriage  Rented apartment   \n",
       "13    Working  Higher education  Civil marriage  Rented apartment   \n",
       "14    Working  Higher education  Civil marriage  Rented apartment   \n",
       "15    Working  Higher education  Civil marriage  Rented apartment   \n",
       "16    Working  Higher education  Civil marriage  Rented apartment   \n",
       "17    Working  Higher education  Civil marriage  Rented apartment   \n",
       "18    Working  Higher education  Civil marriage  Rented apartment   \n",
       "19    Working  Higher education  Civil marriage  Rented apartment   \n",
       "20    Working  Higher education  Civil marriage  Rented apartment   \n",
       "21    Working  Higher education  Civil marriage  Rented apartment   \n",
       "22    Working  Higher education  Civil marriage  Rented apartment   \n",
       "23    Working  Higher education  Civil marriage  Rented apartment   \n",
       "24    Working  Higher education  Civil marriage  Rented apartment   \n",
       "\n",
       "        occupation  famSize  ageYrs    yrsEmpl  UNEMPLOYED  ApprStatus  \n",
       "0   Not identified      2.0    33.0  12.435574           1           1  \n",
       "1   Not identified      2.0    33.0  12.435574           1           1  \n",
       "2   Not identified      2.0    33.0  12.435574           1           1  \n",
       "3   Not identified      2.0    33.0  12.435574           1           1  \n",
       "4   Not identified      2.0    33.0  12.435574           1           1  \n",
       "5   Not identified      2.0    33.0  12.435574           1           1  \n",
       "6   Not identified      2.0    33.0  12.435574           1           1  \n",
       "7   Not identified      2.0    33.0  12.435574           1           1  \n",
       "8   Not identified      2.0    33.0  12.435574           1           1  \n",
       "9   Not identified      2.0    33.0  12.435574           1           1  \n",
       "10  Not identified      2.0    33.0  12.435574           1           1  \n",
       "11  Not identified      2.0    33.0  12.435574           1           1  \n",
       "12  Not identified      2.0    33.0  12.435574           1           1  \n",
       "13  Not identified      2.0    33.0  12.435574           1           1  \n",
       "14  Not identified      2.0    33.0  12.435574           1           1  \n",
       "15  Not identified      2.0    33.0  12.435574           1           1  \n",
       "16  Not identified      2.0    33.0  12.435574           1           1  \n",
       "17  Not identified      2.0    33.0  12.435574           1           1  \n",
       "18  Not identified      2.0    33.0  12.435574           1           1  \n",
       "19  Not identified      2.0    33.0  12.435574           1           1  \n",
       "20  Not identified      2.0    33.0  12.435574           1           1  \n",
       "21  Not identified      2.0    33.0  12.435574           1           1  \n",
       "22  Not identified      2.0    33.0  12.435574           1           1  \n",
       "23  Not identified      2.0    33.0  12.435574           1           1  \n",
       "24  Not identified      2.0    33.0  12.435574           1           1  "
      ]
     },
     "execution_count": 3,
     "metadata": {},
     "output_type": "execute_result"
    }
   ],
   "source": [
    "merged4A.head(25)"
   ]
  },
  {
   "cell_type": "code",
   "execution_count": 4,
   "id": "7e9f7ed7-31c7-4661-b629-ec13411dc8e7",
   "metadata": {},
   "outputs": [],
   "source": [
    "# drop duplicates to show one record per applicant for analysis\n",
    "merged4B = merged4A.drop_duplicates(subset=merged4A.columns[1:], keep='first')"
   ]
  },
  {
   "cell_type": "code",
   "execution_count": 6,
   "id": "ec7d48a2-56e0-4f34-bc5b-b58c0bc7a8ee",
   "metadata": {},
   "outputs": [],
   "source": [
    "# sort dataFrame by ID so that each unique applicants' info appears together (check no dupes)\n",
    "merged4C= merged4B.sort_values('ID')"
   ]
  },
  {
   "cell_type": "code",
   "execution_count": 14,
   "id": "ea7c6343-ad5a-4e6b-bcd5-4bda19bd50b3",
   "metadata": {},
   "outputs": [
    {
     "data": {
      "text/plain": [
       "<AxesSubplot:>"
      ]
     },
     "execution_count": 14,
     "metadata": {},
     "output_type": "execute_result"
    },
    {
     "data": {
      "image/png": "[encoded data removed]",
      "text/plain": [
       "<Figure size 432x288 with 2 Axes>"
      ]
     },
     "metadata": {},
     "output_type": "display_data"
    }
   ],
   "source": [
    "# Correlation matrix\n",
    "sns.heatmap(merged4C.corr(), annot=True)"
   ]
  },
  {
   "cell_type": "markdown",
   "id": "faf13d22-c2db-45eb-9411-8651a22c2779",
   "metadata": {},
   "source": [
    "# family size and number of children are highly correlated, but the rest of the variables do not have significant correlation to eachother. Drop numChildren before doing any ML."
   ]
  },
  {
   "cell_type": "code",
   "execution_count": 15,
   "id": "f4e85a46-d1bb-47f9-8470-95fefd45e58a",
   "metadata": {},
   "outputs": [],
   "source": [
    "# save csv\n",
    "merged4C.to_csv(\"../Data/mergedNoDupes.csv\")"
   ]
  },
  {
   "cell_type": "markdown",
   "id": "9ab97f0e-876e-409c-8614-a92c0afc2bc2",
   "metadata": {},
   "source": [
    "## Explore continuous variables"
   ]
  },
  {
   "cell_type": "code",
   "execution_count": 20,
   "id": "d74f2b7b-04ff-4346-8ea2-3be9aa71982a",
   "metadata": {},
   "outputs": [
    {
     "data": {
      "text/plain": [
       "Text(0.5, 1.0, 'Applicant Income Distribution')"
      ]
     },
     "execution_count": 20,
     "metadata": {},
     "output_type": "execute_result"
    },
    {
     "data": {
      "image/png": "[encoded data removed]",
      "text/plain": [
       "<Figure size 432x288 with 1 Axes>"
      ]
     },
     "metadata": {},
     "output_type": "display_data"
    }
   ],
   "source": [
    "num_bins = 100\n",
    "n, bins, patches = plt.hist(merged4C['totalIncome'], num_bins, facecolor='green', alpha = .8)\n",
    "plt.xlabel('Income')\n",
    "plt.ylabel('Frequency')\n",
    "plt.title('Applicant Income Distribution')"
   ]
  },
  {
   "cell_type": "markdown",
   "id": "0b6d8e84-a756-4eb8-899e-1a39a28457d4",
   "metadata": {},
   "source": [
    "### There is a slight positive skew in income.  There must be some outliers."
   ]
  },
  {
   "cell_type": "code",
   "execution_count": 21,
   "id": "e6c1638e-de27-4848-a935-87414ab80c6e",
   "metadata": {},
   "outputs": [
    {
     "data": {
      "text/html": [
       "<div>\n",
       "<style scoped>\n",
       "    .dataframe tbody tr th:only-of-type {\n",
       "        vertical-align: middle;\n",
       "    }\n",
       "\n",
       "    .dataframe tbody tr th {\n",
       "        vertical-align: top;\n",
       "    }\n",
       "\n",
       "    .dataframe thead th {\n",
       "        text-align: right;\n",
       "    }\n",
       "</style>\n",
       "<table border=\"1\" class=\"dataframe\">\n",
       "  <thead>\n",
       "    <tr style=\"text-align: right;\">\n",
       "      <th></th>\n",
       "      <th>Unnamed: 0</th>\n",
       "      <th>ID</th>\n",
       "      <th>numChildren</th>\n",
       "      <th>totalIncome</th>\n",
       "      <th>famSize</th>\n",
       "      <th>ageYrs</th>\n",
       "      <th>yrsEmpl</th>\n",
       "      <th>UNEMPLOYED</th>\n",
       "      <th>ApprStatus</th>\n",
       "    </tr>\n",
       "  </thead>\n",
       "  <tbody>\n",
       "    <tr>\n",
       "      <th>count</th>\n",
       "      <td>36457.000000</td>\n",
       "      <td>3.645700e+04</td>\n",
       "      <td>36457.000000</td>\n",
       "      <td>3.645700e+04</td>\n",
       "      <td>36457.000000</td>\n",
       "      <td>36457.000000</td>\n",
       "      <td>36457.000000</td>\n",
       "      <td>36457.00000</td>\n",
       "      <td>36457.000000</td>\n",
       "    </tr>\n",
       "    <tr>\n",
       "      <th>mean</th>\n",
       "      <td>385325.247854</td>\n",
       "      <td>5.078227e+06</td>\n",
       "      <td>0.430315</td>\n",
       "      <td>1.866857e+05</td>\n",
       "      <td>2.198453</td>\n",
       "      <td>44.231368</td>\n",
       "      <td>6.024264</td>\n",
       "      <td>0.83172</td>\n",
       "      <td>0.996626</td>\n",
       "    </tr>\n",
       "    <tr>\n",
       "      <th>std</th>\n",
       "      <td>224634.062951</td>\n",
       "      <td>4.187524e+04</td>\n",
       "      <td>0.742367</td>\n",
       "      <td>1.017892e+05</td>\n",
       "      <td>0.911686</td>\n",
       "      <td>11.504127</td>\n",
       "      <td>6.480069</td>\n",
       "      <td>0.37412</td>\n",
       "      <td>0.057987</td>\n",
       "    </tr>\n",
       "    <tr>\n",
       "      <th>min</th>\n",
       "      <td>0.000000</td>\n",
       "      <td>5.008804e+06</td>\n",
       "      <td>0.000000</td>\n",
       "      <td>2.700000e+04</td>\n",
       "      <td>1.000000</td>\n",
       "      <td>21.000000</td>\n",
       "      <td>0.000000</td>\n",
       "      <td>0.00000</td>\n",
       "      <td>0.000000</td>\n",
       "    </tr>\n",
       "    <tr>\n",
       "      <th>25%</th>\n",
       "      <td>189102.000000</td>\n",
       "      <td>5.042028e+06</td>\n",
       "      <td>0.000000</td>\n",
       "      <td>1.215000e+05</td>\n",
       "      <td>2.000000</td>\n",
       "      <td>35.000000</td>\n",
       "      <td>1.117066</td>\n",
       "      <td>1.00000</td>\n",
       "      <td>1.000000</td>\n",
       "    </tr>\n",
       "    <tr>\n",
       "      <th>50%</th>\n",
       "      <td>389474.000000</td>\n",
       "      <td>5.074614e+06</td>\n",
       "      <td>0.000000</td>\n",
       "      <td>1.575000e+05</td>\n",
       "      <td>2.000000</td>\n",
       "      <td>43.000000</td>\n",
       "      <td>4.249232</td>\n",
       "      <td>1.00000</td>\n",
       "      <td>1.000000</td>\n",
       "    </tr>\n",
       "    <tr>\n",
       "      <th>75%</th>\n",
       "      <td>581410.000000</td>\n",
       "      <td>5.115396e+06</td>\n",
       "      <td>1.000000</td>\n",
       "      <td>2.250000e+05</td>\n",
       "      <td>3.000000</td>\n",
       "      <td>54.000000</td>\n",
       "      <td>8.632621</td>\n",
       "      <td>1.00000</td>\n",
       "      <td>1.000000</td>\n",
       "    </tr>\n",
       "    <tr>\n",
       "      <th>max</th>\n",
       "      <td>777701.000000</td>\n",
       "      <td>5.150487e+06</td>\n",
       "      <td>19.000000</td>\n",
       "      <td>1.575000e+06</td>\n",
       "      <td>20.000000</td>\n",
       "      <td>69.000000</td>\n",
       "      <td>43.020733</td>\n",
       "      <td>1.00000</td>\n",
       "      <td>1.000000</td>\n",
       "    </tr>\n",
       "  </tbody>\n",
       "</table>\n",
       "</div>"
      ],
      "text/plain": [
       "          Unnamed: 0            ID   numChildren   totalIncome       famSize  \\\n",
       "count   36457.000000  3.645700e+04  36457.000000  3.645700e+04  36457.000000   \n",
       "mean   385325.247854  5.078227e+06      0.430315  1.866857e+05      2.198453   \n",
       "std    224634.062951  4.187524e+04      0.742367  1.017892e+05      0.911686   \n",
       "min         0.000000  5.008804e+06      0.000000  2.700000e+04      1.000000   \n",
       "25%    189102.000000  5.042028e+06      0.000000  1.215000e+05      2.000000   \n",
       "50%    389474.000000  5.074614e+06      0.000000  1.575000e+05      2.000000   \n",
       "75%    581410.000000  5.115396e+06      1.000000  2.250000e+05      3.000000   \n",
       "max    777701.000000  5.150487e+06     19.000000  1.575000e+06     20.000000   \n",
       "\n",
       "             ageYrs       yrsEmpl   UNEMPLOYED    ApprStatus  \n",
       "count  36457.000000  36457.000000  36457.00000  36457.000000  \n",
       "mean      44.231368      6.024264      0.83172      0.996626  \n",
       "std       11.504127      6.480069      0.37412      0.057987  \n",
       "min       21.000000      0.000000      0.00000      0.000000  \n",
       "25%       35.000000      1.117066      1.00000      1.000000  \n",
       "50%       43.000000      4.249232      1.00000      1.000000  \n",
       "75%       54.000000      8.632621      1.00000      1.000000  \n",
       "max       69.000000     43.020733      1.00000      1.000000  "
      ]
     },
     "execution_count": 21,
     "metadata": {},
     "output_type": "execute_result"
    }
   ],
   "source": [
    "merged4C.describe()"
   ]
  },
  {
   "cell_type": "code",
   "execution_count": 22,
   "id": "9541925b-a14b-4955-8777-e33d65fefe17",
   "metadata": {},
   "outputs": [
    {
     "name": "stdout",
     "output_type": "stream",
     "text": [
      "The lowest applicant income is 27000.0\n"
     ]
    }
   ],
   "source": [
    "# print income range represented in this data set\n",
    "minInc = merged4C.totalIncome.min()\n",
    "print(\"The lowest applicant income is\" , minInc)"
   ]
  },
  {
   "cell_type": "code",
   "execution_count": 23,
   "id": "d7e1197f-594f-4450-8cc4-baea98890ccc",
   "metadata": {},
   "outputs": [
    {
     "name": "stdout",
     "output_type": "stream",
     "text": [
      "The maximum applicant income is 1575000.0\n"
     ]
    }
   ],
   "source": [
    "maxInc = merged4C.totalIncome.max()\n",
    "print(\"The maximum applicant income is\" , maxInc)"
   ]
  },
  {
   "cell_type": "code",
   "execution_count": 24,
   "id": "4bcc719a-71e2-4a98-a88f-db090ee1e527",
   "metadata": {},
   "outputs": [
    {
     "data": {
      "text/plain": [
       "<AxesSubplot:>"
      ]
     },
     "execution_count": 24,
     "metadata": {},
     "output_type": "execute_result"
    },
    {
     "data": {
      "image/png": "[encoded data removed]",
      "text/plain": [
       "<Figure size 432x288 with 1 Axes>"
      ]
     },
     "metadata": {},
     "output_type": "display_data"
    }
   ],
   "source": [
    "merged4C.boxplot('totalIncome')"
   ]
  },
  {
   "cell_type": "code",
   "execution_count": 25,
   "id": "c4bbfef7-9dd8-4c3b-94b7-ceec8b1f0ee3",
   "metadata": {},
   "outputs": [
    {
     "data": {
      "text/plain": [
       "<AxesSubplot:>"
      ]
     },
     "execution_count": 25,
     "metadata": {},
     "output_type": "execute_result"
    },
    {
     "data": {
      "image/png": "[encoded data removed]",
      "text/plain": [
       "<Figure size 432x288 with 1 Axes>"
      ]
     },
     "metadata": {},
     "output_type": "display_data"
    }
   ],
   "source": [
    "merged4C['numChildren'].hist()"
   ]
  },
  {
   "cell_type": "code",
   "execution_count": 26,
   "id": "ad3b5aeb-7484-4bb4-9d3f-9f37e7902d8f",
   "metadata": {},
   "outputs": [
    {
     "data": {
      "text/plain": [
       "<AxesSubplot:>"
      ]
     },
     "execution_count": 26,
     "metadata": {},
     "output_type": "execute_result"
    },
    {
     "data": {
      "image/png": "[encoded data removed]",
      "text/plain": [
       "<Figure size 432x288 with 1 Axes>"
      ]
     },
     "metadata": {},
     "output_type": "display_data"
    }
   ],
   "source": [
    "merged4C.boxplot('numChildren')"
   ]
  },
  {
   "cell_type": "code",
   "execution_count": 27,
   "id": "8dbfbfe8-4b11-4d90-86e8-79a342d0ea02",
   "metadata": {},
   "outputs": [
    {
     "data": {
      "text/plain": [
       "<AxesSubplot:>"
      ]
     },
     "execution_count": 27,
     "metadata": {},
     "output_type": "execute_result"
    },
    {
     "data": {
      "image/png": "[encoded data removed]",
      "text/plain": [
       "<Figure size 432x288 with 1 Axes>"
      ]
     },
     "metadata": {},
     "output_type": "display_data"
    }
   ],
   "source": [
    "merged4C['ageYrs'].hist()"
   ]
  },
  {
   "cell_type": "code",
   "execution_count": 28,
   "id": "68ce9182-313f-46ea-835b-f71b93c34957",
   "metadata": {},
   "outputs": [
    {
     "data": {
      "text/plain": [
       "<AxesSubplot:>"
      ]
     },
     "execution_count": 28,
     "metadata": {},
     "output_type": "execute_result"
    },
    {
     "data": {
      "image/png": "[encoded data removed]",
      "text/plain": [
       "<Figure size 432x288 with 1 Axes>"
      ]
     },
     "metadata": {},
     "output_type": "display_data"
    }
   ],
   "source": [
    "merged4C.boxplot('ageYrs')"
   ]
  },
  {
   "cell_type": "code",
   "execution_count": 29,
   "id": "1454eedb-4a0c-4179-80ae-2e2bf5d54816",
   "metadata": {},
   "outputs": [
    {
     "data": {
      "text/plain": [
       "<AxesSubplot:>"
      ]
     },
     "execution_count": 29,
     "metadata": {},
     "output_type": "execute_result"
    },
    {
     "data": {
      "image/png": "[encoded data removed]",
      "text/plain": [
       "<Figure size 432x288 with 1 Axes>"
      ]
     },
     "metadata": {},
     "output_type": "display_data"
    }
   ],
   "source": [
    "merged4C['yrsEmpl'].hist()"
   ]
  },
  {
   "cell_type": "code",
   "execution_count": 30,
   "id": "825b92b1-9a20-4505-8c0d-d9b335fb64d3",
   "metadata": {},
   "outputs": [
    {
     "data": {
      "text/plain": [
       "<AxesSubplot:>"
      ]
     },
     "execution_count": 30,
     "metadata": {},
     "output_type": "execute_result"
    },
    {
     "data": {
      "image/png": "[encoded data removed]",
      "text/plain": [
       "<Figure size 432x288 with 1 Axes>"
      ]
     },
     "metadata": {},
     "output_type": "display_data"
    }
   ],
   "source": [
    "merged4C.boxplot('yrsEmpl')"
   ]
  },
  {
   "cell_type": "code",
   "execution_count": 31,
   "id": "9cd3a9d3-013a-4959-b730-87364b18b926",
   "metadata": {},
   "outputs": [
    {
     "data": {
      "text/plain": [
       "<AxesSubplot:>"
      ]
     },
     "execution_count": 31,
     "metadata": {},
     "output_type": "execute_result"
    },
    {
     "data": {
      "image/png": "[encoded data removed]",
      "text/plain": [
       "<Figure size 432x288 with 1 Axes>"
      ]
     },
     "metadata": {},
     "output_type": "display_data"
    }
   ],
   "source": [
    "merged4C['famSize'].hist()"
   ]
  },
  {
   "cell_type": "code",
   "execution_count": 32,
   "id": "c6b6cc05-130b-439a-a8df-644460f3a7c3",
   "metadata": {},
   "outputs": [
    {
     "data": {
      "text/plain": [
       "<AxesSubplot:>"
      ]
     },
     "execution_count": 32,
     "metadata": {},
     "output_type": "execute_result"
    },
    {
     "data": {
      "image/png": "[encoded data removed]",
      "text/plain": [
       "<Figure size 432x288 with 1 Axes>"
      ]
     },
     "metadata": {},
     "output_type": "display_data"
    }
   ],
   "source": [
    "merged4C.boxplot('famSize')"
   ]
  },
  {
   "cell_type": "markdown",
   "id": "d79173f5-e49e-46a8-baaf-6ef61e10112d",
   "metadata": {},
   "source": [
    "## Categorical Variable Distributions"
   ]
  },
  {
   "cell_type": "code",
   "execution_count": 33,
   "id": "1c83f6eb-9a0a-4f88-8ac6-ea96999cd579",
   "metadata": {},
   "outputs": [
    {
     "data": {
      "text/plain": [
       "<AxesSubplot:>"
      ]
     },
     "execution_count": 33,
     "metadata": {},
     "output_type": "execute_result"
    },
    {
     "data": {
      "image/png": "[encoded data removed]",
      "text/plain": [
       "<Figure size 432x288 with 1 Axes>"
      ]
     },
     "metadata": {},
     "output_type": "display_data"
    }
   ],
   "source": [
    "merged4C['incomeType'].hist(xrot=90)"
   ]
  },
  {
   "cell_type": "code",
   "execution_count": 34,
   "id": "d243a821-434f-4308-8634-20a6a6d923eb",
   "metadata": {},
   "outputs": [
    {
     "data": {
      "text/plain": [
       "<AxesSubplot:>"
      ]
     },
     "execution_count": 34,
     "metadata": {},
     "output_type": "execute_result"
    },
    {
     "data": {
      "image/png": "[encoded data removed]",
      "text/plain": [
       "<Figure size 432x288 with 1 Axes>"
      ]
     },
     "metadata": {},
     "output_type": "display_data"
    }
   ],
   "source": [
    "merged4C['eduLvl'].hist(xrot=90)"
   ]
  },
  {
   "cell_type": "code",
   "execution_count": 35,
   "id": "bfe4b7aa-9629-4769-a251-07c85c51a420",
   "metadata": {},
   "outputs": [
    {
     "data": {
      "text/plain": [
       "<AxesSubplot:>"
      ]
     },
     "execution_count": 35,
     "metadata": {},
     "output_type": "execute_result"
    },
    {
     "data": {
      "image/png": "[encoded data removed]",
      "text/plain": [
       "<Figure size 432x288 with 1 Axes>"
      ]
     },
     "metadata": {},
     "output_type": "display_data"
    }
   ],
   "source": [
    "merged4C['famStatus'].hist(xrot=90)"
   ]
  },
  {
   "cell_type": "code",
   "execution_count": 38,
   "id": "af959a53-8b07-44f6-ade6-cda227d034eb",
   "metadata": {},
   "outputs": [
    {
     "name": "stdout",
     "output_type": "stream",
     "text": [
      "<class 'pandas.core.frame.DataFrame'>\n",
      "Int64Index: 36457 entries, 0 to 171489\n",
      "Data columns (total 16 columns):\n",
      " #   Column       Non-Null Count  Dtype  \n",
      "---  ------       --------------  -----  \n",
      " 0   Unnamed: 0   36457 non-null  int64  \n",
      " 1   ID           36457 non-null  int64  \n",
      " 2   gender       36457 non-null  object \n",
      " 3   ownsCar      36457 non-null  object \n",
      " 4   ownsRealty   36457 non-null  object \n",
      " 5   numChildren  36457 non-null  int64  \n",
      " 6   totalIncome  36457 non-null  float64\n",
      " 7   incomeType   36457 non-null  object \n",
      " 8   eduLvl       36457 non-null  object \n",
      " 9   famStatus    36457 non-null  object \n",
      " 10  housingType  36457 non-null  object \n",
      " 11  famSize      36457 non-null  float64\n",
      " 12  ageYrs       36457 non-null  float64\n",
      " 13  yrsEmpl      36457 non-null  float64\n",
      " 14  UNEMPLOYED   36457 non-null  int64  \n",
      " 15  ApprStatus   36457 non-null  int64  \n",
      "dtypes: float64(4), int64(5), object(7)\n",
      "memory usage: 4.7+ MB\n"
     ]
    }
   ],
   "source": [
    "merged4C.info()"
   ]
  },
  {
   "cell_type": "code",
   "execution_count": 40,
   "id": "5a4f04bf-6bb6-4d32-9029-7dde70dad9a7",
   "metadata": {},
   "outputs": [
    {
     "name": "stdout",
     "output_type": "stream",
     "text": [
      "<class 'pandas.core.frame.DataFrame'>\n",
      "Int64Index: 36457 entries, 0 to 171489\n",
      "Data columns (total 15 columns):\n",
      " #   Column       Non-Null Count  Dtype  \n",
      "---  ------       --------------  -----  \n",
      " 0   ID           36457 non-null  int64  \n",
      " 1   gender       36457 non-null  object \n",
      " 2   ownsCar      36457 non-null  object \n",
      " 3   ownsRealty   36457 non-null  object \n",
      " 4   numChildren  36457 non-null  int64  \n",
      " 5   totalIncome  36457 non-null  float64\n",
      " 6   incomeType   36457 non-null  object \n",
      " 7   eduLvl       36457 non-null  object \n",
      " 8   famStatus    36457 non-null  object \n",
      " 9   housingType  36457 non-null  object \n",
      " 10  famSize      36457 non-null  float64\n",
      " 11  ageYrs       36457 non-null  float64\n",
      " 12  yrsEmpl      36457 non-null  float64\n",
      " 13  UNEMPLOYED   36457 non-null  int64  \n",
      " 14  ApprStatus   36457 non-null  int64  \n",
      "dtypes: float64(4), int64(4), object(7)\n",
      "memory usage: 4.5+ MB\n"
     ]
    }
   ],
   "source": [
    "merged4E.info()"
   ]
  },
  {
   "cell_type": "markdown",
   "id": "b37aa4da-739f-4f8a-9489-dc7ec0f77f01",
   "metadata": {},
   "source": [
    "## Explore Binary Categorical Variables"
   ]
  },
  {
   "cell_type": "code",
   "execution_count": 43,
   "id": "e48bc354-941c-40dc-a8b7-b6a5d5dce701",
   "metadata": {},
   "outputs": [
    {
     "data": {
      "image/png": "[encoded data removed]",
      "text/plain": [
       "<Figure size 720x360 with 2 Axes>"
      ]
     },
     "metadata": {},
     "output_type": "display_data"
    }
   ],
   "source": [
    "# gender, ownsCar dist\n",
    "fig, axes = plt.subplots(1,2)\n",
    "g1 = merged4E.groupby('gender')['gender'].count().plot(kind='pie', y='gender', ax=axes[0])\n",
    "g2 = merged4E.groupby('ownsCar')['ownsCar'].count().plot(kind='pie', y='ownsCar', ax=axes[1])\n",
    "\n",
    "fig.set_size_inches(10,5)\n",
    "\n",
    "plt.tight_layout()"
   ]
  },
  {
   "cell_type": "code",
   "execution_count": 44,
   "id": "57552e64-a43d-42a6-b04f-be94f7381304",
   "metadata": {},
   "outputs": [],
   "source": [
    "# need to balance the M/F variable. Undersample on the F."
   ]
  },
  {
   "cell_type": "code",
   "execution_count": null,
   "id": "d7baff02-d887-49eb-b975-21d7898054ad",
   "metadata": {},
   "outputs": [],
   "source": []
  },
  {
   "cell_type": "code",
   "execution_count": 45,
   "id": "a48280b6-23af-45a8-b610-d7fd84cbb42f",
   "metadata": {},
   "outputs": [
    {
     "data": {
      "image/png": "[encoded data removed]",
      "text/plain": [
       "<Figure size 432x288 with 1 Axes>"
      ]
     },
     "metadata": {},
     "output_type": "display_data"
    }
   ],
   "source": [
    "# ownsRealty \n",
    "\n",
    "g3 = merged4E.groupby('ownsRealty')['ownsRealty'].count().plot(kind='pie', y='ownsRealty')"
   ]
  },
  {
   "cell_type": "code",
   "execution_count": 46,
   "id": "bfc3fe9f-2e48-4342-88cd-ebec5fca374d",
   "metadata": {},
   "outputs": [
    {
     "data": {
      "image/png": "[encoded data removed]",
      "text/plain": [
       "<Figure size 432x288 with 1 Axes>"
      ]
     },
     "metadata": {},
     "output_type": "display_data"
    }
   ],
   "source": [
    "g4 = merged4E.groupby('ApprStatus')['ApprStatus'].count().plot(kind='pie', y='ApprovalStatus')"
   ]
  },
  {
   "cell_type": "code",
   "execution_count": 47,
   "id": "9f8f3212-26a6-4875-843f-aabac3b9a0ea",
   "metadata": {},
   "outputs": [
    {
     "data": {
      "image/png": "[encoded data removed]",
      "text/plain": [
       "<Figure size 432x288 with 1 Axes>"
      ]
     },
     "metadata": {},
     "output_type": "display_data"
    }
   ],
   "source": [
    "g5 = merged4E.groupby('UNEMPLOYED')['UNEMPLOYED'].count().plot(kind='pie', y='UNEMPLOYED')"
   ]
  },
  {
   "cell_type": "code",
   "execution_count": 48,
   "id": "2f67675a-3fbc-45d5-8f55-55b00d6ca0e4",
   "metadata": {},
   "outputs": [
    {
     "data": {
      "text/plain": [
       "1    36334\n",
       "0      123\n",
       "Name: ApprStatus, dtype: int64"
      ]
     },
     "execution_count": 48,
     "metadata": {},
     "output_type": "execute_result"
    }
   ],
   "source": [
    "merged4E.ApprStatus.value_counts()"
   ]
  },
  {
   "cell_type": "code",
   "execution_count": null,
   "id": "c368c08e-5ee4-485e-b260-bc1162538b52",
   "metadata": {},
   "outputs": [],
   "source": []
  },
  {
   "cell_type": "code",
   "execution_count": null,
   "id": "6825c44d-b7e5-479c-85b9-285452aaf6ca",
   "metadata": {},
   "outputs": [],
   "source": []
  },
  {
   "cell_type": "code",
   "execution_count": 49,
   "id": "ca81974e-2401-477b-a330-644617efd544",
   "metadata": {},
   "outputs": [
    {
     "data": {
      "image/png": "[encoded data removed]",
      "text/plain": [
       "<Figure size 1080x360 with 2 Axes>"
      ]
     },
     "metadata": {},
     "output_type": "display_data"
    }
   ],
   "source": [
    "# Income type, family status distributions\n",
    "\n",
    "fig, axes = plt.subplots(1,2)\n",
    "\n",
    "incTDist=sns.countplot(y=merged4E.incomeType,linewidth=1.2, ax=axes[0])\n",
    "incTDist.set_title(\"Applicant Distribution by Income Type\")\n",
    "incTDist.set_xlabel(\"Count\")\n",
    "\n",
    "famDist=sns.countplot(y=merged4E.famStatus,linewidth=1.2, ax=axes[1])\n",
    "famDist.set_title(\"Applicant Distribution by Family Status\")\n",
    "famDist.set_xlabel(\"Count\")\n",
    "\n",
    "fig.set_size_inches(15,5)\n",
    "\n",
    "plt.tight_layout()"
   ]
  },
  {
   "cell_type": "code",
   "execution_count": 50,
   "id": "07a5e229-dc9b-4466-93b5-40e5a83880d5",
   "metadata": {},
   "outputs": [
    {
     "data": {
      "image/png": "[encoded data removed]",
      "text/plain": [
       "<Figure size 1080x360 with 2 Axes>"
      ]
     },
     "metadata": {},
     "output_type": "display_data"
    }
   ],
   "source": [
    "# education type, housing type\n",
    "\n",
    "fig, axes = plt.subplots(1,2)\n",
    "\n",
    "eduTDist=sns.countplot(y=merged4E.eduLvl,linewidth=1.2, ax=axes[0])\n",
    "eduTDist.set_title(\"Applicant Distribution by Education Level\")\n",
    "eduTDist.set_xlabel(\"Count\")\n",
    "\n",
    "houDist=sns.countplot(y=merged4E.housingType,linewidth=1.2, ax=axes[1])\n",
    "houDist.set_title(\"Applicant Distribution by Housing Type\")\n",
    "houDist.set_xlabel(\"Count\")\n",
    "\n",
    "fig.set_size_inches(15,5)\n",
    "\n",
    "plt.tight_layout()"
   ]
  },
  {
   "cell_type": "markdown",
   "id": "3031e214-170f-4046-9ae4-e6bd4d4a0f67",
   "metadata": {},
   "source": [
    "### Our benchmark to compare our ML model to is that 99.6% of applicants in this dataset would be approved for a credit card, and 0.40% would be considered too risky, and thus rejected."
   ]
  },
  {
   "cell_type": "code",
   "execution_count": 16,
   "id": "fe457eed-0160-4ad3-bbe6-796fd0019d68",
   "metadata": {},
   "outputs": [],
   "source": [
    "recordsExplore = pd.read_csv('../Data/credit_record.csv')"
   ]
  },
  {
   "cell_type": "code",
   "execution_count": 17,
   "id": "e7f09bc5-030b-4dbe-8696-34094df1f644",
   "metadata": {},
   "outputs": [
    {
     "data": {
      "text/html": [
       "<div>\n",
       "<style scoped>\n",
       "    .dataframe tbody tr th:only-of-type {\n",
       "        vertical-align: middle;\n",
       "    }\n",
       "\n",
       "    .dataframe tbody tr th {\n",
       "        vertical-align: top;\n",
       "    }\n",
       "\n",
       "    .dataframe thead th {\n",
       "        text-align: right;\n",
       "    }\n",
       "</style>\n",
       "<table border=\"1\" class=\"dataframe\">\n",
       "  <thead>\n",
       "    <tr style=\"text-align: right;\">\n",
       "      <th></th>\n",
       "      <th>ID</th>\n",
       "      <th>MONTHS_BALANCE</th>\n",
       "      <th>STATUS</th>\n",
       "    </tr>\n",
       "  </thead>\n",
       "  <tbody>\n",
       "    <tr>\n",
       "      <th>0</th>\n",
       "      <td>5001711</td>\n",
       "      <td>0</td>\n",
       "      <td>X</td>\n",
       "    </tr>\n",
       "    <tr>\n",
       "      <th>1</th>\n",
       "      <td>5001711</td>\n",
       "      <td>-1</td>\n",
       "      <td>0</td>\n",
       "    </tr>\n",
       "    <tr>\n",
       "      <th>2</th>\n",
       "      <td>5001711</td>\n",
       "      <td>-2</td>\n",
       "      <td>0</td>\n",
       "    </tr>\n",
       "    <tr>\n",
       "      <th>3</th>\n",
       "      <td>5001711</td>\n",
       "      <td>-3</td>\n",
       "      <td>0</td>\n",
       "    </tr>\n",
       "    <tr>\n",
       "      <th>4</th>\n",
       "      <td>5001712</td>\n",
       "      <td>0</td>\n",
       "      <td>C</td>\n",
       "    </tr>\n",
       "  </tbody>\n",
       "</table>\n",
       "</div>"
      ],
      "text/plain": [
       "        ID  MONTHS_BALANCE STATUS\n",
       "0  5001711               0      X\n",
       "1  5001711              -1      0\n",
       "2  5001711              -2      0\n",
       "3  5001711              -3      0\n",
       "4  5001712               0      C"
      ]
     },
     "execution_count": 17,
     "metadata": {},
     "output_type": "execute_result"
    }
   ],
   "source": [
    "recordsExplore.head()"
   ]
  },
  {
   "cell_type": "code",
   "execution_count": 19,
   "id": "2b9ba446-bc4e-4a2b-afed-55ab735405e9",
   "metadata": {},
   "outputs": [
    {
     "data": {
      "text/html": [
       "<div>\n",
       "<style scoped>\n",
       "    .dataframe tbody tr th:only-of-type {\n",
       "        vertical-align: middle;\n",
       "    }\n",
       "\n",
       "    .dataframe tbody tr th {\n",
       "        vertical-align: top;\n",
       "    }\n",
       "\n",
       "    .dataframe thead th {\n",
       "        text-align: right;\n",
       "    }\n",
       "</style>\n",
       "<table border=\"1\" class=\"dataframe\">\n",
       "  <thead>\n",
       "    <tr style=\"text-align: right;\">\n",
       "      <th></th>\n",
       "      <th>ID</th>\n",
       "      <th>STATUS</th>\n",
       "      <th>Freq</th>\n",
       "    </tr>\n",
       "  </thead>\n",
       "  <tbody>\n",
       "    <tr>\n",
       "      <th>0</th>\n",
       "      <td>5001711</td>\n",
       "      <td>0</td>\n",
       "      <td>3</td>\n",
       "    </tr>\n",
       "    <tr>\n",
       "      <th>1</th>\n",
       "      <td>5001711</td>\n",
       "      <td>X</td>\n",
       "      <td>1</td>\n",
       "    </tr>\n",
       "    <tr>\n",
       "      <th>2</th>\n",
       "      <td>5001712</td>\n",
       "      <td>0</td>\n",
       "      <td>10</td>\n",
       "    </tr>\n",
       "    <tr>\n",
       "      <th>3</th>\n",
       "      <td>5001712</td>\n",
       "      <td>C</td>\n",
       "      <td>9</td>\n",
       "    </tr>\n",
       "    <tr>\n",
       "      <th>4</th>\n",
       "      <td>5001713</td>\n",
       "      <td>X</td>\n",
       "      <td>22</td>\n",
       "    </tr>\n",
       "    <tr>\n",
       "      <th>...</th>\n",
       "      <td>...</td>\n",
       "      <td>...</td>\n",
       "      <td>...</td>\n",
       "    </tr>\n",
       "    <tr>\n",
       "      <th>94138</th>\n",
       "      <td>5150483</td>\n",
       "      <td>X</td>\n",
       "      <td>18</td>\n",
       "    </tr>\n",
       "    <tr>\n",
       "      <th>94139</th>\n",
       "      <td>5150484</td>\n",
       "      <td>0</td>\n",
       "      <td>12</td>\n",
       "    </tr>\n",
       "    <tr>\n",
       "      <th>94140</th>\n",
       "      <td>5150484</td>\n",
       "      <td>C</td>\n",
       "      <td>1</td>\n",
       "    </tr>\n",
       "    <tr>\n",
       "      <th>94141</th>\n",
       "      <td>5150485</td>\n",
       "      <td>0</td>\n",
       "      <td>2</td>\n",
       "    </tr>\n",
       "    <tr>\n",
       "      <th>94142</th>\n",
       "      <td>5150487</td>\n",
       "      <td>C</td>\n",
       "      <td>30</td>\n",
       "    </tr>\n",
       "  </tbody>\n",
       "</table>\n",
       "<p>94143 rows × 3 columns</p>\n",
       "</div>"
      ],
      "text/plain": [
       "            ID STATUS  Freq\n",
       "0      5001711      0     3\n",
       "1      5001711      X     1\n",
       "2      5001712      0    10\n",
       "3      5001712      C     9\n",
       "4      5001713      X    22\n",
       "...        ...    ...   ...\n",
       "94138  5150483      X    18\n",
       "94139  5150484      0    12\n",
       "94140  5150484      C     1\n",
       "94141  5150485      0     2\n",
       "94142  5150487      C    30\n",
       "\n",
       "[94143 rows x 3 columns]"
      ]
     },
     "execution_count": 19,
     "metadata": {},
     "output_type": "execute_result"
    }
   ],
   "source": [
    "# show the frequency of each Status type for every ID\n",
    "recordsEx2 = pd.DataFrame(recordsExplore.groupby([\"ID\", \"STATUS\"])[\"STATUS\"].count()).rename(columns={'STATUS': 'Freq'}).reset_index()\n",
    "recordsEx2"
   ]
  },
  {
   "cell_type": "code",
   "execution_count": 22,
   "id": "e912ddc3-badc-4e7a-a3db-09018ca2a1ac",
   "metadata": {},
   "outputs": [
    {
     "data": {
      "image/png": "[encoded data removed]",
      "text/plain": [
       "<Figure size 432x288 with 1 Axes>"
      ]
     },
     "metadata": {},
     "output_type": "display_data"
    }
   ],
   "source": [
    "# plot status types\n",
    "g8 = recordsEx2.groupby('STATUS')['STATUS'].count().plot(kind='pie', y='STATUS')\n"
   ]
  },
  {
   "cell_type": "markdown",
   "id": "fa952ae1-0f6d-4fae-b669-47833af57504",
   "metadata": {},
   "source": [
    "#### The majority of the applicants are paid up to date, have a 0 balance, or are overdue on payment by 1-29 days."
   ]
  },
  {
   "cell_type": "code",
   "execution_count": null,
   "id": "cb94fa4f-af67-4217-8977-971d1d73753f",
   "metadata": {},
   "outputs": [],
   "source": []
  }
 ],
 "metadata": {
  "kernelspec": {
   "display_name": "Python 3 (ipykernel)",
   "language": "python",
   "name": "python3"
  },
  "language_info": {
   "codemirror_mode": {
    "name": "ipython",
    "version": 3
   },
   "file_extension": ".py",
   "mimetype": "text/x-python",
   "name": "python",
   "nbconvert_exporter": "python",
   "pygments_lexer": "ipython3",
   "version": "3.10.4"
  }
 },
 "nbformat": 4,
 "nbformat_minor": 5
}
