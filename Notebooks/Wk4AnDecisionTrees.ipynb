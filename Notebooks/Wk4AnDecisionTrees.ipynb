{
 "cells": [
  {
   "cell_type": "markdown",
   "id": "a474ff5d-02ef-4e89-bf74-444e8bac7cf1",
   "metadata": {},
   "source": [
    "# Week 4 Analyze Data"
   ]
  },
  {
   "cell_type": "code",
   "execution_count": 28,
   "id": "87c2ee55-d5b2-48ab-8f81-3501b8078739",
   "metadata": {},
   "outputs": [],
   "source": [
    "# Import Packages\n",
    "#Basics\n",
    "import numpy as np\n",
    "import pandas as pd\n",
    "import matplotlib.pyplot as plt\n",
    "%matplotlib inline\n",
    "import seaborn as sns\n",
    "import plotly as py\n",
    "import datetime as dt\n",
    "import scipy as scp\n",
    "from scipy.stats import ttest_ind\n",
    "from scipy import stats\n",
    "\n",
    "#linear regression\n",
    "from pylab import *\n",
    "import statsmodels.api as sm\n",
    "import statsmodels.stats.api as sms\n",
    "\n",
    "\n",
    "#Machine Learning\n",
    "from sklearn.ensemble import RandomForestClassifier\n",
    "from sklearn.linear_model import LinearRegression\n",
    "from sklearn.cluster import KMeans\n",
    "from sklearn.preprocessing import StandardScaler\n",
    "from sklearn.neighbors import KNeighborsClassifier\n",
    "from sklearn.model_selection import train_test_split\n",
    "from sklearn.metrics import accuracy_score, classification_report, confusion_matrix, recall_score, precision_score, f1_score, roc_auc_score\n",
    "from sklearn.linear_model import LogisticRegression\n",
    "from sklearn.tree import DecisionTreeClassifier\n",
    "from sklearn.model_selection import RandomizedSearchCV\n",
    "\n",
    "###scikit Learn Modules needed for Logistic Regression\n",
    "from sklearn.linear_model import LogisticRegression\n",
    "from sklearn.model_selection import train_test_split,GridSearchCV\n",
    "from sklearn.preprocessing import LabelEncoder,MinMaxScaler,OneHotEncoder,StandardScaler\n",
    "from sklearn.preprocessing import LabelEncoder,MinMaxScaler,OneHotEncoder,StandardScaler \n",
    "from sklearn.metrics import confusion_matrix\n",
    "from sklearn.impute import SimpleImputer\n",
    "from sklearn.pipeline import Pipeline\n",
    "from sklearn.compose import ColumnTransformer\n",
    "\n",
    "#for plotting\n",
    "import matplotlib.pyplot as plt\n",
    "import seaborn as sns\n",
    "%matplotlib inline\n",
    "sns.set(color_codes=True)\n",
    "\n",
    "import warnings\n",
    "warnings.filterwarnings('ignore')"
   ]
  },
  {
   "cell_type": "code",
   "execution_count": 2,
   "id": "a908ce91-04e2-41c6-8bf3-a83b3d1a45fc",
   "metadata": {},
   "outputs": [],
   "source": [
    "# import dummy coded data\n",
    "cleanDummy = pd.read_csv('../Data/cleanDummy.csv')"
   ]
  },
  {
   "cell_type": "code",
   "execution_count": 3,
   "id": "9224dba6-42fe-4a6d-8c28-7b9d15a911af",
   "metadata": {},
   "outputs": [
    {
     "data": {
      "text/html": [
       "<div>\n",
       "<style scoped>\n",
       "    .dataframe tbody tr th:only-of-type {\n",
       "        vertical-align: middle;\n",
       "    }\n",
       "\n",
       "    .dataframe tbody tr th {\n",
       "        vertical-align: top;\n",
       "    }\n",
       "\n",
       "    .dataframe thead th {\n",
       "        text-align: right;\n",
       "    }\n",
       "</style>\n",
       "<table border=\"1\" class=\"dataframe\">\n",
       "  <thead>\n",
       "    <tr style=\"text-align: right;\">\n",
       "      <th></th>\n",
       "      <th>Unnamed: 0</th>\n",
       "      <th>totalIncome</th>\n",
       "      <th>famSize</th>\n",
       "      <th>ageYrs</th>\n",
       "      <th>yrsEmpl</th>\n",
       "      <th>UNEMPLOYED</th>\n",
       "      <th>ApprStatus</th>\n",
       "      <th>genderR</th>\n",
       "      <th>ownsCarR</th>\n",
       "      <th>ownsRealtyR</th>\n",
       "      <th>eduLvlR</th>\n",
       "      <th>incomeTypeR</th>\n",
       "      <th>housingTypeR</th>\n",
       "      <th>famStatusR</th>\n",
       "    </tr>\n",
       "  </thead>\n",
       "  <tbody>\n",
       "    <tr>\n",
       "      <th>0</th>\n",
       "      <td>0</td>\n",
       "      <td>427500</td>\n",
       "      <td>2</td>\n",
       "      <td>33</td>\n",
       "      <td>12</td>\n",
       "      <td>1</td>\n",
       "      <td>1</td>\n",
       "      <td>1</td>\n",
       "      <td>1</td>\n",
       "      <td>1</td>\n",
       "      <td>0</td>\n",
       "      <td>0</td>\n",
       "      <td>0</td>\n",
       "      <td>0</td>\n",
       "    </tr>\n",
       "    <tr>\n",
       "      <th>1</th>\n",
       "      <td>31</td>\n",
       "      <td>112500</td>\n",
       "      <td>2</td>\n",
       "      <td>59</td>\n",
       "      <td>3</td>\n",
       "      <td>1</td>\n",
       "      <td>1</td>\n",
       "      <td>1</td>\n",
       "      <td>1</td>\n",
       "      <td>1</td>\n",
       "      <td>1</td>\n",
       "      <td>0</td>\n",
       "      <td>1</td>\n",
       "      <td>1</td>\n",
       "    </tr>\n",
       "    <tr>\n",
       "      <th>2</th>\n",
       "      <td>61</td>\n",
       "      <td>270000</td>\n",
       "      <td>1</td>\n",
       "      <td>53</td>\n",
       "      <td>8</td>\n",
       "      <td>1</td>\n",
       "      <td>1</td>\n",
       "      <td>0</td>\n",
       "      <td>0</td>\n",
       "      <td>1</td>\n",
       "      <td>1</td>\n",
       "      <td>1</td>\n",
       "      <td>1</td>\n",
       "      <td>2</td>\n",
       "    </tr>\n",
       "    <tr>\n",
       "      <th>3</th>\n",
       "      <td>137</td>\n",
       "      <td>283500</td>\n",
       "      <td>1</td>\n",
       "      <td>62</td>\n",
       "      <td>0</td>\n",
       "      <td>0</td>\n",
       "      <td>0</td>\n",
       "      <td>0</td>\n",
       "      <td>0</td>\n",
       "      <td>1</td>\n",
       "      <td>0</td>\n",
       "      <td>2</td>\n",
       "      <td>1</td>\n",
       "      <td>3</td>\n",
       "    </tr>\n",
       "    <tr>\n",
       "      <th>4</th>\n",
       "      <td>188</td>\n",
       "      <td>270000</td>\n",
       "      <td>2</td>\n",
       "      <td>47</td>\n",
       "      <td>2</td>\n",
       "      <td>1</td>\n",
       "      <td>0</td>\n",
       "      <td>1</td>\n",
       "      <td>1</td>\n",
       "      <td>1</td>\n",
       "      <td>0</td>\n",
       "      <td>0</td>\n",
       "      <td>1</td>\n",
       "      <td>1</td>\n",
       "    </tr>\n",
       "  </tbody>\n",
       "</table>\n",
       "</div>"
      ],
      "text/plain": [
       "   Unnamed: 0  totalIncome  famSize  ageYrs  yrsEmpl  UNEMPLOYED  ApprStatus  \\\n",
       "0           0       427500        2      33       12           1           1   \n",
       "1          31       112500        2      59        3           1           1   \n",
       "2          61       270000        1      53        8           1           1   \n",
       "3         137       283500        1      62        0           0           0   \n",
       "4         188       270000        2      47        2           1           0   \n",
       "\n",
       "   genderR  ownsCarR  ownsRealtyR  eduLvlR  incomeTypeR  housingTypeR  \\\n",
       "0        1         1            1        0            0             0   \n",
       "1        1         1            1        1            0             1   \n",
       "2        0         0            1        1            1             1   \n",
       "3        0         0            1        0            2             1   \n",
       "4        1         1            1        0            0             1   \n",
       "\n",
       "   famStatusR  \n",
       "0           0  \n",
       "1           1  \n",
       "2           2  \n",
       "3           3  \n",
       "4           1  "
      ]
     },
     "execution_count": 3,
     "metadata": {},
     "output_type": "execute_result"
    }
   ],
   "source": [
    "cleanDummy.head()"
   ]
  },
  {
   "cell_type": "code",
   "execution_count": 3,
   "id": "5c0302c0-a30e-4e18-8f30-c75b8d36e8be",
   "metadata": {},
   "outputs": [],
   "source": [
    "# Drop Unnamed:0 col\n",
    "cleanDummy.drop('Unnamed: 0', axis=1, inplace=True) "
   ]
  },
  {
   "cell_type": "code",
   "execution_count": 4,
   "id": "4c6e44c6-0075-4b3d-a479-d048c69fde95",
   "metadata": {},
   "outputs": [
    {
     "data": {
      "text/html": [
       "<div>\n",
       "<style scoped>\n",
       "    .dataframe tbody tr th:only-of-type {\n",
       "        vertical-align: middle;\n",
       "    }\n",
       "\n",
       "    .dataframe tbody tr th {\n",
       "        vertical-align: top;\n",
       "    }\n",
       "\n",
       "    .dataframe thead th {\n",
       "        text-align: right;\n",
       "    }\n",
       "</style>\n",
       "<table border=\"1\" class=\"dataframe\">\n",
       "  <thead>\n",
       "    <tr style=\"text-align: right;\">\n",
       "      <th></th>\n",
       "      <th>totalIncome</th>\n",
       "      <th>famSize</th>\n",
       "      <th>ageYrs</th>\n",
       "      <th>yrsEmpl</th>\n",
       "      <th>UNEMPLOYED</th>\n",
       "      <th>ApprStatus</th>\n",
       "      <th>genderR</th>\n",
       "      <th>ownsCarR</th>\n",
       "      <th>ownsRealtyR</th>\n",
       "      <th>eduLvlR</th>\n",
       "      <th>incomeTypeR</th>\n",
       "      <th>housingTypeR</th>\n",
       "      <th>famStatusR</th>\n",
       "    </tr>\n",
       "  </thead>\n",
       "  <tbody>\n",
       "    <tr>\n",
       "      <th>0</th>\n",
       "      <td>427500</td>\n",
       "      <td>2</td>\n",
       "      <td>33</td>\n",
       "      <td>12</td>\n",
       "      <td>1</td>\n",
       "      <td>1</td>\n",
       "      <td>1</td>\n",
       "      <td>1</td>\n",
       "      <td>1</td>\n",
       "      <td>0</td>\n",
       "      <td>0</td>\n",
       "      <td>0</td>\n",
       "      <td>0</td>\n",
       "    </tr>\n",
       "    <tr>\n",
       "      <th>1</th>\n",
       "      <td>112500</td>\n",
       "      <td>2</td>\n",
       "      <td>59</td>\n",
       "      <td>3</td>\n",
       "      <td>1</td>\n",
       "      <td>1</td>\n",
       "      <td>1</td>\n",
       "      <td>1</td>\n",
       "      <td>1</td>\n",
       "      <td>1</td>\n",
       "      <td>0</td>\n",
       "      <td>1</td>\n",
       "      <td>1</td>\n",
       "    </tr>\n",
       "    <tr>\n",
       "      <th>2</th>\n",
       "      <td>270000</td>\n",
       "      <td>1</td>\n",
       "      <td>53</td>\n",
       "      <td>8</td>\n",
       "      <td>1</td>\n",
       "      <td>1</td>\n",
       "      <td>0</td>\n",
       "      <td>0</td>\n",
       "      <td>1</td>\n",
       "      <td>1</td>\n",
       "      <td>1</td>\n",
       "      <td>1</td>\n",
       "      <td>2</td>\n",
       "    </tr>\n",
       "    <tr>\n",
       "      <th>3</th>\n",
       "      <td>283500</td>\n",
       "      <td>1</td>\n",
       "      <td>62</td>\n",
       "      <td>0</td>\n",
       "      <td>0</td>\n",
       "      <td>0</td>\n",
       "      <td>0</td>\n",
       "      <td>0</td>\n",
       "      <td>1</td>\n",
       "      <td>0</td>\n",
       "      <td>2</td>\n",
       "      <td>1</td>\n",
       "      <td>3</td>\n",
       "    </tr>\n",
       "    <tr>\n",
       "      <th>4</th>\n",
       "      <td>270000</td>\n",
       "      <td>2</td>\n",
       "      <td>47</td>\n",
       "      <td>2</td>\n",
       "      <td>1</td>\n",
       "      <td>0</td>\n",
       "      <td>1</td>\n",
       "      <td>1</td>\n",
       "      <td>1</td>\n",
       "      <td>0</td>\n",
       "      <td>0</td>\n",
       "      <td>1</td>\n",
       "      <td>1</td>\n",
       "    </tr>\n",
       "  </tbody>\n",
       "</table>\n",
       "</div>"
      ],
      "text/plain": [
       "   totalIncome  famSize  ageYrs  yrsEmpl  UNEMPLOYED  ApprStatus  genderR  \\\n",
       "0       427500        2      33       12           1           1        1   \n",
       "1       112500        2      59        3           1           1        1   \n",
       "2       270000        1      53        8           1           1        0   \n",
       "3       283500        1      62        0           0           0        0   \n",
       "4       270000        2      47        2           1           0        1   \n",
       "\n",
       "   ownsCarR  ownsRealtyR  eduLvlR  incomeTypeR  housingTypeR  famStatusR  \n",
       "0         1            1        0            0             0           0  \n",
       "1         1            1        1            0             1           1  \n",
       "2         0            1        1            1             1           2  \n",
       "3         0            1        0            2             1           3  \n",
       "4         1            1        0            0             1           1  "
      ]
     },
     "execution_count": 4,
     "metadata": {},
     "output_type": "execute_result"
    }
   ],
   "source": [
    "cleanDummy.head()"
   ]
  },
  {
   "cell_type": "markdown",
   "id": "543b00e0-489a-4dc2-8279-40533981cbaa",
   "metadata": {},
   "source": [
    "# Part 1: Decision Tree and Random Forest to Predict CC Approval (Original Data)"
   ]
  },
  {
   "cell_type": "code",
   "execution_count": 5,
   "id": "2fa0e2a3-a87a-4e58-8c43-13d2ed473997",
   "metadata": {},
   "outputs": [],
   "source": [
    "# Handling Continuous Variable outliers\n",
    "def dropOL(ftr):\n",
    "    q75,q25 = np.percentile(cleanDummy[ftr],[75,25])\n",
    "    intr_qr = q75-q25\n",
    "    mx = q75+(1.5*intr_qr)\n",
    "    mn = q25-(1.5*intr_qr)\n",
    "    return mx,mn"
   ]
  },
  {
   "cell_type": "code",
   "execution_count": null,
   "id": "f3e48786-faed-4961-8e94-f8c337c1c864",
   "metadata": {},
   "outputs": [
    {
     "data": {
      "text/plain": [
       "<AxesSubplot:>"
      ]
     },
     "execution_count": 6,
     "metadata": {},
     "output_type": "execute_result"
    },
    {
     "data": {
      "image/png": "[encoded data removed]",
      "text/plain": [
       "<Figure size 432x288 with 1 Axes>"
      ]
     },
     "metadata": {},
     "output_type": "display_data"
    }
   ],
   "source": [
    "# total income original boxplot\n",
    "cleanDummy.boxplot('totalIncome')"
   ]
  },
  {
   "cell_type": "code",
   "execution_count": 7,
   "id": "7102de90-e0d6-4dc1-8a77-963ca1ed7ba1",
   "metadata": {},
   "outputs": [],
   "source": [
    "# Drop outliers for totalIncome \n",
    "mx,mn = dropOL('totalIncome')"
   ]
  },
  {
   "cell_type": "code",
   "execution_count": 8,
   "id": "e5f450f3-aaa9-46c7-af99-24dc44f13dc3",
   "metadata": {},
   "outputs": [],
   "source": [
    "cleanDummy.drop(cleanDummy[cleanDummy.totalIncome > mx].index,inplace=True)"
   ]
  },
  {
   "cell_type": "code",
   "execution_count": 9,
   "id": "4037357a-9447-4808-9caf-0a24379192fc",
   "metadata": {},
   "outputs": [
    {
     "data": {
      "text/plain": [
       "<AxesSubplot:>"
      ]
     },
     "execution_count": 9,
     "metadata": {},
     "output_type": "execute_result"
    },
    {
     "data": {
      "image/png": "[encoded data removed]",
      "text/plain": [
       "<Figure size 432x288 with 1 Axes>"
      ]
     },
     "metadata": {},
     "output_type": "display_data"
    }
   ],
   "source": [
    "cleanDummy.boxplot('totalIncome')"
   ]
  },
  {
   "cell_type": "code",
   "execution_count": 10,
   "id": "111a11c9-5252-4821-8d91-6fbede11f072",
   "metadata": {},
   "outputs": [
    {
     "data": {
      "text/plain": [
       "<AxesSubplot:>"
      ]
     },
     "execution_count": 10,
     "metadata": {},
     "output_type": "execute_result"
    },
    {
     "data": {
      "image/png": "[encoded data removed]",
      "text/plain": [
       "<Figure size 432x288 with 1 Axes>"
      ]
     },
     "metadata": {},
     "output_type": "display_data"
    }
   ],
   "source": [
    "# family size original boxplot\n",
    "cleanDummy.boxplot('famSize')"
   ]
  },
  {
   "cell_type": "code",
   "execution_count": 11,
   "id": "8524e1e3-1415-4cbb-92a7-a41b6c637bbf",
   "metadata": {},
   "outputs": [],
   "source": [
    "mx,mn = dropOL('famSize')"
   ]
  },
  {
   "cell_type": "code",
   "execution_count": 12,
   "id": "8ac1a554-988e-482c-8a1b-f3c1e750ee5e",
   "metadata": {},
   "outputs": [],
   "source": [
    "cleanDummy.drop(cleanDummy[cleanDummy.famSize > mx].index,inplace=True)"
   ]
  },
  {
   "cell_type": "code",
   "execution_count": 13,
   "id": "e7476dcf-364d-4118-afa1-bbda44962c4c",
   "metadata": {},
   "outputs": [
    {
     "data": {
      "text/plain": [
       "<AxesSubplot:>"
      ]
     },
     "execution_count": 13,
     "metadata": {},
     "output_type": "execute_result"
    },
    {
     "data": {
      "image/png": "[encoded data removed]",
      "text/plain": [
       "<Figure size 432x288 with 1 Axes>"
      ]
     },
     "metadata": {},
     "output_type": "display_data"
    }
   ],
   "source": [
    "cleanDummy.boxplot('famSize')"
   ]
  },
  {
   "cell_type": "code",
   "execution_count": 14,
   "id": "0647c407-33ac-4700-bc58-59f8b9637645",
   "metadata": {},
   "outputs": [
    {
     "data": {
      "text/plain": [
       "<AxesSubplot:>"
      ]
     },
     "execution_count": 14,
     "metadata": {},
     "output_type": "execute_result"
    },
    {
     "data": {
      "image/png": "[encoded data removed]",
      "text/plain": [
       "<Figure size 432x288 with 1 Axes>"
      ]
     },
     "metadata": {},
     "output_type": "display_data"
    }
   ],
   "source": [
    "# years employed original boxplot\n",
    "cleanDummy.boxplot('yrsEmpl')"
   ]
  },
  {
   "cell_type": "code",
   "execution_count": 15,
   "id": "f8d77e74-a4b9-456d-baa8-50d28abe8a53",
   "metadata": {},
   "outputs": [],
   "source": [
    "mx,mn = dropOL('yrsEmpl')"
   ]
  },
  {
   "cell_type": "code",
   "execution_count": 16,
   "id": "4110ace6-c46f-4624-a7a0-00d9f32eb9e3",
   "metadata": {},
   "outputs": [],
   "source": [
    "cleanDummy.drop(cleanDummy[cleanDummy.yrsEmpl > mx].index,inplace=True)"
   ]
  },
  {
   "cell_type": "code",
   "execution_count": 17,
   "id": "f8b7a9e0-457b-465c-8ca6-08692333c898",
   "metadata": {},
   "outputs": [
    {
     "data": {
      "text/plain": [
       "<AxesSubplot:>"
      ]
     },
     "execution_count": 17,
     "metadata": {},
     "output_type": "execute_result"
    },
    {
     "data": {
      "image/png": "[encoded data removed]",
      "text/plain": [
       "<Figure size 432x288 with 1 Axes>"
      ]
     },
     "metadata": {},
     "output_type": "display_data"
    }
   ],
   "source": [
    "cleanDummy.boxplot('yrsEmpl')"
   ]
  },
  {
   "cell_type": "code",
   "execution_count": 18,
   "id": "c6cda6eb-5516-4d77-b9cf-545429bc37ca",
   "metadata": {},
   "outputs": [],
   "source": [
    "# save dummy file without outliers\n",
    "cleanDummy.to_csv(\"../Data/cleanDummyDropOL.csv\")"
   ]
  },
  {
   "cell_type": "code",
   "execution_count": 19,
   "id": "c9354893-76f4-4e5a-8c26-750257b32c44",
   "metadata": {},
   "outputs": [
    {
     "name": "stdout",
     "output_type": "stream",
     "text": [
      "<class 'pandas.core.frame.DataFrame'>\n",
      "Int64Index: 11978 entries, 1 to 13305\n",
      "Data columns (total 13 columns):\n",
      " #   Column        Non-Null Count  Dtype\n",
      "---  ------        --------------  -----\n",
      " 0   totalIncome   11978 non-null  int64\n",
      " 1   famSize       11978 non-null  int64\n",
      " 2   ageYrs        11978 non-null  int64\n",
      " 3   yrsEmpl       11978 non-null  int64\n",
      " 4   UNEMPLOYED    11978 non-null  int64\n",
      " 5   ApprStatus    11978 non-null  int64\n",
      " 6   genderR       11978 non-null  int64\n",
      " 7   ownsCarR      11978 non-null  int64\n",
      " 8   ownsRealtyR   11978 non-null  int64\n",
      " 9   eduLvlR       11978 non-null  int64\n",
      " 10  incomeTypeR   11978 non-null  int64\n",
      " 11  housingTypeR  11978 non-null  int64\n",
      " 12  famStatusR    11978 non-null  int64\n",
      "dtypes: int64(13)\n",
      "memory usage: 1.3 MB\n"
     ]
    }
   ],
   "source": [
    "cleanDummy.info()"
   ]
  },
  {
   "cell_type": "markdown",
   "id": "2cb827d4-97d4-487c-84c3-03a320588a76",
   "metadata": {},
   "source": [
    "# Random Forests Analysis to Predict Applicant Approval"
   ]
  },
  {
   "cell_type": "markdown",
   "id": "6ca7688d-38fe-40ba-b771-b8d8b783ab82",
   "metadata": {},
   "source": [
    "### Single decision tree model"
   ]
  },
  {
   "cell_type": "code",
   "execution_count": 20,
   "id": "6c9b75a9-d592-439e-b108-5be57e7629c3",
   "metadata": {},
   "outputs": [],
   "source": [
    "# train-test-split \n",
    "X = cleanDummy.drop('ApprStatus', axis=1)\n",
    "y = cleanDummy['ApprStatus']\n",
    "X_train, X_test, y_train, y_test = train_test_split(X, y, test_size=0.3, random_state=42)"
   ]
  },
  {
   "cell_type": "code",
   "execution_count": 21,
   "id": "d8ce5f25-0424-41fa-9902-0f8c50ad0cfd",
   "metadata": {},
   "outputs": [],
   "source": [
    "# Create single decision tree\n",
    "decisionTree = DecisionTreeClassifier()"
   ]
  },
  {
   "cell_type": "code",
   "execution_count": 22,
   "id": "67555c09-2383-48ec-9c9a-465ef62c70c9",
   "metadata": {},
   "outputs": [
    {
     "data": {
      "text/html": [
       "<style>#sk-container-id-1 {color: black;background-color: white;}#sk-container-id-1 pre{padding: 0;}#sk-container-id-1 div.sk-toggleable {background-color: white;}#sk-container-id-1 label.sk-toggleable__label {cursor: pointer;display: block;width: 100%;margin-bottom: 0;padding: 0.3em;box-sizing: border-box;text-align: center;}#sk-container-id-1 label.sk-toggleable__label-arrow:before {content: \"▸\";float: left;margin-right: 0.25em;color: #696969;}#sk-container-id-1 label.sk-toggleable__label-arrow:hover:before {color: black;}#sk-container-id-1 div.sk-estimator:hover label.sk-toggleable__label-arrow:before {color: black;}#sk-container-id-1 div.sk-toggleable__content {max-height: 0;max-width: 0;overflow: hidden;text-align: left;background-color: #f0f8ff;}#sk-container-id-1 div.sk-toggleable__content pre {margin: 0.2em;color: black;border-radius: 0.25em;background-color: #f0f8ff;}#sk-container-id-1 input.sk-toggleable__control:checked~div.sk-toggleable__content {max-height: 200px;max-width: 100%;overflow: auto;}#sk-container-id-1 input.sk-toggleable__control:checked~label.sk-toggleable__label-arrow:before {content: \"▾\";}#sk-container-id-1 div.sk-estimator input.sk-toggleable__control:checked~label.sk-toggleable__label {background-color: #d4ebff;}#sk-container-id-1 div.sk-label input.sk-toggleable__control:checked~label.sk-toggleable__label {background-color: #d4ebff;}#sk-container-id-1 input.sk-hidden--visually {border: 0;clip: rect(1px 1px 1px 1px);clip: rect(1px, 1px, 1px, 1px);height: 1px;margin: -1px;overflow: hidden;padding: 0;position: absolute;width: 1px;}#sk-container-id-1 div.sk-estimator {font-family: monospace;background-color: #f0f8ff;border: 1px dotted black;border-radius: 0.25em;box-sizing: border-box;margin-bottom: 0.5em;}#sk-container-id-1 div.sk-estimator:hover {background-color: #d4ebff;}#sk-container-id-1 div.sk-parallel-item::after {content: \"\";width: 100%;border-bottom: 1px solid gray;flex-grow: 1;}#sk-container-id-1 div.sk-label:hover label.sk-toggleable__label {background-color: #d4ebff;}#sk-container-id-1 div.sk-serial::before {content: \"\";position: absolute;border-left: 1px solid gray;box-sizing: border-box;top: 0;bottom: 0;left: 50%;z-index: 0;}#sk-container-id-1 div.sk-serial {display: flex;flex-direction: column;align-items: center;background-color: white;padding-right: 0.2em;padding-left: 0.2em;position: relative;}#sk-container-id-1 div.sk-item {position: relative;z-index: 1;}#sk-container-id-1 div.sk-parallel {display: flex;align-items: stretch;justify-content: center;background-color: white;position: relative;}#sk-container-id-1 div.sk-item::before, #sk-container-id-1 div.sk-parallel-item::before {content: \"\";position: absolute;border-left: 1px solid gray;box-sizing: border-box;top: 0;bottom: 0;left: 50%;z-index: -1;}#sk-container-id-1 div.sk-parallel-item {display: flex;flex-direction: column;z-index: 1;position: relative;background-color: white;}#sk-container-id-1 div.sk-parallel-item:first-child::after {align-self: flex-end;width: 50%;}#sk-container-id-1 div.sk-parallel-item:last-child::after {align-self: flex-start;width: 50%;}#sk-container-id-1 div.sk-parallel-item:only-child::after {width: 0;}#sk-container-id-1 div.sk-dashed-wrapped {border: 1px dashed gray;margin: 0 0.4em 0.5em 0.4em;box-sizing: border-box;padding-bottom: 0.4em;background-color: white;}#sk-container-id-1 div.sk-label label {font-family: monospace;font-weight: bold;display: inline-block;line-height: 1.2em;}#sk-container-id-1 div.sk-label-container {text-align: center;}#sk-container-id-1 div.sk-container {/* jupyter's `normalize.less` sets `[hidden] { display: none; }` but bootstrap.min.css set `[hidden] { display: none !important; }` so we also need the `!important` here to be able to override the default hidden behavior on the sphinx rendered scikit-learn.org. See: https://github.com/scikit-learn/scikit-learn/issues/21755 */display: inline-block !important;position: relative;}#sk-container-id-1 div.sk-text-repr-fallback {display: none;}</style><div id=\"sk-container-id-1\" class=\"sk-top-container\"><div class=\"sk-text-repr-fallback\"><pre>DecisionTreeClassifier()</pre><b>In a Jupyter environment, please rerun this cell to show the HTML representation or trust the notebook. <br />On GitHub, the HTML representation is unable to render, please try loading this page with nbviewer.org.</b></div><div class=\"sk-container\" hidden><div class=\"sk-item\"><div class=\"sk-estimator sk-toggleable\"><input class=\"sk-toggleable__control sk-hidden--visually\" id=\"sk-estimator-id-1\" type=\"checkbox\" checked><label for=\"sk-estimator-id-1\" class=\"sk-toggleable__label sk-toggleable__label-arrow\">DecisionTreeClassifier</label><div class=\"sk-toggleable__content\"><pre>DecisionTreeClassifier()</pre></div></div></div></div></div>"
      ],
      "text/plain": [
       "DecisionTreeClassifier()"
      ]
     },
     "execution_count": 22,
     "metadata": {},
     "output_type": "execute_result"
    }
   ],
   "source": [
    "# train the model\n",
    "decisionTree.fit(X_train, y_train)"
   ]
  },
  {
   "cell_type": "code",
   "execution_count": 23,
   "id": "1691dbec-1774-498a-9c59-88b9cc66641c",
   "metadata": {},
   "outputs": [],
   "source": [
    "#Assess the model\n",
    "treePredictions = decisionTree.predict(X_test)"
   ]
  },
  {
   "cell_type": "code",
   "execution_count": 24,
   "id": "ad1ddeff-4a98-4808-92c4-5cfa7765a7fb",
   "metadata": {},
   "outputs": [
    {
     "name": "stdout",
     "output_type": "stream",
     "text": [
      "[[ 576 1186]\n",
      " [1362  470]]\n"
     ]
    }
   ],
   "source": [
    "print(confusion_matrix(y_test, treePredictions))"
   ]
  },
  {
   "cell_type": "code",
   "execution_count": 25,
   "id": "9e8b19a7-29e6-4930-a6b3-87dc69298c80",
   "metadata": {},
   "outputs": [
    {
     "name": "stdout",
     "output_type": "stream",
     "text": [
      "              precision    recall  f1-score   support\n",
      "\n",
      "           0       0.30      0.33      0.31      1762\n",
      "           1       0.28      0.26      0.27      1832\n",
      "\n",
      "    accuracy                           0.29      3594\n",
      "   macro avg       0.29      0.29      0.29      3594\n",
      "weighted avg       0.29      0.29      0.29      3594\n",
      "\n"
     ]
    }
   ],
   "source": [
    "print(classification_report(y_test, treePredictions))"
   ]
  },
  {
   "cell_type": "markdown",
   "id": "6fea2da3-9415-4367-96f2-6e4b5d45dc7d",
   "metadata": {},
   "source": [
    "## Observations (Single Decision Tree)"
   ]
  },
  {
   "cell_type": "markdown",
   "id": "aac0226d-cfc7-45e4-b456-8becdec99d13",
   "metadata": {},
   "source": [
    "* This decision tree model is not so good at predicting Approval status.  \n",
    "* Rejection was predicted with 30% precision, and approval was predicted with 28% accuracy.\n",
    "* Overall, you can predict approval status with 29% accuracy using the single decision tree model."
   ]
  },
  {
   "cell_type": "markdown",
   "id": "58841066-6ee4-43f6-868d-9e8ef8537c35",
   "metadata": {},
   "source": [
    "## Determine if we can get a better model using Random Forest"
   ]
  },
  {
   "cell_type": "code",
   "execution_count": 26,
   "id": "c7ccaae0-1bc7-42a6-9a9d-ff3262e0c0d0",
   "metadata": {},
   "outputs": [],
   "source": [
    "forest = RandomForestClassifier(n_estimators = 250, random_state = 76)"
   ]
  },
  {
   "cell_type": "code",
   "execution_count": 27,
   "id": "53895d37-a77c-4395-a4fd-8542796bdc71",
   "metadata": {},
   "outputs": [
    {
     "data": {
      "text/html": [
       "<style>#sk-container-id-2 {color: black;background-color: white;}#sk-container-id-2 pre{padding: 0;}#sk-container-id-2 div.sk-toggleable {background-color: white;}#sk-container-id-2 label.sk-toggleable__label {cursor: pointer;display: block;width: 100%;margin-bottom: 0;padding: 0.3em;box-sizing: border-box;text-align: center;}#sk-container-id-2 label.sk-toggleable__label-arrow:before {content: \"▸\";float: left;margin-right: 0.25em;color: #696969;}#sk-container-id-2 label.sk-toggleable__label-arrow:hover:before {color: black;}#sk-container-id-2 div.sk-estimator:hover label.sk-toggleable__label-arrow:before {color: black;}#sk-container-id-2 div.sk-toggleable__content {max-height: 0;max-width: 0;overflow: hidden;text-align: left;background-color: #f0f8ff;}#sk-container-id-2 div.sk-toggleable__content pre {margin: 0.2em;color: black;border-radius: 0.25em;background-color: #f0f8ff;}#sk-container-id-2 input.sk-toggleable__control:checked~div.sk-toggleable__content {max-height: 200px;max-width: 100%;overflow: auto;}#sk-container-id-2 input.sk-toggleable__control:checked~label.sk-toggleable__label-arrow:before {content: \"▾\";}#sk-container-id-2 div.sk-estimator input.sk-toggleable__control:checked~label.sk-toggleable__label {background-color: #d4ebff;}#sk-container-id-2 div.sk-label input.sk-toggleable__control:checked~label.sk-toggleable__label {background-color: #d4ebff;}#sk-container-id-2 input.sk-hidden--visually {border: 0;clip: rect(1px 1px 1px 1px);clip: rect(1px, 1px, 1px, 1px);height: 1px;margin: -1px;overflow: hidden;padding: 0;position: absolute;width: 1px;}#sk-container-id-2 div.sk-estimator {font-family: monospace;background-color: #f0f8ff;border: 1px dotted black;border-radius: 0.25em;box-sizing: border-box;margin-bottom: 0.5em;}#sk-container-id-2 div.sk-estimator:hover {background-color: #d4ebff;}#sk-container-id-2 div.sk-parallel-item::after {content: \"\";width: 100%;border-bottom: 1px solid gray;flex-grow: 1;}#sk-container-id-2 div.sk-label:hover label.sk-toggleable__label {background-color: #d4ebff;}#sk-container-id-2 div.sk-serial::before {content: \"\";position: absolute;border-left: 1px solid gray;box-sizing: border-box;top: 0;bottom: 0;left: 50%;z-index: 0;}#sk-container-id-2 div.sk-serial {display: flex;flex-direction: column;align-items: center;background-color: white;padding-right: 0.2em;padding-left: 0.2em;position: relative;}#sk-container-id-2 div.sk-item {position: relative;z-index: 1;}#sk-container-id-2 div.sk-parallel {display: flex;align-items: stretch;justify-content: center;background-color: white;position: relative;}#sk-container-id-2 div.sk-item::before, #sk-container-id-2 div.sk-parallel-item::before {content: \"\";position: absolute;border-left: 1px solid gray;box-sizing: border-box;top: 0;bottom: 0;left: 50%;z-index: -1;}#sk-container-id-2 div.sk-parallel-item {display: flex;flex-direction: column;z-index: 1;position: relative;background-color: white;}#sk-container-id-2 div.sk-parallel-item:first-child::after {align-self: flex-end;width: 50%;}#sk-container-id-2 div.sk-parallel-item:last-child::after {align-self: flex-start;width: 50%;}#sk-container-id-2 div.sk-parallel-item:only-child::after {width: 0;}#sk-container-id-2 div.sk-dashed-wrapped {border: 1px dashed gray;margin: 0 0.4em 0.5em 0.4em;box-sizing: border-box;padding-bottom: 0.4em;background-color: white;}#sk-container-id-2 div.sk-label label {font-family: monospace;font-weight: bold;display: inline-block;line-height: 1.2em;}#sk-container-id-2 div.sk-label-container {text-align: center;}#sk-container-id-2 div.sk-container {/* jupyter's `normalize.less` sets `[hidden] { display: none; }` but bootstrap.min.css set `[hidden] { display: none !important; }` so we also need the `!important` here to be able to override the default hidden behavior on the sphinx rendered scikit-learn.org. See: https://github.com/scikit-learn/scikit-learn/issues/21755 */display: inline-block !important;position: relative;}#sk-container-id-2 div.sk-text-repr-fallback {display: none;}</style><div id=\"sk-container-id-2\" class=\"sk-top-container\"><div class=\"sk-text-repr-fallback\"><pre>RandomForestClassifier(n_estimators=250, random_state=76)</pre><b>In a Jupyter environment, please rerun this cell to show the HTML representation or trust the notebook. <br />On GitHub, the HTML representation is unable to render, please try loading this page with nbviewer.org.</b></div><div class=\"sk-container\" hidden><div class=\"sk-item\"><div class=\"sk-estimator sk-toggleable\"><input class=\"sk-toggleable__control sk-hidden--visually\" id=\"sk-estimator-id-2\" type=\"checkbox\" checked><label for=\"sk-estimator-id-2\" class=\"sk-toggleable__label sk-toggleable__label-arrow\">RandomForestClassifier</label><div class=\"sk-toggleable__content\"><pre>RandomForestClassifier(n_estimators=250, random_state=76)</pre></div></div></div></div></div>"
      ],
      "text/plain": [
       "RandomForestClassifier(n_estimators=250, random_state=76)"
      ]
     },
     "execution_count": 27,
     "metadata": {},
     "output_type": "execute_result"
    }
   ],
   "source": [
    "forest.fit(X_train, y_train)"
   ]
  },
  {
   "cell_type": "code",
   "execution_count": 28,
   "id": "0c33047a-e5d1-4906-beb9-b5ffbae5ae91",
   "metadata": {},
   "outputs": [],
   "source": [
    "forestPredictions = forest.predict(X_test)"
   ]
  },
  {
   "cell_type": "code",
   "execution_count": 29,
   "id": "1945c71e-d192-4699-bea4-1684a14dc743",
   "metadata": {},
   "outputs": [
    {
     "name": "stdout",
     "output_type": "stream",
     "text": [
      "[[ 408 1354]\n",
      " [1199  633]]\n"
     ]
    }
   ],
   "source": [
    "print(confusion_matrix(y_test, forestPredictions))"
   ]
  },
  {
   "cell_type": "code",
   "execution_count": 30,
   "id": "6cbb1e33-6128-4dbb-aaf7-f39c0e83ed79",
   "metadata": {},
   "outputs": [
    {
     "name": "stdout",
     "output_type": "stream",
     "text": [
      "              precision    recall  f1-score   support\n",
      "\n",
      "           0       0.25      0.23      0.24      1762\n",
      "           1       0.32      0.35      0.33      1832\n",
      "\n",
      "    accuracy                           0.29      3594\n",
      "   macro avg       0.29      0.29      0.29      3594\n",
      "weighted avg       0.29      0.29      0.29      3594\n",
      "\n"
     ]
    }
   ],
   "source": [
    "print(classification_report(y_test, forestPredictions))"
   ]
  },
  {
   "cell_type": "markdown",
   "id": "d90a88ef-775f-4d18-b776-5631977b25ce",
   "metadata": {},
   "source": [
    "## Observations (Random Forest)"
   ]
  },
  {
   "cell_type": "markdown",
   "id": "b28f8f12-23fd-4e83-9469-7bf5971a1284",
   "metadata": {},
   "source": [
    "* This model is overall not much more accurate than the single tree model.\n",
    "* Interestingly, this model predicts approval with slightly more accuracy than the single tree model when compared to rejection."
   ]
  },
  {
   "cell_type": "markdown",
   "id": "c34c06de-086e-43c0-992b-a0476e45591c",
   "metadata": {},
   "source": [
    "### See if we can improve model fit using hyperparameter tuning"
   ]
  },
  {
   "cell_type": "code",
   "execution_count": 32,
   "id": "fc79527d-7a0a-450e-a2c6-f128f6c912e0",
   "metadata": {},
   "outputs": [],
   "source": [
    "# find best number of estimators to use\n",
    "n_estimators_array = [1,4,5,8,10,20,50,75,100,250,500]"
   ]
  },
  {
   "cell_type": "code",
   "execution_count": 33,
   "id": "8f589a99-9b5e-425d-9772-cc916a6f9cf0",
   "metadata": {},
   "outputs": [
    {
     "name": "stdout",
     "output_type": "stream",
     "text": [
      "500 : 0.29020589872008906\n"
     ]
    }
   ],
   "source": [
    "results = []\n",
    "\n",
    "for n in n_estimators_array:\n",
    "    forest = RandomForestClassifier(n_estimators = n, random_state = 76)\n",
    "    forest.fit(X_train, y_train)\n",
    "    result = accuracy_score(y_test, forest.predict(X_test))\n",
    "    results.append(result)\n",
    "    \n",
    "print(n, ':', result)"
   ]
  },
  {
   "cell_type": "code",
   "execution_count": 34,
   "id": "22761be4-0088-4135-9f80-404faba3328e",
   "metadata": {},
   "outputs": [],
   "source": [
    "# number of features to consider at every split\n",
    "max_features = ['sqrt', None, 'log2']"
   ]
  },
  {
   "cell_type": "code",
   "execution_count": 35,
   "id": "d95c892d-399f-4b61-ba30-e881aae78eee",
   "metadata": {},
   "outputs": [],
   "source": [
    "# maximum number of levels in tree\n",
    "max_depth = [10, 20, 30, 40, 50, 60, 70, 80, 90, None]"
   ]
  },
  {
   "cell_type": "code",
   "execution_count": 36,
   "id": "09cd9e03-0b23-4cc6-928a-becd666ad438",
   "metadata": {},
   "outputs": [],
   "source": [
    "# minimum number of samples required at each leaf node\n",
    "min_samples_leaf = [1,2,4]"
   ]
  },
  {
   "cell_type": "code",
   "execution_count": 37,
   "id": "f8be5a46-a69a-4ae0-b178-6008171a88b1",
   "metadata": {},
   "outputs": [],
   "source": [
    "# minimum number of samples for training each tree\n",
    "random_grid = {'max_features' : max_features,\n",
    "               'max_depth' : max_depth,\n",
    "               'min_samples_leaf' : min_samples_leaf}"
   ]
  },
  {
   "cell_type": "code",
   "execution_count": 38,
   "id": "cff29b7c-1766-4c0f-a49b-60da831b6222",
   "metadata": {},
   "outputs": [
    {
     "name": "stdout",
     "output_type": "stream",
     "text": [
      "{'max_features': ['sqrt', None, 'log2'], 'max_depth': [10, 20, 30, 40, 50, 60, 70, 80, 90, None], 'min_samples_leaf': [1, 2, 4]}\n"
     ]
    }
   ],
   "source": [
    "print(random_grid)"
   ]
  },
  {
   "cell_type": "code",
   "execution_count": 39,
   "id": "87a412d8-16c3-47f7-a93f-c6b6a6d9de58",
   "metadata": {},
   "outputs": [],
   "source": [
    "rf = RandomForestClassifier(n_estimators=500)"
   ]
  },
  {
   "cell_type": "code",
   "execution_count": 24,
   "id": "355e9b8d-b44d-4c63-b530-21d67b12b0f4",
   "metadata": {},
   "outputs": [],
   "source": [
    "rf_random = RandomizedSearchCV(estimator = rf, param_distributions = random_grid, n_iter = 90, cv=3) "
   ]
  },
  {
   "cell_type": "code",
   "execution_count": 25,
   "id": "f0e9565d-5ca1-4b3a-b964-89ebb0fae505",
   "metadata": {},
   "outputs": [
    {
     "data": {
      "text/html": [
       "<style>#sk-container-id-3 {color: black;background-color: white;}#sk-container-id-3 pre{padding: 0;}#sk-container-id-3 div.sk-toggleable {background-color: white;}#sk-container-id-3 label.sk-toggleable__label {cursor: pointer;display: block;width: 100%;margin-bottom: 0;padding: 0.3em;box-sizing: border-box;text-align: center;}#sk-container-id-3 label.sk-toggleable__label-arrow:before {content: \"▸\";float: left;margin-right: 0.25em;color: #696969;}#sk-container-id-3 label.sk-toggleable__label-arrow:hover:before {color: black;}#sk-container-id-3 div.sk-estimator:hover label.sk-toggleable__label-arrow:before {color: black;}#sk-container-id-3 div.sk-toggleable__content {max-height: 0;max-width: 0;overflow: hidden;text-align: left;background-color: #f0f8ff;}#sk-container-id-3 div.sk-toggleable__content pre {margin: 0.2em;color: black;border-radius: 0.25em;background-color: #f0f8ff;}#sk-container-id-3 input.sk-toggleable__control:checked~div.sk-toggleable__content {max-height: 200px;max-width: 100%;overflow: auto;}#sk-container-id-3 input.sk-toggleable__control:checked~label.sk-toggleable__label-arrow:before {content: \"▾\";}#sk-container-id-3 div.sk-estimator input.sk-toggleable__control:checked~label.sk-toggleable__label {background-color: #d4ebff;}#sk-container-id-3 div.sk-label input.sk-toggleable__control:checked~label.sk-toggleable__label {background-color: #d4ebff;}#sk-container-id-3 input.sk-hidden--visually {border: 0;clip: rect(1px 1px 1px 1px);clip: rect(1px, 1px, 1px, 1px);height: 1px;margin: -1px;overflow: hidden;padding: 0;position: absolute;width: 1px;}#sk-container-id-3 div.sk-estimator {font-family: monospace;background-color: #f0f8ff;border: 1px dotted black;border-radius: 0.25em;box-sizing: border-box;margin-bottom: 0.5em;}#sk-container-id-3 div.sk-estimator:hover {background-color: #d4ebff;}#sk-container-id-3 div.sk-parallel-item::after {content: \"\";width: 100%;border-bottom: 1px solid gray;flex-grow: 1;}#sk-container-id-3 div.sk-label:hover label.sk-toggleable__label {background-color: #d4ebff;}#sk-container-id-3 div.sk-serial::before {content: \"\";position: absolute;border-left: 1px solid gray;box-sizing: border-box;top: 0;bottom: 0;left: 50%;z-index: 0;}#sk-container-id-3 div.sk-serial {display: flex;flex-direction: column;align-items: center;background-color: white;padding-right: 0.2em;padding-left: 0.2em;position: relative;}#sk-container-id-3 div.sk-item {position: relative;z-index: 1;}#sk-container-id-3 div.sk-parallel {display: flex;align-items: stretch;justify-content: center;background-color: white;position: relative;}#sk-container-id-3 div.sk-item::before, #sk-container-id-3 div.sk-parallel-item::before {content: \"\";position: absolute;border-left: 1px solid gray;box-sizing: border-box;top: 0;bottom: 0;left: 50%;z-index: -1;}#sk-container-id-3 div.sk-parallel-item {display: flex;flex-direction: column;z-index: 1;position: relative;background-color: white;}#sk-container-id-3 div.sk-parallel-item:first-child::after {align-self: flex-end;width: 50%;}#sk-container-id-3 div.sk-parallel-item:last-child::after {align-self: flex-start;width: 50%;}#sk-container-id-3 div.sk-parallel-item:only-child::after {width: 0;}#sk-container-id-3 div.sk-dashed-wrapped {border: 1px dashed gray;margin: 0 0.4em 0.5em 0.4em;box-sizing: border-box;padding-bottom: 0.4em;background-color: white;}#sk-container-id-3 div.sk-label label {font-family: monospace;font-weight: bold;display: inline-block;line-height: 1.2em;}#sk-container-id-3 div.sk-label-container {text-align: center;}#sk-container-id-3 div.sk-container {/* jupyter's `normalize.less` sets `[hidden] { display: none; }` but bootstrap.min.css set `[hidden] { display: none !important; }` so we also need the `!important` here to be able to override the default hidden behavior on the sphinx rendered scikit-learn.org. See: https://github.com/scikit-learn/scikit-learn/issues/21755 */display: inline-block !important;position: relative;}#sk-container-id-3 div.sk-text-repr-fallback {display: none;}</style><div id=\"sk-container-id-3\" class=\"sk-top-container\"><div class=\"sk-text-repr-fallback\"><pre>RandomizedSearchCV(cv=3, estimator=RandomForestClassifier(n_estimators=250),\n",
       "                   n_iter=90,\n",
       "                   param_distributions={&#x27;max_depth&#x27;: [10, 20, 30, 40, 50, 60,\n",
       "                                                      70, 80, 90, None],\n",
       "                                        &#x27;max_features&#x27;: [&#x27;sqrt&#x27;, None, &#x27;log2&#x27;],\n",
       "                                        &#x27;min_samples_leaf&#x27;: [1, 2, 4]})</pre><b>In a Jupyter environment, please rerun this cell to show the HTML representation or trust the notebook. <br />On GitHub, the HTML representation is unable to render, please try loading this page with nbviewer.org.</b></div><div class=\"sk-container\" hidden><div class=\"sk-item sk-dashed-wrapped\"><div class=\"sk-label-container\"><div class=\"sk-label sk-toggleable\"><input class=\"sk-toggleable__control sk-hidden--visually\" id=\"sk-estimator-id-3\" type=\"checkbox\" ><label for=\"sk-estimator-id-3\" class=\"sk-toggleable__label sk-toggleable__label-arrow\">RandomizedSearchCV</label><div class=\"sk-toggleable__content\"><pre>RandomizedSearchCV(cv=3, estimator=RandomForestClassifier(n_estimators=250),\n",
       "                   n_iter=90,\n",
       "                   param_distributions={&#x27;max_depth&#x27;: [10, 20, 30, 40, 50, 60,\n",
       "                                                      70, 80, 90, None],\n",
       "                                        &#x27;max_features&#x27;: [&#x27;sqrt&#x27;, None, &#x27;log2&#x27;],\n",
       "                                        &#x27;min_samples_leaf&#x27;: [1, 2, 4]})</pre></div></div></div><div class=\"sk-parallel\"><div class=\"sk-parallel-item\"><div class=\"sk-item\"><div class=\"sk-label-container\"><div class=\"sk-label sk-toggleable\"><input class=\"sk-toggleable__control sk-hidden--visually\" id=\"sk-estimator-id-4\" type=\"checkbox\" ><label for=\"sk-estimator-id-4\" class=\"sk-toggleable__label sk-toggleable__label-arrow\">estimator: RandomForestClassifier</label><div class=\"sk-toggleable__content\"><pre>RandomForestClassifier(n_estimators=250)</pre></div></div></div><div class=\"sk-serial\"><div class=\"sk-item\"><div class=\"sk-estimator sk-toggleable\"><input class=\"sk-toggleable__control sk-hidden--visually\" id=\"sk-estimator-id-5\" type=\"checkbox\" ><label for=\"sk-estimator-id-5\" class=\"sk-toggleable__label sk-toggleable__label-arrow\">RandomForestClassifier</label><div class=\"sk-toggleable__content\"><pre>RandomForestClassifier(n_estimators=250)</pre></div></div></div></div></div></div></div></div></div></div>"
      ],
      "text/plain": [
       "RandomizedSearchCV(cv=3, estimator=RandomForestClassifier(n_estimators=250),\n",
       "                   n_iter=90,\n",
       "                   param_distributions={'max_depth': [10, 20, 30, 40, 50, 60,\n",
       "                                                      70, 80, 90, None],\n",
       "                                        'max_features': ['sqrt', None, 'log2'],\n",
       "                                        'min_samples_leaf': [1, 2, 4]})"
      ]
     },
     "execution_count": 25,
     "metadata": {},
     "output_type": "execute_result"
    }
   ],
   "source": [
    "# fit the model\n",
    "rf_random.fit(X_train, y_train)"
   ]
  },
  {
   "cell_type": "code",
   "execution_count": 26,
   "id": "3dd48340-8257-4743-9690-8b4b539d5e90",
   "metadata": {},
   "outputs": [
    {
     "data": {
      "text/plain": [
       "{'min_samples_leaf': 4, 'max_features': 'log2', 'max_depth': 10}"
      ]
     },
     "execution_count": 26,
     "metadata": {},
     "output_type": "execute_result"
    }
   ],
   "source": [
    "# find out which hyperparameter produced the best accuracy\n",
    "rf_random.best_params_"
   ]
  },
  {
   "cell_type": "markdown",
   "id": "ef17adcc-bb76-40ae-a36e-371f39f6ebce",
   "metadata": {},
   "source": [
    "## The model with the best accuracy has at least 4 samples per leaf, has a max features setting of log2, and has a max depth of 10 decision points."
   ]
  },
  {
   "cell_type": "code",
   "execution_count": 40,
   "id": "e2ea339a-a0c6-4788-920e-52d63d07fd25",
   "metadata": {},
   "outputs": [],
   "source": [
    "# Run one last random forest that has these chosen parameters:\n",
    "forest = RandomForestClassifier(n_estimators = 500, min_samples_leaf = 4, max_features = 'log2', max_depth = 10)"
   ]
  },
  {
   "cell_type": "code",
   "execution_count": 41,
   "id": "4e6f2eea-8fa2-4d41-adbc-a713a116d31d",
   "metadata": {},
   "outputs": [
    {
     "data": {
      "text/html": [
       "<style>#sk-container-id-3 {color: black;background-color: white;}#sk-container-id-3 pre{padding: 0;}#sk-container-id-3 div.sk-toggleable {background-color: white;}#sk-container-id-3 label.sk-toggleable__label {cursor: pointer;display: block;width: 100%;margin-bottom: 0;padding: 0.3em;box-sizing: border-box;text-align: center;}#sk-container-id-3 label.sk-toggleable__label-arrow:before {content: \"▸\";float: left;margin-right: 0.25em;color: #696969;}#sk-container-id-3 label.sk-toggleable__label-arrow:hover:before {color: black;}#sk-container-id-3 div.sk-estimator:hover label.sk-toggleable__label-arrow:before {color: black;}#sk-container-id-3 div.sk-toggleable__content {max-height: 0;max-width: 0;overflow: hidden;text-align: left;background-color: #f0f8ff;}#sk-container-id-3 div.sk-toggleable__content pre {margin: 0.2em;color: black;border-radius: 0.25em;background-color: #f0f8ff;}#sk-container-id-3 input.sk-toggleable__control:checked~div.sk-toggleable__content {max-height: 200px;max-width: 100%;overflow: auto;}#sk-container-id-3 input.sk-toggleable__control:checked~label.sk-toggleable__label-arrow:before {content: \"▾\";}#sk-container-id-3 div.sk-estimator input.sk-toggleable__control:checked~label.sk-toggleable__label {background-color: #d4ebff;}#sk-container-id-3 div.sk-label input.sk-toggleable__control:checked~label.sk-toggleable__label {background-color: #d4ebff;}#sk-container-id-3 input.sk-hidden--visually {border: 0;clip: rect(1px 1px 1px 1px);clip: rect(1px, 1px, 1px, 1px);height: 1px;margin: -1px;overflow: hidden;padding: 0;position: absolute;width: 1px;}#sk-container-id-3 div.sk-estimator {font-family: monospace;background-color: #f0f8ff;border: 1px dotted black;border-radius: 0.25em;box-sizing: border-box;margin-bottom: 0.5em;}#sk-container-id-3 div.sk-estimator:hover {background-color: #d4ebff;}#sk-container-id-3 div.sk-parallel-item::after {content: \"\";width: 100%;border-bottom: 1px solid gray;flex-grow: 1;}#sk-container-id-3 div.sk-label:hover label.sk-toggleable__label {background-color: #d4ebff;}#sk-container-id-3 div.sk-serial::before {content: \"\";position: absolute;border-left: 1px solid gray;box-sizing: border-box;top: 0;bottom: 0;left: 50%;z-index: 0;}#sk-container-id-3 div.sk-serial {display: flex;flex-direction: column;align-items: center;background-color: white;padding-right: 0.2em;padding-left: 0.2em;position: relative;}#sk-container-id-3 div.sk-item {position: relative;z-index: 1;}#sk-container-id-3 div.sk-parallel {display: flex;align-items: stretch;justify-content: center;background-color: white;position: relative;}#sk-container-id-3 div.sk-item::before, #sk-container-id-3 div.sk-parallel-item::before {content: \"\";position: absolute;border-left: 1px solid gray;box-sizing: border-box;top: 0;bottom: 0;left: 50%;z-index: -1;}#sk-container-id-3 div.sk-parallel-item {display: flex;flex-direction: column;z-index: 1;position: relative;background-color: white;}#sk-container-id-3 div.sk-parallel-item:first-child::after {align-self: flex-end;width: 50%;}#sk-container-id-3 div.sk-parallel-item:last-child::after {align-self: flex-start;width: 50%;}#sk-container-id-3 div.sk-parallel-item:only-child::after {width: 0;}#sk-container-id-3 div.sk-dashed-wrapped {border: 1px dashed gray;margin: 0 0.4em 0.5em 0.4em;box-sizing: border-box;padding-bottom: 0.4em;background-color: white;}#sk-container-id-3 div.sk-label label {font-family: monospace;font-weight: bold;display: inline-block;line-height: 1.2em;}#sk-container-id-3 div.sk-label-container {text-align: center;}#sk-container-id-3 div.sk-container {/* jupyter's `normalize.less` sets `[hidden] { display: none; }` but bootstrap.min.css set `[hidden] { display: none !important; }` so we also need the `!important` here to be able to override the default hidden behavior on the sphinx rendered scikit-learn.org. See: https://github.com/scikit-learn/scikit-learn/issues/21755 */display: inline-block !important;position: relative;}#sk-container-id-3 div.sk-text-repr-fallback {display: none;}</style><div id=\"sk-container-id-3\" class=\"sk-top-container\"><div class=\"sk-text-repr-fallback\"><pre>RandomForestClassifier(max_depth=10, max_features=&#x27;log2&#x27;, min_samples_leaf=4,\n",
       "                       n_estimators=500)</pre><b>In a Jupyter environment, please rerun this cell to show the HTML representation or trust the notebook. <br />On GitHub, the HTML representation is unable to render, please try loading this page with nbviewer.org.</b></div><div class=\"sk-container\" hidden><div class=\"sk-item\"><div class=\"sk-estimator sk-toggleable\"><input class=\"sk-toggleable__control sk-hidden--visually\" id=\"sk-estimator-id-3\" type=\"checkbox\" checked><label for=\"sk-estimator-id-3\" class=\"sk-toggleable__label sk-toggleable__label-arrow\">RandomForestClassifier</label><div class=\"sk-toggleable__content\"><pre>RandomForestClassifier(max_depth=10, max_features=&#x27;log2&#x27;, min_samples_leaf=4,\n",
       "                       n_estimators=500)</pre></div></div></div></div></div>"
      ],
      "text/plain": [
       "RandomForestClassifier(max_depth=10, max_features='log2', min_samples_leaf=4,\n",
       "                       n_estimators=500)"
      ]
     },
     "execution_count": 41,
     "metadata": {},
     "output_type": "execute_result"
    }
   ],
   "source": [
    "forest.fit(X_train, y_train)"
   ]
  },
  {
   "cell_type": "code",
   "execution_count": 42,
   "id": "cd05aae7-6312-49a4-ad87-9cd170786317",
   "metadata": {},
   "outputs": [],
   "source": [
    "forestPredictions = forest.predict(X_test)"
   ]
  },
  {
   "cell_type": "code",
   "execution_count": 43,
   "id": "3c437177-2649-4917-9917-436571fd5dba",
   "metadata": {},
   "outputs": [
    {
     "name": "stdout",
     "output_type": "stream",
     "text": [
      "[[ 233 1529]\n",
      " [ 521 1311]]\n"
     ]
    }
   ],
   "source": [
    "print(confusion_matrix(y_test, forestPredictions))"
   ]
  },
  {
   "cell_type": "code",
   "execution_count": 44,
   "id": "b8ac848b-b49a-481a-a0d0-242126343750",
   "metadata": {},
   "outputs": [
    {
     "name": "stdout",
     "output_type": "stream",
     "text": [
      "              precision    recall  f1-score   support\n",
      "\n",
      "           0       0.31      0.13      0.19      1762\n",
      "           1       0.46      0.72      0.56      1832\n",
      "\n",
      "    accuracy                           0.43      3594\n",
      "   macro avg       0.39      0.42      0.37      3594\n",
      "weighted avg       0.39      0.43      0.38      3594\n",
      "\n"
     ]
    }
   ],
   "source": [
    "print(classification_report(y_test, forestPredictions))"
   ]
  },
  {
   "cell_type": "markdown",
   "id": "450fe173-6c69-4733-a9f4-b9ac5c2b977d",
   "metadata": {},
   "source": [
    "## Observations (Hyperparameter tuning)\n"
   ]
  },
  {
   "cell_type": "markdown",
   "id": "84cffa09-4fd1-430c-b322-1e9b18b9475a",
   "metadata": {},
   "source": [
    "* This model appears to predict approvals more accurately than rejections.\n",
    "* The overall weighted accuracy of this model is 39%, which is somewhat better than the previous models."
   ]
  },
  {
   "cell_type": "markdown",
   "id": "c1a81748-5558-44f7-8758-e93369f97d4b",
   "metadata": {},
   "source": [
    "## Features Importance - which variable(s) make the most difference in the prediction of credit card approval?"
   ]
  },
  {
   "cell_type": "code",
   "execution_count": 45,
   "id": "1165ba96-addd-4be6-b5e4-5289af960148",
   "metadata": {},
   "outputs": [
    {
     "data": {
      "text/plain": [
       "totalIncome     0.215290\n",
       "famSize         0.064472\n",
       "ageYrs          0.241665\n",
       "yrsEmpl         0.150804\n",
       "UNEMPLOYED      0.008321\n",
       "genderR         0.035792\n",
       "ownsCarR        0.035212\n",
       "ownsRealtyR     0.033626\n",
       "eduLvlR         0.051975\n",
       "incomeTypeR     0.053355\n",
       "housingTypeR    0.047294\n",
       "famStatusR      0.062195\n",
       "dtype: float64"
      ]
     },
     "execution_count": 45,
     "metadata": {},
     "output_type": "execute_result"
    }
   ],
   "source": [
    "feature_importances = pd.Series(forest.feature_importances_, index=X.columns)\n",
    "feature_importances"
   ]
  },
  {
   "cell_type": "code",
   "execution_count": 46,
   "id": "a8a34123-1703-40a4-bb89-3476374d641e",
   "metadata": {},
   "outputs": [
    {
     "name": "stdout",
     "output_type": "stream",
     "text": [
      "ageYrs          0.241665\n",
      "totalIncome     0.215290\n",
      "yrsEmpl         0.150804\n",
      "famSize         0.064472\n",
      "famStatusR      0.062195\n",
      "incomeTypeR     0.053355\n",
      "eduLvlR         0.051975\n",
      "housingTypeR    0.047294\n",
      "genderR         0.035792\n",
      "ownsCarR        0.035212\n",
      "ownsRealtyR     0.033626\n",
      "UNEMPLOYED      0.008321\n",
      "dtype: float64\n"
     ]
    }
   ],
   "source": [
    "# to see these values listed from largest (better feature performance) to smallest:\n",
    "feature_importances.sort_values(inplace=True, ascending=False)\n",
    "print(feature_importances)"
   ]
  },
  {
   "cell_type": "code",
   "execution_count": 47,
   "id": "5a7eefb1-6b56-4a6f-be05-3e48924ef6ee",
   "metadata": {},
   "outputs": [
    {
     "data": {
      "text/plain": [
       "<AxesSubplot:>"
      ]
     },
     "execution_count": 47,
     "metadata": {},
     "output_type": "execute_result"
    },
    {
     "data": {
      "image/png": "[encoded data removed]",
      "text/plain": [
       "<Figure size 504x432 with 1 Axes>"
      ]
     },
     "metadata": {},
     "output_type": "display_data"
    }
   ],
   "source": [
    "# visualize these with a graph\n",
    "feature_importances.plot(kind='barh', figsize=(7,6))"
   ]
  },
  {
   "cell_type": "markdown",
   "id": "703ee82e-4882-495d-abdf-3e3b16d17ce3",
   "metadata": {},
   "source": [
    "## Observations (features importance)"
   ]
  },
  {
   "cell_type": "markdown",
   "id": "71bf9942-aa2e-458b-b937-4da68b83d831",
   "metadata": {},
   "source": [
    "* It appears that an applicants' age and total income have the most influence on whether or not they'll be approved for a credit card. This makes sense, as those who are older likely have an established credit history (for better or for worse) compared to those who are \"less experienced\" with managing credit cards.\n",
    "* I will use the top 3 features to train on in hopes that I can get a better model fit to predict my credit card approvals."
   ]
  },
  {
   "cell_type": "markdown",
   "id": "79e68917-fdbe-4b3c-bdce-809d41faab8e",
   "metadata": {},
   "source": [
    "# Part 2: Decision Tree and Random Forest to Predict CC Approval (BALANCED Data)"
   ]
  },
  {
   "cell_type": "code",
   "execution_count": 6,
   "id": "46635c48-b98a-4fac-8fbe-9609130f3582",
   "metadata": {},
   "outputs": [],
   "source": [
    "# import balanced dataset\n",
    "balancedMF = pd.read_csv('../Data/balancedMF.csv')"
   ]
  },
  {
   "cell_type": "code",
   "execution_count": 7,
   "id": "1d181bde-a9b5-40e8-b0d2-a0b3d079dab7",
   "metadata": {},
   "outputs": [],
   "source": [
    "# Drop Unnamed:0 col\n",
    "balancedMF.drop('Unnamed: 0', axis=1, inplace=True) "
   ]
  },
  {
   "cell_type": "code",
   "execution_count": 8,
   "id": "fd5aa857-d9ef-47cc-8842-96a25f99a1f7",
   "metadata": {},
   "outputs": [],
   "source": [
    "# Handling Continuous Variable outliers\n",
    "def dropOL(ftr):\n",
    "    q75,q25 = np.percentile(cleanDummy[ftr],[75,25])\n",
    "    intr_qr = q75-q25\n",
    "    mx = q75+(1.5*intr_qr)\n",
    "    mn = q25-(1.5*intr_qr)\n",
    "    return mx,mn"
   ]
  },
  {
   "cell_type": "code",
   "execution_count": 9,
   "id": "0a9c31a6-825b-4c75-93b8-e489e52a5f31",
   "metadata": {},
   "outputs": [],
   "source": [
    "# Drop outliers for totalIncome \n",
    "mx,mn = dropOL('totalIncome')"
   ]
  },
  {
   "cell_type": "code",
   "execution_count": 11,
   "id": "84c01e57-2088-420d-be6f-45957d4c10ec",
   "metadata": {},
   "outputs": [],
   "source": [
    "balancedMF.drop(balancedMF[balancedMF.totalIncome > mx].index,inplace=True)"
   ]
  },
  {
   "cell_type": "code",
   "execution_count": 12,
   "id": "9741b579-ca39-4100-a792-41e18fa1434f",
   "metadata": {},
   "outputs": [],
   "source": [
    "# Drop outliers for fam size\n",
    "mx,mn = dropOL('famSize')"
   ]
  },
  {
   "cell_type": "code",
   "execution_count": 13,
   "id": "5266987e-9013-4d3d-b00c-ab1769642347",
   "metadata": {},
   "outputs": [],
   "source": [
    "balancedMF.drop(balancedMF[balancedMF.famSize > mx].index,inplace=True)"
   ]
  },
  {
   "cell_type": "code",
   "execution_count": 14,
   "id": "fd11e6a8-19b8-4462-a7f6-29f121efe0f9",
   "metadata": {},
   "outputs": [],
   "source": [
    "# Drop outliers for yrsEmpl\n",
    "mx,mn = dropOL('yrsEmpl')"
   ]
  },
  {
   "cell_type": "code",
   "execution_count": 15,
   "id": "79a969f5-feef-4e57-9142-19600fb166d3",
   "metadata": {},
   "outputs": [],
   "source": [
    "balancedMF.drop(balancedMF[balancedMF.yrsEmpl > mx].index,inplace=True)"
   ]
  },
  {
   "cell_type": "code",
   "execution_count": 16,
   "id": "34a8c7fe-21d5-4948-a8bf-b932a1cb1f2a",
   "metadata": {},
   "outputs": [],
   "source": [
    "# save BALANCED dummy file without outliers\n",
    "balancedMF.to_csv(\"../Data/BALANCEDDummyDropOL.csv\")"
   ]
  },
  {
   "cell_type": "markdown",
   "id": "5eef7252-cdd7-401e-9d67-220d387d4821",
   "metadata": {},
   "source": [
    "## Random Forest (balanced data)"
   ]
  },
  {
   "cell_type": "code",
   "execution_count": 19,
   "id": "4465288e-1dea-4708-8237-5d3d4836cda9",
   "metadata": {},
   "outputs": [],
   "source": [
    "# train-test-split \n",
    "Xbal = balancedMF.drop('ApprStatus', axis=1)\n",
    "ybal = balancedMF['ApprStatus']\n",
    "X_train, X_test, y_train, y_test = train_test_split(Xbal, ybal, test_size=0.3, random_state=42)"
   ]
  },
  {
   "cell_type": "code",
   "execution_count": 20,
   "id": "1b6fa3ce-a945-466f-aa42-b5b9eaf16321",
   "metadata": {},
   "outputs": [],
   "source": [
    "forest2 = RandomForestClassifier(n_estimators = 250, random_state = 76)"
   ]
  },
  {
   "cell_type": "code",
   "execution_count": 21,
   "id": "9d6a0b0e-acef-49ca-ae94-28bed35706a0",
   "metadata": {},
   "outputs": [
    {
     "data": {
      "text/html": [
       "<style>#sk-container-id-1 {color: black;background-color: white;}#sk-container-id-1 pre{padding: 0;}#sk-container-id-1 div.sk-toggleable {background-color: white;}#sk-container-id-1 label.sk-toggleable__label {cursor: pointer;display: block;width: 100%;margin-bottom: 0;padding: 0.3em;box-sizing: border-box;text-align: center;}#sk-container-id-1 label.sk-toggleable__label-arrow:before {content: \"▸\";float: left;margin-right: 0.25em;color: #696969;}#sk-container-id-1 label.sk-toggleable__label-arrow:hover:before {color: black;}#sk-container-id-1 div.sk-estimator:hover label.sk-toggleable__label-arrow:before {color: black;}#sk-container-id-1 div.sk-toggleable__content {max-height: 0;max-width: 0;overflow: hidden;text-align: left;background-color: #f0f8ff;}#sk-container-id-1 div.sk-toggleable__content pre {margin: 0.2em;color: black;border-radius: 0.25em;background-color: #f0f8ff;}#sk-container-id-1 input.sk-toggleable__control:checked~div.sk-toggleable__content {max-height: 200px;max-width: 100%;overflow: auto;}#sk-container-id-1 input.sk-toggleable__control:checked~label.sk-toggleable__label-arrow:before {content: \"▾\";}#sk-container-id-1 div.sk-estimator input.sk-toggleable__control:checked~label.sk-toggleable__label {background-color: #d4ebff;}#sk-container-id-1 div.sk-label input.sk-toggleable__control:checked~label.sk-toggleable__label {background-color: #d4ebff;}#sk-container-id-1 input.sk-hidden--visually {border: 0;clip: rect(1px 1px 1px 1px);clip: rect(1px, 1px, 1px, 1px);height: 1px;margin: -1px;overflow: hidden;padding: 0;position: absolute;width: 1px;}#sk-container-id-1 div.sk-estimator {font-family: monospace;background-color: #f0f8ff;border: 1px dotted black;border-radius: 0.25em;box-sizing: border-box;margin-bottom: 0.5em;}#sk-container-id-1 div.sk-estimator:hover {background-color: #d4ebff;}#sk-container-id-1 div.sk-parallel-item::after {content: \"\";width: 100%;border-bottom: 1px solid gray;flex-grow: 1;}#sk-container-id-1 div.sk-label:hover label.sk-toggleable__label {background-color: #d4ebff;}#sk-container-id-1 div.sk-serial::before {content: \"\";position: absolute;border-left: 1px solid gray;box-sizing: border-box;top: 0;bottom: 0;left: 50%;z-index: 0;}#sk-container-id-1 div.sk-serial {display: flex;flex-direction: column;align-items: center;background-color: white;padding-right: 0.2em;padding-left: 0.2em;position: relative;}#sk-container-id-1 div.sk-item {position: relative;z-index: 1;}#sk-container-id-1 div.sk-parallel {display: flex;align-items: stretch;justify-content: center;background-color: white;position: relative;}#sk-container-id-1 div.sk-item::before, #sk-container-id-1 div.sk-parallel-item::before {content: \"\";position: absolute;border-left: 1px solid gray;box-sizing: border-box;top: 0;bottom: 0;left: 50%;z-index: -1;}#sk-container-id-1 div.sk-parallel-item {display: flex;flex-direction: column;z-index: 1;position: relative;background-color: white;}#sk-container-id-1 div.sk-parallel-item:first-child::after {align-self: flex-end;width: 50%;}#sk-container-id-1 div.sk-parallel-item:last-child::after {align-self: flex-start;width: 50%;}#sk-container-id-1 div.sk-parallel-item:only-child::after {width: 0;}#sk-container-id-1 div.sk-dashed-wrapped {border: 1px dashed gray;margin: 0 0.4em 0.5em 0.4em;box-sizing: border-box;padding-bottom: 0.4em;background-color: white;}#sk-container-id-1 div.sk-label label {font-family: monospace;font-weight: bold;display: inline-block;line-height: 1.2em;}#sk-container-id-1 div.sk-label-container {text-align: center;}#sk-container-id-1 div.sk-container {/* jupyter's `normalize.less` sets `[hidden] { display: none; }` but bootstrap.min.css set `[hidden] { display: none !important; }` so we also need the `!important` here to be able to override the default hidden behavior on the sphinx rendered scikit-learn.org. See: https://github.com/scikit-learn/scikit-learn/issues/21755 */display: inline-block !important;position: relative;}#sk-container-id-1 div.sk-text-repr-fallback {display: none;}</style><div id=\"sk-container-id-1\" class=\"sk-top-container\"><div class=\"sk-text-repr-fallback\"><pre>RandomForestClassifier(n_estimators=250, random_state=76)</pre><b>In a Jupyter environment, please rerun this cell to show the HTML representation or trust the notebook. <br />On GitHub, the HTML representation is unable to render, please try loading this page with nbviewer.org.</b></div><div class=\"sk-container\" hidden><div class=\"sk-item\"><div class=\"sk-estimator sk-toggleable\"><input class=\"sk-toggleable__control sk-hidden--visually\" id=\"sk-estimator-id-1\" type=\"checkbox\" checked><label for=\"sk-estimator-id-1\" class=\"sk-toggleable__label sk-toggleable__label-arrow\">RandomForestClassifier</label><div class=\"sk-toggleable__content\"><pre>RandomForestClassifier(n_estimators=250, random_state=76)</pre></div></div></div></div></div>"
      ],
      "text/plain": [
       "RandomForestClassifier(n_estimators=250, random_state=76)"
      ]
     },
     "execution_count": 21,
     "metadata": {},
     "output_type": "execute_result"
    }
   ],
   "source": [
    "forest2.fit(X_train, y_train)"
   ]
  },
  {
   "cell_type": "code",
   "execution_count": 22,
   "id": "b78a3654-a38d-48da-a402-e10944e39705",
   "metadata": {},
   "outputs": [],
   "source": [
    "forestPredictions2 = forest2.predict(X_test)"
   ]
  },
  {
   "cell_type": "code",
   "execution_count": 23,
   "id": "61d265fa-cb01-4dba-8937-08f70f85e69b",
   "metadata": {},
   "outputs": [
    {
     "name": "stdout",
     "output_type": "stream",
     "text": [
      "[[310 910]\n",
      " [805 526]]\n"
     ]
    }
   ],
   "source": [
    "print(confusion_matrix(y_test, forestPredictions2))"
   ]
  },
  {
   "cell_type": "code",
   "execution_count": 24,
   "id": "ccc2677f-5774-42ec-8f7f-f8b7f058bb52",
   "metadata": {},
   "outputs": [
    {
     "name": "stdout",
     "output_type": "stream",
     "text": [
      "              precision    recall  f1-score   support\n",
      "\n",
      "           0       0.28      0.25      0.27      1220\n",
      "           1       0.37      0.40      0.38      1331\n",
      "\n",
      "    accuracy                           0.33      2551\n",
      "   macro avg       0.32      0.32      0.32      2551\n",
      "weighted avg       0.32      0.33      0.33      2551\n",
      "\n"
     ]
    }
   ],
   "source": [
    "print(classification_report(y_test, forestPredictions2))"
   ]
  },
  {
   "cell_type": "markdown",
   "id": "8b6ee9c4-3341-4707-ae99-3370ddd77170",
   "metadata": {},
   "source": [
    "## Observations (Random Forest using balanced dataset)"
   ]
  },
  {
   "cell_type": "markdown",
   "id": "37409cda-8c93-41f1-95db-7d93bf8dae9a",
   "metadata": {},
   "source": [
    "* This model predicted Credit Card approval with 32% accuracy. This is similar to the unbalanced dataset result, where the random forest model predicted approval slightly more accurately than rejection."
   ]
  },
  {
   "cell_type": "markdown",
   "id": "e6151b19-2702-4374-8ffe-0e126041dc54",
   "metadata": {},
   "source": [
    "## Hyperparameter tuning on balanced data"
   ]
  },
  {
   "cell_type": "code",
   "execution_count": 29,
   "id": "3b2e8918-0ea8-4c9e-aee5-ed2ef21f030b",
   "metadata": {},
   "outputs": [],
   "source": [
    "# find best number of estimators to use\n",
    "n_estimators_array2 = [1,4,5,8,10,20,50,75,100,250,500]"
   ]
  },
  {
   "cell_type": "code",
   "execution_count": 30,
   "id": "35c96a20-c92c-46b1-9a5e-4954a7e9fd13",
   "metadata": {},
   "outputs": [
    {
     "name": "stdout",
     "output_type": "stream",
     "text": [
      "500 : 0.3296746373970992\n"
     ]
    }
   ],
   "source": [
    "results2 = []\n",
    "\n",
    "for n in n_estimators_array2:\n",
    "    forest2 = RandomForestClassifier(n_estimators = n, random_state = 76)\n",
    "    forest2.fit(X_train, y_train)\n",
    "    result = accuracy_score(y_test, forest2.predict(X_test))\n",
    "    results2.append(result)\n",
    "    \n",
    "print(n, ':', result)"
   ]
  },
  {
   "cell_type": "code",
   "execution_count": 31,
   "id": "48f53894-1e96-44e5-8099-e3f0e9af1126",
   "metadata": {},
   "outputs": [],
   "source": [
    "# number of features to consider at every split\n",
    "max_features2 = ['sqrt', None, 'log2']"
   ]
  },
  {
   "cell_type": "code",
   "execution_count": 32,
   "id": "95100e5a-ec0a-4f60-bfa3-91a8e7ed8dbd",
   "metadata": {},
   "outputs": [],
   "source": [
    "# maximum number of levels in tree\n",
    "max_depth2 = [10, 20, 30, 40, 50, 60, 70, 80, 90, None]"
   ]
  },
  {
   "cell_type": "code",
   "execution_count": 40,
   "id": "d70820ad-5349-486b-ae27-87c776da31cd",
   "metadata": {},
   "outputs": [],
   "source": [
    "# minimum number of samples required at each leaf node\n",
    "min_samples_leaf = [1,2,4]"
   ]
  },
  {
   "cell_type": "code",
   "execution_count": 42,
   "id": "039bec03-d475-4f8d-bb15-c433f9a97ed2",
   "metadata": {},
   "outputs": [],
   "source": [
    "# minimum number of samples for training each tree\n",
    "random_grid2 = {'max_features' : max_features2,\n",
    "               'max_depth' : max_depth2,\n",
    "               'min_samples_leaf' : min_samples_leaf2}"
   ]
  },
  {
   "cell_type": "code",
   "execution_count": 43,
   "id": "4278acfb-dd12-44d5-8bf7-1a82d9733c92",
   "metadata": {},
   "outputs": [
    {
     "name": "stdout",
     "output_type": "stream",
     "text": [
      "{'max_features': ['sqrt', None, 'log2'], 'max_depth': [10, 20, 30, 40, 50, 60, 70, 80, 90, None], 'min_samples_leaf': [1, 2, 4]}\n"
     ]
    }
   ],
   "source": [
    "print(random_grid2)"
   ]
  },
  {
   "cell_type": "code",
   "execution_count": 44,
   "id": "199f716c-6f8f-4d93-b955-754d565b9ddc",
   "metadata": {},
   "outputs": [],
   "source": [
    "rf2 = RandomForestClassifier(n_estimators=500)"
   ]
  },
  {
   "cell_type": "code",
   "execution_count": 45,
   "id": "ebbe60e1-a6ad-49fc-9261-6cd18dd3eac8",
   "metadata": {},
   "outputs": [],
   "source": [
    "rf_random2 = RandomizedSearchCV(estimator = rf2, param_distributions = random_grid2, n_iter = 90, cv=3) "
   ]
  },
  {
   "cell_type": "code",
   "execution_count": 46,
   "id": "b6d420a6-a590-432e-bd49-ebecb8d668aa",
   "metadata": {},
   "outputs": [
    {
     "data": {
      "text/html": [
       "<style>#sk-container-id-2 {color: black;background-color: white;}#sk-container-id-2 pre{padding: 0;}#sk-container-id-2 div.sk-toggleable {background-color: white;}#sk-container-id-2 label.sk-toggleable__label {cursor: pointer;display: block;width: 100%;margin-bottom: 0;padding: 0.3em;box-sizing: border-box;text-align: center;}#sk-container-id-2 label.sk-toggleable__label-arrow:before {content: \"▸\";float: left;margin-right: 0.25em;color: #696969;}#sk-container-id-2 label.sk-toggleable__label-arrow:hover:before {color: black;}#sk-container-id-2 div.sk-estimator:hover label.sk-toggleable__label-arrow:before {color: black;}#sk-container-id-2 div.sk-toggleable__content {max-height: 0;max-width: 0;overflow: hidden;text-align: left;background-color: #f0f8ff;}#sk-container-id-2 div.sk-toggleable__content pre {margin: 0.2em;color: black;border-radius: 0.25em;background-color: #f0f8ff;}#sk-container-id-2 input.sk-toggleable__control:checked~div.sk-toggleable__content {max-height: 200px;max-width: 100%;overflow: auto;}#sk-container-id-2 input.sk-toggleable__control:checked~label.sk-toggleable__label-arrow:before {content: \"▾\";}#sk-container-id-2 div.sk-estimator input.sk-toggleable__control:checked~label.sk-toggleable__label {background-color: #d4ebff;}#sk-container-id-2 div.sk-label input.sk-toggleable__control:checked~label.sk-toggleable__label {background-color: #d4ebff;}#sk-container-id-2 input.sk-hidden--visually {border: 0;clip: rect(1px 1px 1px 1px);clip: rect(1px, 1px, 1px, 1px);height: 1px;margin: -1px;overflow: hidden;padding: 0;position: absolute;width: 1px;}#sk-container-id-2 div.sk-estimator {font-family: monospace;background-color: #f0f8ff;border: 1px dotted black;border-radius: 0.25em;box-sizing: border-box;margin-bottom: 0.5em;}#sk-container-id-2 div.sk-estimator:hover {background-color: #d4ebff;}#sk-container-id-2 div.sk-parallel-item::after {content: \"\";width: 100%;border-bottom: 1px solid gray;flex-grow: 1;}#sk-container-id-2 div.sk-label:hover label.sk-toggleable__label {background-color: #d4ebff;}#sk-container-id-2 div.sk-serial::before {content: \"\";position: absolute;border-left: 1px solid gray;box-sizing: border-box;top: 0;bottom: 0;left: 50%;z-index: 0;}#sk-container-id-2 div.sk-serial {display: flex;flex-direction: column;align-items: center;background-color: white;padding-right: 0.2em;padding-left: 0.2em;position: relative;}#sk-container-id-2 div.sk-item {position: relative;z-index: 1;}#sk-container-id-2 div.sk-parallel {display: flex;align-items: stretch;justify-content: center;background-color: white;position: relative;}#sk-container-id-2 div.sk-item::before, #sk-container-id-2 div.sk-parallel-item::before {content: \"\";position: absolute;border-left: 1px solid gray;box-sizing: border-box;top: 0;bottom: 0;left: 50%;z-index: -1;}#sk-container-id-2 div.sk-parallel-item {display: flex;flex-direction: column;z-index: 1;position: relative;background-color: white;}#sk-container-id-2 div.sk-parallel-item:first-child::after {align-self: flex-end;width: 50%;}#sk-container-id-2 div.sk-parallel-item:last-child::after {align-self: flex-start;width: 50%;}#sk-container-id-2 div.sk-parallel-item:only-child::after {width: 0;}#sk-container-id-2 div.sk-dashed-wrapped {border: 1px dashed gray;margin: 0 0.4em 0.5em 0.4em;box-sizing: border-box;padding-bottom: 0.4em;background-color: white;}#sk-container-id-2 div.sk-label label {font-family: monospace;font-weight: bold;display: inline-block;line-height: 1.2em;}#sk-container-id-2 div.sk-label-container {text-align: center;}#sk-container-id-2 div.sk-container {/* jupyter's `normalize.less` sets `[hidden] { display: none; }` but bootstrap.min.css set `[hidden] { display: none !important; }` so we also need the `!important` here to be able to override the default hidden behavior on the sphinx rendered scikit-learn.org. See: https://github.com/scikit-learn/scikit-learn/issues/21755 */display: inline-block !important;position: relative;}#sk-container-id-2 div.sk-text-repr-fallback {display: none;}</style><div id=\"sk-container-id-2\" class=\"sk-top-container\"><div class=\"sk-text-repr-fallback\"><pre>RandomizedSearchCV(cv=3, estimator=RandomForestClassifier(n_estimators=500),\n",
       "                   n_iter=90,\n",
       "                   param_distributions={&#x27;max_depth&#x27;: [10, 20, 30, 40, 50, 60,\n",
       "                                                      70, 80, 90, None],\n",
       "                                        &#x27;max_features&#x27;: [&#x27;sqrt&#x27;, None, &#x27;log2&#x27;],\n",
       "                                        &#x27;min_samples_leaf&#x27;: [1, 2, 4]})</pre><b>In a Jupyter environment, please rerun this cell to show the HTML representation or trust the notebook. <br />On GitHub, the HTML representation is unable to render, please try loading this page with nbviewer.org.</b></div><div class=\"sk-container\" hidden><div class=\"sk-item sk-dashed-wrapped\"><div class=\"sk-label-container\"><div class=\"sk-label sk-toggleable\"><input class=\"sk-toggleable__control sk-hidden--visually\" id=\"sk-estimator-id-2\" type=\"checkbox\" ><label for=\"sk-estimator-id-2\" class=\"sk-toggleable__label sk-toggleable__label-arrow\">RandomizedSearchCV</label><div class=\"sk-toggleable__content\"><pre>RandomizedSearchCV(cv=3, estimator=RandomForestClassifier(n_estimators=500),\n",
       "                   n_iter=90,\n",
       "                   param_distributions={&#x27;max_depth&#x27;: [10, 20, 30, 40, 50, 60,\n",
       "                                                      70, 80, 90, None],\n",
       "                                        &#x27;max_features&#x27;: [&#x27;sqrt&#x27;, None, &#x27;log2&#x27;],\n",
       "                                        &#x27;min_samples_leaf&#x27;: [1, 2, 4]})</pre></div></div></div><div class=\"sk-parallel\"><div class=\"sk-parallel-item\"><div class=\"sk-item\"><div class=\"sk-label-container\"><div class=\"sk-label sk-toggleable\"><input class=\"sk-toggleable__control sk-hidden--visually\" id=\"sk-estimator-id-3\" type=\"checkbox\" ><label for=\"sk-estimator-id-3\" class=\"sk-toggleable__label sk-toggleable__label-arrow\">estimator: RandomForestClassifier</label><div class=\"sk-toggleable__content\"><pre>RandomForestClassifier(n_estimators=500)</pre></div></div></div><div class=\"sk-serial\"><div class=\"sk-item\"><div class=\"sk-estimator sk-toggleable\"><input class=\"sk-toggleable__control sk-hidden--visually\" id=\"sk-estimator-id-4\" type=\"checkbox\" ><label for=\"sk-estimator-id-4\" class=\"sk-toggleable__label sk-toggleable__label-arrow\">RandomForestClassifier</label><div class=\"sk-toggleable__content\"><pre>RandomForestClassifier(n_estimators=500)</pre></div></div></div></div></div></div></div></div></div></div>"
      ],
      "text/plain": [
       "RandomizedSearchCV(cv=3, estimator=RandomForestClassifier(n_estimators=500),\n",
       "                   n_iter=90,\n",
       "                   param_distributions={'max_depth': [10, 20, 30, 40, 50, 60,\n",
       "                                                      70, 80, 90, None],\n",
       "                                        'max_features': ['sqrt', None, 'log2'],\n",
       "                                        'min_samples_leaf': [1, 2, 4]})"
      ]
     },
     "execution_count": 46,
     "metadata": {},
     "output_type": "execute_result"
    }
   ],
   "source": [
    "# fit the model\n",
    "rf_random2.fit(X_train, y_train)"
   ]
  },
  {
   "cell_type": "code",
   "execution_count": 47,
   "id": "e8f41ba1-9eea-4df1-97e6-c5989c4d756a",
   "metadata": {},
   "outputs": [
    {
     "data": {
      "text/plain": [
       "{'min_samples_leaf': 4, 'max_features': 'log2', 'max_depth': 10}"
      ]
     },
     "execution_count": 47,
     "metadata": {},
     "output_type": "execute_result"
    }
   ],
   "source": [
    "# find out which hyperparameter produced the best accuracy\n",
    "rf_random2.best_params_"
   ]
  },
  {
   "cell_type": "code",
   "execution_count": 48,
   "id": "085e7c7c-b843-4cec-9ea3-1cef2b31bcd4",
   "metadata": {},
   "outputs": [],
   "source": [
    "# Run one last random forest that has these chosen parameters:\n",
    "forest3 = RandomForestClassifier(n_estimators = 500, min_samples_leaf = 4, max_features = 'log2', max_depth = 10)"
   ]
  },
  {
   "cell_type": "code",
   "execution_count": 49,
   "id": "cd9c4c12-d84b-4fa6-a8ac-c013d0a37273",
   "metadata": {},
   "outputs": [
    {
     "data": {
      "text/html": [
       "<style>#sk-container-id-3 {color: black;background-color: white;}#sk-container-id-3 pre{padding: 0;}#sk-container-id-3 div.sk-toggleable {background-color: white;}#sk-container-id-3 label.sk-toggleable__label {cursor: pointer;display: block;width: 100%;margin-bottom: 0;padding: 0.3em;box-sizing: border-box;text-align: center;}#sk-container-id-3 label.sk-toggleable__label-arrow:before {content: \"▸\";float: left;margin-right: 0.25em;color: #696969;}#sk-container-id-3 label.sk-toggleable__label-arrow:hover:before {color: black;}#sk-container-id-3 div.sk-estimator:hover label.sk-toggleable__label-arrow:before {color: black;}#sk-container-id-3 div.sk-toggleable__content {max-height: 0;max-width: 0;overflow: hidden;text-align: left;background-color: #f0f8ff;}#sk-container-id-3 div.sk-toggleable__content pre {margin: 0.2em;color: black;border-radius: 0.25em;background-color: #f0f8ff;}#sk-container-id-3 input.sk-toggleable__control:checked~div.sk-toggleable__content {max-height: 200px;max-width: 100%;overflow: auto;}#sk-container-id-3 input.sk-toggleable__control:checked~label.sk-toggleable__label-arrow:before {content: \"▾\";}#sk-container-id-3 div.sk-estimator input.sk-toggleable__control:checked~label.sk-toggleable__label {background-color: #d4ebff;}#sk-container-id-3 div.sk-label input.sk-toggleable__control:checked~label.sk-toggleable__label {background-color: #d4ebff;}#sk-container-id-3 input.sk-hidden--visually {border: 0;clip: rect(1px 1px 1px 1px);clip: rect(1px, 1px, 1px, 1px);height: 1px;margin: -1px;overflow: hidden;padding: 0;position: absolute;width: 1px;}#sk-container-id-3 div.sk-estimator {font-family: monospace;background-color: #f0f8ff;border: 1px dotted black;border-radius: 0.25em;box-sizing: border-box;margin-bottom: 0.5em;}#sk-container-id-3 div.sk-estimator:hover {background-color: #d4ebff;}#sk-container-id-3 div.sk-parallel-item::after {content: \"\";width: 100%;border-bottom: 1px solid gray;flex-grow: 1;}#sk-container-id-3 div.sk-label:hover label.sk-toggleable__label {background-color: #d4ebff;}#sk-container-id-3 div.sk-serial::before {content: \"\";position: absolute;border-left: 1px solid gray;box-sizing: border-box;top: 0;bottom: 0;left: 50%;z-index: 0;}#sk-container-id-3 div.sk-serial {display: flex;flex-direction: column;align-items: center;background-color: white;padding-right: 0.2em;padding-left: 0.2em;position: relative;}#sk-container-id-3 div.sk-item {position: relative;z-index: 1;}#sk-container-id-3 div.sk-parallel {display: flex;align-items: stretch;justify-content: center;background-color: white;position: relative;}#sk-container-id-3 div.sk-item::before, #sk-container-id-3 div.sk-parallel-item::before {content: \"\";position: absolute;border-left: 1px solid gray;box-sizing: border-box;top: 0;bottom: 0;left: 50%;z-index: -1;}#sk-container-id-3 div.sk-parallel-item {display: flex;flex-direction: column;z-index: 1;position: relative;background-color: white;}#sk-container-id-3 div.sk-parallel-item:first-child::after {align-self: flex-end;width: 50%;}#sk-container-id-3 div.sk-parallel-item:last-child::after {align-self: flex-start;width: 50%;}#sk-container-id-3 div.sk-parallel-item:only-child::after {width: 0;}#sk-container-id-3 div.sk-dashed-wrapped {border: 1px dashed gray;margin: 0 0.4em 0.5em 0.4em;box-sizing: border-box;padding-bottom: 0.4em;background-color: white;}#sk-container-id-3 div.sk-label label {font-family: monospace;font-weight: bold;display: inline-block;line-height: 1.2em;}#sk-container-id-3 div.sk-label-container {text-align: center;}#sk-container-id-3 div.sk-container {/* jupyter's `normalize.less` sets `[hidden] { display: none; }` but bootstrap.min.css set `[hidden] { display: none !important; }` so we also need the `!important` here to be able to override the default hidden behavior on the sphinx rendered scikit-learn.org. See: https://github.com/scikit-learn/scikit-learn/issues/21755 */display: inline-block !important;position: relative;}#sk-container-id-3 div.sk-text-repr-fallback {display: none;}</style><div id=\"sk-container-id-3\" class=\"sk-top-container\"><div class=\"sk-text-repr-fallback\"><pre>RandomForestClassifier(max_depth=10, max_features=&#x27;log2&#x27;, min_samples_leaf=4,\n",
       "                       n_estimators=500)</pre><b>In a Jupyter environment, please rerun this cell to show the HTML representation or trust the notebook. <br />On GitHub, the HTML representation is unable to render, please try loading this page with nbviewer.org.</b></div><div class=\"sk-container\" hidden><div class=\"sk-item\"><div class=\"sk-estimator sk-toggleable\"><input class=\"sk-toggleable__control sk-hidden--visually\" id=\"sk-estimator-id-5\" type=\"checkbox\" checked><label for=\"sk-estimator-id-5\" class=\"sk-toggleable__label sk-toggleable__label-arrow\">RandomForestClassifier</label><div class=\"sk-toggleable__content\"><pre>RandomForestClassifier(max_depth=10, max_features=&#x27;log2&#x27;, min_samples_leaf=4,\n",
       "                       n_estimators=500)</pre></div></div></div></div></div>"
      ],
      "text/plain": [
       "RandomForestClassifier(max_depth=10, max_features='log2', min_samples_leaf=4,\n",
       "                       n_estimators=500)"
      ]
     },
     "execution_count": 49,
     "metadata": {},
     "output_type": "execute_result"
    }
   ],
   "source": [
    "forest3.fit(X_train, y_train)"
   ]
  },
  {
   "cell_type": "code",
   "execution_count": 50,
   "id": "aa07c2c6-a954-4794-977b-87b14f53ddc0",
   "metadata": {},
   "outputs": [],
   "source": [
    "forestPredictions3 = forest3.predict(X_test)"
   ]
  },
  {
   "cell_type": "code",
   "execution_count": 51,
   "id": "bc32af70-e469-4930-bc90-f3eaa8438afa",
   "metadata": {},
   "outputs": [
    {
     "name": "stdout",
     "output_type": "stream",
     "text": [
      "[[244 976]\n",
      " [519 812]]\n"
     ]
    }
   ],
   "source": [
    "print(confusion_matrix(y_test, forestPredictions3))"
   ]
  },
  {
   "cell_type": "code",
   "execution_count": 52,
   "id": "b546b2fa-421a-4082-8038-e3015cd420dd",
   "metadata": {},
   "outputs": [
    {
     "name": "stdout",
     "output_type": "stream",
     "text": [
      "              precision    recall  f1-score   support\n",
      "\n",
      "           0       0.32      0.20      0.25      1220\n",
      "           1       0.45      0.61      0.52      1331\n",
      "\n",
      "    accuracy                           0.41      2551\n",
      "   macro avg       0.39      0.41      0.38      2551\n",
      "weighted avg       0.39      0.41      0.39      2551\n",
      "\n"
     ]
    }
   ],
   "source": [
    "print(classification_report(y_test, forestPredictions3))"
   ]
  },
  {
   "cell_type": "markdown",
   "id": "75d22d92-a15c-4474-8746-cc70eb4a39a4",
   "metadata": {},
   "source": [
    "## Features Importance - BALANCED Data"
   ]
  },
  {
   "cell_type": "code",
   "execution_count": 53,
   "id": "2c614d57-97d1-46df-a4d9-b1a38ccf1680",
   "metadata": {},
   "outputs": [
    {
     "data": {
      "text/plain": [
       "totalIncome     0.216256\n",
       "famSize         0.046200\n",
       "ageYrs          0.231707\n",
       "yrsEmpl         0.250128\n",
       "UNEMPLOYED      0.003812\n",
       "ownsCarR        0.028932\n",
       "ownsRealtyR     0.028202\n",
       "eduLvlR         0.045490\n",
       "incomeTypeR     0.041852\n",
       "housingTypeR    0.030931\n",
       "famStatusR      0.045578\n",
       "genderR         0.030912\n",
       "dtype: float64"
      ]
     },
     "execution_count": 53,
     "metadata": {},
     "output_type": "execute_result"
    }
   ],
   "source": [
    "feature_importances2 = pd.Series(forest2.feature_importances_, index=Xbal.columns)\n",
    "feature_importances2"
   ]
  },
  {
   "cell_type": "code",
   "execution_count": 54,
   "id": "909f2e17-2851-4b01-bc61-0dd27bfd727d",
   "metadata": {},
   "outputs": [
    {
     "name": "stdout",
     "output_type": "stream",
     "text": [
      "yrsEmpl         0.250128\n",
      "ageYrs          0.231707\n",
      "totalIncome     0.216256\n",
      "famSize         0.046200\n",
      "famStatusR      0.045578\n",
      "eduLvlR         0.045490\n",
      "incomeTypeR     0.041852\n",
      "housingTypeR    0.030931\n",
      "genderR         0.030912\n",
      "ownsCarR        0.028932\n",
      "ownsRealtyR     0.028202\n",
      "UNEMPLOYED      0.003812\n",
      "dtype: float64\n"
     ]
    }
   ],
   "source": [
    "# to see these values listed from largest (better feature performance) to smallest:\n",
    "feature_importances2.sort_values(inplace=True, ascending=False)\n",
    "print(feature_importances2)"
   ]
  },
  {
   "cell_type": "code",
   "execution_count": 55,
   "id": "7b46b257-1b7c-4ab4-a1a4-17564fa86f09",
   "metadata": {},
   "outputs": [
    {
     "data": {
      "text/plain": [
       "<AxesSubplot:>"
      ]
     },
     "execution_count": 55,
     "metadata": {},
     "output_type": "execute_result"
    },
    {
     "data": {
      "image/png": "[encoded data removed]",
      "text/plain": [
       "<Figure size 504x432 with 1 Axes>"
      ]
     },
     "metadata": {},
     "output_type": "display_data"
    }
   ],
   "source": [
    "# visualize these with a graph\n",
    "feature_importances2.plot(kind='barh', figsize=(7,6))"
   ]
  },
  {
   "cell_type": "markdown",
   "id": "9ed10a8f-b460-4319-8624-f85c7e4778db",
   "metadata": {},
   "source": [
    "# Conclusions (Random Forests and Hypertuning)"
   ]
  },
  {
   "cell_type": "markdown",
   "id": "1c009b6b-9981-4d23-ba05-17835611cadc",
   "metadata": {},
   "source": [
    "* We got relatively the same results when modeling with the original data and balanced data. The random forests models both predicted credit card approval accurately about 30% of the time, and with hyperparameter tuning, we were able to get the prediction accuracy up to 39%.\n",
    "* The features that make the most difference in the prediction of credit card approval were found to be: age, income, and years employed.\n",
    "* Use these important features to train a model and perform stepwise linear regression to see if we can get a better model."
   ]
  },
  {
   "cell_type": "code",
   "execution_count": null,
   "id": "ac56cd19-bb63-413b-88cc-0f72ccd1a534",
   "metadata": {},
   "outputs": [],
   "source": []
  }
 ],
 "metadata": {
  "kernelspec": {
   "display_name": "Python 3 (ipykernel)",
   "language": "python",
   "name": "python3"
  },
  "language_info": {
   "codemirror_mode": {
    "name": "ipython",
    "version": 3
   },
   "file_extension": ".py",
   "mimetype": "text/x-python",
   "name": "python",
   "nbconvert_exporter": "python",
   "pygments_lexer": "ipython3",
   "version": "3.10.4"
  }
 },
 "nbformat": 4,
 "nbformat_minor": 5
}
