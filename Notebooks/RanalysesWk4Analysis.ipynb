{
 "cells": [
  {
   "cell_type": "markdown",
   "id": "df4534b8-94f2-4705-83ed-818dd7b0e088",
   "metadata": {},
   "source": [
    "# Analyses in R Final Project"
   ]
  },
  {
   "cell_type": "markdown",
   "id": "bd98fe35-ff3a-4e93-89cb-71ef347d3206",
   "metadata": {},
   "source": [
    "### load packages"
   ]
  },
  {
   "cell_type": "code",
   "execution_count": 11,
   "id": "c069d36e-d838-43f2-af3d-9694647b9ca8",
   "metadata": {},
   "outputs": [],
   "source": [
    "library(\"dplyr\")\n",
    "library(\"ggplot2\")\n",
    "library(\"car\")\n",
    "library(\"rcompanion\")\n",
    "library(\"IDPmisc\")\n",
    "library(\"caret\")\n",
    "library(\"gvlma\")\n",
    "library(\"predictmeans\")\n",
    "library(\"e1071\")\n",
    "library(\"lmtest\")\n",
    "library(\"lattice\")"
   ]
  },
  {
   "cell_type": "code",
   "execution_count": 12,
   "id": "1ccd5d3f-d112-4bf3-a2c1-75a359ae8b25",
   "metadata": {},
   "outputs": [],
   "source": [
    "apps = read.csv('../Data/BALANCEDDummyDropOL.csv')"
   ]
  },
  {
   "cell_type": "code",
   "execution_count": 13,
   "id": "bb51932c-63c7-4661-a9c7-66fb95dcec58",
   "metadata": {},
   "outputs": [
    {
     "data": {
      "text/html": [
       "<table class=\"dataframe\">\n",
       "<caption>A data.frame: 6 × 14</caption>\n",
       "<thead>\n",
       "\t<tr><th></th><th scope=col>X</th><th scope=col>totalIncome</th><th scope=col>famSize</th><th scope=col>ageYrs</th><th scope=col>yrsEmpl</th><th scope=col>UNEMPLOYED</th><th scope=col>ApprStatus</th><th scope=col>ownsCarR</th><th scope=col>ownsRealtyR</th><th scope=col>eduLvlR</th><th scope=col>incomeTypeR</th><th scope=col>housingTypeR</th><th scope=col>famStatusR</th><th scope=col>genderR</th></tr>\n",
       "\t<tr><th></th><th scope=col>&lt;int&gt;</th><th scope=col>&lt;dbl&gt;</th><th scope=col>&lt;dbl&gt;</th><th scope=col>&lt;dbl&gt;</th><th scope=col>&lt;dbl&gt;</th><th scope=col>&lt;int&gt;</th><th scope=col>&lt;int&gt;</th><th scope=col>&lt;int&gt;</th><th scope=col>&lt;int&gt;</th><th scope=col>&lt;int&gt;</th><th scope=col>&lt;int&gt;</th><th scope=col>&lt;int&gt;</th><th scope=col>&lt;int&gt;</th><th scope=col>&lt;int&gt;</th></tr>\n",
       "</thead>\n",
       "<tbody>\n",
       "\t<tr><th scope=row>1</th><td>0</td><td>238500</td><td>2</td><td>47</td><td>13.5991841</td><td>1</td><td>1</td><td>0</td><td>1</td><td>0</td><td>0</td><td>1</td><td>1</td><td>0</td></tr>\n",
       "\t<tr><th scope=row>2</th><td>1</td><td>135000</td><td>3</td><td>41</td><td> 4.7995510</td><td>1</td><td>0</td><td>1</td><td>1</td><td>1</td><td>0</td><td>1</td><td>1</td><td>0</td></tr>\n",
       "\t<tr><th scope=row>3</th><td>2</td><td>157500</td><td>2</td><td>40</td><td>12.5067592</td><td>1</td><td>0</td><td>0</td><td>1</td><td>1</td><td>0</td><td>1</td><td>1</td><td>0</td></tr>\n",
       "\t<tr><th scope=row>4</th><td>3</td><td>225000</td><td>2</td><td>24</td><td> 0.2573633</td><td>1</td><td>1</td><td>0</td><td>1</td><td>2</td><td>1</td><td>1</td><td>0</td><td>0</td></tr>\n",
       "\t<tr><th scope=row>5</th><td>4</td><td> 67500</td><td>2</td><td>37</td><td> 3.2635852</td><td>1</td><td>1</td><td>0</td><td>1</td><td>1</td><td>0</td><td>1</td><td>2</td><td>0</td></tr>\n",
       "\t<tr><th scope=row>6</th><td>5</td><td>180000</td><td>4</td><td>42</td><td>14.8449318</td><td>1</td><td>1</td><td>1</td><td>0</td><td>0</td><td>0</td><td>1</td><td>1</td><td>0</td></tr>\n",
       "</tbody>\n",
       "</table>\n"
      ],
      "text/latex": [
       "A data.frame: 6 × 14\n",
       "\\begin{tabular}{r|llllllllllllll}\n",
       "  & X & totalIncome & famSize & ageYrs & yrsEmpl & UNEMPLOYED & ApprStatus & ownsCarR & ownsRealtyR & eduLvlR & incomeTypeR & housingTypeR & famStatusR & genderR\\\\\n",
       "  & <int> & <dbl> & <dbl> & <dbl> & <dbl> & <int> & <int> & <int> & <int> & <int> & <int> & <int> & <int> & <int>\\\\\n",
       "\\hline\n",
       "\t1 & 0 & 238500 & 2 & 47 & 13.5991841 & 1 & 1 & 0 & 1 & 0 & 0 & 1 & 1 & 0\\\\\n",
       "\t2 & 1 & 135000 & 3 & 41 &  4.7995510 & 1 & 0 & 1 & 1 & 1 & 0 & 1 & 1 & 0\\\\\n",
       "\t3 & 2 & 157500 & 2 & 40 & 12.5067592 & 1 & 0 & 0 & 1 & 1 & 0 & 1 & 1 & 0\\\\\n",
       "\t4 & 3 & 225000 & 2 & 24 &  0.2573633 & 1 & 1 & 0 & 1 & 2 & 1 & 1 & 0 & 0\\\\\n",
       "\t5 & 4 &  67500 & 2 & 37 &  3.2635852 & 1 & 1 & 0 & 1 & 1 & 0 & 1 & 2 & 0\\\\\n",
       "\t6 & 5 & 180000 & 4 & 42 & 14.8449318 & 1 & 1 & 1 & 0 & 0 & 0 & 1 & 1 & 0\\\\\n",
       "\\end{tabular}\n"
      ],
      "text/markdown": [
       "\n",
       "A data.frame: 6 × 14\n",
       "\n",
       "| <!--/--> | X &lt;int&gt; | totalIncome &lt;dbl&gt; | famSize &lt;dbl&gt; | ageYrs &lt;dbl&gt; | yrsEmpl &lt;dbl&gt; | UNEMPLOYED &lt;int&gt; | ApprStatus &lt;int&gt; | ownsCarR &lt;int&gt; | ownsRealtyR &lt;int&gt; | eduLvlR &lt;int&gt; | incomeTypeR &lt;int&gt; | housingTypeR &lt;int&gt; | famStatusR &lt;int&gt; | genderR &lt;int&gt; |\n",
       "|---|---|---|---|---|---|---|---|---|---|---|---|---|---|---|\n",
       "| 1 | 0 | 238500 | 2 | 47 | 13.5991841 | 1 | 1 | 0 | 1 | 0 | 0 | 1 | 1 | 0 |\n",
       "| 2 | 1 | 135000 | 3 | 41 |  4.7995510 | 1 | 0 | 1 | 1 | 1 | 0 | 1 | 1 | 0 |\n",
       "| 3 | 2 | 157500 | 2 | 40 | 12.5067592 | 1 | 0 | 0 | 1 | 1 | 0 | 1 | 1 | 0 |\n",
       "| 4 | 3 | 225000 | 2 | 24 |  0.2573633 | 1 | 1 | 0 | 1 | 2 | 1 | 1 | 0 | 0 |\n",
       "| 5 | 4 |  67500 | 2 | 37 |  3.2635852 | 1 | 1 | 0 | 1 | 1 | 0 | 1 | 2 | 0 |\n",
       "| 6 | 5 | 180000 | 4 | 42 | 14.8449318 | 1 | 1 | 1 | 0 | 0 | 0 | 1 | 1 | 0 |\n",
       "\n"
      ],
      "text/plain": [
       "  X totalIncome famSize ageYrs yrsEmpl    UNEMPLOYED ApprStatus ownsCarR\n",
       "1 0 238500      2       47     13.5991841 1          1          0       \n",
       "2 1 135000      3       41      4.7995510 1          0          1       \n",
       "3 2 157500      2       40     12.5067592 1          0          0       \n",
       "4 3 225000      2       24      0.2573633 1          1          0       \n",
       "5 4  67500      2       37      3.2635852 1          1          0       \n",
       "6 5 180000      4       42     14.8449318 1          1          1       \n",
       "  ownsRealtyR eduLvlR incomeTypeR housingTypeR famStatusR genderR\n",
       "1 1           0       0           1            1          0      \n",
       "2 1           1       0           1            1          0      \n",
       "3 1           1       0           1            1          0      \n",
       "4 1           2       1           1            0          0      \n",
       "5 1           1       0           1            2          0      \n",
       "6 0           0       0           1            1          0      "
      ]
     },
     "metadata": {},
     "output_type": "display_data"
    }
   ],
   "source": [
    "head(apps)"
   ]
  },
  {
   "cell_type": "code",
   "execution_count": null,
   "id": "e1d41dd9-d8bf-4b13-a9fa-d71fdde440b7",
   "metadata": {},
   "outputs": [],
   "source": [
    "# subset data to keep features of importance as predictor variables and approval status\n",
    "\n"
   ]
  },
  {
   "cell_type": "code",
   "execution_count": null,
   "id": "2c10a7ff-844b-4aec-aa2f-dbdd6808cf98",
   "metadata": {},
   "outputs": [],
   "source": []
  },
  {
   "cell_type": "code",
   "execution_count": null,
   "id": "973ffc87-cc62-4b8e-8c78-04dc64af07f5",
   "metadata": {},
   "outputs": [],
   "source": []
  },
  {
   "cell_type": "markdown",
   "id": "f533348c-6d0d-4bc0-956b-cfb257d44044",
   "metadata": {},
   "source": [
    "# Stepwise Logistic Regression"
   ]
  },
  {
   "cell_type": "code",
   "execution_count": null,
   "id": "381433ce-5c94-4e9c-9093-eaf1491a93af",
   "metadata": {},
   "outputs": [],
   "source": []
  }
 ],
 "metadata": {
  "kernelspec": {
   "display_name": "R",
   "language": "R",
   "name": "ir"
  },
  "language_info": {
   "codemirror_mode": "r",
   "file_extension": ".r",
   "mimetype": "text/x-r-source",
   "name": "R",
   "pygments_lexer": "r",
   "version": "4.1.2"
  }
 },
 "nbformat": 4,
 "nbformat_minor": 5
}
