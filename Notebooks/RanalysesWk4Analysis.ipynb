{
 "cells": [
  {
   "cell_type": "markdown",
   "id": "df4534b8-94f2-4705-83ed-818dd7b0e088",
   "metadata": {},
   "source": [
    "# Analyses in R Final Project"
   ]
  },
  {
   "cell_type": "markdown",
   "id": "bd98fe35-ff3a-4e93-89cb-71ef347d3206",
   "metadata": {},
   "source": [
    "### load packages"
   ]
  },
  {
   "cell_type": "code",
   "execution_count": 11,
   "id": "c069d36e-d838-43f2-af3d-9694647b9ca8",
   "metadata": {},
   "outputs": [],
   "source": [
    "library(\"dplyr\")\n",
    "library(\"ggplot2\")\n",
    "library(\"car\")\n",
    "library(\"rcompanion\")\n",
    "library(\"IDPmisc\")\n",
    "library(\"caret\")\n",
    "library(\"gvlma\")\n",
    "library(\"predictmeans\")\n",
    "library(\"e1071\")\n",
    "library(\"lmtest\")\n",
    "library(\"lattice\")"
   ]
  },
  {
   "cell_type": "code",
   "execution_count": 12,
   "id": "1ccd5d3f-d112-4bf3-a2c1-75a359ae8b25",
   "metadata": {},
   "outputs": [],
   "source": [
    "apps = read.csv('../Data/BALANCEDDummyDropOL.csv')"
   ]
  },
  {
   "cell_type": "code",
   "execution_count": 13,
   "id": "bb51932c-63c7-4661-a9c7-66fb95dcec58",
   "metadata": {},
   "outputs": [
    {
     "data": {
      "text/html": [
       "<table class=\"dataframe\">\n",
       "<caption>A data.frame: 6 × 14</caption>\n",
       "<thead>\n",
       "\t<tr><th></th><th scope=col>X</th><th scope=col>totalIncome</th><th scope=col>famSize</th><th scope=col>ageYrs</th><th scope=col>yrsEmpl</th><th scope=col>UNEMPLOYED</th><th scope=col>ApprStatus</th><th scope=col>ownsCarR</th><th scope=col>ownsRealtyR</th><th scope=col>eduLvlR</th><th scope=col>incomeTypeR</th><th scope=col>housingTypeR</th><th scope=col>famStatusR</th><th scope=col>genderR</th></tr>\n",
       "\t<tr><th></th><th scope=col>&lt;int&gt;</th><th scope=col>&lt;dbl&gt;</th><th scope=col>&lt;dbl&gt;</th><th scope=col>&lt;dbl&gt;</th><th scope=col>&lt;dbl&gt;</th><th scope=col>&lt;int&gt;</th><th scope=col>&lt;int&gt;</th><th scope=col>&lt;int&gt;</th><th scope=col>&lt;int&gt;</th><th scope=col>&lt;int&gt;</th><th scope=col>&lt;int&gt;</th><th scope=col>&lt;int&gt;</th><th scope=col>&lt;int&gt;</th><th scope=col>&lt;int&gt;</th></tr>\n",
       "</thead>\n",
       "<tbody>\n",
       "\t<tr><th scope=row>1</th><td>0</td><td>238500</td><td>2</td><td>47</td><td>13.5991841</td><td>1</td><td>1</td><td>0</td><td>1</td><td>0</td><td>0</td><td>1</td><td>1</td><td>0</td></tr>\n",
       "\t<tr><th scope=row>2</th><td>1</td><td>135000</td><td>3</td><td>41</td><td> 4.7995510</td><td>1</td><td>0</td><td>1</td><td>1</td><td>1</td><td>0</td><td>1</td><td>1</td><td>0</td></tr>\n",
       "\t<tr><th scope=row>3</th><td>2</td><td>157500</td><td>2</td><td>40</td><td>12.5067592</td><td>1</td><td>0</td><td>0</td><td>1</td><td>1</td><td>0</td><td>1</td><td>1</td><td>0</td></tr>\n",
       "\t<tr><th scope=row>4</th><td>3</td><td>225000</td><td>2</td><td>24</td><td> 0.2573633</td><td>1</td><td>1</td><td>0</td><td>1</td><td>2</td><td>1</td><td>1</td><td>0</td><td>0</td></tr>\n",
       "\t<tr><th scope=row>5</th><td>4</td><td> 67500</td><td>2</td><td>37</td><td> 3.2635852</td><td>1</td><td>1</td><td>0</td><td>1</td><td>1</td><td>0</td><td>1</td><td>2</td><td>0</td></tr>\n",
       "\t<tr><th scope=row>6</th><td>5</td><td>180000</td><td>4</td><td>42</td><td>14.8449318</td><td>1</td><td>1</td><td>1</td><td>0</td><td>0</td><td>0</td><td>1</td><td>1</td><td>0</td></tr>\n",
       "</tbody>\n",
       "</table>\n"
      ],
      "text/latex": [
       "A data.frame: 6 × 14\n",
       "\\begin{tabular}{r|llllllllllllll}\n",
       "  & X & totalIncome & famSize & ageYrs & yrsEmpl & UNEMPLOYED & ApprStatus & ownsCarR & ownsRealtyR & eduLvlR & incomeTypeR & housingTypeR & famStatusR & genderR\\\\\n",
       "  & <int> & <dbl> & <dbl> & <dbl> & <dbl> & <int> & <int> & <int> & <int> & <int> & <int> & <int> & <int> & <int>\\\\\n",
       "\\hline\n",
       "\t1 & 0 & 238500 & 2 & 47 & 13.5991841 & 1 & 1 & 0 & 1 & 0 & 0 & 1 & 1 & 0\\\\\n",
       "\t2 & 1 & 135000 & 3 & 41 &  4.7995510 & 1 & 0 & 1 & 1 & 1 & 0 & 1 & 1 & 0\\\\\n",
       "\t3 & 2 & 157500 & 2 & 40 & 12.5067592 & 1 & 0 & 0 & 1 & 1 & 0 & 1 & 1 & 0\\\\\n",
       "\t4 & 3 & 225000 & 2 & 24 &  0.2573633 & 1 & 1 & 0 & 1 & 2 & 1 & 1 & 0 & 0\\\\\n",
       "\t5 & 4 &  67500 & 2 & 37 &  3.2635852 & 1 & 1 & 0 & 1 & 1 & 0 & 1 & 2 & 0\\\\\n",
       "\t6 & 5 & 180000 & 4 & 42 & 14.8449318 & 1 & 1 & 1 & 0 & 0 & 0 & 1 & 1 & 0\\\\\n",
       "\\end{tabular}\n"
      ],
      "text/markdown": [
       "\n",
       "A data.frame: 6 × 14\n",
       "\n",
       "| <!--/--> | X &lt;int&gt; | totalIncome &lt;dbl&gt; | famSize &lt;dbl&gt; | ageYrs &lt;dbl&gt; | yrsEmpl &lt;dbl&gt; | UNEMPLOYED &lt;int&gt; | ApprStatus &lt;int&gt; | ownsCarR &lt;int&gt; | ownsRealtyR &lt;int&gt; | eduLvlR &lt;int&gt; | incomeTypeR &lt;int&gt; | housingTypeR &lt;int&gt; | famStatusR &lt;int&gt; | genderR &lt;int&gt; |\n",
       "|---|---|---|---|---|---|---|---|---|---|---|---|---|---|---|\n",
       "| 1 | 0 | 238500 | 2 | 47 | 13.5991841 | 1 | 1 | 0 | 1 | 0 | 0 | 1 | 1 | 0 |\n",
       "| 2 | 1 | 135000 | 3 | 41 |  4.7995510 | 1 | 0 | 1 | 1 | 1 | 0 | 1 | 1 | 0 |\n",
       "| 3 | 2 | 157500 | 2 | 40 | 12.5067592 | 1 | 0 | 0 | 1 | 1 | 0 | 1 | 1 | 0 |\n",
       "| 4 | 3 | 225000 | 2 | 24 |  0.2573633 | 1 | 1 | 0 | 1 | 2 | 1 | 1 | 0 | 0 |\n",
       "| 5 | 4 |  67500 | 2 | 37 |  3.2635852 | 1 | 1 | 0 | 1 | 1 | 0 | 1 | 2 | 0 |\n",
       "| 6 | 5 | 180000 | 4 | 42 | 14.8449318 | 1 | 1 | 1 | 0 | 0 | 0 | 1 | 1 | 0 |\n",
       "\n"
      ],
      "text/plain": [
       "  X totalIncome famSize ageYrs yrsEmpl    UNEMPLOYED ApprStatus ownsCarR\n",
       "1 0 238500      2       47     13.5991841 1          1          0       \n",
       "2 1 135000      3       41      4.7995510 1          0          1       \n",
       "3 2 157500      2       40     12.5067592 1          0          0       \n",
       "4 3 225000      2       24      0.2573633 1          1          0       \n",
       "5 4  67500      2       37      3.2635852 1          1          0       \n",
       "6 5 180000      4       42     14.8449318 1          1          1       \n",
       "  ownsRealtyR eduLvlR incomeTypeR housingTypeR famStatusR genderR\n",
       "1 1           0       0           1            1          0      \n",
       "2 1           1       0           1            1          0      \n",
       "3 1           1       0           1            1          0      \n",
       "4 1           2       1           1            0          0      \n",
       "5 1           1       0           1            2          0      \n",
       "6 0           0       0           1            1          0      "
      ]
     },
     "metadata": {},
     "output_type": "display_data"
    }
   ],
   "source": [
    "head(apps)"
   ]
  },
  {
   "cell_type": "code",
   "execution_count": 15,
   "id": "e1d41dd9-d8bf-4b13-a9fa-d71fdde440b7",
   "metadata": {},
   "outputs": [],
   "source": [
    "# subset data to keep continuous variables and approval status\n",
    "\n",
    "keeps <- c(\"totalIncome\", \"famSize\", \"ageYrs\", \"yrsEmpl\", \"ApprStatus\")\n",
    "apps2 <- apps[keeps]"
   ]
  },
  {
   "cell_type": "code",
   "execution_count": 16,
   "id": "2c10a7ff-844b-4aec-aa2f-dbdd6808cf98",
   "metadata": {},
   "outputs": [
    {
     "data": {
      "text/html": [
       "<table class=\"dataframe\">\n",
       "<caption>A data.frame: 6 × 5</caption>\n",
       "<thead>\n",
       "\t<tr><th></th><th scope=col>totalIncome</th><th scope=col>famSize</th><th scope=col>ageYrs</th><th scope=col>yrsEmpl</th><th scope=col>ApprStatus</th></tr>\n",
       "\t<tr><th></th><th scope=col>&lt;dbl&gt;</th><th scope=col>&lt;dbl&gt;</th><th scope=col>&lt;dbl&gt;</th><th scope=col>&lt;dbl&gt;</th><th scope=col>&lt;int&gt;</th></tr>\n",
       "</thead>\n",
       "<tbody>\n",
       "\t<tr><th scope=row>1</th><td>238500</td><td>2</td><td>47</td><td>13.5991841</td><td>1</td></tr>\n",
       "\t<tr><th scope=row>2</th><td>135000</td><td>3</td><td>41</td><td> 4.7995510</td><td>0</td></tr>\n",
       "\t<tr><th scope=row>3</th><td>157500</td><td>2</td><td>40</td><td>12.5067592</td><td>0</td></tr>\n",
       "\t<tr><th scope=row>4</th><td>225000</td><td>2</td><td>24</td><td> 0.2573633</td><td>1</td></tr>\n",
       "\t<tr><th scope=row>5</th><td> 67500</td><td>2</td><td>37</td><td> 3.2635852</td><td>1</td></tr>\n",
       "\t<tr><th scope=row>6</th><td>180000</td><td>4</td><td>42</td><td>14.8449318</td><td>1</td></tr>\n",
       "</tbody>\n",
       "</table>\n"
      ],
      "text/latex": [
       "A data.frame: 6 × 5\n",
       "\\begin{tabular}{r|lllll}\n",
       "  & totalIncome & famSize & ageYrs & yrsEmpl & ApprStatus\\\\\n",
       "  & <dbl> & <dbl> & <dbl> & <dbl> & <int>\\\\\n",
       "\\hline\n",
       "\t1 & 238500 & 2 & 47 & 13.5991841 & 1\\\\\n",
       "\t2 & 135000 & 3 & 41 &  4.7995510 & 0\\\\\n",
       "\t3 & 157500 & 2 & 40 & 12.5067592 & 0\\\\\n",
       "\t4 & 225000 & 2 & 24 &  0.2573633 & 1\\\\\n",
       "\t5 &  67500 & 2 & 37 &  3.2635852 & 1\\\\\n",
       "\t6 & 180000 & 4 & 42 & 14.8449318 & 1\\\\\n",
       "\\end{tabular}\n"
      ],
      "text/markdown": [
       "\n",
       "A data.frame: 6 × 5\n",
       "\n",
       "| <!--/--> | totalIncome &lt;dbl&gt; | famSize &lt;dbl&gt; | ageYrs &lt;dbl&gt; | yrsEmpl &lt;dbl&gt; | ApprStatus &lt;int&gt; |\n",
       "|---|---|---|---|---|---|\n",
       "| 1 | 238500 | 2 | 47 | 13.5991841 | 1 |\n",
       "| 2 | 135000 | 3 | 41 |  4.7995510 | 0 |\n",
       "| 3 | 157500 | 2 | 40 | 12.5067592 | 0 |\n",
       "| 4 | 225000 | 2 | 24 |  0.2573633 | 1 |\n",
       "| 5 |  67500 | 2 | 37 |  3.2635852 | 1 |\n",
       "| 6 | 180000 | 4 | 42 | 14.8449318 | 1 |\n",
       "\n"
      ],
      "text/plain": [
       "  totalIncome famSize ageYrs yrsEmpl    ApprStatus\n",
       "1 238500      2       47     13.5991841 1         \n",
       "2 135000      3       41      4.7995510 0         \n",
       "3 157500      2       40     12.5067592 0         \n",
       "4 225000      2       24      0.2573633 1         \n",
       "5  67500      2       37      3.2635852 1         \n",
       "6 180000      4       42     14.8449318 1         "
      ]
     },
     "metadata": {},
     "output_type": "display_data"
    }
   ],
   "source": [
    "head(apps2)"
   ]
  },
  {
   "cell_type": "markdown",
   "id": "f533348c-6d0d-4bc0-956b-cfb257d44044",
   "metadata": {},
   "source": [
    "# Stepwise Logistic Regression"
   ]
  },
  {
   "cell_type": "markdown",
   "id": "e7023801-903f-4eb3-98a3-d83b78c2d824",
   "metadata": {},
   "source": [
    "## Create a model that will use approval status as the response variable, and continuous variables as potential predictor variables."
   ]
  },
  {
   "cell_type": "code",
   "execution_count": 17,
   "id": "1bd8b7c8-a06d-45bf-90cc-fe904c2aaf63",
   "metadata": {},
   "outputs": [
    {
     "data": {
      "text/plain": [
       "\n",
       "Call:\n",
       "lm(formula = ApprStatus ~ ., data = apps2)\n",
       "\n",
       "Residuals:\n",
       "    Min      1Q  Median      3Q     Max \n",
       "-0.5444 -0.5222  0.4657  0.4776  0.5001 \n",
       "\n",
       "Coefficients:\n",
       "              Estimate Std. Error t value Pr(>|t|)    \n",
       "(Intercept)  5.310e-01  3.227e-02  16.454   <2e-16 ***\n",
       "totalIncome  1.509e-08  7.518e-08   0.201    0.841    \n",
       "famSize     -8.963e-03  6.586e-03  -1.361    0.174    \n",
       "ageYrs       1.094e-04  4.857e-04   0.225    0.822    \n",
       "yrsEmpl      6.553e-04  1.249e-03   0.525    0.600    \n",
       "---\n",
       "Signif. codes:  0 '***' 0.001 '**' 0.01 '*' 0.05 '.' 0.1 ' ' 1\n",
       "\n",
       "Residual standard error: 0.4996 on 8496 degrees of freedom\n",
       "Multiple R-squared:  0.0002693,\tAdjusted R-squared:  -0.0002014 \n",
       "F-statistic: 0.5721 on 4 and 8496 DF,  p-value: 0.6829\n"
      ]
     },
     "metadata": {},
     "output_type": "display_data"
    }
   ],
   "source": [
    "# get a baseline\n",
    "FitAll = lm(ApprStatus ~ ., data = apps2)\n",
    "summary(FitAll)"
   ]
  },
  {
   "cell_type": "markdown",
   "id": "c7554589-8055-4d78-8c6f-cc5fbfc214cc",
   "metadata": {},
   "source": [
    "### All p values are >.05, so nothing is coming out to be significant."
   ]
  },
  {
   "cell_type": "markdown",
   "id": "c9b961ac-9f2c-4f6d-9c78-3db765534db4",
   "metadata": {},
   "source": [
    "## Backward Elimination - start with all variables in the model and remove one by one"
   ]
  },
  {
   "cell_type": "code",
   "execution_count": 19,
   "id": "27cccf7c-f6f1-4ef2-8414-c6152d69f779",
   "metadata": {},
   "outputs": [
    {
     "name": "stdout",
     "output_type": "stream",
     "text": [
      "Start:  AIC=-11793.74\n",
      "ApprStatus ~ totalIncome + famSize + ageYrs + yrsEmpl\n",
      "\n",
      "              Df Sum of Sq    RSS    AIC\n",
      "- totalIncome  1   0.01005 2120.6 -11796\n",
      "- ageYrs       1   0.01267 2120.6 -11796\n",
      "- yrsEmpl      1   0.06871 2120.6 -11796\n",
      "- famSize      1   0.46223 2121.0 -11794\n",
      "<none>                     2120.5 -11794\n",
      "\n",
      "Step:  AIC=-11795.7\n",
      "ApprStatus ~ famSize + ageYrs + yrsEmpl\n",
      "\n",
      "          Df Sum of Sq    RSS    AIC\n",
      "- ageYrs   1   0.01083 2120.6 -11798\n",
      "- yrsEmpl  1   0.07539 2120.6 -11797\n",
      "- famSize  1   0.46188 2121.0 -11796\n",
      "<none>                 2120.6 -11796\n",
      "\n",
      "Step:  AIC=-11797.65\n",
      "ApprStatus ~ famSize + yrsEmpl\n",
      "\n",
      "          Df Sum of Sq    RSS    AIC\n",
      "- yrsEmpl  1   0.07129 2120.6 -11799\n",
      "<none>                 2120.6 -11798\n",
      "- famSize  1   0.51847 2121.1 -11798\n",
      "\n",
      "Step:  AIC=-11799.37\n",
      "ApprStatus ~ famSize\n",
      "\n",
      "          Df Sum of Sq    RSS    AIC\n",
      "- famSize  1   0.47902 2121.1 -11799\n",
      "<none>                 2120.6 -11799\n",
      "\n",
      "Step:  AIC=-11799.45\n",
      "ApprStatus ~ 1\n",
      "\n"
     ]
    },
    {
     "data": {
      "text/plain": [
       "\n",
       "Call:\n",
       "lm(formula = ApprStatus ~ 1, data = apps2)\n",
       "\n",
       "Coefficients:\n",
       "(Intercept)  \n",
       "     0.5221  \n"
      ]
     },
     "metadata": {},
     "output_type": "display_data"
    }
   ],
   "source": [
    "step(FitAll, direction = 'backward')"
   ]
  },
  {
   "cell_type": "code",
   "execution_count": 20,
   "id": "c9e4c9fe-7af4-4298-a953-771141ed10dc",
   "metadata": {},
   "outputs": [
    {
     "data": {
      "text/plain": [
       "\n",
       "Call:\n",
       "lm(formula = ApprStatus ~ totalIncome + ageYrs + yrsEmpl + famSize, \n",
       "    data = apps2)\n",
       "\n",
       "Coefficients:\n",
       "(Intercept)  totalIncome       ageYrs      yrsEmpl      famSize  \n",
       "  5.310e-01    1.509e-08    1.094e-04    6.553e-04   -8.963e-03  \n"
      ]
     },
     "metadata": {},
     "output_type": "display_data"
    }
   ],
   "source": [
    "lm(formula = ApprStatus ~ totalIncome + ageYrs + yrsEmpl + famSize, data = apps2)"
   ]
  },
  {
   "cell_type": "markdown",
   "id": "4058232e-c4c9-4db4-9865-4832f61ba5b8",
   "metadata": {},
   "source": [
    "# Backward Elimination Observations:\n",
    "* The AIC did not decrease as variables were eliminated, meaning the best explanatory variables for cc approval include income, age, employment experience, and family size.\n",
    "* The coefficients for the IVs are very small numbers (overall very small effect on CC approval comes from these variables), with total income, age, and years employed having a positive effect on CC approval, meaning that all else being equal, as an applicant's income, age, and years employed increase, their approval status increases very slightly.  The family size coefficient is negative, meaning that as family size increases, the approval status decreases slightly."
   ]
  },
  {
   "cell_type": "code",
   "execution_count": 21,
   "id": "82fd0bf4-abd5-4ec7-9867-5b77a673c804",
   "metadata": {},
   "outputs": [
    {
     "data": {
      "text/plain": [
       "\n",
       "Call:\n",
       "lm(formula = ApprStatus ~ totalIncome + ageYrs + yrsEmpl + famSize, \n",
       "    data = apps2)\n",
       "\n",
       "Residuals:\n",
       "    Min      1Q  Median      3Q     Max \n",
       "-0.5444 -0.5222  0.4657  0.4776  0.5001 \n",
       "\n",
       "Coefficients:\n",
       "              Estimate Std. Error t value Pr(>|t|)    \n",
       "(Intercept)  5.310e-01  3.227e-02  16.454   <2e-16 ***\n",
       "totalIncome  1.509e-08  7.518e-08   0.201    0.841    \n",
       "ageYrs       1.094e-04  4.857e-04   0.225    0.822    \n",
       "yrsEmpl      6.553e-04  1.249e-03   0.525    0.600    \n",
       "famSize     -8.963e-03  6.586e-03  -1.361    0.174    \n",
       "---\n",
       "Signif. codes:  0 '***' 0.001 '**' 0.01 '*' 0.05 '.' 0.1 ' ' 1\n",
       "\n",
       "Residual standard error: 0.4996 on 8496 degrees of freedom\n",
       "Multiple R-squared:  0.0002693,\tAdjusted R-squared:  -0.0002014 \n",
       "F-statistic: 0.5721 on 4 and 8496 DF,  p-value: 0.6829\n"
      ]
     },
     "metadata": {},
     "output_type": "display_data"
    }
   ],
   "source": [
    "# Is the model any good? Call it\n",
    "fitsome = lm(ApprStatus ~ totalIncome + ageYrs + yrsEmpl + famSize, data = apps2)\n",
    "summary(fitsome)"
   ]
  },
  {
   "cell_type": "markdown",
   "id": "64f905bd-da8e-411e-8e4c-11b67d9d5af9",
   "metadata": {},
   "source": [
    "## Multiple R-Squared of 0.0002 means that the model explains 0.02% of the variation in the CC approval status variable, and the other 99.98% can be explained by noise or random error.  The adjusted R Squared tells us about the same thing.  The p value of 0.6829 reinforces that we would be best served not using a model at all due to its insignificant output."
   ]
  },
  {
   "cell_type": "markdown",
   "id": "91609d14-6e71-4234-b000-a8a5cbf1d92f",
   "metadata": {},
   "source": [
    "## Forward Elimination - start with no predictors and add in one at a time until there's no appreciable improvement of the model"
   ]
  },
  {
   "cell_type": "code",
   "execution_count": 22,
   "id": "2ca241b1-dfd4-48d9-b313-a33c670cdaa9",
   "metadata": {},
   "outputs": [
    {
     "data": {
      "text/plain": [
       "\n",
       "Call:\n",
       "lm(formula = ApprStatus ~ 1, data = apps2)\n",
       "\n",
       "Residuals:\n",
       "    Min      1Q  Median      3Q     Max \n",
       "-0.5221 -0.5221  0.4779  0.4779  0.4779 \n",
       "\n",
       "Coefficients:\n",
       "            Estimate Std. Error t value Pr(>|t|)    \n",
       "(Intercept) 0.522056   0.005418   96.36   <2e-16 ***\n",
       "---\n",
       "Signif. codes:  0 '***' 0.001 '**' 0.01 '*' 0.05 '.' 0.1 ' ' 1\n",
       "\n",
       "Residual standard error: 0.4995 on 8500 degrees of freedom\n"
      ]
     },
     "metadata": {},
     "output_type": "display_data"
    }
   ],
   "source": [
    "# create the linear model\n",
    "fitstart = lm(ApprStatus ~ 1, data = apps2)\n",
    "summary(fitstart)"
   ]
  },
  {
   "cell_type": "markdown",
   "id": "736bd251-0f2b-4b70-a4a6-e3939b2e3c0e",
   "metadata": {},
   "source": [
    "### The intercept of 0.52 is the average approval status of applicants in our dataset. "
   ]
  },
  {
   "cell_type": "code",
   "execution_count": 23,
   "id": "aa3913ef-3ec1-4bb1-ab5f-5333ca9826db",
   "metadata": {},
   "outputs": [
    {
     "name": "stdout",
     "output_type": "stream",
     "text": [
      "Start:  AIC=-11799.45\n",
      "ApprStatus ~ 1\n",
      "\n",
      "              Df Sum of Sq    RSS    AIC\n",
      "<none>                     2121.1 -11799\n",
      "+ famSize      1   0.47902 2120.6 -11799\n",
      "+ ageYrs       1   0.05712 2121.1 -11798\n",
      "+ yrsEmpl      1   0.03185 2121.1 -11798\n",
      "+ totalIncome  1   0.00900 2121.1 -11798\n"
     ]
    },
    {
     "data": {
      "text/plain": [
       "\n",
       "Call:\n",
       "lm(formula = ApprStatus ~ 1, data = apps2)\n",
       "\n",
       "Coefficients:\n",
       "(Intercept)  \n",
       "     0.5221  \n"
      ]
     },
     "metadata": {},
     "output_type": "display_data"
    }
   ],
   "source": [
    "# Begin the forward selection\n",
    "step(fitstart, direction = 'forward', scope = (formula(FitAll)))"
   ]
  },
  {
   "cell_type": "code",
   "execution_count": 24,
   "id": "5f246ec5-2955-48d3-8234-5fd6525543e6",
   "metadata": {},
   "outputs": [
    {
     "data": {
      "text/plain": [
       "\n",
       "Call:\n",
       "lm(formula = ApprStatus ~ famSize + ageYrs + yrsEmpl + totalIncome, \n",
       "    data = apps2)\n",
       "\n",
       "Residuals:\n",
       "    Min      1Q  Median      3Q     Max \n",
       "-0.5444 -0.5222  0.4657  0.4776  0.5001 \n",
       "\n",
       "Coefficients:\n",
       "              Estimate Std. Error t value Pr(>|t|)    \n",
       "(Intercept)  5.310e-01  3.227e-02  16.454   <2e-16 ***\n",
       "famSize     -8.963e-03  6.586e-03  -1.361    0.174    \n",
       "ageYrs       1.094e-04  4.857e-04   0.225    0.822    \n",
       "yrsEmpl      6.553e-04  1.249e-03   0.525    0.600    \n",
       "totalIncome  1.509e-08  7.518e-08   0.201    0.841    \n",
       "---\n",
       "Signif. codes:  0 '***' 0.001 '**' 0.01 '*' 0.05 '.' 0.1 ' ' 1\n",
       "\n",
       "Residual standard error: 0.4996 on 8496 degrees of freedom\n",
       "Multiple R-squared:  0.0002693,\tAdjusted R-squared:  -0.0002014 \n",
       "F-statistic: 0.5721 on 4 and 8496 DF,  p-value: 0.6829\n"
      ]
     },
     "metadata": {},
     "output_type": "display_data"
    }
   ],
   "source": [
    "# examine the final model:\n",
    "fitsome2 = lm(ApprStatus ~ famSize + ageYrs + yrsEmpl + totalIncome, data = apps2)\n",
    "summary(fitsome2)"
   ]
  },
  {
   "cell_type": "markdown",
   "id": "7d5ab993-1fa7-4076-bf92-64b98c3d9284",
   "metadata": {},
   "source": [
    "### Only one iteration was performed, meaning all 4 variables used create the best model.  It appears that the result is the same whether using backward or forward elimination."
   ]
  },
  {
   "cell_type": "markdown",
   "id": "32b5aa7b-3c7a-44fd-86ec-dec3e3770f8e",
   "metadata": {},
   "source": [
    "# I suspect that a hybrid stepwise approach will yield the same results as forward and backward elimination, let's try it for fun."
   ]
  },
  {
   "cell_type": "code",
   "execution_count": 25,
   "id": "b5e866e8-0b5b-44b2-9952-ce4a967ec6c7",
   "metadata": {},
   "outputs": [
    {
     "name": "stdout",
     "output_type": "stream",
     "text": [
      "Start:  AIC=-11799.45\n",
      "ApprStatus ~ 1\n",
      "\n",
      "              Df Sum of Sq    RSS    AIC\n",
      "<none>                     2121.1 -11799\n",
      "+ famSize      1   0.47902 2120.6 -11799\n",
      "+ ageYrs       1   0.05712 2121.1 -11798\n",
      "+ yrsEmpl      1   0.03185 2121.1 -11798\n",
      "+ totalIncome  1   0.00900 2121.1 -11798\n"
     ]
    },
    {
     "data": {
      "text/plain": [
       "\n",
       "Call:\n",
       "lm(formula = ApprStatus ~ 1, data = apps2)\n",
       "\n",
       "Coefficients:\n",
       "(Intercept)  \n",
       "     0.5221  \n"
      ]
     },
     "metadata": {},
     "output_type": "display_data"
    }
   ],
   "source": [
    "# Hybrid stepwise regression - start with no predictors (similar to forward)\n",
    "step(fitstart, direction=\"both\", scope=formula(FitAll))"
   ]
  },
  {
   "cell_type": "markdown",
   "id": "f50ebc42-2a1c-4fd1-8dbf-a75bf4361914",
   "metadata": {},
   "source": [
    "## Suspicions were confirmed - having all 4 predictor variables gives us the best chance of predicting CC approval. "
   ]
  },
  {
   "cell_type": "code",
   "execution_count": null,
   "id": "10c50fa1-e436-4c1a-ae4a-498b76f81060",
   "metadata": {},
   "outputs": [],
   "source": []
  }
 ],
 "metadata": {
  "kernelspec": {
   "display_name": "R",
   "language": "R",
   "name": "ir"
  },
  "language_info": {
   "codemirror_mode": "r",
   "file_extension": ".r",
   "mimetype": "text/x-r-source",
   "name": "R",
   "pygments_lexer": "r",
   "version": "4.1.2"
  }
 },
 "nbformat": 4,
 "nbformat_minor": 5
}
