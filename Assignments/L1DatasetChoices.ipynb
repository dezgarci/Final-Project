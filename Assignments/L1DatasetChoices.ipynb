{
 "cells": [
  {
   "cell_type": "markdown",
   "id": "3984df1f-f535-4a37-a07b-c7d570e35462",
   "metadata": {},
   "source": [
    "# Dataset Choices\n",
    "\n",
    "### I love Coffee\n",
    "### Coffee Quality database from CQI | Kaggle\n",
    "\n",
    "### Credit Card Approvals – I’ve taught high school students about credit and how to be responsible with it.\n",
    "### Credit Card Approval Prediction | Kaggle\n"
   ]
  },
  {
   "cell_type": "code",
   "execution_count": null,
   "id": "308daf60-9b74-4c5b-a2aa-26c13bfd0baf",
   "metadata": {},
   "outputs": [],
   "source": []
  }
 ],
 "metadata": {
  "kernelspec": {
   "display_name": "Python 3 (ipykernel)",
   "language": "python",
   "name": "python3"
  },
  "language_info": {
   "codemirror_mode": {
    "name": "ipython",
    "version": 3
   },
   "file_extension": ".py",
   "mimetype": "text/x-python",
   "name": "python",
   "nbconvert_exporter": "python",
   "pygments_lexer": "ipython3",
   "version": "3.10.4"
  }
 },
 "nbformat": 4,
 "nbformat_minor": 5
}
