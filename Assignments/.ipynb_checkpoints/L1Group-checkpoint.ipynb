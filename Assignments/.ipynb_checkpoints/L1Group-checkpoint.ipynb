{
 "cells": [
  {
   "cell_type": "markdown",
   "id": "4d81c2b8-afad-40d1-a2c1-2c04c2b6f411",
   "metadata": {},
   "source": [
    "# Lesson 1 Hands On\n",
    "# I have decided to take on the final project on my own, but I have the support of other class mates, in particular Deborah Hartnett, who is good with Visualization and presentation.  She has said that she struggles sometimes with the data wrangling.  She’s on PST and works into the evening like I do.  We have exchanged phone numbers, and communicate on Slack.\n"
   ]
  },
  {
   "cell_type": "code",
   "execution_count": null,
   "id": "a0eb9072-d50e-4bf5-a187-eae78d55712d",
   "metadata": {},
   "outputs": [],
   "source": []
  }
 ],
 "metadata": {
  "kernelspec": {
   "display_name": "Python 3 (ipykernel)",
   "language": "python",
   "name": "python3"
  },
  "language_info": {
   "codemirror_mode": {
    "name": "ipython",
    "version": 3
   },
   "file_extension": ".py",
   "mimetype": "text/x-python",
   "name": "python",
   "nbconvert_exporter": "python",
   "pygments_lexer": "ipython3",
   "version": "3.10.4"
  }
 },
 "nbformat": 4,
 "nbformat_minor": 5
}
